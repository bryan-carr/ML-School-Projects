{
  "nbformat": 4,
  "nbformat_minor": 0,
  "metadata": {
    "colab": {
      "name": "AAI 511 - Assignment 4 - Bryan Carr",
      "provenance": []
    },
    "kernelspec": {
      "name": "python3",
      "display_name": "Python 3"
    },
    "language_info": {
      "name": "python"
    },
    "accelerator": "GPU",
    "gpuClass": "standard"
  },
  "cells": [
    {
      "cell_type": "markdown",
      "source": [
        "# Assignment 4 - RNN for Stock Price Prediction\n",
        "\n",
        "by Bryan Carr\n",
        "\n",
        "26 July 2022\n",
        "\n",
        "for USD's AAI 511: Neural Networks and Deep Learning\n",
        "\n",
        "\n",
        "\n",
        "In this assignment, we will build a recurrent neural network (RNN) to track and predict the price of Meta's stock (the parent company of Facebook and Instagram). The data is taken from Yahoo Finance, over a period of 1 Jan 2017 to present. We will use the Closing stock price, as it is after the majority of the trading day's activity has happened."
      ],
      "metadata": {
        "id": "ouCbI-427GvL"
      }
    },
    {
      "cell_type": "markdown",
      "source": [
        "## 4.1 - EDA and Data Preparation\n",
        "\n",
        "First we will import some basic libraries. Then mount the Google Drive and read in the data file."
      ],
      "metadata": {
        "id": "O1C8WBLmAX5U"
      }
    },
    {
      "cell_type": "code",
      "source": [
        "import numpy as np\n",
        "import pandas as pd\n",
        "import matplotlib.pyplot as plt\n",
        "import seaborn as sns"
      ],
      "metadata": {
        "id": "xhdG0uW1AWhS"
      },
      "execution_count": 1,
      "outputs": []
    },
    {
      "cell_type": "code",
      "source": [
        "# Mount the Google Drive\n",
        "from google.colab import drive\n",
        "drive.mount('/content/drive')"
      ],
      "metadata": {
        "colab": {
          "base_uri": "https://localhost:8080/"
        },
        "id": "vjirPt_nAqfx",
        "outputId": "e1940bfe-e8ca-49a0-a37b-072ea1b28a0f"
      },
      "execution_count": 2,
      "outputs": [
        {
          "output_type": "stream",
          "name": "stdout",
          "text": [
            "Drive already mounted at /content/drive; to attempt to forcibly remount, call drive.mount(\"/content/drive\", force_remount=True).\n"
          ]
        }
      ]
    },
    {
      "cell_type": "code",
      "source": [
        "# Read in the data\n",
        "meta_df = pd.read_csv('/content/drive/My Drive/AAI511/META.csv', parse_dates=['Date'])"
      ],
      "metadata": {
        "id": "PjXeFHQpA9MC"
      },
      "execution_count": 3,
      "outputs": []
    },
    {
      "cell_type": "code",
      "source": [
        "meta_df"
      ],
      "metadata": {
        "colab": {
          "base_uri": "https://localhost:8080/",
          "height": 424
        },
        "id": "sC8Y6445BTM3",
        "outputId": "066640b2-13dd-415d-b24b-230cbebcbcdb"
      },
      "execution_count": 4,
      "outputs": [
        {
          "output_type": "execute_result",
          "data": {
            "text/plain": [
              "           Date        Open        High         Low       Close   Adj Close  \\\n",
              "0    2017-01-03  116.029999  117.839996  115.510002  116.860001  116.860001   \n",
              "1    2017-01-04  117.550003  119.660004  117.290001  118.690002  118.690002   \n",
              "2    2017-01-05  118.860001  120.949997  118.320000  120.669998  120.669998   \n",
              "3    2017-01-06  120.980003  123.879997  120.029999  123.410004  123.410004   \n",
              "4    2017-01-09  123.550003  125.430000  123.040001  124.900002  124.900002   \n",
              "...         ...         ...         ...         ...         ...         ...   \n",
              "1394 2022-07-19  170.369995  176.490005  169.509995  175.779999  175.779999   \n",
              "1395 2022-07-20  177.490005  183.600006  176.699997  183.089996  183.089996   \n",
              "1396 2022-07-21  180.630005  183.850006  178.869995  183.169998  183.169998   \n",
              "1397 2022-07-22  173.070007  175.600006  168.410004  169.270004  169.270004   \n",
              "1398 2022-07-25  169.000000  170.570007  164.809998  166.649994  166.649994   \n",
              "\n",
              "        Volume  \n",
              "0     20663900  \n",
              "1     19630900  \n",
              "2     19492200  \n",
              "3     28545300  \n",
              "4     22880400  \n",
              "...        ...  \n",
              "1394  25933700  \n",
              "1395  24784300  \n",
              "1396  27195800  \n",
              "1397  42526700  \n",
              "1398  26113500  \n",
              "\n",
              "[1399 rows x 7 columns]"
            ],
            "text/html": [
              "\n",
              "  <div id=\"df-63abeb5a-c900-473e-b4f0-ef08b0dd4f56\">\n",
              "    <div class=\"colab-df-container\">\n",
              "      <div>\n",
              "<style scoped>\n",
              "    .dataframe tbody tr th:only-of-type {\n",
              "        vertical-align: middle;\n",
              "    }\n",
              "\n",
              "    .dataframe tbody tr th {\n",
              "        vertical-align: top;\n",
              "    }\n",
              "\n",
              "    .dataframe thead th {\n",
              "        text-align: right;\n",
              "    }\n",
              "</style>\n",
              "<table border=\"1\" class=\"dataframe\">\n",
              "  <thead>\n",
              "    <tr style=\"text-align: right;\">\n",
              "      <th></th>\n",
              "      <th>Date</th>\n",
              "      <th>Open</th>\n",
              "      <th>High</th>\n",
              "      <th>Low</th>\n",
              "      <th>Close</th>\n",
              "      <th>Adj Close</th>\n",
              "      <th>Volume</th>\n",
              "    </tr>\n",
              "  </thead>\n",
              "  <tbody>\n",
              "    <tr>\n",
              "      <th>0</th>\n",
              "      <td>2017-01-03</td>\n",
              "      <td>116.029999</td>\n",
              "      <td>117.839996</td>\n",
              "      <td>115.510002</td>\n",
              "      <td>116.860001</td>\n",
              "      <td>116.860001</td>\n",
              "      <td>20663900</td>\n",
              "    </tr>\n",
              "    <tr>\n",
              "      <th>1</th>\n",
              "      <td>2017-01-04</td>\n",
              "      <td>117.550003</td>\n",
              "      <td>119.660004</td>\n",
              "      <td>117.290001</td>\n",
              "      <td>118.690002</td>\n",
              "      <td>118.690002</td>\n",
              "      <td>19630900</td>\n",
              "    </tr>\n",
              "    <tr>\n",
              "      <th>2</th>\n",
              "      <td>2017-01-05</td>\n",
              "      <td>118.860001</td>\n",
              "      <td>120.949997</td>\n",
              "      <td>118.320000</td>\n",
              "      <td>120.669998</td>\n",
              "      <td>120.669998</td>\n",
              "      <td>19492200</td>\n",
              "    </tr>\n",
              "    <tr>\n",
              "      <th>3</th>\n",
              "      <td>2017-01-06</td>\n",
              "      <td>120.980003</td>\n",
              "      <td>123.879997</td>\n",
              "      <td>120.029999</td>\n",
              "      <td>123.410004</td>\n",
              "      <td>123.410004</td>\n",
              "      <td>28545300</td>\n",
              "    </tr>\n",
              "    <tr>\n",
              "      <th>4</th>\n",
              "      <td>2017-01-09</td>\n",
              "      <td>123.550003</td>\n",
              "      <td>125.430000</td>\n",
              "      <td>123.040001</td>\n",
              "      <td>124.900002</td>\n",
              "      <td>124.900002</td>\n",
              "      <td>22880400</td>\n",
              "    </tr>\n",
              "    <tr>\n",
              "      <th>...</th>\n",
              "      <td>...</td>\n",
              "      <td>...</td>\n",
              "      <td>...</td>\n",
              "      <td>...</td>\n",
              "      <td>...</td>\n",
              "      <td>...</td>\n",
              "      <td>...</td>\n",
              "    </tr>\n",
              "    <tr>\n",
              "      <th>1394</th>\n",
              "      <td>2022-07-19</td>\n",
              "      <td>170.369995</td>\n",
              "      <td>176.490005</td>\n",
              "      <td>169.509995</td>\n",
              "      <td>175.779999</td>\n",
              "      <td>175.779999</td>\n",
              "      <td>25933700</td>\n",
              "    </tr>\n",
              "    <tr>\n",
              "      <th>1395</th>\n",
              "      <td>2022-07-20</td>\n",
              "      <td>177.490005</td>\n",
              "      <td>183.600006</td>\n",
              "      <td>176.699997</td>\n",
              "      <td>183.089996</td>\n",
              "      <td>183.089996</td>\n",
              "      <td>24784300</td>\n",
              "    </tr>\n",
              "    <tr>\n",
              "      <th>1396</th>\n",
              "      <td>2022-07-21</td>\n",
              "      <td>180.630005</td>\n",
              "      <td>183.850006</td>\n",
              "      <td>178.869995</td>\n",
              "      <td>183.169998</td>\n",
              "      <td>183.169998</td>\n",
              "      <td>27195800</td>\n",
              "    </tr>\n",
              "    <tr>\n",
              "      <th>1397</th>\n",
              "      <td>2022-07-22</td>\n",
              "      <td>173.070007</td>\n",
              "      <td>175.600006</td>\n",
              "      <td>168.410004</td>\n",
              "      <td>169.270004</td>\n",
              "      <td>169.270004</td>\n",
              "      <td>42526700</td>\n",
              "    </tr>\n",
              "    <tr>\n",
              "      <th>1398</th>\n",
              "      <td>2022-07-25</td>\n",
              "      <td>169.000000</td>\n",
              "      <td>170.570007</td>\n",
              "      <td>164.809998</td>\n",
              "      <td>166.649994</td>\n",
              "      <td>166.649994</td>\n",
              "      <td>26113500</td>\n",
              "    </tr>\n",
              "  </tbody>\n",
              "</table>\n",
              "<p>1399 rows × 7 columns</p>\n",
              "</div>\n",
              "      <button class=\"colab-df-convert\" onclick=\"convertToInteractive('df-63abeb5a-c900-473e-b4f0-ef08b0dd4f56')\"\n",
              "              title=\"Convert this dataframe to an interactive table.\"\n",
              "              style=\"display:none;\">\n",
              "        \n",
              "  <svg xmlns=\"http://www.w3.org/2000/svg\" height=\"24px\"viewBox=\"0 0 24 24\"\n",
              "       width=\"24px\">\n",
              "    <path d=\"M0 0h24v24H0V0z\" fill=\"none\"/>\n",
              "    <path d=\"M18.56 5.44l.94 2.06.94-2.06 2.06-.94-2.06-.94-.94-2.06-.94 2.06-2.06.94zm-11 1L8.5 8.5l.94-2.06 2.06-.94-2.06-.94L8.5 2.5l-.94 2.06-2.06.94zm10 10l.94 2.06.94-2.06 2.06-.94-2.06-.94-.94-2.06-.94 2.06-2.06.94z\"/><path d=\"M17.41 7.96l-1.37-1.37c-.4-.4-.92-.59-1.43-.59-.52 0-1.04.2-1.43.59L10.3 9.45l-7.72 7.72c-.78.78-.78 2.05 0 2.83L4 21.41c.39.39.9.59 1.41.59.51 0 1.02-.2 1.41-.59l7.78-7.78 2.81-2.81c.8-.78.8-2.07 0-2.86zM5.41 20L4 18.59l7.72-7.72 1.47 1.35L5.41 20z\"/>\n",
              "  </svg>\n",
              "      </button>\n",
              "      \n",
              "  <style>\n",
              "    .colab-df-container {\n",
              "      display:flex;\n",
              "      flex-wrap:wrap;\n",
              "      gap: 12px;\n",
              "    }\n",
              "\n",
              "    .colab-df-convert {\n",
              "      background-color: #E8F0FE;\n",
              "      border: none;\n",
              "      border-radius: 50%;\n",
              "      cursor: pointer;\n",
              "      display: none;\n",
              "      fill: #1967D2;\n",
              "      height: 32px;\n",
              "      padding: 0 0 0 0;\n",
              "      width: 32px;\n",
              "    }\n",
              "\n",
              "    .colab-df-convert:hover {\n",
              "      background-color: #E2EBFA;\n",
              "      box-shadow: 0px 1px 2px rgba(60, 64, 67, 0.3), 0px 1px 3px 1px rgba(60, 64, 67, 0.15);\n",
              "      fill: #174EA6;\n",
              "    }\n",
              "\n",
              "    [theme=dark] .colab-df-convert {\n",
              "      background-color: #3B4455;\n",
              "      fill: #D2E3FC;\n",
              "    }\n",
              "\n",
              "    [theme=dark] .colab-df-convert:hover {\n",
              "      background-color: #434B5C;\n",
              "      box-shadow: 0px 1px 3px 1px rgba(0, 0, 0, 0.15);\n",
              "      filter: drop-shadow(0px 1px 2px rgba(0, 0, 0, 0.3));\n",
              "      fill: #FFFFFF;\n",
              "    }\n",
              "  </style>\n",
              "\n",
              "      <script>\n",
              "        const buttonEl =\n",
              "          document.querySelector('#df-63abeb5a-c900-473e-b4f0-ef08b0dd4f56 button.colab-df-convert');\n",
              "        buttonEl.style.display =\n",
              "          google.colab.kernel.accessAllowed ? 'block' : 'none';\n",
              "\n",
              "        async function convertToInteractive(key) {\n",
              "          const element = document.querySelector('#df-63abeb5a-c900-473e-b4f0-ef08b0dd4f56');\n",
              "          const dataTable =\n",
              "            await google.colab.kernel.invokeFunction('convertToInteractive',\n",
              "                                                     [key], {});\n",
              "          if (!dataTable) return;\n",
              "\n",
              "          const docLinkHtml = 'Like what you see? Visit the ' +\n",
              "            '<a target=\"_blank\" href=https://colab.research.google.com/notebooks/data_table.ipynb>data table notebook</a>'\n",
              "            + ' to learn more about interactive tables.';\n",
              "          element.innerHTML = '';\n",
              "          dataTable['output_type'] = 'display_data';\n",
              "          await google.colab.output.renderOutput(dataTable, element);\n",
              "          const docLink = document.createElement('div');\n",
              "          docLink.innerHTML = docLinkHtml;\n",
              "          element.appendChild(docLink);\n",
              "        }\n",
              "      </script>\n",
              "    </div>\n",
              "  </div>\n",
              "  "
            ]
          },
          "metadata": {},
          "execution_count": 4
        }
      ]
    },
    {
      "cell_type": "code",
      "source": [
        "meta_df.info()"
      ],
      "metadata": {
        "colab": {
          "base_uri": "https://localhost:8080/"
        },
        "id": "YkUG4WvaBktF",
        "outputId": "1bf570e8-dc8c-4491-c218-1b41dc4200f9"
      },
      "execution_count": 5,
      "outputs": [
        {
          "output_type": "stream",
          "name": "stdout",
          "text": [
            "<class 'pandas.core.frame.DataFrame'>\n",
            "RangeIndex: 1399 entries, 0 to 1398\n",
            "Data columns (total 7 columns):\n",
            " #   Column     Non-Null Count  Dtype         \n",
            "---  ------     --------------  -----         \n",
            " 0   Date       1399 non-null   datetime64[ns]\n",
            " 1   Open       1399 non-null   float64       \n",
            " 2   High       1399 non-null   float64       \n",
            " 3   Low        1399 non-null   float64       \n",
            " 4   Close      1399 non-null   float64       \n",
            " 5   Adj Close  1399 non-null   float64       \n",
            " 6   Volume     1399 non-null   int64         \n",
            "dtypes: datetime64[ns](1), float64(5), int64(1)\n",
            "memory usage: 76.6 KB\n"
          ]
        }
      ]
    },
    {
      "cell_type": "code",
      "source": [
        "# Plot the Close Price by Date\n",
        "\n",
        "fig = plt.figure(figsize=(10,6))\n",
        "\n",
        "sns.lineplot(data=meta_df,\n",
        "                x='Date',\n",
        "                y='Close')\n",
        "\n",
        "fig.suptitle('Figure 1.1: Meta Stock Closing Price since 2017')\n",
        "plt.show()"
      ],
      "metadata": {
        "colab": {
          "base_uri": "https://localhost:8080/",
          "height": 431
        },
        "id": "kK5TR5OBBobo",
        "outputId": "8bb5cc96-9222-4a4a-941d-87e59c14d5fc"
      },
      "execution_count": 6,
      "outputs": [
        {
          "output_type": "display_data",
          "data": {
            "text/plain": [
              "<Figure size 720x432 with 1 Axes>"
            ],
            "image/png": "[encoded data removed]"
          },
          "metadata": {
            "needs_background": "light"
          }
        }
      ]
    },
    {
      "cell_type": "markdown",
      "source": [
        "The .info shows us no Null values to be concerned with.\n",
        "\n",
        "We will use the data from 2017 through 2021 as our Training set, with the data in 2022 as our Test set, as in the examples given. Note that the steep crash in price around the start of 2022 may cause issues - we will see. It might be worth trying to run the data through backwards in time, as the 2017 data looks more stable."
      ],
      "metadata": {
        "id": "I8hWRq8LD0Tc"
      }
    },
    {
      "cell_type": "markdown",
      "source": [
        "### 4.1.1 Data Pre-Processing\n",
        "\n",
        "We will scale our data with a Min-Max scaler, to put it all in the range of 0 to 1. Note that this may be considered information leakage from the test set to training, because we are scaling before splitting. However, since scaling is mainly done to facilitate the modelling, I consider it OK. We are also only scaling on the max and min, not on any calculated features (e.g. mean or stdev), which would be more serious leakage. Lastly, the scaling is done largely to help prevent any errors that might be caused by negative entries, so scaling the entire range helps achieve that in one simple step.\n"
      ],
      "metadata": {
        "id": "rE6dA7czFNyr"
      }
    },
    {
      "cell_type": "code",
      "source": [
        "# Create a cutoff date for the Train and Test sets\n",
        "# Find the Index value -- we will need the Index to split our scaled data\n",
        "\n",
        "cutoff_date_index = meta_df.loc[meta_df['Date'] > '2022-01-01'].index[0]"
      ],
      "metadata": {
        "id": "RFEJVJpv-H8t"
      },
      "execution_count": 7,
      "outputs": []
    },
    {
      "cell_type": "code",
      "source": [
        "# Import the Min_Max_Scaler and apply it to both sets\n",
        "from sklearn.preprocessing import MinMaxScaler\n",
        "scaler = MinMaxScaler(feature_range=(0,1))\n",
        "\n",
        "scaled_df = scaler.fit_transform(meta_df['Close'].array.reshape(-1,1))"
      ],
      "metadata": {
        "id": "Dyr3MX8FH4Nf"
      },
      "execution_count": 11,
      "outputs": []
    },
    {
      "cell_type": "code",
      "source": [
        "scaled_df"
      ],
      "metadata": {
        "colab": {
          "base_uri": "https://localhost:8080/"
        },
        "id": "e17B1dTO9XEF",
        "outputId": "703a1a7d-bf0f-481c-9fac-1b568bce414b"
      },
      "execution_count": 12,
      "outputs": [
        {
          "output_type": "execute_result",
          "data": {
            "text/plain": [
              "array([[0.        ],\n",
              "       [0.00689734],\n",
              "       [0.01436001],\n",
              "       ...,\n",
              "       [0.24992462],\n",
              "       [0.19753507],\n",
              "       [0.18766016]])"
            ]
          },
          "metadata": {},
          "execution_count": 12
        }
      ]
    },
    {
      "cell_type": "markdown",
      "source": [
        "## 4.2 - Building an Initial Model, Including Data Shaping\n",
        "\n",
        "Next we will want to build our first model, as in the example. To do so we will need to shape our data so it is appropriate for 60-entry training batches. I will build a Train-Test Split into the Shaper, to make the process repeatable for different data shapes down the road, and to facilitate the pre-processing of both train and test data in one step.\n",
        "\n",
        "\n",
        "## 4.2.1 - Shaping our Data for the LTSM"
      ],
      "metadata": {
        "id": "DfaRw6VoM-NQ"
      }
    },
    {
      "cell_type": "code",
      "source": [
        "# Shape Data Function\n",
        "#\n",
        "# Purpose: to filter & reshape our input Data into Training and Testing data,\n",
        "#           Appropriately reshaped for our LTSM models\n",
        "#\n",
        "# Inputs: Num_Days: integer; number of days to go back to train with\n",
        "#         Data_DF: DataFrame; set of all data points\n",
        "#               DF should include all Training, then all Testing data\n",
        "#         Cutoff: Index value of cutoff point at the start of Test data\n",
        "#\n",
        "# Outputs: X_Train: Array, 3-dimensions: Number of training sets of length Num_Days\n",
        "#          Y_Train: Array, 1-dim: Next stock price after training set\n",
        "\n",
        "\n",
        "def shape_data(num_days, data_df, cutoff):\n",
        "  x_trn = []\n",
        "  y_trn = []\n",
        "\n",
        "  # Filter off Training dataset: Up to the Cutoff range\n",
        "  for i in range (num_days, cutoff):\n",
        "     x_trn.append(data_df[i-num_days : i, 0])\n",
        "     y_trn.append(data_df[i,0])\n",
        "  \n",
        "  x_trn, y_trn = np.array(x_trn), np.array(y_trn)\n",
        "\n",
        "  #Reshape into 3-D array for LTSMs\n",
        "  # shape[0] rows, each with num_days entries, in 1-size arrays\n",
        "  x_trn = np.reshape(x_trn, (x_trn.shape[0], x_trn.shape[1], 1) )\n",
        "\n",
        "\n",
        "  #Initialize/reset Test set vars\n",
        "  x_tst = []\n",
        "  y_tst = []\n",
        "\n",
        "  # Filter off Test dataset: After the Cutoff\n",
        "  for i in range (cutoff, data_df.shape[0]):\n",
        "    x_tst.append(data_df[i-num_days : i, 0])\n",
        "    y_tst.append(data_df[i,0])\n",
        "\n",
        "  # Convert to Arrays\n",
        "  x_tst, y_tst = np.array(x_tst), np.array(y_tst)\n",
        "\n",
        "  # Reshape X to 3 dims for LTSM -- dims Length x Num_Days x 1\n",
        "  x_tst = np.reshape(x_tst, (x_tst.shape[0], x_trn.shape[1], 1) )\n",
        "\n",
        "  return(x_trn, y_trn, x_tst, y_tst)"
      ],
      "metadata": {
        "id": "WhVeWtdT-cu5"
      },
      "execution_count": 14,
      "outputs": []
    },
    {
      "cell_type": "code",
      "source": [
        "# Create datasets with 60 day length\n",
        "x_train = []\n",
        "y_train = []\n",
        "\n",
        "x_train, y_train, x_test, y_test = shape_data(60, scaled_df, cutoff_date_index)"
      ],
      "metadata": {
        "id": "J4yIOtOpApEo"
      },
      "execution_count": 15,
      "outputs": []
    },
    {
      "cell_type": "code",
      "source": [
        "x_train.shape"
      ],
      "metadata": {
        "colab": {
          "base_uri": "https://localhost:8080/"
        },
        "id": "jnjrWDXlOTJM",
        "outputId": "b3c66647-3dc3-42df-bcc0-c4b40f20f904"
      },
      "execution_count": 16,
      "outputs": [
        {
          "output_type": "execute_result",
          "data": {
            "text/plain": [
              "(1199, 60, 1)"
            ]
          },
          "metadata": {},
          "execution_count": 16
        }
      ]
    },
    {
      "cell_type": "code",
      "source": [
        "y_train.shape"
      ],
      "metadata": {
        "colab": {
          "base_uri": "https://localhost:8080/"
        },
        "id": "MqL-JrLoW90S",
        "outputId": "d41baba4-e421-41eb-ca63-191783d12784"
      },
      "execution_count": 17,
      "outputs": [
        {
          "output_type": "execute_result",
          "data": {
            "text/plain": [
              "(1199,)"
            ]
          },
          "metadata": {},
          "execution_count": 17
        }
      ]
    },
    {
      "cell_type": "code",
      "source": [
        "x_test.shape"
      ],
      "metadata": {
        "colab": {
          "base_uri": "https://localhost:8080/"
        },
        "id": "B7M33qrpBOBH",
        "outputId": "da5e6af5-0898-49da-cc21-a8c151d1efee"
      },
      "execution_count": 18,
      "outputs": [
        {
          "output_type": "execute_result",
          "data": {
            "text/plain": [
              "(140, 60, 1)"
            ]
          },
          "metadata": {},
          "execution_count": 18
        }
      ]
    },
    {
      "cell_type": "code",
      "source": [
        "y_test.shape"
      ],
      "metadata": {
        "colab": {
          "base_uri": "https://localhost:8080/"
        },
        "id": "Pr5PbR9EBOEk",
        "outputId": "815f4227-3d72-4880-830a-71d550536f49"
      },
      "execution_count": 19,
      "outputs": [
        {
          "output_type": "execute_result",
          "data": {
            "text/plain": [
              "(140,)"
            ]
          },
          "metadata": {},
          "execution_count": 19
        }
      ]
    },
    {
      "cell_type": "markdown",
      "source": [
        "## 4.2.1: Building the LTSM Model\n",
        "\n",
        "Next we will import the key libraries to build our LTSM, then proceed with assembling the model. I will build only 1 LTSM layer initially, for simplicity.\n",
        "\n",
        "We also need to set our random seeds -- this is a good time, before any training gets started.\n",
        "\n",
        "I will also create an Early Stopping callback"
      ],
      "metadata": {
        "id": "93y24MD7hx_F"
      }
    },
    {
      "cell_type": "code",
      "source": [
        "import tensorflow as tf\n",
        "\n",
        "from keras.models import Sequential\n",
        "from keras.layers import Dense\n",
        "from keras.layers import LSTM\n",
        "from keras.layers import Dropout\n",
        "\n",
        "from keras.callbacks import EarlyStopping"
      ],
      "metadata": {
        "id": "fc6yI5kUgRGI"
      },
      "execution_count": 20,
      "outputs": []
    },
    {
      "cell_type": "code",
      "source": [
        "# Set Random Seeds\n",
        "\n",
        "np.random.seed(25)\n",
        "tf.random.set_seed(25)"
      ],
      "metadata": {
        "id": "FZF1v7Ubpphx"
      },
      "execution_count": 21,
      "outputs": []
    },
    {
      "cell_type": "code",
      "source": [
        "# Create our Early Stopping Callback\n",
        "# We will stop at the Minimum, with a 20-epoch patience tolerance added, in case we are stopping on a local minima and could do better\n",
        "\n",
        "es = EarlyStopping(monitor='loss', mode='min', patience=20, verbose=1)"
      ],
      "metadata": {
        "id": "zwhqRMSGpplB"
      },
      "execution_count": 22,
      "outputs": []
    },
    {
      "cell_type": "code",
      "source": [
        "# Create out first, simple Model\n",
        "\n",
        "model1 = Sequential()\n",
        "\n",
        "# Add first LTSM layer\n",
        "model1.add(LSTM(units=60, input_shape = (x_train.shape[1], 1), name='lstm1') )\n",
        "model1.add(Dropout(0.2))\n",
        "\n",
        "# Add output Dense layer\n",
        "model1.add(Dense(units=1, name='output'))"
      ],
      "metadata": {
        "id": "zbAO0O0ujRNA"
      },
      "execution_count": 23,
      "outputs": []
    },
    {
      "cell_type": "code",
      "source": [
        "# Compile the model\n",
        "\n",
        "model1.compile(optimizer='adam', loss='mean_squared_error')"
      ],
      "metadata": {
        "id": "BBY9hbmBnJYU"
      },
      "execution_count": 24,
      "outputs": []
    },
    {
      "cell_type": "code",
      "source": [
        "# Plot a summary of the model\n",
        "\n",
        "model1.summary()"
      ],
      "metadata": {
        "colab": {
          "base_uri": "https://localhost:8080/"
        },
        "id": "PHEpLoiCoTD5",
        "outputId": "6188be68-8669-4c26-df50-b3e9e14dce21"
      },
      "execution_count": 25,
      "outputs": [
        {
          "output_type": "stream",
          "name": "stdout",
          "text": [
            "Model: \"sequential\"\n",
            "_________________________________________________________________\n",
            " Layer (type)                Output Shape              Param #   \n",
            "=================================================================\n",
            " lstm1 (LSTM)                (None, 60)                14880     \n",
            "                                                                 \n",
            " dropout (Dropout)           (None, 60)                0         \n",
            "                                                                 \n",
            " output (Dense)              (None, 1)                 61        \n",
            "                                                                 \n",
            "=================================================================\n",
            "Total params: 14,941\n",
            "Trainable params: 14,941\n",
            "Non-trainable params: 0\n",
            "_________________________________________________________________\n"
          ]
        }
      ]
    },
    {
      "cell_type": "code",
      "source": [
        "# Fit the Model\n",
        "\n",
        "history1 = model1.fit(x_train, y_train,\n",
        "                      batch_size=20,\n",
        "                      epochs=300,\n",
        "                      callbacks=es,\n",
        "                      verbose=1)"
      ],
      "metadata": {
        "colab": {
          "base_uri": "https://localhost:8080/"
        },
        "id": "bLQfGmV2oUKI",
        "outputId": "e800aeb5-8dd1-448e-cb56-66c5cb5aa28f"
      },
      "execution_count": 26,
      "outputs": [
        {
          "output_type": "stream",
          "name": "stdout",
          "text": [
            "Epoch 1/300\n",
            "60/60 [==============================] - 7s 9ms/step - loss: 0.0174\n",
            "Epoch 2/300\n",
            "60/60 [==============================] - 1s 9ms/step - loss: 0.0030\n",
            "Epoch 3/300\n",
            "60/60 [==============================] - 1s 8ms/step - loss: 0.0025\n",
            "Epoch 4/300\n",
            "60/60 [==============================] - 1s 9ms/step - loss: 0.0024\n",
            "Epoch 5/300\n",
            "60/60 [==============================] - 1s 10ms/step - loss: 0.0021\n",
            "Epoch 6/300\n",
            "60/60 [==============================] - 1s 8ms/step - loss: 0.0026\n",
            "Epoch 7/300\n",
            "60/60 [==============================] - 0s 8ms/step - loss: 0.0019\n",
            "Epoch 8/300\n",
            "60/60 [==============================] - 0s 8ms/step - loss: 0.0021\n",
            "Epoch 9/300\n",
            "60/60 [==============================] - 0s 8ms/step - loss: 0.0020\n",
            "Epoch 10/300\n",
            "60/60 [==============================] - 1s 9ms/step - loss: 0.0019\n",
            "Epoch 11/300\n",
            "60/60 [==============================] - 1s 10ms/step - loss: 0.0017\n",
            "Epoch 12/300\n",
            "60/60 [==============================] - 1s 9ms/step - loss: 0.0019\n",
            "Epoch 13/300\n",
            "60/60 [==============================] - 1s 8ms/step - loss: 0.0018\n",
            "Epoch 14/300\n",
            "60/60 [==============================] - 1s 9ms/step - loss: 0.0017\n",
            "Epoch 15/300\n",
            "60/60 [==============================] - 1s 9ms/step - loss: 0.0017\n",
            "Epoch 16/300\n",
            "60/60 [==============================] - 0s 8ms/step - loss: 0.0018\n",
            "Epoch 17/300\n",
            "60/60 [==============================] - 1s 10ms/step - loss: 0.0019\n",
            "Epoch 18/300\n",
            "60/60 [==============================] - 0s 6ms/step - loss: 0.0016\n",
            "Epoch 19/300\n",
            "60/60 [==============================] - 0s 5ms/step - loss: 0.0014\n",
            "Epoch 20/300\n",
            "60/60 [==============================] - 0s 5ms/step - loss: 0.0015\n",
            "Epoch 21/300\n",
            "60/60 [==============================] - 0s 5ms/step - loss: 0.0015\n",
            "Epoch 22/300\n",
            "60/60 [==============================] - 0s 5ms/step - loss: 0.0015\n",
            "Epoch 23/300\n",
            "60/60 [==============================] - 0s 5ms/step - loss: 0.0014\n",
            "Epoch 24/300\n",
            "60/60 [==============================] - 0s 5ms/step - loss: 0.0015\n",
            "Epoch 25/300\n",
            "60/60 [==============================] - 0s 5ms/step - loss: 0.0013\n",
            "Epoch 26/300\n",
            "60/60 [==============================] - 0s 5ms/step - loss: 0.0013\n",
            "Epoch 27/300\n",
            "60/60 [==============================] - 0s 5ms/step - loss: 0.0013\n",
            "Epoch 28/300\n",
            "60/60 [==============================] - 0s 5ms/step - loss: 0.0015\n",
            "Epoch 29/300\n",
            "60/60 [==============================] - 0s 5ms/step - loss: 0.0013\n",
            "Epoch 30/300\n",
            "60/60 [==============================] - 0s 5ms/step - loss: 0.0013\n",
            "Epoch 31/300\n",
            "60/60 [==============================] - 0s 5ms/step - loss: 0.0015\n",
            "Epoch 32/300\n",
            "60/60 [==============================] - 0s 5ms/step - loss: 0.0013\n",
            "Epoch 33/300\n",
            "60/60 [==============================] - 0s 5ms/step - loss: 0.0013\n",
            "Epoch 34/300\n",
            "60/60 [==============================] - 0s 5ms/step - loss: 0.0012\n",
            "Epoch 35/300\n",
            "60/60 [==============================] - 0s 5ms/step - loss: 0.0012\n",
            "Epoch 36/300\n",
            "60/60 [==============================] - 0s 5ms/step - loss: 0.0012\n",
            "Epoch 37/300\n",
            "60/60 [==============================] - 0s 5ms/step - loss: 0.0012\n",
            "Epoch 38/300\n",
            "60/60 [==============================] - 0s 5ms/step - loss: 0.0012\n",
            "Epoch 39/300\n",
            "60/60 [==============================] - 0s 5ms/step - loss: 0.0012\n",
            "Epoch 40/300\n",
            "60/60 [==============================] - 0s 5ms/step - loss: 0.0011\n",
            "Epoch 41/300\n",
            "60/60 [==============================] - 0s 5ms/step - loss: 9.4281e-04\n",
            "Epoch 42/300\n",
            "60/60 [==============================] - 0s 5ms/step - loss: 0.0011\n",
            "Epoch 43/300\n",
            "60/60 [==============================] - 0s 5ms/step - loss: 9.7941e-04\n",
            "Epoch 44/300\n",
            "60/60 [==============================] - 0s 5ms/step - loss: 9.9978e-04\n",
            "Epoch 45/300\n",
            "60/60 [==============================] - 0s 5ms/step - loss: 0.0011\n",
            "Epoch 46/300\n",
            "60/60 [==============================] - 0s 5ms/step - loss: 9.5400e-04\n",
            "Epoch 47/300\n",
            "60/60 [==============================] - 0s 5ms/step - loss: 0.0011\n",
            "Epoch 48/300\n",
            "60/60 [==============================] - 0s 5ms/step - loss: 9.5283e-04\n",
            "Epoch 49/300\n",
            "60/60 [==============================] - 0s 5ms/step - loss: 9.6916e-04\n",
            "Epoch 50/300\n",
            "60/60 [==============================] - 0s 5ms/step - loss: 8.5658e-04\n",
            "Epoch 51/300\n",
            "60/60 [==============================] - 0s 5ms/step - loss: 9.5811e-04\n",
            "Epoch 52/300\n",
            "60/60 [==============================] - 0s 5ms/step - loss: 8.9872e-04\n",
            "Epoch 53/300\n",
            "60/60 [==============================] - 0s 5ms/step - loss: 9.5451e-04\n",
            "Epoch 54/300\n",
            "60/60 [==============================] - 0s 5ms/step - loss: 8.9698e-04\n",
            "Epoch 55/300\n",
            "60/60 [==============================] - 0s 5ms/step - loss: 0.0010\n",
            "Epoch 56/300\n",
            "60/60 [==============================] - 0s 5ms/step - loss: 9.1193e-04\n",
            "Epoch 57/300\n",
            "60/60 [==============================] - 0s 5ms/step - loss: 9.2917e-04\n",
            "Epoch 58/300\n",
            "60/60 [==============================] - 0s 5ms/step - loss: 9.0517e-04\n",
            "Epoch 59/300\n",
            "60/60 [==============================] - 0s 5ms/step - loss: 8.6789e-04\n",
            "Epoch 60/300\n",
            "60/60 [==============================] - 0s 5ms/step - loss: 9.0405e-04\n",
            "Epoch 61/300\n",
            "60/60 [==============================] - 0s 5ms/step - loss: 8.6347e-04\n",
            "Epoch 62/300\n",
            "60/60 [==============================] - 0s 5ms/step - loss: 9.1125e-04\n",
            "Epoch 63/300\n",
            "60/60 [==============================] - 0s 5ms/step - loss: 8.4333e-04\n",
            "Epoch 64/300\n",
            "60/60 [==============================] - 0s 5ms/step - loss: 8.7561e-04\n",
            "Epoch 65/300\n",
            "60/60 [==============================] - 0s 5ms/step - loss: 8.8453e-04\n",
            "Epoch 66/300\n",
            "60/60 [==============================] - 0s 5ms/step - loss: 8.6559e-04\n",
            "Epoch 67/300\n",
            "60/60 [==============================] - 0s 5ms/step - loss: 8.1250e-04\n",
            "Epoch 68/300\n",
            "60/60 [==============================] - 0s 5ms/step - loss: 7.7300e-04\n",
            "Epoch 69/300\n",
            "60/60 [==============================] - 0s 5ms/step - loss: 7.7363e-04\n",
            "Epoch 70/300\n",
            "60/60 [==============================] - 0s 5ms/step - loss: 7.7881e-04\n",
            "Epoch 71/300\n",
            "60/60 [==============================] - 0s 5ms/step - loss: 7.5980e-04\n",
            "Epoch 72/300\n",
            "60/60 [==============================] - 0s 5ms/step - loss: 7.5559e-04\n",
            "Epoch 73/300\n",
            "60/60 [==============================] - 0s 5ms/step - loss: 7.3290e-04\n",
            "Epoch 74/300\n",
            "60/60 [==============================] - 0s 5ms/step - loss: 7.7361e-04\n",
            "Epoch 75/300\n",
            "60/60 [==============================] - 0s 5ms/step - loss: 7.0732e-04\n",
            "Epoch 76/300\n",
            "60/60 [==============================] - 0s 5ms/step - loss: 8.4719e-04\n",
            "Epoch 77/300\n",
            "60/60 [==============================] - 0s 5ms/step - loss: 6.9487e-04\n",
            "Epoch 78/300\n",
            "60/60 [==============================] - 0s 5ms/step - loss: 7.8988e-04\n",
            "Epoch 79/300\n",
            "60/60 [==============================] - 0s 5ms/step - loss: 7.5164e-04\n",
            "Epoch 80/300\n",
            "60/60 [==============================] - 0s 5ms/step - loss: 7.2083e-04\n",
            "Epoch 81/300\n",
            "60/60 [==============================] - 0s 5ms/step - loss: 7.0783e-04\n",
            "Epoch 82/300\n",
            "60/60 [==============================] - 0s 5ms/step - loss: 7.0759e-04\n",
            "Epoch 83/300\n",
            "60/60 [==============================] - 0s 5ms/step - loss: 6.6406e-04\n",
            "Epoch 84/300\n",
            "60/60 [==============================] - 0s 5ms/step - loss: 7.6178e-04\n",
            "Epoch 85/300\n",
            "60/60 [==============================] - 0s 5ms/step - loss: 7.4736e-04\n",
            "Epoch 86/300\n",
            "60/60 [==============================] - 0s 5ms/step - loss: 6.8537e-04\n",
            "Epoch 87/300\n",
            "60/60 [==============================] - 0s 5ms/step - loss: 7.1982e-04\n",
            "Epoch 88/300\n",
            "60/60 [==============================] - 0s 5ms/step - loss: 6.8165e-04\n",
            "Epoch 89/300\n",
            "60/60 [==============================] - 0s 5ms/step - loss: 6.8739e-04\n",
            "Epoch 90/300\n",
            "60/60 [==============================] - 0s 5ms/step - loss: 7.1961e-04\n",
            "Epoch 91/300\n",
            "60/60 [==============================] - 0s 5ms/step - loss: 6.7339e-04\n",
            "Epoch 92/300\n",
            "60/60 [==============================] - 0s 5ms/step - loss: 7.3833e-04\n",
            "Epoch 93/300\n",
            "60/60 [==============================] - 0s 5ms/step - loss: 7.6771e-04\n",
            "Epoch 94/300\n",
            "60/60 [==============================] - 0s 5ms/step - loss: 6.7712e-04\n",
            "Epoch 95/300\n",
            "60/60 [==============================] - 0s 5ms/step - loss: 7.0314e-04\n",
            "Epoch 96/300\n",
            "60/60 [==============================] - 0s 5ms/step - loss: 6.2941e-04\n",
            "Epoch 97/300\n",
            "60/60 [==============================] - 0s 5ms/step - loss: 6.6117e-04\n",
            "Epoch 98/300\n",
            "60/60 [==============================] - 0s 5ms/step - loss: 7.1080e-04\n",
            "Epoch 99/300\n",
            "60/60 [==============================] - 0s 5ms/step - loss: 6.5617e-04\n",
            "Epoch 100/300\n",
            "60/60 [==============================] - 0s 5ms/step - loss: 6.8046e-04\n",
            "Epoch 101/300\n",
            "60/60 [==============================] - 0s 5ms/step - loss: 6.5173e-04\n",
            "Epoch 102/300\n",
            "60/60 [==============================] - 0s 5ms/step - loss: 6.6485e-04\n",
            "Epoch 103/300\n",
            "60/60 [==============================] - 0s 5ms/step - loss: 7.0640e-04\n",
            "Epoch 104/300\n",
            "60/60 [==============================] - 0s 5ms/step - loss: 6.5572e-04\n",
            "Epoch 105/300\n",
            "60/60 [==============================] - 0s 5ms/step - loss: 7.3016e-04\n",
            "Epoch 106/300\n",
            "60/60 [==============================] - 0s 5ms/step - loss: 6.4696e-04\n",
            "Epoch 107/300\n",
            "60/60 [==============================] - 0s 5ms/step - loss: 6.5721e-04\n",
            "Epoch 108/300\n",
            "60/60 [==============================] - 0s 5ms/step - loss: 6.8863e-04\n",
            "Epoch 109/300\n",
            "60/60 [==============================] - 0s 5ms/step - loss: 6.5431e-04\n",
            "Epoch 110/300\n",
            "60/60 [==============================] - 0s 5ms/step - loss: 6.0111e-04\n",
            "Epoch 111/300\n",
            "60/60 [==============================] - 0s 5ms/step - loss: 5.9329e-04\n",
            "Epoch 112/300\n",
            "60/60 [==============================] - 0s 5ms/step - loss: 6.6098e-04\n",
            "Epoch 113/300\n",
            "60/60 [==============================] - 0s 5ms/step - loss: 6.0745e-04\n",
            "Epoch 114/300\n",
            "60/60 [==============================] - 0s 5ms/step - loss: 6.7958e-04\n",
            "Epoch 115/300\n",
            "60/60 [==============================] - 0s 5ms/step - loss: 6.5983e-04\n",
            "Epoch 116/300\n",
            "60/60 [==============================] - 0s 5ms/step - loss: 6.7903e-04\n",
            "Epoch 117/300\n",
            "60/60 [==============================] - 0s 5ms/step - loss: 6.4651e-04\n",
            "Epoch 118/300\n",
            "60/60 [==============================] - 0s 5ms/step - loss: 6.4275e-04\n",
            "Epoch 119/300\n",
            "60/60 [==============================] - 0s 5ms/step - loss: 6.7850e-04\n",
            "Epoch 120/300\n",
            "60/60 [==============================] - 0s 5ms/step - loss: 6.6152e-04\n",
            "Epoch 121/300\n",
            "60/60 [==============================] - 0s 5ms/step - loss: 6.9824e-04\n",
            "Epoch 122/300\n",
            "60/60 [==============================] - 0s 5ms/step - loss: 6.5114e-04\n",
            "Epoch 123/300\n",
            "60/60 [==============================] - 0s 5ms/step - loss: 7.2637e-04\n",
            "Epoch 124/300\n",
            "60/60 [==============================] - 0s 5ms/step - loss: 5.9515e-04\n",
            "Epoch 125/300\n",
            "60/60 [==============================] - 0s 5ms/step - loss: 5.7335e-04\n",
            "Epoch 126/300\n",
            "60/60 [==============================] - 0s 5ms/step - loss: 6.7415e-04\n",
            "Epoch 127/300\n",
            "60/60 [==============================] - 0s 5ms/step - loss: 6.1735e-04\n",
            "Epoch 128/300\n",
            "60/60 [==============================] - 0s 5ms/step - loss: 6.2702e-04\n",
            "Epoch 129/300\n",
            "60/60 [==============================] - 0s 5ms/step - loss: 6.8646e-04\n",
            "Epoch 130/300\n",
            "60/60 [==============================] - 0s 5ms/step - loss: 6.8371e-04\n",
            "Epoch 131/300\n",
            "60/60 [==============================] - 0s 5ms/step - loss: 6.3927e-04\n",
            "Epoch 132/300\n",
            "60/60 [==============================] - 0s 5ms/step - loss: 5.6905e-04\n",
            "Epoch 133/300\n",
            "60/60 [==============================] - 0s 5ms/step - loss: 6.0079e-04\n",
            "Epoch 134/300\n",
            "60/60 [==============================] - 0s 5ms/step - loss: 5.9757e-04\n",
            "Epoch 135/300\n",
            "60/60 [==============================] - 0s 5ms/step - loss: 5.8920e-04\n",
            "Epoch 136/300\n",
            "60/60 [==============================] - 0s 5ms/step - loss: 6.4768e-04\n",
            "Epoch 137/300\n",
            "60/60 [==============================] - 0s 5ms/step - loss: 6.5525e-04\n",
            "Epoch 138/300\n",
            "60/60 [==============================] - 0s 5ms/step - loss: 7.1045e-04\n",
            "Epoch 139/300\n",
            "60/60 [==============================] - 0s 5ms/step - loss: 6.9775e-04\n",
            "Epoch 140/300\n",
            "60/60 [==============================] - 0s 5ms/step - loss: 6.2255e-04\n",
            "Epoch 141/300\n",
            "60/60 [==============================] - 0s 5ms/step - loss: 5.9277e-04\n",
            "Epoch 142/300\n",
            "60/60 [==============================] - 0s 5ms/step - loss: 6.3879e-04\n",
            "Epoch 143/300\n",
            "60/60 [==============================] - 0s 5ms/step - loss: 5.6745e-04\n",
            "Epoch 144/300\n",
            "60/60 [==============================] - 0s 5ms/step - loss: 6.0318e-04\n",
            "Epoch 145/300\n",
            "60/60 [==============================] - 0s 5ms/step - loss: 6.3973e-04\n",
            "Epoch 146/300\n",
            "60/60 [==============================] - 0s 5ms/step - loss: 5.9195e-04\n",
            "Epoch 147/300\n",
            "60/60 [==============================] - 0s 5ms/step - loss: 6.3029e-04\n",
            "Epoch 148/300\n",
            "60/60 [==============================] - 0s 5ms/step - loss: 6.3020e-04\n",
            "Epoch 149/300\n",
            "60/60 [==============================] - 0s 5ms/step - loss: 6.5018e-04\n",
            "Epoch 150/300\n",
            "60/60 [==============================] - 0s 5ms/step - loss: 6.4775e-04\n",
            "Epoch 151/300\n",
            "60/60 [==============================] - 0s 5ms/step - loss: 6.3002e-04\n",
            "Epoch 152/300\n",
            "60/60 [==============================] - 0s 5ms/step - loss: 5.8034e-04\n",
            "Epoch 153/300\n",
            "60/60 [==============================] - 0s 5ms/step - loss: 5.7349e-04\n",
            "Epoch 154/300\n",
            "60/60 [==============================] - 0s 5ms/step - loss: 6.3634e-04\n",
            "Epoch 155/300\n",
            "60/60 [==============================] - 0s 5ms/step - loss: 6.2559e-04\n",
            "Epoch 156/300\n",
            "60/60 [==============================] - 0s 5ms/step - loss: 7.0235e-04\n",
            "Epoch 157/300\n",
            "60/60 [==============================] - 0s 5ms/step - loss: 6.6350e-04\n",
            "Epoch 158/300\n",
            "60/60 [==============================] - 0s 5ms/step - loss: 6.4982e-04\n",
            "Epoch 159/300\n",
            "60/60 [==============================] - 0s 5ms/step - loss: 6.5659e-04\n",
            "Epoch 160/300\n",
            "60/60 [==============================] - 0s 5ms/step - loss: 6.1679e-04\n",
            "Epoch 161/300\n",
            "60/60 [==============================] - 0s 5ms/step - loss: 5.7940e-04\n",
            "Epoch 162/300\n",
            "60/60 [==============================] - 0s 5ms/step - loss: 6.6970e-04\n",
            "Epoch 163/300\n",
            "60/60 [==============================] - 0s 5ms/step - loss: 6.2333e-04\n",
            "Epoch 163: early stopping\n"
          ]
        }
      ]
    },
    {
      "cell_type": "code",
      "source": [
        "plt.plot(history1.history['loss'])\n",
        "plt.title('Figure 4.2.1.1: Training Loss by Epoch for Simple LTSM Model1')\n",
        "plt.xlabel('Epoch')\n",
        "plt.ylabel('Training Loss')\n",
        "plt.legend(['Training Loss'], loc='upper right')\n",
        "plt.show()"
      ],
      "metadata": {
        "colab": {
          "base_uri": "https://localhost:8080/",
          "height": 295
        },
        "id": "6x6tOo3MrzdW",
        "outputId": "317d12e0-df83-4481-861c-1a41b49ad324"
      },
      "execution_count": 28,
      "outputs": [
        {
          "output_type": "display_data",
          "data": {
            "text/plain": [
              "<Figure size 432x288 with 1 Axes>"
            ],
            "image/png": "[encoded data removed]"
          },
          "metadata": {
            "needs_background": "light"
          }
        }
      ]
    },
    {
      "cell_type": "markdown",
      "source": [
        "## 4.2.2: Creating Predictions\n",
        "\n",
        "To generate predictions, we will use the test datasets. Recall that x_test was built with data from the end of the training dataset, so that every point in y_test has the correct number of time interval entries from x_test preceeding it (60 entries in this first model).\n",
        "\n",
        "We will begin with making some predictions based on X_Test. Then we will plot them against Y_Test. Finally we will compute the R-Squared value for best fit, as a measure of our regressor's quality."
      ],
      "metadata": {
        "id": "-FOqsLUA4_Iu"
      }
    },
    {
      "cell_type": "code",
      "source": [
        "model1_pred = model1.predict(x_test)"
      ],
      "metadata": {
        "id": "0rnRTkRr7iO1"
      },
      "execution_count": 31,
      "outputs": []
    },
    {
      "cell_type": "code",
      "source": [
        "model1_pred.shape"
      ],
      "metadata": {
        "colab": {
          "base_uri": "https://localhost:8080/"
        },
        "id": "mhdFy2JXFkVm",
        "outputId": "ea732363-a78c-4fe3-ae5c-b102318a1c56"
      },
      "execution_count": 33,
      "outputs": [
        {
          "output_type": "execute_result",
          "data": {
            "text/plain": [
              "(140, 1)"
            ]
          },
          "metadata": {},
          "execution_count": 33
        }
      ]
    },
    {
      "cell_type": "code",
      "source": [
        "y_test.shape"
      ],
      "metadata": {
        "colab": {
          "base_uri": "https://localhost:8080/"
        },
        "id": "MTXO5bC1FmKH",
        "outputId": "fb53afe1-f4b0-4a79-f6bd-9859ba938abb"
      },
      "execution_count": 34,
      "outputs": [
        {
          "output_type": "execute_result",
          "data": {
            "text/plain": [
              "(140,)"
            ]
          },
          "metadata": {},
          "execution_count": 34
        }
      ]
    },
    {
      "cell_type": "code",
      "source": [
        "plt.figure(figsize=(10,6))\n",
        "plt.plot(model1_pred)\n",
        "plt.plot(y_test)\n",
        "\n",
        "plt.legend(['Predicted', 'Actual'])\n",
        "plt.title('Figure 4.2.2.1: Predicted vs Actual Prices for Meta Stock, in 2022')\n",
        "plt.xlabel('Trading Days into 2022')\n",
        "plt.ylabel('Scaled Price')\n",
        "plt.show()"
      ],
      "metadata": {
        "colab": {
          "base_uri": "https://localhost:8080/",
          "height": 404
        },
        "id": "P8tsKeKnFx4Z",
        "outputId": "49914723-5dde-4113-8e09-b55c0e280efb"
      },
      "execution_count": 42,
      "outputs": [
        {
          "output_type": "display_data",
          "data": {
            "text/plain": [
              "<Figure size 720x432 with 1 Axes>"
            ],
            "image/png": "[encoded data removed]"
          },
          "metadata": {
            "needs_background": "light"
          }
        }
      ]
    },
    {
      "cell_type": "code",
      "source": [
        "from sklearn.metrics import r2_score"
      ],
      "metadata": {
        "id": "BusnnlY0GK_v"
      },
      "execution_count": 36,
      "outputs": []
    },
    {
      "cell_type": "code",
      "source": [
        "# Calculate the R^2 score\n",
        "# Naming this Model 60 for 60 Units wide\n",
        "\n",
        "model60_r2 = r2_score(y_test, model1_pred)\n",
        "model60_r2"
      ],
      "metadata": {
        "colab": {
          "base_uri": "https://localhost:8080/"
        },
        "id": "TScYxaJWG5fi",
        "outputId": "fa0cde9b-8505-4571-fddf-9f7f1a2b38ee"
      },
      "execution_count": 44,
      "outputs": [
        {
          "output_type": "execute_result",
          "data": {
            "text/plain": [
              "0.9600413445991592"
            ]
          },
          "metadata": {},
          "execution_count": 44
        }
      ]
    },
    {
      "cell_type": "markdown",
      "source": [
        "We can see there is a very strong predictive performance, though with a slight delay. This indicates that the model is able to react to current performance extremely well, but not effective at predicting future price. The R^2 score of 0.96 is quite strong, though demonstrates some clear room for improvement.\n",
        "\n",
        "I will aim to explore several additional models: a smaller one (with fewer units); a wider one with more units; and a deeper one (similar to the example)."
      ],
      "metadata": {
        "id": "crV9NxraN6Tx"
      }
    },
    {
      "cell_type": "markdown",
      "source": [
        "## 4.3: Creating a Narrow Model\n",
        "\n",
        "I will aim to create a narrow model, with fewer units (down from the 60 used in the initial model, which I picked coincidentally as it mirrors the interval size)."
      ],
      "metadata": {
        "id": "BNHPpvB5Ofrr"
      }
    },
    {
      "cell_type": "code",
      "source": [
        "# Create our Second, simpler Model\n",
        "# We will use half as many units\n",
        "\n",
        "model2 = Sequential()\n",
        "\n",
        "# Add first LTSM layer\n",
        "model2.add(LSTM(units=30, input_shape = (x_train.shape[1], 1), name='lstm1') )\n",
        "model2.add(Dropout(0.2))\n",
        "\n",
        "# Add output Dense layer\n",
        "model2.add(Dense(units=1, name='output'))"
      ],
      "metadata": {
        "id": "keMi5PabHAEz"
      },
      "execution_count": 45,
      "outputs": []
    },
    {
      "cell_type": "code",
      "source": [
        "# Compile the model\n",
        "\n",
        "model2.compile(optimizer='adam', loss='mean_squared_error')"
      ],
      "metadata": {
        "id": "y4M_CccNQQop"
      },
      "execution_count": 46,
      "outputs": []
    },
    {
      "cell_type": "code",
      "source": [
        "# Plot a summary of the model\n",
        "\n",
        "print(model2.summary())"
      ],
      "metadata": {
        "colab": {
          "base_uri": "https://localhost:8080/"
        },
        "id": "sgeCSX0zQYuy",
        "outputId": "061085c1-ad55-4005-80f9-55ac3250ac11"
      },
      "execution_count": 53,
      "outputs": [
        {
          "output_type": "stream",
          "name": "stdout",
          "text": [
            "Model: \"sequential_1\"\n",
            "_________________________________________________________________\n",
            " Layer (type)                Output Shape              Param #   \n",
            "=================================================================\n",
            " lstm1 (LSTM)                (None, 30)                3840      \n",
            "                                                                 \n",
            " dropout_1 (Dropout)         (None, 30)                0         \n",
            "                                                                 \n",
            " output (Dense)              (None, 1)                 31        \n",
            "                                                                 \n",
            "=================================================================\n",
            "Total params: 3,871\n",
            "Trainable params: 3,871\n",
            "Non-trainable params: 0\n",
            "_________________________________________________________________\n",
            "None\n"
          ]
        }
      ]
    },
    {
      "cell_type": "code",
      "source": [
        "# Fit the Model\n",
        "\n",
        "history2 = model2.fit(x_train, y_train,\n",
        "                      batch_size=20,\n",
        "                      epochs=300,\n",
        "                      callbacks=es,\n",
        "                      verbose=1)"
      ],
      "metadata": {
        "colab": {
          "base_uri": "https://localhost:8080/"
        },
        "id": "YqyVwejAQhNk",
        "outputId": "96e3a9b7-afeb-4bc0-89c6-8aa62d49160e"
      },
      "execution_count": 48,
      "outputs": [
        {
          "output_type": "stream",
          "name": "stdout",
          "text": [
            "Epoch 1/300\n",
            "60/60 [==============================] - 3s 8ms/step - loss: 0.0183\n",
            "Epoch 2/300\n",
            "60/60 [==============================] - 1s 8ms/step - loss: 0.0043\n",
            "Epoch 3/300\n",
            "60/60 [==============================] - 0s 6ms/step - loss: 0.0043\n",
            "Epoch 4/300\n",
            "60/60 [==============================] - 0s 5ms/step - loss: 0.0034\n",
            "Epoch 5/300\n",
            "60/60 [==============================] - 0s 5ms/step - loss: 0.0033\n",
            "Epoch 6/300\n",
            "60/60 [==============================] - 0s 5ms/step - loss: 0.0028\n",
            "Epoch 7/300\n",
            "60/60 [==============================] - 0s 5ms/step - loss: 0.0029\n",
            "Epoch 8/300\n",
            "60/60 [==============================] - 0s 5ms/step - loss: 0.0027\n",
            "Epoch 9/300\n",
            "60/60 [==============================] - 0s 5ms/step - loss: 0.0023\n",
            "Epoch 10/300\n",
            "60/60 [==============================] - 0s 5ms/step - loss: 0.0026\n",
            "Epoch 11/300\n",
            "60/60 [==============================] - 0s 5ms/step - loss: 0.0024\n",
            "Epoch 12/300\n",
            "60/60 [==============================] - 0s 5ms/step - loss: 0.0027\n",
            "Epoch 13/300\n",
            "60/60 [==============================] - 0s 5ms/step - loss: 0.0022\n",
            "Epoch 14/300\n",
            "60/60 [==============================] - 0s 5ms/step - loss: 0.0024\n",
            "Epoch 15/300\n",
            "60/60 [==============================] - 0s 5ms/step - loss: 0.0022\n",
            "Epoch 16/300\n",
            "60/60 [==============================] - 0s 5ms/step - loss: 0.0021\n",
            "Epoch 17/300\n",
            "60/60 [==============================] - 0s 5ms/step - loss: 0.0022\n",
            "Epoch 18/300\n",
            "60/60 [==============================] - 0s 5ms/step - loss: 0.0024\n",
            "Epoch 19/300\n",
            "60/60 [==============================] - 0s 8ms/step - loss: 0.0020\n",
            "Epoch 20/300\n",
            "60/60 [==============================] - 0s 7ms/step - loss: 0.0018\n",
            "Epoch 21/300\n",
            "60/60 [==============================] - 0s 8ms/step - loss: 0.0020\n",
            "Epoch 22/300\n",
            "60/60 [==============================] - 0s 8ms/step - loss: 0.0020\n",
            "Epoch 23/300\n",
            "60/60 [==============================] - 0s 8ms/step - loss: 0.0018\n",
            "Epoch 24/300\n",
            "60/60 [==============================] - 0s 5ms/step - loss: 0.0017\n",
            "Epoch 25/300\n",
            "60/60 [==============================] - 0s 5ms/step - loss: 0.0019\n",
            "Epoch 26/300\n",
            "60/60 [==============================] - 0s 5ms/step - loss: 0.0019\n",
            "Epoch 27/300\n",
            "60/60 [==============================] - 0s 5ms/step - loss: 0.0018\n",
            "Epoch 28/300\n",
            "60/60 [==============================] - 0s 5ms/step - loss: 0.0019\n",
            "Epoch 29/300\n",
            "60/60 [==============================] - 0s 5ms/step - loss: 0.0019\n",
            "Epoch 30/300\n",
            "60/60 [==============================] - 0s 5ms/step - loss: 0.0016\n",
            "Epoch 31/300\n",
            "60/60 [==============================] - 0s 5ms/step - loss: 0.0017\n",
            "Epoch 32/300\n",
            "60/60 [==============================] - 0s 5ms/step - loss: 0.0017\n",
            "Epoch 33/300\n",
            "60/60 [==============================] - 0s 5ms/step - loss: 0.0017\n",
            "Epoch 34/300\n",
            "60/60 [==============================] - 0s 5ms/step - loss: 0.0016\n",
            "Epoch 35/300\n",
            "60/60 [==============================] - 0s 5ms/step - loss: 0.0015\n",
            "Epoch 36/300\n",
            "60/60 [==============================] - 0s 5ms/step - loss: 0.0014\n",
            "Epoch 37/300\n",
            "60/60 [==============================] - 0s 5ms/step - loss: 0.0015\n",
            "Epoch 38/300\n",
            "60/60 [==============================] - 0s 5ms/step - loss: 0.0015\n",
            "Epoch 39/300\n",
            "60/60 [==============================] - 0s 5ms/step - loss: 0.0014\n",
            "Epoch 40/300\n",
            "60/60 [==============================] - 0s 5ms/step - loss: 0.0015\n",
            "Epoch 41/300\n",
            "60/60 [==============================] - 0s 5ms/step - loss: 0.0014\n",
            "Epoch 42/300\n",
            "60/60 [==============================] - 0s 6ms/step - loss: 0.0014\n",
            "Epoch 43/300\n",
            "60/60 [==============================] - 1s 8ms/step - loss: 0.0014\n",
            "Epoch 44/300\n",
            "60/60 [==============================] - 1s 9ms/step - loss: 0.0013\n",
            "Epoch 45/300\n",
            "60/60 [==============================] - 0s 8ms/step - loss: 0.0014\n",
            "Epoch 46/300\n",
            "60/60 [==============================] - 1s 9ms/step - loss: 0.0013\n",
            "Epoch 47/300\n",
            "60/60 [==============================] - 1s 9ms/step - loss: 0.0012\n",
            "Epoch 48/300\n",
            "60/60 [==============================] - 0s 8ms/step - loss: 0.0015\n",
            "Epoch 49/300\n",
            "60/60 [==============================] - 0s 8ms/step - loss: 0.0012\n",
            "Epoch 50/300\n",
            "60/60 [==============================] - 0s 8ms/step - loss: 0.0012\n",
            "Epoch 51/300\n",
            "60/60 [==============================] - 0s 8ms/step - loss: 0.0012\n",
            "Epoch 52/300\n",
            "60/60 [==============================] - 0s 8ms/step - loss: 0.0013\n",
            "Epoch 53/300\n",
            "60/60 [==============================] - 0s 8ms/step - loss: 0.0012\n",
            "Epoch 54/300\n",
            "60/60 [==============================] - 0s 8ms/step - loss: 0.0012\n",
            "Epoch 55/300\n",
            "60/60 [==============================] - 0s 8ms/step - loss: 0.0011\n",
            "Epoch 56/300\n",
            "60/60 [==============================] - 0s 8ms/step - loss: 0.0012\n",
            "Epoch 57/300\n",
            "60/60 [==============================] - 0s 7ms/step - loss: 0.0010\n",
            "Epoch 58/300\n",
            "60/60 [==============================] - 0s 7ms/step - loss: 0.0011\n",
            "Epoch 59/300\n",
            "60/60 [==============================] - 0s 7ms/step - loss: 0.0011\n",
            "Epoch 60/300\n",
            "60/60 [==============================] - 0s 8ms/step - loss: 0.0012\n",
            "Epoch 61/300\n",
            "60/60 [==============================] - 0s 8ms/step - loss: 0.0011\n",
            "Epoch 62/300\n",
            "60/60 [==============================] - 0s 7ms/step - loss: 0.0012\n",
            "Epoch 63/300\n",
            "60/60 [==============================] - 0s 6ms/step - loss: 0.0012\n",
            "Epoch 64/300\n",
            "60/60 [==============================] - 0s 5ms/step - loss: 0.0012\n",
            "Epoch 65/300\n",
            "60/60 [==============================] - 0s 5ms/step - loss: 0.0012\n",
            "Epoch 66/300\n",
            "60/60 [==============================] - 0s 5ms/step - loss: 0.0011\n",
            "Epoch 67/300\n",
            "60/60 [==============================] - 0s 5ms/step - loss: 0.0012\n",
            "Epoch 68/300\n",
            "60/60 [==============================] - 0s 5ms/step - loss: 9.6322e-04\n",
            "Epoch 69/300\n",
            "60/60 [==============================] - 0s 5ms/step - loss: 0.0010\n",
            "Epoch 70/300\n",
            "60/60 [==============================] - 0s 5ms/step - loss: 0.0011\n",
            "Epoch 71/300\n",
            "60/60 [==============================] - 0s 5ms/step - loss: 9.8464e-04\n",
            "Epoch 72/300\n",
            "60/60 [==============================] - 0s 5ms/step - loss: 0.0011\n",
            "Epoch 73/300\n",
            "60/60 [==============================] - 0s 5ms/step - loss: 0.0010\n",
            "Epoch 74/300\n",
            "60/60 [==============================] - 0s 5ms/step - loss: 0.0012\n",
            "Epoch 75/300\n",
            "60/60 [==============================] - 0s 5ms/step - loss: 0.0011\n",
            "Epoch 76/300\n",
            "60/60 [==============================] - 0s 5ms/step - loss: 0.0011\n",
            "Epoch 77/300\n",
            "60/60 [==============================] - 0s 5ms/step - loss: 0.0011\n",
            "Epoch 78/300\n",
            "60/60 [==============================] - 0s 5ms/step - loss: 0.0011\n",
            "Epoch 79/300\n",
            "60/60 [==============================] - 0s 5ms/step - loss: 9.7918e-04\n",
            "Epoch 80/300\n",
            "60/60 [==============================] - 0s 6ms/step - loss: 9.2323e-04\n",
            "Epoch 81/300\n",
            "60/60 [==============================] - 0s 7ms/step - loss: 0.0011\n",
            "Epoch 82/300\n",
            "60/60 [==============================] - 0s 8ms/step - loss: 0.0010\n",
            "Epoch 83/300\n",
            "60/60 [==============================] - 0s 5ms/step - loss: 0.0011\n",
            "Epoch 84/300\n",
            "60/60 [==============================] - 0s 5ms/step - loss: 9.9403e-04\n",
            "Epoch 85/300\n",
            "60/60 [==============================] - 0s 5ms/step - loss: 9.4090e-04\n",
            "Epoch 86/300\n",
            "60/60 [==============================] - 0s 5ms/step - loss: 9.2168e-04\n",
            "Epoch 87/300\n",
            "60/60 [==============================] - 0s 5ms/step - loss: 0.0011\n",
            "Epoch 88/300\n",
            "60/60 [==============================] - 0s 7ms/step - loss: 0.0010\n",
            "Epoch 89/300\n",
            "60/60 [==============================] - 0s 8ms/step - loss: 0.0010\n",
            "Epoch 90/300\n",
            "60/60 [==============================] - 0s 7ms/step - loss: 0.0010\n",
            "Epoch 91/300\n",
            "60/60 [==============================] - 0s 8ms/step - loss: 0.0011\n",
            "Epoch 92/300\n",
            "60/60 [==============================] - 0s 8ms/step - loss: 9.9659e-04\n",
            "Epoch 93/300\n",
            "60/60 [==============================] - 0s 6ms/step - loss: 9.9193e-04\n",
            "Epoch 94/300\n",
            "60/60 [==============================] - 0s 5ms/step - loss: 9.9183e-04\n",
            "Epoch 95/300\n",
            "60/60 [==============================] - 0s 5ms/step - loss: 8.6718e-04\n",
            "Epoch 96/300\n",
            "60/60 [==============================] - 0s 5ms/step - loss: 8.9067e-04\n",
            "Epoch 97/300\n",
            "60/60 [==============================] - 0s 5ms/step - loss: 9.8557e-04\n",
            "Epoch 98/300\n",
            "60/60 [==============================] - 0s 5ms/step - loss: 9.8891e-04\n",
            "Epoch 99/300\n",
            "60/60 [==============================] - 0s 5ms/step - loss: 9.2656e-04\n",
            "Epoch 100/300\n",
            "60/60 [==============================] - 0s 5ms/step - loss: 8.6252e-04\n",
            "Epoch 101/300\n",
            "60/60 [==============================] - 0s 5ms/step - loss: 9.1906e-04\n",
            "Epoch 102/300\n",
            "60/60 [==============================] - 0s 6ms/step - loss: 0.0010\n",
            "Epoch 103/300\n",
            "60/60 [==============================] - 0s 7ms/step - loss: 9.5468e-04\n",
            "Epoch 104/300\n",
            "60/60 [==============================] - 0s 7ms/step - loss: 0.0011\n",
            "Epoch 105/300\n",
            "60/60 [==============================] - 0s 8ms/step - loss: 9.0171e-04\n",
            "Epoch 106/300\n",
            "60/60 [==============================] - 0s 8ms/step - loss: 9.9147e-04\n",
            "Epoch 107/300\n",
            "60/60 [==============================] - 0s 7ms/step - loss: 9.8634e-04\n",
            "Epoch 108/300\n",
            "60/60 [==============================] - 0s 5ms/step - loss: 9.7786e-04\n",
            "Epoch 109/300\n",
            "60/60 [==============================] - 0s 5ms/step - loss: 9.5014e-04\n",
            "Epoch 110/300\n",
            "60/60 [==============================] - 0s 5ms/step - loss: 0.0010\n",
            "Epoch 111/300\n",
            "60/60 [==============================] - 0s 5ms/step - loss: 9.2345e-04\n",
            "Epoch 112/300\n",
            "60/60 [==============================] - 0s 5ms/step - loss: 8.8517e-04\n",
            "Epoch 113/300\n",
            "60/60 [==============================] - 0s 5ms/step - loss: 7.9610e-04\n",
            "Epoch 114/300\n",
            "60/60 [==============================] - 0s 5ms/step - loss: 9.4744e-04\n",
            "Epoch 115/300\n",
            "60/60 [==============================] - 0s 5ms/step - loss: 8.6086e-04\n",
            "Epoch 116/300\n",
            "60/60 [==============================] - 0s 5ms/step - loss: 9.2447e-04\n",
            "Epoch 117/300\n",
            "60/60 [==============================] - 0s 5ms/step - loss: 8.6817e-04\n",
            "Epoch 118/300\n",
            "60/60 [==============================] - 0s 5ms/step - loss: 8.8486e-04\n",
            "Epoch 119/300\n",
            "60/60 [==============================] - 0s 5ms/step - loss: 9.0157e-04\n",
            "Epoch 120/300\n",
            "60/60 [==============================] - 0s 5ms/step - loss: 9.1031e-04\n",
            "Epoch 121/300\n",
            "60/60 [==============================] - 0s 5ms/step - loss: 8.9399e-04\n",
            "Epoch 122/300\n",
            "60/60 [==============================] - 0s 5ms/step - loss: 8.5148e-04\n",
            "Epoch 123/300\n",
            "60/60 [==============================] - 0s 5ms/step - loss: 9.0999e-04\n",
            "Epoch 124/300\n",
            "60/60 [==============================] - 0s 5ms/step - loss: 8.4530e-04\n",
            "Epoch 125/300\n",
            "60/60 [==============================] - 0s 5ms/step - loss: 9.4743e-04\n",
            "Epoch 126/300\n",
            "60/60 [==============================] - 0s 5ms/step - loss: 8.7680e-04\n",
            "Epoch 127/300\n",
            "60/60 [==============================] - 0s 5ms/step - loss: 8.5301e-04\n",
            "Epoch 128/300\n",
            "60/60 [==============================] - 0s 5ms/step - loss: 8.4868e-04\n",
            "Epoch 129/300\n",
            "60/60 [==============================] - 0s 5ms/step - loss: 9.0288e-04\n",
            "Epoch 130/300\n",
            "60/60 [==============================] - 0s 5ms/step - loss: 8.6289e-04\n",
            "Epoch 131/300\n",
            "60/60 [==============================] - 0s 5ms/step - loss: 8.7912e-04\n",
            "Epoch 132/300\n",
            "60/60 [==============================] - 0s 5ms/step - loss: 8.7963e-04\n",
            "Epoch 133/300\n",
            "60/60 [==============================] - 0s 5ms/step - loss: 9.8966e-04\n",
            "Epoch 133: early stopping\n"
          ]
        }
      ]
    },
    {
      "cell_type": "code",
      "source": [
        "plt.plot(history2.history['loss'])\n",
        "plt.title('Figure 4.3.1.1: Training Loss by Epoch for Simple LTSM Model2, 30 Units')\n",
        "plt.xlabel('Epoch')\n",
        "plt.ylabel('Training Loss')\n",
        "plt.legend(['Training Loss'], loc='upper right')\n",
        "plt.show()"
      ],
      "metadata": {
        "colab": {
          "base_uri": "https://localhost:8080/",
          "height": 295
        },
        "id": "_BGM_tI4QpoP",
        "outputId": "db2e7656-f1d4-4dd0-f4de-2ca1618dea13"
      },
      "execution_count": 49,
      "outputs": [
        {
          "output_type": "display_data",
          "data": {
            "text/plain": [
              "<Figure size 432x288 with 1 Axes>"
            ],
            "image/png": "[encoded data removed]"
          },
          "metadata": {
            "needs_background": "light"
          }
        }
      ]
    },
    {
      "cell_type": "code",
      "source": [
        "# Create Predictions\n",
        "model2_pred = model2.predict(x_test)"
      ],
      "metadata": {
        "id": "sIe35wcGQzZ3"
      },
      "execution_count": 50,
      "outputs": []
    },
    {
      "cell_type": "code",
      "source": [
        "plt.figure(figsize=(10,6))\n",
        "plt.plot(model2_pred)\n",
        "plt.plot(y_test)\n",
        "\n",
        "plt.legend(['Predicted', 'Actual'])\n",
        "plt.title('Figure 4.3.1.2: Predicted vs Actual Prices for Meta Stock in 2022, 30-unit Model')\n",
        "plt.xlabel('Trading Days into 2022')\n",
        "plt.ylabel('Scaled Price')\n",
        "plt.show()"
      ],
      "metadata": {
        "colab": {
          "base_uri": "https://localhost:8080/",
          "height": 404
        },
        "id": "whb4p1jsRFT1",
        "outputId": "1444fd13-37b6-4616-f10b-4bbd20b8da5a"
      },
      "execution_count": 51,
      "outputs": [
        {
          "output_type": "display_data",
          "data": {
            "text/plain": [
              "<Figure size 720x432 with 1 Axes>"
            ],
            "image/png": "[encoded data removed]"
          },
          "metadata": {
            "needs_background": "light"
          }
        }
      ]
    },
    {
      "cell_type": "code",
      "source": [
        "# Calculate the R^2 score\n",
        "# Naming this Model 60 for 60 Units wide\n",
        "\n",
        "model30_r2 = r2_score(y_test, model2_pred)\n",
        "model30_r2"
      ],
      "metadata": {
        "colab": {
          "base_uri": "https://localhost:8080/"
        },
        "id": "KBLyThkaRO98",
        "outputId": "42e7fe14-c9c5-41c0-cc18-799a47a44b35"
      },
      "execution_count": 52,
      "outputs": [
        {
          "output_type": "execute_result",
          "data": {
            "text/plain": [
              "0.9561485755563273"
            ]
          },
          "metadata": {},
          "execution_count": 52
        }
      ]
    },
    {
      "cell_type": "markdown",
      "source": [
        "We can see we have nearly as good a prediction (and better predictions early on, before the crash around T=20). The R^2 value for this second model is slightly lower at 0.956, compared to 0.960. Performance looks worse later on around T=100 and T=120, where fluctuations in the actual price are not caught as quickly.\n",
        "\n",
        "However, we see similar behaviour where the prediction appears to lag the actual value by about a day. predicting yesterday's price is not very useful in reality."
      ],
      "metadata": {
        "id": "cQuDPU2PRgxo"
      }
    },
    {
      "cell_type": "markdown",
      "source": [
        "## 4.3: Creating a Wider Model\n",
        "\n",
        "Let's now try a wider model, with 120 units - double the initial model's.\n",
        "\n",
        "I will also create a master function to compile, fit and plot our models, as that is repetitive work."
      ],
      "metadata": {
        "id": "RNBlGTZYSLol"
      }
    },
    {
      "cell_type": "code",
      "source": [
        "# Model_and_Plot function\n",
        "#\n",
        "# Purpose: To consolidate repetitive modelling and plotting functions, which will facilitate additional experimentation\n",
        "#     Compiles the model\n",
        "#     Fits the model to the given Training data\n",
        "#     Prints the architecture Summary\n",
        "#     Plots the training progress based on Epoch\n",
        "#     Makes Predictions\n",
        "#     Plots the predictions vs actual\n",
        "#     Calculates and returns the R2 value\n",
        "#\n",
        "# Inputs: Model - the LTSM model to be trained\n",
        "#     X_Trn, X_Tst: the training and testing data. Must be in 3-dimensional LTSM format\n",
        "#     Y_Trn, Y_Tst: The training and testing actual values.\n",
        "#\n",
        "# Outputs: Returns the R2 value\n",
        "#     Prints other results and visualizations as listed above\n",
        "#\n",
        "\n",
        "def model_and_plot(model, x_trn, y_trn, x_tst, y_tst):\n",
        "  # First compile the given model\n",
        "  model.compile(optimizer='adam', loss='mean_squared_error')\n",
        "\n",
        "  # Next fit the model\n",
        "  history = model.fit(x_trn, y_trn,\n",
        "                      batch_size=20,\n",
        "                      epochs=300,\n",
        "                      callbacks=es,\n",
        "                      verbose=1)\n",
        "  \n",
        "  # Next print a summary of the model\n",
        "  print(\"Summary of present Model's architecture:\")\n",
        "  print(model.summary())\n",
        "\n",
        "  # Now plot the Training performance of the current model\n",
        "  plt.plot(history.history['loss'])\n",
        "  plt.title('Training Loss by Epoch for present Model')\n",
        "  plt.xlabel('Epoch')\n",
        "  plt.ylabel('Training Loss')\n",
        "  plt.legend(['Training Loss'], loc='upper right')\n",
        "  plt.show()\n",
        "\n",
        "  # Now make predictions\n",
        "  pred = model.predict(x_tst)\n",
        "\n",
        "  # Now plot the performance\n",
        "  plt.figure(figsize=(10,6))\n",
        "  plt.plot(pred)\n",
        "  plt.plot(y_tst)\n",
        "\n",
        "  plt.legend(['Predicted', 'Actual'])\n",
        "  plt.title('Predicted vs Actual Prices for Meta Stock in 2022 (Scaled; current Model)')\n",
        "  plt.xlabel('Trading Days into 2022')\n",
        "  plt.ylabel('Scaled Price')\n",
        "  plt.show()\n",
        "\n",
        "  # Lastly, calculate the R^2 value\n",
        "  r2 = r2_score(y_tst, pred)\n",
        "  print('R^2 score is: ' + str(r2))\n",
        "\n",
        "  return(r2)\n",
        "\n"
      ],
      "metadata": {
        "id": "XMpw6ScKRbXX"
      },
      "execution_count": 1,
      "outputs": []
    },
    {
      "cell_type": "code",
      "source": [
        "# Create our Third model, with double the units (120)\n",
        "\n",
        "model3 = Sequential()\n",
        "\n",
        "# Add first LTSM layer\n",
        "model3.add(LSTM(units=120, input_shape = (x_train.shape[1], 1), name='lstm1') )\n",
        "model3.add(Dropout(0.2))\n",
        "\n",
        "# Add output Dense layer\n",
        "model3.add(Dense(units=1, name='output'))"
      ],
      "metadata": {
        "id": "UwmKFcOqUv2a"
      },
      "execution_count": 63,
      "outputs": []
    },
    {
      "cell_type": "code",
      "source": [
        "model_and_plot(model3, x_train, y_train, x_test, y_test)"
      ],
      "metadata": {
        "colab": {
          "base_uri": "https://localhost:8080/",
          "height": 1000
        },
        "id": "wN2P1ozkU_5x",
        "outputId": "be184658-deab-4ede-dbe2-2ba3f045991e"
      },
      "execution_count": 64,
      "outputs": [
        {
          "output_type": "stream",
          "name": "stdout",
          "text": [
            "Epoch 1/300\n",
            "60/60 [==============================] - 2s 7ms/step - loss: 0.0186\n",
            "Epoch 2/300\n",
            "60/60 [==============================] - 0s 6ms/step - loss: 0.0018\n",
            "Epoch 3/300\n",
            "60/60 [==============================] - 0s 5ms/step - loss: 0.0018\n",
            "Epoch 4/300\n",
            "60/60 [==============================] - 0s 5ms/step - loss: 0.0017\n",
            "Epoch 5/300\n",
            "60/60 [==============================] - 0s 5ms/step - loss: 0.0019\n",
            "Epoch 6/300\n",
            "60/60 [==============================] - 0s 5ms/step - loss: 0.0018\n",
            "Epoch 7/300\n",
            "60/60 [==============================] - 0s 5ms/step - loss: 0.0015\n",
            "Epoch 8/300\n",
            "60/60 [==============================] - 0s 5ms/step - loss: 0.0014\n",
            "Epoch 9/300\n",
            "60/60 [==============================] - 0s 5ms/step - loss: 0.0013\n",
            "Epoch 10/300\n",
            "60/60 [==============================] - 0s 5ms/step - loss: 0.0013\n",
            "Epoch 11/300\n",
            "60/60 [==============================] - 0s 5ms/step - loss: 0.0015\n",
            "Epoch 12/300\n",
            "60/60 [==============================] - 0s 5ms/step - loss: 0.0013\n",
            "Epoch 13/300\n",
            "60/60 [==============================] - 0s 5ms/step - loss: 0.0013\n",
            "Epoch 14/300\n",
            "60/60 [==============================] - 0s 5ms/step - loss: 0.0013\n",
            "Epoch 15/300\n",
            "60/60 [==============================] - 0s 5ms/step - loss: 0.0014\n",
            "Epoch 16/300\n",
            "60/60 [==============================] - 0s 5ms/step - loss: 0.0013\n",
            "Epoch 17/300\n",
            "60/60 [==============================] - 0s 5ms/step - loss: 0.0013\n",
            "Epoch 18/300\n",
            "60/60 [==============================] - 0s 5ms/step - loss: 0.0011\n",
            "Epoch 19/300\n",
            "60/60 [==============================] - 0s 5ms/step - loss: 0.0012\n",
            "Epoch 20/300\n",
            "60/60 [==============================] - 0s 5ms/step - loss: 0.0013\n",
            "Epoch 21/300\n",
            "60/60 [==============================] - 0s 5ms/step - loss: 0.0011\n",
            "Epoch 22/300\n",
            "60/60 [==============================] - 0s 5ms/step - loss: 0.0012\n",
            "Epoch 23/300\n",
            "60/60 [==============================] - 0s 5ms/step - loss: 0.0011\n",
            "Epoch 24/300\n",
            "60/60 [==============================] - 0s 5ms/step - loss: 0.0011\n",
            "Epoch 25/300\n",
            "60/60 [==============================] - 0s 5ms/step - loss: 0.0012\n",
            "Epoch 26/300\n",
            "60/60 [==============================] - 0s 5ms/step - loss: 0.0011\n",
            "Epoch 27/300\n",
            "60/60 [==============================] - 0s 5ms/step - loss: 0.0011\n",
            "Epoch 28/300\n",
            "60/60 [==============================] - 0s 5ms/step - loss: 0.0011\n",
            "Epoch 29/300\n",
            "60/60 [==============================] - 0s 5ms/step - loss: 9.8055e-04\n",
            "Epoch 30/300\n",
            "60/60 [==============================] - 0s 5ms/step - loss: 9.7466e-04\n",
            "Epoch 31/300\n",
            "60/60 [==============================] - 0s 5ms/step - loss: 9.0348e-04\n",
            "Epoch 32/300\n",
            "60/60 [==============================] - 0s 5ms/step - loss: 0.0011\n",
            "Epoch 33/300\n",
            "60/60 [==============================] - 0s 5ms/step - loss: 9.3641e-04\n",
            "Epoch 34/300\n",
            "60/60 [==============================] - 0s 5ms/step - loss: 9.1885e-04\n",
            "Epoch 35/300\n",
            "60/60 [==============================] - 0s 5ms/step - loss: 8.9642e-04\n",
            "Epoch 36/300\n",
            "60/60 [==============================] - 0s 5ms/step - loss: 0.0010\n",
            "Epoch 37/300\n",
            "60/60 [==============================] - 0s 5ms/step - loss: 9.7824e-04\n",
            "Epoch 38/300\n",
            "60/60 [==============================] - 0s 5ms/step - loss: 0.0010\n",
            "Epoch 39/300\n",
            "60/60 [==============================] - 0s 5ms/step - loss: 0.0011\n",
            "Epoch 40/300\n",
            "60/60 [==============================] - 0s 5ms/step - loss: 9.4609e-04\n",
            "Epoch 41/300\n",
            "60/60 [==============================] - 0s 5ms/step - loss: 8.4759e-04\n",
            "Epoch 42/300\n",
            "60/60 [==============================] - 0s 5ms/step - loss: 8.1468e-04\n",
            "Epoch 43/300\n",
            "60/60 [==============================] - 0s 6ms/step - loss: 7.4919e-04\n",
            "Epoch 44/300\n",
            "60/60 [==============================] - 0s 5ms/step - loss: 9.0169e-04\n",
            "Epoch 45/300\n",
            "60/60 [==============================] - 0s 5ms/step - loss: 7.7601e-04\n",
            "Epoch 46/300\n",
            "60/60 [==============================] - 0s 5ms/step - loss: 7.7186e-04\n",
            "Epoch 47/300\n",
            "60/60 [==============================] - 0s 5ms/step - loss: 8.1843e-04\n",
            "Epoch 48/300\n",
            "60/60 [==============================] - 0s 5ms/step - loss: 8.5883e-04\n",
            "Epoch 49/300\n",
            "60/60 [==============================] - 0s 5ms/step - loss: 7.7525e-04\n",
            "Epoch 50/300\n",
            "60/60 [==============================] - 0s 5ms/step - loss: 7.0653e-04\n",
            "Epoch 51/300\n",
            "60/60 [==============================] - 0s 5ms/step - loss: 7.7249e-04\n",
            "Epoch 52/300\n",
            "60/60 [==============================] - 0s 5ms/step - loss: 6.8526e-04\n",
            "Epoch 53/300\n",
            "60/60 [==============================] - 0s 5ms/step - loss: 8.9216e-04\n",
            "Epoch 54/300\n",
            "60/60 [==============================] - 0s 5ms/step - loss: 7.5206e-04\n",
            "Epoch 55/300\n",
            "60/60 [==============================] - 0s 5ms/step - loss: 7.9780e-04\n",
            "Epoch 56/300\n",
            "60/60 [==============================] - 0s 5ms/step - loss: 7.3996e-04\n",
            "Epoch 57/300\n",
            "60/60 [==============================] - 0s 5ms/step - loss: 7.8780e-04\n",
            "Epoch 58/300\n",
            "60/60 [==============================] - 0s 5ms/step - loss: 6.7944e-04\n",
            "Epoch 59/300\n",
            "60/60 [==============================] - 0s 5ms/step - loss: 7.7956e-04\n",
            "Epoch 60/300\n",
            "60/60 [==============================] - 0s 5ms/step - loss: 7.2602e-04\n",
            "Epoch 61/300\n",
            "60/60 [==============================] - 0s 5ms/step - loss: 7.6782e-04\n",
            "Epoch 62/300\n",
            "60/60 [==============================] - 0s 5ms/step - loss: 7.4098e-04\n",
            "Epoch 63/300\n",
            "60/60 [==============================] - 0s 5ms/step - loss: 7.2391e-04\n",
            "Epoch 64/300\n",
            "60/60 [==============================] - 0s 5ms/step - loss: 6.9721e-04\n",
            "Epoch 65/300\n",
            "60/60 [==============================] - 0s 5ms/step - loss: 7.1985e-04\n",
            "Epoch 66/300\n",
            "60/60 [==============================] - 0s 5ms/step - loss: 7.1037e-04\n",
            "Epoch 67/300\n",
            "60/60 [==============================] - 0s 5ms/step - loss: 6.9381e-04\n",
            "Epoch 68/300\n",
            "60/60 [==============================] - 0s 5ms/step - loss: 6.4447e-04\n",
            "Epoch 69/300\n",
            "60/60 [==============================] - 0s 5ms/step - loss: 6.9764e-04\n",
            "Epoch 70/300\n",
            "60/60 [==============================] - 0s 5ms/step - loss: 6.4850e-04\n",
            "Epoch 71/300\n",
            "60/60 [==============================] - 0s 5ms/step - loss: 6.6000e-04\n",
            "Epoch 72/300\n",
            "60/60 [==============================] - 0s 5ms/step - loss: 6.4029e-04\n",
            "Epoch 73/300\n",
            "60/60 [==============================] - 0s 5ms/step - loss: 6.7064e-04\n",
            "Epoch 74/300\n",
            "60/60 [==============================] - 0s 5ms/step - loss: 7.2543e-04\n",
            "Epoch 75/300\n",
            "60/60 [==============================] - 0s 5ms/step - loss: 6.7324e-04\n",
            "Epoch 76/300\n",
            "60/60 [==============================] - 0s 5ms/step - loss: 6.9010e-04\n",
            "Epoch 77/300\n",
            "60/60 [==============================] - 0s 5ms/step - loss: 6.7780e-04\n",
            "Epoch 78/300\n",
            "60/60 [==============================] - 0s 5ms/step - loss: 5.8751e-04\n",
            "Epoch 79/300\n",
            "60/60 [==============================] - 0s 5ms/step - loss: 6.2266e-04\n",
            "Epoch 80/300\n",
            "60/60 [==============================] - 0s 5ms/step - loss: 6.1220e-04\n",
            "Epoch 81/300\n",
            "60/60 [==============================] - 0s 5ms/step - loss: 6.5016e-04\n",
            "Epoch 82/300\n",
            "60/60 [==============================] - 0s 5ms/step - loss: 6.1406e-04\n",
            "Epoch 83/300\n",
            "60/60 [==============================] - 0s 5ms/step - loss: 5.7973e-04\n",
            "Epoch 84/300\n",
            "60/60 [==============================] - 0s 5ms/step - loss: 6.0014e-04\n",
            "Epoch 85/300\n",
            "60/60 [==============================] - 0s 5ms/step - loss: 6.1199e-04\n",
            "Epoch 86/300\n",
            "60/60 [==============================] - 0s 5ms/step - loss: 5.6036e-04\n",
            "Epoch 87/300\n",
            "60/60 [==============================] - 0s 5ms/step - loss: 6.0887e-04\n",
            "Epoch 88/300\n",
            "60/60 [==============================] - 0s 5ms/step - loss: 6.3079e-04\n",
            "Epoch 89/300\n",
            "60/60 [==============================] - 0s 5ms/step - loss: 6.1238e-04\n",
            "Epoch 90/300\n",
            "60/60 [==============================] - 0s 5ms/step - loss: 5.9509e-04\n",
            "Epoch 91/300\n",
            "60/60 [==============================] - 0s 5ms/step - loss: 5.4449e-04\n",
            "Epoch 92/300\n",
            "60/60 [==============================] - 0s 5ms/step - loss: 5.4117e-04\n",
            "Epoch 93/300\n",
            "60/60 [==============================] - 0s 5ms/step - loss: 5.8017e-04\n",
            "Epoch 94/300\n",
            "60/60 [==============================] - 0s 5ms/step - loss: 6.3911e-04\n",
            "Epoch 95/300\n",
            "60/60 [==============================] - 0s 5ms/step - loss: 6.3352e-04\n",
            "Epoch 96/300\n",
            "60/60 [==============================] - 0s 5ms/step - loss: 5.6575e-04\n",
            "Epoch 97/300\n",
            "60/60 [==============================] - 0s 5ms/step - loss: 5.4732e-04\n",
            "Epoch 98/300\n",
            "60/60 [==============================] - 0s 5ms/step - loss: 5.8722e-04\n",
            "Epoch 99/300\n",
            "60/60 [==============================] - 0s 5ms/step - loss: 6.3285e-04\n",
            "Epoch 100/300\n",
            "60/60 [==============================] - 0s 5ms/step - loss: 5.5227e-04\n",
            "Epoch 101/300\n",
            "60/60 [==============================] - 0s 5ms/step - loss: 5.6586e-04\n",
            "Epoch 102/300\n",
            "60/60 [==============================] - 0s 5ms/step - loss: 5.7904e-04\n",
            "Epoch 103/300\n",
            "60/60 [==============================] - 0s 5ms/step - loss: 5.7579e-04\n",
            "Epoch 104/300\n",
            "60/60 [==============================] - 0s 5ms/step - loss: 5.7483e-04\n",
            "Epoch 105/300\n",
            "60/60 [==============================] - 0s 5ms/step - loss: 5.9003e-04\n",
            "Epoch 106/300\n",
            "60/60 [==============================] - 0s 5ms/step - loss: 5.4435e-04\n",
            "Epoch 107/300\n",
            "60/60 [==============================] - 0s 5ms/step - loss: 5.8701e-04\n",
            "Epoch 108/300\n",
            "60/60 [==============================] - 0s 5ms/step - loss: 5.6288e-04\n",
            "Epoch 109/300\n",
            "60/60 [==============================] - 0s 5ms/step - loss: 5.1610e-04\n",
            "Epoch 110/300\n",
            "60/60 [==============================] - 0s 5ms/step - loss: 5.8099e-04\n",
            "Epoch 111/300\n",
            "60/60 [==============================] - 0s 5ms/step - loss: 5.3499e-04\n",
            "Epoch 112/300\n",
            "60/60 [==============================] - 0s 5ms/step - loss: 5.3854e-04\n",
            "Epoch 113/300\n",
            "60/60 [==============================] - 0s 5ms/step - loss: 5.6409e-04\n",
            "Epoch 114/300\n",
            "60/60 [==============================] - 0s 5ms/step - loss: 5.2860e-04\n",
            "Epoch 115/300\n",
            "60/60 [==============================] - 0s 5ms/step - loss: 5.2457e-04\n",
            "Epoch 116/300\n",
            "60/60 [==============================] - 0s 5ms/step - loss: 5.5055e-04\n",
            "Epoch 117/300\n",
            "60/60 [==============================] - 0s 5ms/step - loss: 6.0206e-04\n",
            "Epoch 118/300\n",
            "60/60 [==============================] - 0s 5ms/step - loss: 5.7588e-04\n",
            "Epoch 119/300\n",
            "60/60 [==============================] - 0s 5ms/step - loss: 5.1793e-04\n",
            "Epoch 120/300\n",
            "60/60 [==============================] - 0s 5ms/step - loss: 4.9833e-04\n",
            "Epoch 121/300\n",
            "60/60 [==============================] - 0s 5ms/step - loss: 5.0788e-04\n",
            "Epoch 122/300\n",
            "60/60 [==============================] - 0s 5ms/step - loss: 5.3300e-04\n",
            "Epoch 123/300\n",
            "60/60 [==============================] - 0s 5ms/step - loss: 5.2217e-04\n",
            "Epoch 124/300\n",
            "60/60 [==============================] - 0s 5ms/step - loss: 5.4421e-04\n",
            "Epoch 125/300\n",
            "60/60 [==============================] - 0s 5ms/step - loss: 5.6067e-04\n",
            "Epoch 126/300\n",
            "60/60 [==============================] - 0s 5ms/step - loss: 5.0062e-04\n",
            "Epoch 127/300\n",
            "60/60 [==============================] - 0s 5ms/step - loss: 5.2011e-04\n",
            "Epoch 128/300\n",
            "60/60 [==============================] - 0s 5ms/step - loss: 5.5063e-04\n",
            "Epoch 129/300\n",
            "60/60 [==============================] - 0s 5ms/step - loss: 5.7048e-04\n",
            "Epoch 130/300\n",
            "60/60 [==============================] - 0s 5ms/step - loss: 5.1183e-04\n",
            "Epoch 131/300\n",
            "60/60 [==============================] - 0s 5ms/step - loss: 5.2322e-04\n",
            "Epoch 132/300\n",
            "60/60 [==============================] - 0s 5ms/step - loss: 5.3176e-04\n",
            "Epoch 133/300\n",
            "60/60 [==============================] - 0s 5ms/step - loss: 5.1034e-04\n",
            "Epoch 134/300\n",
            "60/60 [==============================] - 0s 5ms/step - loss: 5.0525e-04\n",
            "Epoch 135/300\n",
            "60/60 [==============================] - 0s 5ms/step - loss: 4.7146e-04\n",
            "Epoch 136/300\n",
            "60/60 [==============================] - 0s 5ms/step - loss: 5.6868e-04\n",
            "Epoch 137/300\n",
            "60/60 [==============================] - 0s 5ms/step - loss: 5.8713e-04\n",
            "Epoch 138/300\n",
            "60/60 [==============================] - 0s 5ms/step - loss: 5.2568e-04\n",
            "Epoch 139/300\n",
            "60/60 [==============================] - 0s 5ms/step - loss: 5.2803e-04\n",
            "Epoch 140/300\n",
            "60/60 [==============================] - 0s 5ms/step - loss: 5.0186e-04\n",
            "Epoch 141/300\n",
            "60/60 [==============================] - 0s 5ms/step - loss: 4.9707e-04\n",
            "Epoch 142/300\n",
            "60/60 [==============================] - 0s 5ms/step - loss: 5.2118e-04\n",
            "Epoch 143/300\n",
            "60/60 [==============================] - 0s 5ms/step - loss: 5.2251e-04\n",
            "Epoch 144/300\n",
            "60/60 [==============================] - 0s 5ms/step - loss: 5.3893e-04\n",
            "Epoch 145/300\n",
            "60/60 [==============================] - 0s 5ms/step - loss: 4.9014e-04\n",
            "Epoch 146/300\n",
            "60/60 [==============================] - 0s 5ms/step - loss: 5.2801e-04\n",
            "Epoch 147/300\n",
            "60/60 [==============================] - 0s 5ms/step - loss: 5.4627e-04\n",
            "Epoch 148/300\n",
            "60/60 [==============================] - 0s 6ms/step - loss: 4.7942e-04\n",
            "Epoch 149/300\n",
            "60/60 [==============================] - 0s 5ms/step - loss: 5.1652e-04\n",
            "Epoch 150/300\n",
            "60/60 [==============================] - 0s 5ms/step - loss: 5.7097e-04\n",
            "Epoch 151/300\n",
            "60/60 [==============================] - 0s 5ms/step - loss: 5.6138e-04\n",
            "Epoch 152/300\n",
            "60/60 [==============================] - 0s 5ms/step - loss: 5.1424e-04\n",
            "Epoch 153/300\n",
            "60/60 [==============================] - 0s 5ms/step - loss: 4.4419e-04\n",
            "Epoch 154/300\n",
            "60/60 [==============================] - 0s 5ms/step - loss: 5.3385e-04\n",
            "Epoch 155/300\n",
            "60/60 [==============================] - 0s 5ms/step - loss: 4.7417e-04\n",
            "Epoch 156/300\n",
            "60/60 [==============================] - 0s 5ms/step - loss: 5.0260e-04\n",
            "Epoch 157/300\n",
            "60/60 [==============================] - 0s 5ms/step - loss: 5.6062e-04\n",
            "Epoch 158/300\n",
            "60/60 [==============================] - 0s 5ms/step - loss: 5.3167e-04\n",
            "Epoch 159/300\n",
            "60/60 [==============================] - 0s 5ms/step - loss: 5.2903e-04\n",
            "Epoch 160/300\n",
            "60/60 [==============================] - 0s 5ms/step - loss: 5.1655e-04\n",
            "Epoch 161/300\n",
            "60/60 [==============================] - 0s 5ms/step - loss: 5.0958e-04\n",
            "Epoch 162/300\n",
            "60/60 [==============================] - 0s 5ms/step - loss: 5.5358e-04\n",
            "Epoch 163/300\n",
            "60/60 [==============================] - 0s 5ms/step - loss: 5.4856e-04\n",
            "Epoch 164/300\n",
            "60/60 [==============================] - 0s 5ms/step - loss: 4.7565e-04\n",
            "Epoch 165/300\n",
            "60/60 [==============================] - 0s 5ms/step - loss: 5.1269e-04\n",
            "Epoch 166/300\n",
            "60/60 [==============================] - 0s 5ms/step - loss: 4.9119e-04\n",
            "Epoch 167/300\n",
            "60/60 [==============================] - 0s 5ms/step - loss: 5.2933e-04\n",
            "Epoch 168/300\n",
            "60/60 [==============================] - 0s 5ms/step - loss: 4.5535e-04\n",
            "Epoch 169/300\n",
            "60/60 [==============================] - 0s 5ms/step - loss: 5.3733e-04\n",
            "Epoch 170/300\n",
            "60/60 [==============================] - 0s 5ms/step - loss: 5.1347e-04\n",
            "Epoch 171/300\n",
            "60/60 [==============================] - 0s 5ms/step - loss: 4.7659e-04\n",
            "Epoch 172/300\n",
            "60/60 [==============================] - 0s 5ms/step - loss: 4.9900e-04\n",
            "Epoch 173/300\n",
            "60/60 [==============================] - 0s 5ms/step - loss: 4.8442e-04\n",
            "Epoch 173: early stopping\n",
            "Summary of present Model's architecture:\n",
            "Model: \"sequential_4\"\n",
            "_________________________________________________________________\n",
            " Layer (type)                Output Shape              Param #   \n",
            "=================================================================\n",
            " lstm1 (LSTM)                (None, 120)               58560     \n",
            "                                                                 \n",
            " dropout_5 (Dropout)         (None, 120)               0         \n",
            "                                                                 \n",
            " output (Dense)              (None, 1)                 121       \n",
            "                                                                 \n",
            "=================================================================\n",
            "Total params: 58,681\n",
            "Trainable params: 58,681\n",
            "Non-trainable params: 0\n",
            "_________________________________________________________________\n",
            "None\n"
          ]
        },
        {
          "output_type": "display_data",
          "data": {
            "text/plain": [
              "<Figure size 432x288 with 1 Axes>"
            ],
            "image/png": "[encoded data removed]"
          },
          "metadata": {
            "needs_background": "light"
          }
        },
        {
          "output_type": "display_data",
          "data": {
            "text/plain": [
              "<Figure size 720x432 with 1 Axes>"
            ],
            "image/png": "[encoded data removed]"
          },
          "metadata": {
            "needs_background": "light"
          }
        },
        {
          "output_type": "stream",
          "name": "stdout",
          "text": [
            "R^2 score is: 0.9592548568994179\n"
          ]
        },
        {
          "output_type": "execute_result",
          "data": {
            "text/plain": [
              "0.9592548568994179"
            ]
          },
          "metadata": {},
          "execution_count": 64
        }
      ]
    },
    {
      "cell_type": "markdown",
      "source": [
        "We can see similar performance to the previous iteration, with lower R^2 value compared to the initial attempt at units=60, and similar delay in prediction."
      ],
      "metadata": {
        "id": "H6UpkDAMVyrv"
      }
    },
    {
      "cell_type": "markdown",
      "source": [
        "## 4.4: Creating a Deeper Model\n",
        "\n",
        "60 units worked well for us initially. Let's try a deeper model, as in the example. I don't want to go three layers deep, only two, as the example model looked worse off than our current predictions -- I think the additional layers will add more delay and smooth predictions further."
      ],
      "metadata": {
        "id": "WuaFSbflV9-5"
      }
    },
    {
      "cell_type": "code",
      "source": [
        "# Create our Fourth model, with double the units (120), in two layers\n",
        "\n",
        "model4 = Sequential()\n",
        "\n",
        "# Add first LSTM layer\n",
        "model4.add(LSTM(units=60, return_sequences=True, input_shape = (x_train.shape[1], 1), name='lstm1') )\n",
        "model4.add(Dropout(0.2))\n",
        "\n",
        "# Add a second LSTM layer\n",
        "model4.add(LSTM(units=60, input_shape = (x_train.shape[1], 1), name='lstm2') )\n",
        "model4.add(Dropout(0.2))\n",
        "\n",
        "# Add output Dense layer\n",
        "model4.add(Dense(units=1, name='output'))"
      ],
      "metadata": {
        "id": "BDy7wdKKVEbo"
      },
      "execution_count": 82,
      "outputs": []
    },
    {
      "cell_type": "code",
      "source": [
        "model_and_plot(model4, x_train, y_train, x_test, y_test)"
      ],
      "metadata": {
        "colab": {
          "base_uri": "https://localhost:8080/",
          "height": 1000
        },
        "id": "V6JTkesqWx7m",
        "outputId": "570667f2-f334-4316-aaa7-d41a4e7b329b"
      },
      "execution_count": 84,
      "outputs": [
        {
          "output_type": "stream",
          "name": "stdout",
          "text": [
            "Epoch 1/300\n",
            "60/60 [==============================] - 3s 9ms/step - loss: 7.3542e-04\n",
            "Epoch 2/300\n",
            "60/60 [==============================] - 0s 8ms/step - loss: 8.0699e-04\n",
            "Epoch 3/300\n",
            "60/60 [==============================] - 0s 8ms/step - loss: 7.2013e-04\n",
            "Epoch 4/300\n",
            "60/60 [==============================] - 0s 8ms/step - loss: 7.4079e-04\n",
            "Epoch 5/300\n",
            "60/60 [==============================] - 0s 8ms/step - loss: 7.4383e-04\n",
            "Epoch 6/300\n",
            "60/60 [==============================] - 0s 8ms/step - loss: 7.3693e-04\n",
            "Epoch 7/300\n",
            "60/60 [==============================] - 0s 8ms/step - loss: 8.3237e-04\n",
            "Epoch 8/300\n",
            "60/60 [==============================] - 0s 8ms/step - loss: 7.7261e-04\n",
            "Epoch 9/300\n",
            "60/60 [==============================] - 0s 8ms/step - loss: 7.2348e-04\n",
            "Epoch 10/300\n",
            "60/60 [==============================] - 0s 8ms/step - loss: 7.7845e-04\n",
            "Epoch 11/300\n",
            "60/60 [==============================] - 0s 8ms/step - loss: 8.1286e-04\n",
            "Epoch 12/300\n",
            "60/60 [==============================] - 0s 8ms/step - loss: 7.9158e-04\n",
            "Epoch 13/300\n",
            "60/60 [==============================] - 0s 8ms/step - loss: 7.6027e-04\n",
            "Epoch 14/300\n",
            "60/60 [==============================] - 0s 8ms/step - loss: 7.7541e-04\n",
            "Epoch 15/300\n",
            "60/60 [==============================] - 1s 8ms/step - loss: 7.5981e-04\n",
            "Epoch 16/300\n",
            "60/60 [==============================] - 0s 8ms/step - loss: 9.0180e-04\n",
            "Epoch 17/300\n",
            "60/60 [==============================] - 1s 8ms/step - loss: 7.0727e-04\n",
            "Epoch 18/300\n",
            "60/60 [==============================] - 0s 8ms/step - loss: 7.8119e-04\n",
            "Epoch 19/300\n",
            "60/60 [==============================] - 0s 8ms/step - loss: 6.7232e-04\n",
            "Epoch 20/300\n",
            "60/60 [==============================] - 0s 8ms/step - loss: 6.4426e-04\n",
            "Epoch 21/300\n",
            "60/60 [==============================] - 0s 8ms/step - loss: 7.7451e-04\n",
            "Epoch 22/300\n",
            "60/60 [==============================] - 0s 8ms/step - loss: 7.2014e-04\n",
            "Epoch 23/300\n",
            "60/60 [==============================] - 0s 8ms/step - loss: 6.8588e-04\n",
            "Epoch 24/300\n",
            "60/60 [==============================] - 0s 8ms/step - loss: 8.0755e-04\n",
            "Epoch 25/300\n",
            "60/60 [==============================] - 0s 8ms/step - loss: 7.2455e-04\n",
            "Epoch 26/300\n",
            "60/60 [==============================] - 0s 8ms/step - loss: 7.2660e-04\n",
            "Epoch 27/300\n",
            "60/60 [==============================] - 0s 8ms/step - loss: 6.9352e-04\n",
            "Epoch 28/300\n",
            "60/60 [==============================] - 0s 8ms/step - loss: 7.4024e-04\n",
            "Epoch 29/300\n",
            "60/60 [==============================] - 0s 8ms/step - loss: 7.9141e-04\n",
            "Epoch 30/300\n",
            "60/60 [==============================] - 0s 8ms/step - loss: 6.4771e-04\n",
            "Epoch 31/300\n",
            "60/60 [==============================] - 0s 8ms/step - loss: 7.4928e-04\n",
            "Epoch 32/300\n",
            "60/60 [==============================] - 0s 8ms/step - loss: 7.9543e-04\n",
            "Epoch 33/300\n",
            "60/60 [==============================] - 0s 8ms/step - loss: 7.1825e-04\n",
            "Epoch 34/300\n",
            "60/60 [==============================] - 0s 8ms/step - loss: 7.2958e-04\n",
            "Epoch 35/300\n",
            "60/60 [==============================] - 0s 8ms/step - loss: 7.2459e-04\n",
            "Epoch 36/300\n",
            "60/60 [==============================] - 0s 8ms/step - loss: 7.9236e-04\n",
            "Epoch 37/300\n",
            "60/60 [==============================] - 0s 8ms/step - loss: 7.1960e-04\n",
            "Epoch 38/300\n",
            "60/60 [==============================] - 0s 8ms/step - loss: 7.3406e-04\n",
            "Epoch 39/300\n",
            "60/60 [==============================] - 0s 8ms/step - loss: 7.3989e-04\n",
            "Epoch 40/300\n",
            "60/60 [==============================] - 0s 8ms/step - loss: 6.9613e-04\n",
            "Epoch 40: early stopping\n",
            "Summary of present Model's architecture:\n",
            "Model: \"sequential_6\"\n",
            "_________________________________________________________________\n",
            " Layer (type)                Output Shape              Param #   \n",
            "=================================================================\n",
            " lstm1 (LSTM)                (None, 60, 60)            14880     \n",
            "                                                                 \n",
            " dropout_8 (Dropout)         (None, 60, 60)            0         \n",
            "                                                                 \n",
            " lstm2 (LSTM)                (None, 60)                29040     \n",
            "                                                                 \n",
            " dropout_9 (Dropout)         (None, 60)                0         \n",
            "                                                                 \n",
            " output (Dense)              (None, 1)                 61        \n",
            "                                                                 \n",
            "=================================================================\n",
            "Total params: 43,981\n",
            "Trainable params: 43,981\n",
            "Non-trainable params: 0\n",
            "_________________________________________________________________\n",
            "None\n"
          ]
        },
        {
          "output_type": "display_data",
          "data": {
            "text/plain": [
              "<Figure size 432x288 with 1 Axes>"
            ],
            "image/png": "[encoded data removed]"
          },
          "metadata": {
            "needs_background": "light"
          }
        },
        {
          "output_type": "display_data",
          "data": {
            "text/plain": [
              "<Figure size 720x432 with 1 Axes>"
            ],
            "image/png": "[encoded data removed]"
          },
          "metadata": {
            "needs_background": "light"
          }
        },
        {
          "output_type": "stream",
          "name": "stdout",
          "text": [
            "R^2 score is: 0.9582494884609797\n"
          ]
        },
        {
          "output_type": "execute_result",
          "data": {
            "text/plain": [
              "0.9582494884609797"
            ]
          },
          "metadata": {},
          "execution_count": 84
        }
      ]
    },
    {
      "cell_type": "markdown",
      "source": [
        "This model is performing quite similarly to the previous ones -- the additional layer has not improved performance, with R^2 value of 0.958."
      ],
      "metadata": {
        "id": "AXstjUQNW3xY"
      }
    },
    {
      "cell_type": "markdown",
      "source": [
        "## 4.5: Conclusions\n",
        "\n",
        "We were fortunate to stumble upon a good model right off the bat. From reading some literature and guides, I suspected that 1 layer of LTSM depth should be sufficient, and was proven right. The initial model with 60 units gave us the best performance, with R^2 of 0.960. Other models (narrower, wider, and deeper) all had slightly lower R^2 -- though only very slightly. This indicates that 1 layer is a good compute compromise for this problem.\n",
        "\n",
        "Unfortunately, my Google Colab GPU access has run out, putting a premature end to the experimentation this week. Otherwise I would have liked to experiment with number of units around 60 (eg 40, 50, 70, 80); different batch sizes; and different data lengths around 60 days (40, 50, 70, 80 days)."
      ],
      "metadata": {
        "id": "BtDKwG35f_ep"
      }
    },
    {
      "cell_type": "code",
      "source": [
        ""
      ],
      "metadata": {
        "id": "-YbdgJ7GcJ4g"
      },
      "execution_count": null,
      "outputs": []
    }
  ]
}