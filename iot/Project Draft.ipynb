{
 "cells": [
  {
   "cell_type": "markdown",
   "metadata": {
    "collapsed": true,
    "pycharm": {
     "name": "#%% md\n"
    }
   },
   "source": [
    "Scratch Notes for AAI 530 Final Project\n",
    "by Bryan Carr\n",
    "27 Feb 2022"
   ]
  },
  {
   "cell_type": "code",
   "execution_count": 17,
   "outputs": [],
   "source": [
    "import pandas as pd, numpy as np\n",
    "import seaborn as sns\n",
    "import matplotlib.pyplot as plt"
   ],
   "metadata": {
    "collapsed": false,
    "pycharm": {
     "name": "#%%\n"
    }
   }
  },
  {
   "cell_type": "code",
   "execution_count": 18,
   "outputs": [
    {
     "name": "stderr",
     "output_type": "stream",
     "text": [
      "C:\\Users\\bcarr\\anaconda3\\lib\\site-packages\\IPython\\core\\interactiveshell.py:3146: DtypeWarning: Columns (19) have mixed types.Specify dtype option on import or set low_memory=False.\n",
      "  has_raised = await self.run_ast_nodes(code_ast.body, cell_name,\n"
     ]
    }
   ],
   "source": [
    "## Read in the Data\n",
    "spotify_df = pd.read_csv(\"genres_v2.csv\")"
   ],
   "metadata": {
    "collapsed": false,
    "pycharm": {
     "name": "#%%\n"
    }
   }
  },
  {
   "cell_type": "code",
   "execution_count": 19,
   "outputs": [
    {
     "data": {
      "text/plain": "       danceability  energy  key  loudness  mode  speechiness  acousticness  \\\n0             0.831   0.814    2    -7.364     1       0.4200      0.059800   \n1             0.719   0.493    8    -7.230     1       0.0794      0.401000   \n2             0.850   0.893    5    -4.783     1       0.0623      0.013800   \n3             0.476   0.781    0    -4.710     1       0.1030      0.023700   \n4             0.798   0.624    2    -7.668     1       0.2930      0.217000   \n...             ...     ...  ...       ...   ...          ...           ...   \n42300         0.528   0.693    4    -5.148     1       0.0304      0.031500   \n42301         0.517   0.768    0    -7.922     0       0.0479      0.022500   \n42302         0.361   0.821    8    -3.102     1       0.0505      0.026000   \n42303         0.477   0.921    6    -4.777     0       0.0392      0.000551   \n42304         0.529   0.945    9    -5.862     1       0.0615      0.001890   \n\n       instrumentalness  liveness  valence  ...                      id  \\\n0              0.013400    0.0556   0.3890  ...  2Vc6NJ9PW9gD9q343XFRKx   \n1              0.000000    0.1180   0.1240  ...  7pgJBLVz5VmnL7uGHmRj6p   \n2              0.000004    0.3720   0.0391  ...  0vSWgAlfpye0WCGeNmuNhy   \n3              0.000000    0.1140   0.1750  ...  0VSXnJqQkwuH2ei1nOQ1nu   \n4              0.000000    0.1660   0.5910  ...  4jCeguq9rMTlbMmPHuO7S3   \n...                 ...       ...      ...  ...                     ...   \n42300          0.000345    0.1210   0.3940  ...  46bXU7Sgj7104ZoXxzz9tM   \n42301          0.000018    0.2050   0.3830  ...  0he2ViGMUO3ajKTxLOfWVT   \n42302          0.000242    0.3850   0.1240  ...  72DAt9Lbpy9EUS29OzQLob   \n42303          0.029600    0.0575   0.4880  ...  6HXgExFVuE1c3cq9QjFCcU   \n42304          0.000055    0.4140   0.1340  ...  6MAAMZImxcvYhRnxDLTufD   \n\n                                        uri  \\\n0      spotify:track:2Vc6NJ9PW9gD9q343XFRKx   \n1      spotify:track:7pgJBLVz5VmnL7uGHmRj6p   \n2      spotify:track:0vSWgAlfpye0WCGeNmuNhy   \n3      spotify:track:0VSXnJqQkwuH2ei1nOQ1nu   \n4      spotify:track:4jCeguq9rMTlbMmPHuO7S3   \n...                                     ...   \n42300  spotify:track:46bXU7Sgj7104ZoXxzz9tM   \n42301  spotify:track:0he2ViGMUO3ajKTxLOfWVT   \n42302  spotify:track:72DAt9Lbpy9EUS29OzQLob   \n42303  spotify:track:6HXgExFVuE1c3cq9QjFCcU   \n42304  spotify:track:6MAAMZImxcvYhRnxDLTufD   \n\n                                              track_href  \\\n0      https://api.spotify.com/v1/tracks/2Vc6NJ9PW9gD...   \n1      https://api.spotify.com/v1/tracks/7pgJBLVz5Vmn...   \n2      https://api.spotify.com/v1/tracks/0vSWgAlfpye0...   \n3      https://api.spotify.com/v1/tracks/0VSXnJqQkwuH...   \n4      https://api.spotify.com/v1/tracks/4jCeguq9rMTl...   \n...                                                  ...   \n42300  https://api.spotify.com/v1/tracks/46bXU7Sgj710...   \n42301  https://api.spotify.com/v1/tracks/0he2ViGMUO3a...   \n42302  https://api.spotify.com/v1/tracks/72DAt9Lbpy9E...   \n42303  https://api.spotify.com/v1/tracks/6HXgExFVuE1c...   \n42304  https://api.spotify.com/v1/tracks/6MAAMZImxcvY...   \n\n                                            analysis_url duration_ms  \\\n0      https://api.spotify.com/v1/audio-analysis/2Vc6...      124539   \n1      https://api.spotify.com/v1/audio-analysis/7pgJ...      224427   \n2      https://api.spotify.com/v1/audio-analysis/0vSW...       98821   \n3      https://api.spotify.com/v1/audio-analysis/0VSX...      123661   \n4      https://api.spotify.com/v1/audio-analysis/4jCe...      123298   \n...                                                  ...         ...   \n42300  https://api.spotify.com/v1/audio-analysis/46bX...      269208   \n42301  https://api.spotify.com/v1/audio-analysis/0he2...      210112   \n42302  https://api.spotify.com/v1/audio-analysis/72DA...      234823   \n42303  https://api.spotify.com/v1/audio-analysis/6HXg...      323200   \n42304  https://api.spotify.com/v1/audio-analysis/6MAA...      162161   \n\n      time_signature      genre  \\\n0                  4  Dark Trap   \n1                  4  Dark Trap   \n2                  4  Dark Trap   \n3                  3  Dark Trap   \n4                  4  Dark Trap   \n...              ...        ...   \n42300              4  hardstyle   \n42301              4  hardstyle   \n42302              4  hardstyle   \n42303              4  hardstyle   \n42304              4  hardstyle   \n\n                                           song_name Unnamed: 0  \\\n0                                Mercury: Retrograde        NaN   \n1                                          Pathology        NaN   \n2                                           Symbiote        NaN   \n3      ProductOfDrugs (Prod. The Virus and Antidote)        NaN   \n4                                              Venom        NaN   \n...                                              ...        ...   \n42300                                            NaN    20995.0   \n42301                                            NaN    20996.0   \n42302                                            NaN    20997.0   \n42303                                            NaN    20998.0   \n42304                                            NaN    20999.0   \n\n                             title  \n0                              NaN  \n1                              NaN  \n2                              NaN  \n3                              NaN  \n4                              NaN  \n...                            ...  \n42300           Euphoric Hardstyle  \n42301  Greatest Hardstyle Playlist  \n42302       Best of Hardstyle 2020  \n42303           Euphoric Hardstyle  \n42304       Best of Hardstyle 2020  \n\n[42305 rows x 22 columns]",
      "text/html": "<div>\n<style scoped>\n    .dataframe tbody tr th:only-of-type {\n        vertical-align: middle;\n    }\n\n    .dataframe tbody tr th {\n        vertical-align: top;\n    }\n\n    .dataframe thead th {\n        text-align: right;\n    }\n</style>\n<table border=\"1\" class=\"dataframe\">\n  <thead>\n    <tr style=\"text-align: right;\">\n      <th></th>\n      <th>danceability</th>\n      <th>energy</th>\n      <th>key</th>\n      <th>loudness</th>\n      <th>mode</th>\n      <th>speechiness</th>\n      <th>acousticness</th>\n      <th>instrumentalness</th>\n      <th>liveness</th>\n      <th>valence</th>\n      <th>...</th>\n      <th>id</th>\n      <th>uri</th>\n      <th>track_href</th>\n      <th>analysis_url</th>\n      <th>duration_ms</th>\n      <th>time_signature</th>\n      <th>genre</th>\n      <th>song_name</th>\n      <th>Unnamed: 0</th>\n      <th>title</th>\n    </tr>\n  </thead>\n  <tbody>\n    <tr>\n      <th>0</th>\n      <td>0.831</td>\n      <td>0.814</td>\n      <td>2</td>\n      <td>-7.364</td>\n      <td>1</td>\n      <td>0.4200</td>\n      <td>0.059800</td>\n      <td>0.013400</td>\n      <td>0.0556</td>\n      <td>0.3890</td>\n      <td>...</td>\n      <td>2Vc6NJ9PW9gD9q343XFRKx</td>\n      <td>spotify:track:2Vc6NJ9PW9gD9q343XFRKx</td>\n      <td>https://api.spotify.com/v1/tracks/2Vc6NJ9PW9gD...</td>\n      <td>https://api.spotify.com/v1/audio-analysis/2Vc6...</td>\n      <td>124539</td>\n      <td>4</td>\n      <td>Dark Trap</td>\n      <td>Mercury: Retrograde</td>\n      <td>NaN</td>\n      <td>NaN</td>\n    </tr>\n    <tr>\n      <th>1</th>\n      <td>0.719</td>\n      <td>0.493</td>\n      <td>8</td>\n      <td>-7.230</td>\n      <td>1</td>\n      <td>0.0794</td>\n      <td>0.401000</td>\n      <td>0.000000</td>\n      <td>0.1180</td>\n      <td>0.1240</td>\n      <td>...</td>\n      <td>7pgJBLVz5VmnL7uGHmRj6p</td>\n      <td>spotify:track:7pgJBLVz5VmnL7uGHmRj6p</td>\n      <td>https://api.spotify.com/v1/tracks/7pgJBLVz5Vmn...</td>\n      <td>https://api.spotify.com/v1/audio-analysis/7pgJ...</td>\n      <td>224427</td>\n      <td>4</td>\n      <td>Dark Trap</td>\n      <td>Pathology</td>\n      <td>NaN</td>\n      <td>NaN</td>\n    </tr>\n    <tr>\n      <th>2</th>\n      <td>0.850</td>\n      <td>0.893</td>\n      <td>5</td>\n      <td>-4.783</td>\n      <td>1</td>\n      <td>0.0623</td>\n      <td>0.013800</td>\n      <td>0.000004</td>\n      <td>0.3720</td>\n      <td>0.0391</td>\n      <td>...</td>\n      <td>0vSWgAlfpye0WCGeNmuNhy</td>\n      <td>spotify:track:0vSWgAlfpye0WCGeNmuNhy</td>\n      <td>https://api.spotify.com/v1/tracks/0vSWgAlfpye0...</td>\n      <td>https://api.spotify.com/v1/audio-analysis/0vSW...</td>\n      <td>98821</td>\n      <td>4</td>\n      <td>Dark Trap</td>\n      <td>Symbiote</td>\n      <td>NaN</td>\n      <td>NaN</td>\n    </tr>\n    <tr>\n      <th>3</th>\n      <td>0.476</td>\n      <td>0.781</td>\n      <td>0</td>\n      <td>-4.710</td>\n      <td>1</td>\n      <td>0.1030</td>\n      <td>0.023700</td>\n      <td>0.000000</td>\n      <td>0.1140</td>\n      <td>0.1750</td>\n      <td>...</td>\n      <td>0VSXnJqQkwuH2ei1nOQ1nu</td>\n      <td>spotify:track:0VSXnJqQkwuH2ei1nOQ1nu</td>\n      <td>https://api.spotify.com/v1/tracks/0VSXnJqQkwuH...</td>\n      <td>https://api.spotify.com/v1/audio-analysis/0VSX...</td>\n      <td>123661</td>\n      <td>3</td>\n      <td>Dark Trap</td>\n      <td>ProductOfDrugs (Prod. The Virus and Antidote)</td>\n      <td>NaN</td>\n      <td>NaN</td>\n    </tr>\n    <tr>\n      <th>4</th>\n      <td>0.798</td>\n      <td>0.624</td>\n      <td>2</td>\n      <td>-7.668</td>\n      <td>1</td>\n      <td>0.2930</td>\n      <td>0.217000</td>\n      <td>0.000000</td>\n      <td>0.1660</td>\n      <td>0.5910</td>\n      <td>...</td>\n      <td>4jCeguq9rMTlbMmPHuO7S3</td>\n      <td>spotify:track:4jCeguq9rMTlbMmPHuO7S3</td>\n      <td>https://api.spotify.com/v1/tracks/4jCeguq9rMTl...</td>\n      <td>https://api.spotify.com/v1/audio-analysis/4jCe...</td>\n      <td>123298</td>\n      <td>4</td>\n      <td>Dark Trap</td>\n      <td>Venom</td>\n      <td>NaN</td>\n      <td>NaN</td>\n    </tr>\n    <tr>\n      <th>...</th>\n      <td>...</td>\n      <td>...</td>\n      <td>...</td>\n      <td>...</td>\n      <td>...</td>\n      <td>...</td>\n      <td>...</td>\n      <td>...</td>\n      <td>...</td>\n      <td>...</td>\n      <td>...</td>\n      <td>...</td>\n      <td>...</td>\n      <td>...</td>\n      <td>...</td>\n      <td>...</td>\n      <td>...</td>\n      <td>...</td>\n      <td>...</td>\n      <td>...</td>\n      <td>...</td>\n    </tr>\n    <tr>\n      <th>42300</th>\n      <td>0.528</td>\n      <td>0.693</td>\n      <td>4</td>\n      <td>-5.148</td>\n      <td>1</td>\n      <td>0.0304</td>\n      <td>0.031500</td>\n      <td>0.000345</td>\n      <td>0.1210</td>\n      <td>0.3940</td>\n      <td>...</td>\n      <td>46bXU7Sgj7104ZoXxzz9tM</td>\n      <td>spotify:track:46bXU7Sgj7104ZoXxzz9tM</td>\n      <td>https://api.spotify.com/v1/tracks/46bXU7Sgj710...</td>\n      <td>https://api.spotify.com/v1/audio-analysis/46bX...</td>\n      <td>269208</td>\n      <td>4</td>\n      <td>hardstyle</td>\n      <td>NaN</td>\n      <td>20995.0</td>\n      <td>Euphoric Hardstyle</td>\n    </tr>\n    <tr>\n      <th>42301</th>\n      <td>0.517</td>\n      <td>0.768</td>\n      <td>0</td>\n      <td>-7.922</td>\n      <td>0</td>\n      <td>0.0479</td>\n      <td>0.022500</td>\n      <td>0.000018</td>\n      <td>0.2050</td>\n      <td>0.3830</td>\n      <td>...</td>\n      <td>0he2ViGMUO3ajKTxLOfWVT</td>\n      <td>spotify:track:0he2ViGMUO3ajKTxLOfWVT</td>\n      <td>https://api.spotify.com/v1/tracks/0he2ViGMUO3a...</td>\n      <td>https://api.spotify.com/v1/audio-analysis/0he2...</td>\n      <td>210112</td>\n      <td>4</td>\n      <td>hardstyle</td>\n      <td>NaN</td>\n      <td>20996.0</td>\n      <td>Greatest Hardstyle Playlist</td>\n    </tr>\n    <tr>\n      <th>42302</th>\n      <td>0.361</td>\n      <td>0.821</td>\n      <td>8</td>\n      <td>-3.102</td>\n      <td>1</td>\n      <td>0.0505</td>\n      <td>0.026000</td>\n      <td>0.000242</td>\n      <td>0.3850</td>\n      <td>0.1240</td>\n      <td>...</td>\n      <td>72DAt9Lbpy9EUS29OzQLob</td>\n      <td>spotify:track:72DAt9Lbpy9EUS29OzQLob</td>\n      <td>https://api.spotify.com/v1/tracks/72DAt9Lbpy9E...</td>\n      <td>https://api.spotify.com/v1/audio-analysis/72DA...</td>\n      <td>234823</td>\n      <td>4</td>\n      <td>hardstyle</td>\n      <td>NaN</td>\n      <td>20997.0</td>\n      <td>Best of Hardstyle 2020</td>\n    </tr>\n    <tr>\n      <th>42303</th>\n      <td>0.477</td>\n      <td>0.921</td>\n      <td>6</td>\n      <td>-4.777</td>\n      <td>0</td>\n      <td>0.0392</td>\n      <td>0.000551</td>\n      <td>0.029600</td>\n      <td>0.0575</td>\n      <td>0.4880</td>\n      <td>...</td>\n      <td>6HXgExFVuE1c3cq9QjFCcU</td>\n      <td>spotify:track:6HXgExFVuE1c3cq9QjFCcU</td>\n      <td>https://api.spotify.com/v1/tracks/6HXgExFVuE1c...</td>\n      <td>https://api.spotify.com/v1/audio-analysis/6HXg...</td>\n      <td>323200</td>\n      <td>4</td>\n      <td>hardstyle</td>\n      <td>NaN</td>\n      <td>20998.0</td>\n      <td>Euphoric Hardstyle</td>\n    </tr>\n    <tr>\n      <th>42304</th>\n      <td>0.529</td>\n      <td>0.945</td>\n      <td>9</td>\n      <td>-5.862</td>\n      <td>1</td>\n      <td>0.0615</td>\n      <td>0.001890</td>\n      <td>0.000055</td>\n      <td>0.4140</td>\n      <td>0.1340</td>\n      <td>...</td>\n      <td>6MAAMZImxcvYhRnxDLTufD</td>\n      <td>spotify:track:6MAAMZImxcvYhRnxDLTufD</td>\n      <td>https://api.spotify.com/v1/tracks/6MAAMZImxcvY...</td>\n      <td>https://api.spotify.com/v1/audio-analysis/6MAA...</td>\n      <td>162161</td>\n      <td>4</td>\n      <td>hardstyle</td>\n      <td>NaN</td>\n      <td>20999.0</td>\n      <td>Best of Hardstyle 2020</td>\n    </tr>\n  </tbody>\n</table>\n<p>42305 rows × 22 columns</p>\n</div>"
     },
     "execution_count": 19,
     "metadata": {},
     "output_type": "execute_result"
    }
   ],
   "source": [
    "spotify_df"
   ],
   "metadata": {
    "collapsed": false,
    "pycharm": {
     "name": "#%%\n"
    }
   }
  },
  {
   "cell_type": "code",
   "execution_count": 20,
   "outputs": [
    {
     "name": "stdout",
     "output_type": "stream",
     "text": [
      "<class 'pandas.core.frame.DataFrame'>\n",
      "RangeIndex: 42305 entries, 0 to 42304\n",
      "Data columns (total 22 columns):\n",
      " #   Column            Non-Null Count  Dtype  \n",
      "---  ------            --------------  -----  \n",
      " 0   danceability      42305 non-null  float64\n",
      " 1   energy            42305 non-null  float64\n",
      " 2   key               42305 non-null  int64  \n",
      " 3   loudness          42305 non-null  float64\n",
      " 4   mode              42305 non-null  int64  \n",
      " 5   speechiness       42305 non-null  float64\n",
      " 6   acousticness      42305 non-null  float64\n",
      " 7   instrumentalness  42305 non-null  float64\n",
      " 8   liveness          42305 non-null  float64\n",
      " 9   valence           42305 non-null  float64\n",
      " 10  tempo             42305 non-null  float64\n",
      " 11  type              42305 non-null  object \n",
      " 12  id                42305 non-null  object \n",
      " 13  uri               42305 non-null  object \n",
      " 14  track_href        42305 non-null  object \n",
      " 15  analysis_url      42305 non-null  object \n",
      " 16  duration_ms       42305 non-null  int64  \n",
      " 17  time_signature    42305 non-null  int64  \n",
      " 18  genre             42305 non-null  object \n",
      " 19  song_name         21519 non-null  object \n",
      " 20  Unnamed: 0        20780 non-null  float64\n",
      " 21  title             20780 non-null  object \n",
      "dtypes: float64(10), int64(4), object(8)\n",
      "memory usage: 7.1+ MB\n"
     ]
    }
   ],
   "source": [
    "spotify_df.info()"
   ],
   "metadata": {
    "collapsed": false,
    "pycharm": {
     "name": "#%%\n"
    }
   }
  },
  {
   "cell_type": "code",
   "execution_count": 21,
   "outputs": [
    {
     "data": {
      "text/plain": "audio_features    42305\nName: type, dtype: int64"
     },
     "execution_count": 21,
     "metadata": {},
     "output_type": "execute_result"
    }
   ],
   "source": [
    "spotify_df['type'].value_counts()"
   ],
   "metadata": {
    "collapsed": false,
    "pycharm": {
     "name": "#%%\n"
    }
   }
  },
  {
   "cell_type": "code",
   "execution_count": 22,
   "outputs": [],
   "source": [
    "spotify_df = spotify_df.drop(columns=['type', 'id', 'uri', 'track_href', 'analysis_url', 'song_name', 'Unnamed: 0', 'title'])"
   ],
   "metadata": {
    "collapsed": false,
    "pycharm": {
     "name": "#%%\n"
    }
   }
  },
  {
   "cell_type": "code",
   "execution_count": 23,
   "outputs": [
    {
     "name": "stdout",
     "output_type": "stream",
     "text": [
      "<class 'pandas.core.frame.DataFrame'>\n",
      "RangeIndex: 42305 entries, 0 to 42304\n",
      "Data columns (total 14 columns):\n",
      " #   Column            Non-Null Count  Dtype  \n",
      "---  ------            --------------  -----  \n",
      " 0   danceability      42305 non-null  float64\n",
      " 1   energy            42305 non-null  float64\n",
      " 2   key               42305 non-null  int64  \n",
      " 3   loudness          42305 non-null  float64\n",
      " 4   mode              42305 non-null  int64  \n",
      " 5   speechiness       42305 non-null  float64\n",
      " 6   acousticness      42305 non-null  float64\n",
      " 7   instrumentalness  42305 non-null  float64\n",
      " 8   liveness          42305 non-null  float64\n",
      " 9   valence           42305 non-null  float64\n",
      " 10  tempo             42305 non-null  float64\n",
      " 11  duration_ms       42305 non-null  int64  \n",
      " 12  time_signature    42305 non-null  int64  \n",
      " 13  genre             42305 non-null  object \n",
      "dtypes: float64(9), int64(4), object(1)\n",
      "memory usage: 4.5+ MB\n"
     ]
    }
   ],
   "source": [
    "spotify_df.info()"
   ],
   "metadata": {
    "collapsed": false,
    "pycharm": {
     "name": "#%%\n"
    }
   }
  },
  {
   "cell_type": "code",
   "execution_count": 24,
   "outputs": [
    {
     "data": {
      "text/plain": "       danceability        energy           key      loudness          mode  \\\ncount  42305.000000  42305.000000  42305.000000  42305.000000  42305.000000   \nmean       0.639364      0.762516      5.370240     -6.465442      0.549462   \nstd        0.156617      0.183823      3.666145      2.941165      0.497553   \nmin        0.065100      0.000243      0.000000    -33.357000      0.000000   \n25%        0.524000      0.632000      1.000000     -8.161000      0.000000   \n50%        0.646000      0.803000      6.000000     -6.234000      1.000000   \n75%        0.766000      0.923000      9.000000     -4.513000      1.000000   \nmax        0.988000      1.000000     11.000000      3.148000      1.000000   \n\n        speechiness  acousticness  instrumentalness      liveness  \\\ncount  42305.000000  42305.000000      42305.000000  42305.000000   \nmean       0.136561      0.096160          0.283048      0.214079   \nstd        0.126168      0.170827          0.370791      0.175576   \nmin        0.022700      0.000001          0.000000      0.010700   \n25%        0.049100      0.001730          0.000000      0.099600   \n50%        0.075500      0.016400          0.005940      0.135000   \n75%        0.193000      0.107000          0.722000      0.294000   \nmax        0.946000      0.988000          0.989000      0.988000   \n\n            valence         tempo    duration_ms  time_signature  \ncount  42305.000000  42305.000000   42305.000000    42305.000000  \nmean       0.357101    147.474056  250865.846685        3.972580  \nstd        0.233200     23.844623  102957.713571        0.268342  \nmin        0.018700     57.967000   25600.000000        1.000000  \n25%        0.161000    129.931000  179840.000000        4.000000  \n50%        0.322000    144.973000  224760.000000        4.000000  \n75%        0.522000    161.464000  301133.000000        4.000000  \nmax        0.988000    220.290000  913052.000000        5.000000  ",
      "text/html": "<div>\n<style scoped>\n    .dataframe tbody tr th:only-of-type {\n        vertical-align: middle;\n    }\n\n    .dataframe tbody tr th {\n        vertical-align: top;\n    }\n\n    .dataframe thead th {\n        text-align: right;\n    }\n</style>\n<table border=\"1\" class=\"dataframe\">\n  <thead>\n    <tr style=\"text-align: right;\">\n      <th></th>\n      <th>danceability</th>\n      <th>energy</th>\n      <th>key</th>\n      <th>loudness</th>\n      <th>mode</th>\n      <th>speechiness</th>\n      <th>acousticness</th>\n      <th>instrumentalness</th>\n      <th>liveness</th>\n      <th>valence</th>\n      <th>tempo</th>\n      <th>duration_ms</th>\n      <th>time_signature</th>\n    </tr>\n  </thead>\n  <tbody>\n    <tr>\n      <th>count</th>\n      <td>42305.000000</td>\n      <td>42305.000000</td>\n      <td>42305.000000</td>\n      <td>42305.000000</td>\n      <td>42305.000000</td>\n      <td>42305.000000</td>\n      <td>42305.000000</td>\n      <td>42305.000000</td>\n      <td>42305.000000</td>\n      <td>42305.000000</td>\n      <td>42305.000000</td>\n      <td>42305.000000</td>\n      <td>42305.000000</td>\n    </tr>\n    <tr>\n      <th>mean</th>\n      <td>0.639364</td>\n      <td>0.762516</td>\n      <td>5.370240</td>\n      <td>-6.465442</td>\n      <td>0.549462</td>\n      <td>0.136561</td>\n      <td>0.096160</td>\n      <td>0.283048</td>\n      <td>0.214079</td>\n      <td>0.357101</td>\n      <td>147.474056</td>\n      <td>250865.846685</td>\n      <td>3.972580</td>\n    </tr>\n    <tr>\n      <th>std</th>\n      <td>0.156617</td>\n      <td>0.183823</td>\n      <td>3.666145</td>\n      <td>2.941165</td>\n      <td>0.497553</td>\n      <td>0.126168</td>\n      <td>0.170827</td>\n      <td>0.370791</td>\n      <td>0.175576</td>\n      <td>0.233200</td>\n      <td>23.844623</td>\n      <td>102957.713571</td>\n      <td>0.268342</td>\n    </tr>\n    <tr>\n      <th>min</th>\n      <td>0.065100</td>\n      <td>0.000243</td>\n      <td>0.000000</td>\n      <td>-33.357000</td>\n      <td>0.000000</td>\n      <td>0.022700</td>\n      <td>0.000001</td>\n      <td>0.000000</td>\n      <td>0.010700</td>\n      <td>0.018700</td>\n      <td>57.967000</td>\n      <td>25600.000000</td>\n      <td>1.000000</td>\n    </tr>\n    <tr>\n      <th>25%</th>\n      <td>0.524000</td>\n      <td>0.632000</td>\n      <td>1.000000</td>\n      <td>-8.161000</td>\n      <td>0.000000</td>\n      <td>0.049100</td>\n      <td>0.001730</td>\n      <td>0.000000</td>\n      <td>0.099600</td>\n      <td>0.161000</td>\n      <td>129.931000</td>\n      <td>179840.000000</td>\n      <td>4.000000</td>\n    </tr>\n    <tr>\n      <th>50%</th>\n      <td>0.646000</td>\n      <td>0.803000</td>\n      <td>6.000000</td>\n      <td>-6.234000</td>\n      <td>1.000000</td>\n      <td>0.075500</td>\n      <td>0.016400</td>\n      <td>0.005940</td>\n      <td>0.135000</td>\n      <td>0.322000</td>\n      <td>144.973000</td>\n      <td>224760.000000</td>\n      <td>4.000000</td>\n    </tr>\n    <tr>\n      <th>75%</th>\n      <td>0.766000</td>\n      <td>0.923000</td>\n      <td>9.000000</td>\n      <td>-4.513000</td>\n      <td>1.000000</td>\n      <td>0.193000</td>\n      <td>0.107000</td>\n      <td>0.722000</td>\n      <td>0.294000</td>\n      <td>0.522000</td>\n      <td>161.464000</td>\n      <td>301133.000000</td>\n      <td>4.000000</td>\n    </tr>\n    <tr>\n      <th>max</th>\n      <td>0.988000</td>\n      <td>1.000000</td>\n      <td>11.000000</td>\n      <td>3.148000</td>\n      <td>1.000000</td>\n      <td>0.946000</td>\n      <td>0.988000</td>\n      <td>0.989000</td>\n      <td>0.988000</td>\n      <td>0.988000</td>\n      <td>220.290000</td>\n      <td>913052.000000</td>\n      <td>5.000000</td>\n    </tr>\n  </tbody>\n</table>\n</div>"
     },
     "execution_count": 24,
     "metadata": {},
     "output_type": "execute_result"
    }
   ],
   "source": [
    "spotify_df.describe()"
   ],
   "metadata": {
    "collapsed": false,
    "pycharm": {
     "name": "#%%\n"
    }
   }
  },
  {
   "cell_type": "code",
   "execution_count": 25,
   "outputs": [
    {
     "data": {
      "text/plain": "<AxesSubplot:>"
     },
     "execution_count": 25,
     "metadata": {},
     "output_type": "execute_result"
    },
    {
     "data": {
      "text/plain": "<Figure size 432x288 with 1 Axes>",
      "image/png": "[encoded data removed]"
     },
     "metadata": {
      "needs_background": "light"
     },
     "output_type": "display_data"
    }
   ],
   "source": [
    "# EDA: Tick Plots\n",
    "\n",
    "sns.boxplot(data=spotify_df.drop(['duration_ms', 'loudness', 'tempo', 'key', 'time_signature'], axis=1), orient='h')\n",
    "#plt.xticks(rotation=90)"
   ],
   "metadata": {
    "collapsed": false,
    "pycharm": {
     "name": "#%%\n"
    }
   }
  },
  {
   "cell_type": "code",
   "execution_count": 26,
   "outputs": [
    {
     "data": {
      "text/plain": "Underground Rap    5875\nDark Trap          4578\nHiphop             3028\ntrance             2999\ntrap               2987\ntechhouse          2975\ndnb                2966\npsytrance          2961\ntechno             2956\nhardstyle          2936\nRnB                2099\nTrap Metal         1956\nRap                1848\nEmo                1680\nPop                 461\nName: genre, dtype: int64"
     },
     "execution_count": 26,
     "metadata": {},
     "output_type": "execute_result"
    }
   ],
   "source": [
    "spotify_df['genre'].value_counts()"
   ],
   "metadata": {
    "collapsed": false,
    "pycharm": {
     "name": "#%%\n"
    }
   }
  },
  {
   "cell_type": "code",
   "execution_count": 27,
   "outputs": [
    {
     "data": {
      "text/plain": "['Dark Trap',\n 'Underground Rap',\n 'Trap Metal',\n 'Emo',\n 'Rap',\n 'RnB',\n 'Pop',\n 'Hiphop',\n 'techhouse',\n 'techno',\n 'trance',\n 'psytrance',\n 'trap',\n 'dnb',\n 'hardstyle']"
     },
     "execution_count": 27,
     "metadata": {},
     "output_type": "execute_result"
    }
   ],
   "source": [
    "spotify_df['genre'].unique().tolist()"
   ],
   "metadata": {
    "collapsed": false,
    "pycharm": {
     "name": "#%%\n"
    }
   }
  },
  {
   "cell_type": "code",
   "execution_count": 28,
   "outputs": [],
   "source": [
    "    for i in spotify_df['genre']:\n",
    "        if i == 'Dark Trap':\n",
    "            i == 'trap'\n",
    "        elif i == 'Underground Rap':\n",
    "            i == 'Rap'\n",
    "        elif i == 'Trap Metal':\n",
    "            i == 'trap'\n",
    "        elif i == 'techhouse':\n",
    "            i == 'techno'\n",
    "        elif i == 'psytrance':\n",
    "            i == 'trance'"
   ],
   "metadata": {
    "collapsed": false,
    "pycharm": {
     "name": "#%%\n"
    }
   }
  },
  {
   "cell_type": "code",
   "execution_count": 29,
   "outputs": [],
   "source": [
    "spotify_df.replace('Dark Trap', 'trap', inplace=True)\n",
    "spotify_df.replace('Underground Rap', 'Rap', inplace=True)\n",
    "spotify_df.replace('Trap Metal', 'trap', inplace=True)\n",
    "spotify_df.replace('techhouse', 'techno', inplace=True)\n",
    "spotify_df.replace('psytrance', 'trance', inplace=True)\n"
   ],
   "metadata": {
    "collapsed": false,
    "pycharm": {
     "name": "#%%\n"
    }
   }
  },
  {
   "cell_type": "code",
   "execution_count": 30,
   "outputs": [
    {
     "data": {
      "text/plain": "trap         9521\nRap          7723\ntrance       5960\ntechno       5931\nHiphop       3028\ndnb          2966\nhardstyle    2936\nRnB          2099\nEmo          1680\nPop           461\nName: genre, dtype: int64"
     },
     "execution_count": 30,
     "metadata": {},
     "output_type": "execute_result"
    }
   ],
   "source": [
    "spotify_df['genre'].value_counts()"
   ],
   "metadata": {
    "collapsed": false,
    "pycharm": {
     "name": "#%%\n"
    }
   }
  },
  {
   "cell_type": "code",
   "execution_count": 31,
   "outputs": [
    {
     "data": {
      "text/plain": "<Figure size 1080x1800 with 15 Axes>",
      "image/png": "[encoded data removed]"
     },
     "metadata": {
      "needs_background": "light"
     },
     "output_type": "display_data"
    }
   ],
   "source": [
    "spotify_histograms = spotify_df.hist(layout=(5,3), figsize=(15,25))"
   ],
   "metadata": {
    "collapsed": false,
    "pycharm": {
     "name": "#%%\n"
    }
   }
  },
  {
   "cell_type": "code",
   "execution_count": 32,
   "outputs": [],
   "source": [
    "# spotify_df['in genre']"
   ],
   "metadata": {
    "collapsed": false,
    "pycharm": {
     "name": "#%%\n"
    }
   }
  },
  {
   "cell_type": "markdown",
   "source": [
    "If (df['genre'] == 'target')\n",
    "    Then df['In Target'] == True\n",
    "    Else df['In Target'] == False\n",
    "\n",
    "\n",
    "Try:\n",
    "df['In Target'] = ('True' if df.loc[\n",
    "\n",
    "\n",
    "for i in df['genre']:\n",
    "    if i == target,"
   ],
   "metadata": {
    "collapsed": false,
    "pycharm": {
     "name": "#%% md\n"
    }
   }
  },
  {
   "cell_type": "code",
   "execution_count": 33,
   "outputs": [],
   "source": [
    "# Loop to create a new list of True/False if the Song is in Rap genre\n",
    "target = 'Emo'\n",
    "in_target = []\n",
    "\n",
    "for i in spotify_df['genre']:\n",
    "    if i == target:\n",
    "        in_target.append(True)\n",
    "    else:\n",
    "        in_target.append(False)\n"
   ],
   "metadata": {
    "collapsed": false,
    "pycharm": {
     "name": "#%%\n"
    }
   }
  },
  {
   "cell_type": "code",
   "execution_count": 34,
   "outputs": [
    {
     "data": {
      "text/plain": "[False,\n False,\n False,\n False,\n False,\n False,\n False,\n False,\n False,\n False,\n False,\n False,\n False,\n False,\n False,\n False,\n False,\n False,\n False,\n False,\n False,\n False,\n False,\n False,\n False,\n False,\n False,\n False,\n False,\n False,\n False,\n False,\n False,\n False,\n False,\n False,\n False,\n False,\n False,\n False,\n False,\n False,\n False,\n False,\n False,\n False,\n False,\n False,\n False,\n False,\n False,\n False,\n False,\n False,\n False,\n False,\n False,\n False,\n False,\n False,\n False,\n False,\n False,\n False,\n False,\n False,\n False,\n False,\n False,\n False,\n False,\n False,\n False,\n False,\n False,\n False,\n False,\n False,\n False,\n False,\n False,\n False,\n False,\n False,\n False,\n False,\n False,\n False,\n False,\n False,\n False,\n False,\n False,\n False,\n False,\n False,\n False,\n False,\n False,\n False,\n False,\n False,\n False,\n False,\n False,\n False,\n False,\n False,\n False,\n False,\n False,\n False,\n False,\n False,\n False,\n False,\n False,\n False,\n False,\n False,\n False,\n False,\n False,\n False,\n False,\n False,\n False,\n False,\n False,\n False,\n False,\n False,\n False,\n False,\n False,\n False,\n False,\n False,\n False,\n False,\n False,\n False,\n False,\n False,\n False,\n False,\n False,\n False,\n False,\n False,\n False,\n False,\n False,\n False,\n False,\n False,\n False,\n False,\n False,\n False,\n False,\n False,\n False,\n False,\n False,\n False,\n False,\n False,\n False,\n False,\n False,\n False,\n False,\n False,\n False,\n False,\n False,\n False,\n False,\n False,\n False,\n False,\n False,\n False,\n False,\n False,\n False,\n False,\n False,\n False,\n False,\n False,\n False,\n False,\n False,\n False,\n False,\n False,\n False,\n False,\n False,\n False,\n False,\n False,\n False,\n False,\n False,\n False,\n False,\n False,\n False,\n False,\n False,\n False,\n False,\n False,\n False,\n False,\n False,\n False,\n False,\n False,\n False,\n False,\n False,\n False,\n False,\n False,\n False,\n False,\n False,\n False,\n False,\n False,\n False,\n False,\n False,\n False,\n False,\n False,\n False,\n False,\n False,\n False,\n False,\n False,\n False,\n False,\n False,\n False,\n False,\n False,\n False,\n False,\n False,\n False,\n False,\n False,\n False,\n False,\n False,\n False,\n False,\n False,\n False,\n False,\n False,\n False,\n False,\n False,\n False,\n False,\n False,\n False,\n False,\n False,\n False,\n False,\n False,\n False,\n False,\n False,\n False,\n False,\n False,\n False,\n False,\n False,\n False,\n False,\n False,\n False,\n False,\n False,\n False,\n False,\n False,\n False,\n False,\n False,\n False,\n False,\n False,\n False,\n False,\n False,\n False,\n False,\n False,\n False,\n False,\n False,\n False,\n False,\n False,\n False,\n False,\n False,\n False,\n False,\n False,\n False,\n False,\n False,\n False,\n False,\n False,\n False,\n False,\n False,\n False,\n False,\n False,\n False,\n False,\n False,\n False,\n False,\n False,\n False,\n False,\n False,\n False,\n False,\n False,\n False,\n False,\n False,\n False,\n False,\n False,\n False,\n False,\n False,\n False,\n False,\n False,\n False,\n False,\n False,\n False,\n False,\n False,\n False,\n False,\n False,\n False,\n False,\n False,\n False,\n False,\n False,\n False,\n False,\n False,\n False,\n False,\n False,\n False,\n False,\n False,\n False,\n False,\n False,\n False,\n False,\n False,\n False,\n False,\n False,\n False,\n False,\n False,\n False,\n False,\n False,\n False,\n False,\n False,\n False,\n False,\n False,\n False,\n False,\n False,\n False,\n False,\n False,\n False,\n False,\n False,\n False,\n False,\n False,\n False,\n False,\n False,\n False,\n False,\n False,\n False,\n False,\n False,\n False,\n False,\n False,\n False,\n False,\n False,\n False,\n False,\n False,\n False,\n False,\n False,\n False,\n False,\n False,\n False,\n False,\n False,\n False,\n False,\n False,\n False,\n False,\n False,\n False,\n False,\n False,\n False,\n False,\n False,\n False,\n False,\n False,\n False,\n False,\n False,\n False,\n False,\n False,\n False,\n False,\n False,\n False,\n False,\n False,\n False,\n False,\n False,\n False,\n False,\n False,\n False,\n False,\n False,\n False,\n False,\n False,\n False,\n False,\n False,\n False,\n False,\n False,\n False,\n False,\n False,\n False,\n False,\n False,\n False,\n False,\n False,\n False,\n False,\n False,\n False,\n False,\n False,\n False,\n False,\n False,\n False,\n False,\n False,\n False,\n False,\n False,\n False,\n False,\n False,\n False,\n False,\n False,\n False,\n False,\n False,\n False,\n False,\n False,\n False,\n False,\n False,\n False,\n False,\n False,\n False,\n False,\n False,\n False,\n False,\n False,\n False,\n False,\n False,\n False,\n False,\n False,\n False,\n False,\n False,\n False,\n False,\n False,\n False,\n False,\n False,\n False,\n False,\n False,\n False,\n False,\n False,\n False,\n False,\n False,\n False,\n False,\n False,\n False,\n False,\n False,\n False,\n False,\n False,\n False,\n False,\n False,\n False,\n False,\n False,\n False,\n False,\n False,\n False,\n False,\n False,\n False,\n False,\n False,\n False,\n False,\n False,\n False,\n False,\n False,\n False,\n False,\n False,\n False,\n False,\n False,\n False,\n False,\n False,\n False,\n False,\n False,\n False,\n False,\n False,\n False,\n False,\n False,\n False,\n False,\n False,\n False,\n False,\n False,\n False,\n False,\n False,\n False,\n False,\n False,\n False,\n False,\n False,\n False,\n False,\n False,\n False,\n False,\n False,\n False,\n False,\n False,\n False,\n False,\n False,\n False,\n False,\n False,\n False,\n False,\n False,\n False,\n False,\n False,\n False,\n False,\n False,\n False,\n False,\n False,\n False,\n False,\n False,\n False,\n False,\n False,\n False,\n False,\n False,\n False,\n False,\n False,\n False,\n False,\n False,\n False,\n False,\n False,\n False,\n False,\n False,\n False,\n False,\n False,\n False,\n False,\n False,\n False,\n False,\n False,\n False,\n False,\n False,\n False,\n False,\n False,\n False,\n False,\n False,\n False,\n False,\n False,\n False,\n False,\n False,\n False,\n False,\n False,\n False,\n False,\n False,\n False,\n False,\n False,\n False,\n False,\n False,\n False,\n False,\n False,\n False,\n False,\n False,\n False,\n False,\n False,\n False,\n False,\n False,\n False,\n False,\n False,\n False,\n False,\n False,\n False,\n False,\n False,\n False,\n False,\n False,\n False,\n False,\n False,\n False,\n False,\n False,\n False,\n False,\n False,\n False,\n False,\n False,\n False,\n False,\n False,\n False,\n False,\n False,\n False,\n False,\n False,\n False,\n False,\n False,\n False,\n False,\n False,\n False,\n False,\n False,\n False,\n False,\n False,\n False,\n False,\n False,\n False,\n False,\n False,\n False,\n False,\n False,\n False,\n False,\n False,\n False,\n False,\n False,\n False,\n False,\n False,\n False,\n False,\n False,\n False,\n False,\n False,\n False,\n False,\n False,\n False,\n False,\n False,\n False,\n False,\n False,\n False,\n False,\n False,\n False,\n False,\n False,\n False,\n False,\n False,\n False,\n False,\n False,\n False,\n False,\n False,\n False,\n False,\n False,\n False,\n False,\n False,\n False,\n False,\n False,\n False,\n False,\n False,\n False,\n False,\n False,\n False,\n False,\n False,\n False,\n False,\n False,\n False,\n False,\n False,\n False,\n False,\n False,\n False,\n False,\n False,\n False,\n False,\n False,\n False,\n False,\n False,\n False,\n False,\n False,\n False,\n False,\n False,\n False,\n False,\n False,\n False,\n False,\n False,\n False,\n False,\n False,\n False,\n False,\n False,\n False,\n False,\n False,\n False,\n False,\n False,\n False,\n False,\n False,\n False,\n False,\n False,\n False,\n False,\n False,\n False,\n False,\n False,\n False,\n False,\n False,\n False,\n False,\n False,\n False,\n False,\n False,\n False,\n False,\n False,\n False,\n False,\n False,\n False,\n False,\n False,\n False,\n False,\n False,\n False,\n False,\n False,\n False,\n False,\n False,\n False,\n False,\n False,\n False,\n False,\n False,\n False,\n False,\n False,\n False,\n False,\n False,\n False,\n False,\n False,\n False,\n False,\n False,\n False,\n False,\n False,\n False,\n False,\n False,\n False,\n False,\n False,\n False,\n False,\n False,\n False,\n False,\n False,\n False,\n False,\n False,\n False,\n False,\n False,\n False,\n False,\n False,\n False,\n False,\n False,\n False,\n False,\n False,\n False,\n False,\n False,\n False,\n False,\n False,\n False,\n False,\n False,\n False,\n False,\n False,\n False,\n False,\n False,\n False,\n False,\n False,\n False,\n False,\n False,\n False,\n False,\n False,\n False,\n False,\n False,\n False,\n False,\n False,\n False,\n False,\n False,\n False,\n False,\n False,\n False,\n False,\n False,\n False,\n False,\n False,\n False,\n ...]"
     },
     "execution_count": 34,
     "metadata": {},
     "output_type": "execute_result"
    }
   ],
   "source": [
    "in_target"
   ],
   "metadata": {
    "collapsed": false,
    "pycharm": {
     "name": "#%%\n"
    }
   }
  },
  {
   "cell_type": "code",
   "execution_count": 35,
   "outputs": [
    {
     "data": {
      "text/plain": "1680"
     },
     "execution_count": 35,
     "metadata": {},
     "output_type": "execute_result"
    }
   ],
   "source": [
    "in_target.count(True)"
   ],
   "metadata": {
    "collapsed": false,
    "pycharm": {
     "name": "#%%\n"
    }
   }
  },
  {
   "cell_type": "code",
   "execution_count": 36,
   "outputs": [
    {
     "data": {
      "text/plain": "trap         9521\nRap          7723\ntrance       5960\ntechno       5931\nHiphop       3028\ndnb          2966\nhardstyle    2936\nRnB          2099\nEmo          1680\nPop           461\nName: genre, dtype: int64"
     },
     "execution_count": 36,
     "metadata": {},
     "output_type": "execute_result"
    }
   ],
   "source": [
    "spotify_df['genre'].value_counts()"
   ],
   "metadata": {
    "collapsed": false,
    "pycharm": {
     "name": "#%%\n"
    }
   }
  },
  {
   "cell_type": "code",
   "execution_count": 37,
   "outputs": [
    {
     "data": {
      "text/plain": "   danceability  energy  key  loudness  mode  speechiness  acousticness  \\\n0         0.831   0.814    2    -7.364     1       0.4200        0.0598   \n1         0.719   0.493    8    -7.230     1       0.0794        0.4010   \n2         0.850   0.893    5    -4.783     1       0.0623        0.0138   \n3         0.476   0.781    0    -4.710     1       0.1030        0.0237   \n4         0.798   0.624    2    -7.668     1       0.2930        0.2170   \n\n   instrumentalness  liveness  valence    tempo  duration_ms  time_signature  \\\n0          0.013400    0.0556   0.3890  156.985       124539               4   \n1          0.000000    0.1180   0.1240  115.080       224427               4   \n2          0.000004    0.3720   0.0391  218.050        98821               4   \n3          0.000000    0.1140   0.1750  186.948       123661               3   \n4          0.000000    0.1660   0.5910  147.988       123298               4   \n\n   in_genre  \n0     False  \n1     False  \n2     False  \n3     False  \n4     False  ",
      "text/html": "<div>\n<style scoped>\n    .dataframe tbody tr th:only-of-type {\n        vertical-align: middle;\n    }\n\n    .dataframe tbody tr th {\n        vertical-align: top;\n    }\n\n    .dataframe thead th {\n        text-align: right;\n    }\n</style>\n<table border=\"1\" class=\"dataframe\">\n  <thead>\n    <tr style=\"text-align: right;\">\n      <th></th>\n      <th>danceability</th>\n      <th>energy</th>\n      <th>key</th>\n      <th>loudness</th>\n      <th>mode</th>\n      <th>speechiness</th>\n      <th>acousticness</th>\n      <th>instrumentalness</th>\n      <th>liveness</th>\n      <th>valence</th>\n      <th>tempo</th>\n      <th>duration_ms</th>\n      <th>time_signature</th>\n      <th>in_genre</th>\n    </tr>\n  </thead>\n  <tbody>\n    <tr>\n      <th>0</th>\n      <td>0.831</td>\n      <td>0.814</td>\n      <td>2</td>\n      <td>-7.364</td>\n      <td>1</td>\n      <td>0.4200</td>\n      <td>0.0598</td>\n      <td>0.013400</td>\n      <td>0.0556</td>\n      <td>0.3890</td>\n      <td>156.985</td>\n      <td>124539</td>\n      <td>4</td>\n      <td>False</td>\n    </tr>\n    <tr>\n      <th>1</th>\n      <td>0.719</td>\n      <td>0.493</td>\n      <td>8</td>\n      <td>-7.230</td>\n      <td>1</td>\n      <td>0.0794</td>\n      <td>0.4010</td>\n      <td>0.000000</td>\n      <td>0.1180</td>\n      <td>0.1240</td>\n      <td>115.080</td>\n      <td>224427</td>\n      <td>4</td>\n      <td>False</td>\n    </tr>\n    <tr>\n      <th>2</th>\n      <td>0.850</td>\n      <td>0.893</td>\n      <td>5</td>\n      <td>-4.783</td>\n      <td>1</td>\n      <td>0.0623</td>\n      <td>0.0138</td>\n      <td>0.000004</td>\n      <td>0.3720</td>\n      <td>0.0391</td>\n      <td>218.050</td>\n      <td>98821</td>\n      <td>4</td>\n      <td>False</td>\n    </tr>\n    <tr>\n      <th>3</th>\n      <td>0.476</td>\n      <td>0.781</td>\n      <td>0</td>\n      <td>-4.710</td>\n      <td>1</td>\n      <td>0.1030</td>\n      <td>0.0237</td>\n      <td>0.000000</td>\n      <td>0.1140</td>\n      <td>0.1750</td>\n      <td>186.948</td>\n      <td>123661</td>\n      <td>3</td>\n      <td>False</td>\n    </tr>\n    <tr>\n      <th>4</th>\n      <td>0.798</td>\n      <td>0.624</td>\n      <td>2</td>\n      <td>-7.668</td>\n      <td>1</td>\n      <td>0.2930</td>\n      <td>0.2170</td>\n      <td>0.000000</td>\n      <td>0.1660</td>\n      <td>0.5910</td>\n      <td>147.988</td>\n      <td>123298</td>\n      <td>4</td>\n      <td>False</td>\n    </tr>\n  </tbody>\n</table>\n</div>"
     },
     "execution_count": 37,
     "metadata": {},
     "output_type": "execute_result"
    }
   ],
   "source": [
    "spotify_df2 = spotify_df\n",
    "spotify_df2['in_genre'] = in_target\n",
    "spotify_df2 = spotify_df2.drop('genre', axis=1)\n",
    "spotify_df2.head()"
   ],
   "metadata": {
    "collapsed": false,
    "pycharm": {
     "name": "#%%\n"
    }
   }
  },
  {
   "cell_type": "code",
   "execution_count": 38,
   "outputs": [],
   "source": [
    "from sklearn.model_selection import train_test_split, cross_val_score, GridSearchCV\n",
    "from sklearn.tree import DecisionTreeClassifier\n",
    "from sklearn.metrics import confusion_matrix, f1_score"
   ],
   "metadata": {
    "collapsed": false,
    "pycharm": {
     "name": "#%%\n"
    }
   }
  },
  {
   "cell_type": "code",
   "execution_count": 39,
   "outputs": [],
   "source": [
    "    spotify_df['in_genre'] = in_target\n",
    "    spotify_df = spotify_df.drop('genre', axis=1)\n",
    "\n",
    "    # Build Test-Train Splits, with a Test Size of 15%\n",
    "    train_df, test_df = train_test_split(spotify_df, test_size=0.15, random_state=4444)\n",
    "\n",
    "    X_train, Y_train = train_df.drop(columns='in_genre'), train_df['in_genre']\n",
    "\n",
    "    X_test, Y_test = test_df.drop(columns='in_genre'), test_df['in_genre']"
   ],
   "metadata": {
    "collapsed": false,
    "pycharm": {
     "name": "#%%\n"
    }
   }
  },
  {
   "cell_type": "code",
   "execution_count": 40,
   "outputs": [
    {
     "data": {
      "text/plain": "       danceability  energy  key  loudness  mode  speechiness  acousticness  \\\n12187         0.579   0.719   11    -5.770     1       0.0318       0.01400   \n11979         0.811   0.855    1    -4.479     1       0.7440       0.04720   \n24319         0.803   0.586    9    -8.897     1       0.1020       0.03190   \n42262         0.630   0.887    7    -5.847     1       0.0706       0.01070   \n17506         0.881   0.623    1    -9.662     1       0.1190       0.25700   \n...             ...     ...  ...       ...   ...          ...           ...   \n5205          0.851   0.673    1    -5.405     1       0.2570       0.04520   \n4275          0.387   0.899    6    -8.270     0       0.0598       0.00157   \n24475         0.912   0.790    8    -6.830     1       0.0667       0.00067   \n27037         0.772   0.875    1   -10.460     0       0.0476       0.01200   \n15913         0.678   0.622    3    -8.169     0       0.1650       0.12700   \n\n       instrumentalness  liveness  valence    tempo  duration_ms  \\\n12187          0.000625    0.2080   0.0999  125.020       193190   \n11979          0.000000    0.2530   0.6780  170.079        81820   \n24319          0.720000    0.1060   0.0381  126.025       339048   \n42262          0.000141    0.1750   0.6070  149.998       228750   \n17506          0.000002    0.0964   0.7450  177.906       129547   \n...                 ...       ...      ...      ...          ...   \n5205           0.000000    0.3140   0.7760  120.973       181509   \n4275           0.711000    0.2140   0.2060  149.989       280200   \n24475          0.779000    0.0633   0.6230  124.000       247792   \n27037          0.867000    0.1330   0.6880  138.007       337230   \n15913          0.000000    0.1090   0.4510   90.163       192000   \n\n       time_signature  \n12187               4  \n11979               4  \n24319               4  \n42262               4  \n17506               4  \n...               ...  \n5205                4  \n4275                3  \n24475               4  \n27037               4  \n15913               4  \n\n[35959 rows x 13 columns]",
      "text/html": "<div>\n<style scoped>\n    .dataframe tbody tr th:only-of-type {\n        vertical-align: middle;\n    }\n\n    .dataframe tbody tr th {\n        vertical-align: top;\n    }\n\n    .dataframe thead th {\n        text-align: right;\n    }\n</style>\n<table border=\"1\" class=\"dataframe\">\n  <thead>\n    <tr style=\"text-align: right;\">\n      <th></th>\n      <th>danceability</th>\n      <th>energy</th>\n      <th>key</th>\n      <th>loudness</th>\n      <th>mode</th>\n      <th>speechiness</th>\n      <th>acousticness</th>\n      <th>instrumentalness</th>\n      <th>liveness</th>\n      <th>valence</th>\n      <th>tempo</th>\n      <th>duration_ms</th>\n      <th>time_signature</th>\n    </tr>\n  </thead>\n  <tbody>\n    <tr>\n      <th>12187</th>\n      <td>0.579</td>\n      <td>0.719</td>\n      <td>11</td>\n      <td>-5.770</td>\n      <td>1</td>\n      <td>0.0318</td>\n      <td>0.01400</td>\n      <td>0.000625</td>\n      <td>0.2080</td>\n      <td>0.0999</td>\n      <td>125.020</td>\n      <td>193190</td>\n      <td>4</td>\n    </tr>\n    <tr>\n      <th>11979</th>\n      <td>0.811</td>\n      <td>0.855</td>\n      <td>1</td>\n      <td>-4.479</td>\n      <td>1</td>\n      <td>0.7440</td>\n      <td>0.04720</td>\n      <td>0.000000</td>\n      <td>0.2530</td>\n      <td>0.6780</td>\n      <td>170.079</td>\n      <td>81820</td>\n      <td>4</td>\n    </tr>\n    <tr>\n      <th>24319</th>\n      <td>0.803</td>\n      <td>0.586</td>\n      <td>9</td>\n      <td>-8.897</td>\n      <td>1</td>\n      <td>0.1020</td>\n      <td>0.03190</td>\n      <td>0.720000</td>\n      <td>0.1060</td>\n      <td>0.0381</td>\n      <td>126.025</td>\n      <td>339048</td>\n      <td>4</td>\n    </tr>\n    <tr>\n      <th>42262</th>\n      <td>0.630</td>\n      <td>0.887</td>\n      <td>7</td>\n      <td>-5.847</td>\n      <td>1</td>\n      <td>0.0706</td>\n      <td>0.01070</td>\n      <td>0.000141</td>\n      <td>0.1750</td>\n      <td>0.6070</td>\n      <td>149.998</td>\n      <td>228750</td>\n      <td>4</td>\n    </tr>\n    <tr>\n      <th>17506</th>\n      <td>0.881</td>\n      <td>0.623</td>\n      <td>1</td>\n      <td>-9.662</td>\n      <td>1</td>\n      <td>0.1190</td>\n      <td>0.25700</td>\n      <td>0.000002</td>\n      <td>0.0964</td>\n      <td>0.7450</td>\n      <td>177.906</td>\n      <td>129547</td>\n      <td>4</td>\n    </tr>\n    <tr>\n      <th>...</th>\n      <td>...</td>\n      <td>...</td>\n      <td>...</td>\n      <td>...</td>\n      <td>...</td>\n      <td>...</td>\n      <td>...</td>\n      <td>...</td>\n      <td>...</td>\n      <td>...</td>\n      <td>...</td>\n      <td>...</td>\n      <td>...</td>\n    </tr>\n    <tr>\n      <th>5205</th>\n      <td>0.851</td>\n      <td>0.673</td>\n      <td>1</td>\n      <td>-5.405</td>\n      <td>1</td>\n      <td>0.2570</td>\n      <td>0.04520</td>\n      <td>0.000000</td>\n      <td>0.3140</td>\n      <td>0.7760</td>\n      <td>120.973</td>\n      <td>181509</td>\n      <td>4</td>\n    </tr>\n    <tr>\n      <th>4275</th>\n      <td>0.387</td>\n      <td>0.899</td>\n      <td>6</td>\n      <td>-8.270</td>\n      <td>0</td>\n      <td>0.0598</td>\n      <td>0.00157</td>\n      <td>0.711000</td>\n      <td>0.2140</td>\n      <td>0.2060</td>\n      <td>149.989</td>\n      <td>280200</td>\n      <td>3</td>\n    </tr>\n    <tr>\n      <th>24475</th>\n      <td>0.912</td>\n      <td>0.790</td>\n      <td>8</td>\n      <td>-6.830</td>\n      <td>1</td>\n      <td>0.0667</td>\n      <td>0.00067</td>\n      <td>0.779000</td>\n      <td>0.0633</td>\n      <td>0.6230</td>\n      <td>124.000</td>\n      <td>247792</td>\n      <td>4</td>\n    </tr>\n    <tr>\n      <th>27037</th>\n      <td>0.772</td>\n      <td>0.875</td>\n      <td>1</td>\n      <td>-10.460</td>\n      <td>0</td>\n      <td>0.0476</td>\n      <td>0.01200</td>\n      <td>0.867000</td>\n      <td>0.1330</td>\n      <td>0.6880</td>\n      <td>138.007</td>\n      <td>337230</td>\n      <td>4</td>\n    </tr>\n    <tr>\n      <th>15913</th>\n      <td>0.678</td>\n      <td>0.622</td>\n      <td>3</td>\n      <td>-8.169</td>\n      <td>0</td>\n      <td>0.1650</td>\n      <td>0.12700</td>\n      <td>0.000000</td>\n      <td>0.1090</td>\n      <td>0.4510</td>\n      <td>90.163</td>\n      <td>192000</td>\n      <td>4</td>\n    </tr>\n  </tbody>\n</table>\n<p>35959 rows × 13 columns</p>\n</div>"
     },
     "execution_count": 40,
     "metadata": {},
     "output_type": "execute_result"
    }
   ],
   "source": [
    "X_train"
   ],
   "metadata": {
    "collapsed": false,
    "pycharm": {
     "name": "#%%\n"
    }
   }
  },
  {
   "cell_type": "code",
   "execution_count": 41,
   "outputs": [
    {
     "data": {
      "text/plain": "False    34535\nTrue      1424\nName: in_genre, dtype: int64"
     },
     "execution_count": 41,
     "metadata": {},
     "output_type": "execute_result"
    }
   ],
   "source": [
    "Y_train.value_counts()"
   ],
   "metadata": {
    "collapsed": false,
    "pycharm": {
     "name": "#%%\n"
    }
   }
  },
  {
   "cell_type": "code",
   "execution_count": 42,
   "outputs": [],
   "source": [
    "import xgboost as xgb"
   ],
   "metadata": {
    "collapsed": false,
    "pycharm": {
     "name": "#%%\n"
    }
   }
  },
  {
   "cell_type": "code",
   "execution_count": 43,
   "outputs": [],
   "source": [
    "xgb.set_config(verbosity=2)"
   ],
   "metadata": {
    "collapsed": false,
    "pycharm": {
     "name": "#%%\n"
    }
   }
  },
  {
   "cell_type": "code",
   "execution_count": 44,
   "outputs": [],
   "source": [
    "D_train = xgb.DMatrix(X_train, label=Y_train.astype(int))\n",
    "D_test = xgb.DMatrix(X_test, label=Y_test)"
   ],
   "metadata": {
    "collapsed": false,
    "pycharm": {
     "name": "#%%\n"
    }
   }
  },
  {
   "cell_type": "code",
   "execution_count": 45,
   "outputs": [],
   "source": [
    "paramaters = {\n",
    "    'max_depth' : 3,\n",
    "    'objective' : 'binary:logistic',\n",
    "    'num_steps' : 20,\n",
    "    'num_class' : 2\n",
    "}\n",
    "\n",
    "xgb_model = xgb.XGBClassifier(max_depth=4, num_steps=20, random_state = 4444, objective = 'binary:logistic', booster='gbtree', use_label_encoder=False)"
   ],
   "metadata": {
    "collapsed": false,
    "pycharm": {
     "name": "#%%\n"
    }
   }
  },
  {
   "cell_type": "code",
   "execution_count": 46,
   "outputs": [
    {
     "data": {
      "text/plain": "XGBClassifier(base_score=None, booster='gbtree', colsample_bylevel=None,\n              colsample_bynode=None, colsample_bytree=None,\n              enable_categorical=False, gamma=None, gpu_id=None,\n              importance_type=None, interaction_constraints=None,\n              learning_rate=None, max_delta_step=None, max_depth=4,\n              min_child_weight=None, missing=nan, monotone_constraints=None,\n              n_estimators=100, n_jobs=None, num_parallel_tree=None,\n              num_steps=20, predictor=None, random_state=4444, reg_alpha=None,\n              reg_lambda=None, scale_pos_weight=None, subsample=None,\n              tree_method=None, use_label_encoder=False,\n              validate_parameters=None, verbosity=None)"
     },
     "execution_count": 46,
     "metadata": {},
     "output_type": "execute_result"
    }
   ],
   "source": [
    "xgb_model"
   ],
   "metadata": {
    "collapsed": false,
    "pycharm": {
     "name": "#%%\n"
    }
   }
  },
  {
   "cell_type": "code",
   "execution_count": 47,
   "outputs": [
    {
     "name": "stdout",
     "output_type": "stream",
     "text": [
      "[15:52:31] WARNING: C:/Users/Administrator/workspace/xgboost-win64_release_1.5.1/src/learner.cc:576: \n",
      "Parameters: { \"num_steps\" } might not be used.\n",
      "\n",
      "  This could be a false alarm, with some parameters getting used by language bindings but\n",
      "  then being mistakenly passed down to XGBoost core, or some parameter actually being used\n",
      "  but getting flagged wrongly here. Please open an issue if you find any such cases.\n",
      "\n",
      "\n",
      "[15:52:31] INFO: C:/Users/Administrator/workspace/xgboost-win64_release_1.5.1/src/tree/updater_prune.cc:101: tree pruning end, 24 extra nodes, 0 pruned nodes, max_depth=4\n",
      "[15:52:31] WARNING: C:/Users/Administrator/workspace/xgboost-win64_release_1.5.1/src/learner.cc:1115: Starting in XGBoost 1.3.0, the default evaluation metric used with the objective 'binary:logistic' was changed from 'error' to 'logloss'. Explicitly set eval_metric if you'd like to restore the old behavior.\n",
      "[15:52:31] INFO: C:/Users/Administrator/workspace/xgboost-win64_release_1.5.1/src/tree/updater_prune.cc:101: tree pruning end, 28 extra nodes, 0 pruned nodes, max_depth=4\n",
      "[15:52:31] INFO: C:/Users/Administrator/workspace/xgboost-win64_release_1.5.1/src/tree/updater_prune.cc:101: tree pruning end, 30 extra nodes, 0 pruned nodes, max_depth=4\n",
      "[15:52:31] INFO: C:/Users/Administrator/workspace/xgboost-win64_release_1.5.1/src/tree/updater_prune.cc:101: tree pruning end, 30 extra nodes, 0 pruned nodes, max_depth=4\n",
      "[15:52:31] INFO: C:/Users/Administrator/workspace/xgboost-win64_release_1.5.1/src/tree/updater_prune.cc:101: tree pruning end, 30 extra nodes, 0 pruned nodes, max_depth=4\n",
      "[15:52:31] INFO: C:/Users/Administrator/workspace/xgboost-win64_release_1.5.1/src/tree/updater_prune.cc:101: tree pruning end, 30 extra nodes, 0 pruned nodes, max_depth=4\n",
      "[15:52:31] INFO: C:/Users/Administrator/workspace/xgboost-win64_release_1.5.1/src/tree/updater_prune.cc:101: tree pruning end, 30 extra nodes, 0 pruned nodes, max_depth=4\n",
      "[15:52:31] INFO: C:/Users/Administrator/workspace/xgboost-win64_release_1.5.1/src/tree/updater_prune.cc:101: tree pruning end, 30 extra nodes, 0 pruned nodes, max_depth=4\n",
      "[15:52:31] INFO: C:/Users/Administrator/workspace/xgboost-win64_release_1.5.1/src/tree/updater_prune.cc:101: tree pruning end, 28 extra nodes, 0 pruned nodes, max_depth=4\n",
      "[15:52:31] INFO: C:/Users/Administrator/workspace/xgboost-win64_release_1.5.1/src/tree/updater_prune.cc:101: tree pruning end, 30 extra nodes, 0 pruned nodes, max_depth=4\n",
      "[15:52:31] INFO: C:/Users/Administrator/workspace/xgboost-win64_release_1.5.1/src/tree/updater_prune.cc:101: tree pruning end, 30 extra nodes, 0 pruned nodes, max_depth=4\n",
      "[15:52:31] INFO: C:/Users/Administrator/workspace/xgboost-win64_release_1.5.1/src/tree/updater_prune.cc:101: tree pruning end, 28 extra nodes, 0 pruned nodes, max_depth=4\n",
      "[15:52:31] INFO: C:/Users/Administrator/workspace/xgboost-win64_release_1.5.1/src/tree/updater_prune.cc:101: tree pruning end, 26 extra nodes, 0 pruned nodes, max_depth=4\n",
      "[15:52:31] INFO: C:/Users/Administrator/workspace/xgboost-win64_release_1.5.1/src/tree/updater_prune.cc:101: tree pruning end, 28 extra nodes, 0 pruned nodes, max_depth=4\n",
      "[15:52:31] INFO: C:/Users/Administrator/workspace/xgboost-win64_release_1.5.1/src/tree/updater_prune.cc:101: tree pruning end, 30 extra nodes, 0 pruned nodes, max_depth=4\n",
      "[15:52:31] INFO: C:/Users/Administrator/workspace/xgboost-win64_release_1.5.1/src/tree/updater_prune.cc:101: tree pruning end, 24 extra nodes, 0 pruned nodes, max_depth=4\n",
      "[15:52:31] INFO: C:/Users/Administrator/workspace/xgboost-win64_release_1.5.1/src/tree/updater_prune.cc:101: tree pruning end, 30 extra nodes, 0 pruned nodes, max_depth=4\n",
      "[15:52:31] INFO: C:/Users/Administrator/workspace/xgboost-win64_release_1.5.1/src/tree/updater_prune.cc:101: tree pruning end, 30 extra nodes, 0 pruned nodes, max_depth=4\n",
      "[15:52:31] INFO: C:/Users/Administrator/workspace/xgboost-win64_release_1.5.1/src/tree/updater_prune.cc:101: tree pruning end, 30 extra nodes, 0 pruned nodes, max_depth=4\n",
      "[15:52:31] INFO: C:/Users/Administrator/workspace/xgboost-win64_release_1.5.1/src/tree/updater_prune.cc:101: tree pruning end, 24 extra nodes, 0 pruned nodes, max_depth=4\n",
      "[15:52:31] INFO: C:/Users/Administrator/workspace/xgboost-win64_release_1.5.1/src/tree/updater_prune.cc:101: tree pruning end, 28 extra nodes, 0 pruned nodes, max_depth=4\n",
      "[15:52:31] INFO: C:/Users/Administrator/workspace/xgboost-win64_release_1.5.1/src/tree/updater_prune.cc:101: tree pruning end, 16 extra nodes, 0 pruned nodes, max_depth=4\n",
      "[15:52:31] INFO: C:/Users/Administrator/workspace/xgboost-win64_release_1.5.1/src/tree/updater_prune.cc:101: tree pruning end, 30 extra nodes, 0 pruned nodes, max_depth=4\n",
      "[15:52:31] INFO: C:/Users/Administrator/workspace/xgboost-win64_release_1.5.1/src/tree/updater_prune.cc:101: tree pruning end, 28 extra nodes, 0 pruned nodes, max_depth=4\n",
      "[15:52:31] INFO: C:/Users/Administrator/workspace/xgboost-win64_release_1.5.1/src/tree/updater_prune.cc:101: tree pruning end, 16 extra nodes, 0 pruned nodes, max_depth=4\n",
      "[15:52:31] INFO: C:/Users/Administrator/workspace/xgboost-win64_release_1.5.1/src/tree/updater_prune.cc:101: tree pruning end, 30 extra nodes, 0 pruned nodes, max_depth=4\n",
      "[15:52:31] INFO: C:/Users/Administrator/workspace/xgboost-win64_release_1.5.1/src/tree/updater_prune.cc:101: tree pruning end, 28 extra nodes, 0 pruned nodes, max_depth=4\n",
      "[15:52:31] INFO: C:/Users/Administrator/workspace/xgboost-win64_release_1.5.1/src/tree/updater_prune.cc:101: tree pruning end, 18 extra nodes, 0 pruned nodes, max_depth=4\n",
      "[15:52:31] INFO: C:/Users/Administrator/workspace/xgboost-win64_release_1.5.1/src/tree/updater_prune.cc:101: tree pruning end, 28 extra nodes, 0 pruned nodes, max_depth=4\n",
      "[15:52:31] INFO: C:/Users/Administrator/workspace/xgboost-win64_release_1.5.1/src/tree/updater_prune.cc:101: tree pruning end, 14 extra nodes, 0 pruned nodes, max_depth=4\n",
      "[15:52:31] INFO: C:/Users/Administrator/workspace/xgboost-win64_release_1.5.1/src/tree/updater_prune.cc:101: tree pruning end, 18 extra nodes, 0 pruned nodes, max_depth=4\n",
      "[15:52:31] INFO: C:/Users/Administrator/workspace/xgboost-win64_release_1.5.1/src/tree/updater_prune.cc:101: tree pruning end, 16 extra nodes, 0 pruned nodes, max_depth=4\n",
      "[15:52:31] INFO: C:/Users/Administrator/workspace/xgboost-win64_release_1.5.1/src/tree/updater_prune.cc:101: tree pruning end, 24 extra nodes, 0 pruned nodes, max_depth=4\n",
      "[15:52:31] INFO: C:/Users/Administrator/workspace/xgboost-win64_release_1.5.1/src/tree/updater_prune.cc:101: tree pruning end, 28 extra nodes, 0 pruned nodes, max_depth=4\n",
      "[15:52:31] INFO: C:/Users/Administrator/workspace/xgboost-win64_release_1.5.1/src/tree/updater_prune.cc:101: tree pruning end, 16 extra nodes, 0 pruned nodes, max_depth=4\n",
      "[15:52:31] INFO: C:/Users/Administrator/workspace/xgboost-win64_release_1.5.1/src/tree/updater_prune.cc:101: tree pruning end, 16 extra nodes, 0 pruned nodes, max_depth=4\n",
      "[15:52:31] INFO: C:/Users/Administrator/workspace/xgboost-win64_release_1.5.1/src/tree/updater_prune.cc:101: tree pruning end, 30 extra nodes, 0 pruned nodes, max_depth=4\n",
      "[15:52:31] INFO: C:/Users/Administrator/workspace/xgboost-win64_release_1.5.1/src/tree/updater_prune.cc:101: tree pruning end, 30 extra nodes, 0 pruned nodes, max_depth=4\n",
      "[15:52:31] INFO: C:/Users/Administrator/workspace/xgboost-win64_release_1.5.1/src/tree/updater_prune.cc:101: tree pruning end, 20 extra nodes, 0 pruned nodes, max_depth=4\n",
      "[15:52:31] INFO: C:/Users/Administrator/workspace/xgboost-win64_release_1.5.1/src/tree/updater_prune.cc:101: tree pruning end, 30 extra nodes, 0 pruned nodes, max_depth=4\n",
      "[15:52:31] INFO: C:/Users/Administrator/workspace/xgboost-win64_release_1.5.1/src/tree/updater_prune.cc:101: tree pruning end, 28 extra nodes, 0 pruned nodes, max_depth=4\n",
      "[15:52:31] INFO: C:/Users/Administrator/workspace/xgboost-win64_release_1.5.1/src/tree/updater_prune.cc:101: tree pruning end, 16 extra nodes, 0 pruned nodes, max_depth=4\n",
      "[15:52:31] INFO: C:/Users/Administrator/workspace/xgboost-win64_release_1.5.1/src/tree/updater_prune.cc:101: tree pruning end, 18 extra nodes, 0 pruned nodes, max_depth=4\n",
      "[15:52:31] INFO: C:/Users/Administrator/workspace/xgboost-win64_release_1.5.1/src/tree/updater_prune.cc:101: tree pruning end, 30 extra nodes, 0 pruned nodes, max_depth=4\n",
      "[15:52:31] INFO: C:/Users/Administrator/workspace/xgboost-win64_release_1.5.1/src/tree/updater_prune.cc:101: tree pruning end, 26 extra nodes, 0 pruned nodes, max_depth=4\n",
      "[15:52:31] INFO: C:/Users/Administrator/workspace/xgboost-win64_release_1.5.1/src/tree/updater_prune.cc:101: tree pruning end, 16 extra nodes, 0 pruned nodes, max_depth=4\n",
      "[15:52:31] INFO: C:/Users/Administrator/workspace/xgboost-win64_release_1.5.1/src/tree/updater_prune.cc:101: tree pruning end, 28 extra nodes, 0 pruned nodes, max_depth=4\n",
      "[15:52:31] INFO: C:/Users/Administrator/workspace/xgboost-win64_release_1.5.1/src/tree/updater_prune.cc:101: tree pruning end, 18 extra nodes, 0 pruned nodes, max_depth=4\n",
      "[15:52:31] INFO: C:/Users/Administrator/workspace/xgboost-win64_release_1.5.1/src/tree/updater_prune.cc:101: tree pruning end, 30 extra nodes, 0 pruned nodes, max_depth=4\n",
      "[15:52:31] INFO: C:/Users/Administrator/workspace/xgboost-win64_release_1.5.1/src/tree/updater_prune.cc:101: tree pruning end, 22 extra nodes, 0 pruned nodes, max_depth=4\n",
      "[15:52:31] INFO: C:/Users/Administrator/workspace/xgboost-win64_release_1.5.1/src/tree/updater_prune.cc:101: tree pruning end, 16 extra nodes, 0 pruned nodes, max_depth=4\n",
      "[15:52:31] INFO: C:/Users/Administrator/workspace/xgboost-win64_release_1.5.1/src/tree/updater_prune.cc:101: tree pruning end, 26 extra nodes, 0 pruned nodes, max_depth=4\n",
      "[15:52:31] INFO: C:/Users/Administrator/workspace/xgboost-win64_release_1.5.1/src/tree/updater_prune.cc:101: tree pruning end, 30 extra nodes, 0 pruned nodes, max_depth=4\n",
      "[15:52:31] INFO: C:/Users/Administrator/workspace/xgboost-win64_release_1.5.1/src/tree/updater_prune.cc:101: tree pruning end, 10 extra nodes, 0 pruned nodes, max_depth=4\n",
      "[15:52:31] INFO: C:/Users/Administrator/workspace/xgboost-win64_release_1.5.1/src/tree/updater_prune.cc:101: tree pruning end, 28 extra nodes, 0 pruned nodes, max_depth=4\n",
      "[15:52:31] INFO: C:/Users/Administrator/workspace/xgboost-win64_release_1.5.1/src/tree/updater_prune.cc:101: tree pruning end, 30 extra nodes, 0 pruned nodes, max_depth=4\n",
      "[15:52:31] INFO: C:/Users/Administrator/workspace/xgboost-win64_release_1.5.1/src/tree/updater_prune.cc:101: tree pruning end, 20 extra nodes, 0 pruned nodes, max_depth=4\n",
      "[15:52:31] INFO: C:/Users/Administrator/workspace/xgboost-win64_release_1.5.1/src/tree/updater_prune.cc:101: tree pruning end, 18 extra nodes, 0 pruned nodes, max_depth=4\n",
      "[15:52:31] INFO: C:/Users/Administrator/workspace/xgboost-win64_release_1.5.1/src/tree/updater_prune.cc:101: tree pruning end, 22 extra nodes, 0 pruned nodes, max_depth=4\n",
      "[15:52:31] INFO: C:/Users/Administrator/workspace/xgboost-win64_release_1.5.1/src/tree/updater_prune.cc:101: tree pruning end, 30 extra nodes, 0 pruned nodes, max_depth=4\n",
      "[15:52:31] INFO: C:/Users/Administrator/workspace/xgboost-win64_release_1.5.1/src/tree/updater_prune.cc:101: tree pruning end, 14 extra nodes, 0 pruned nodes, max_depth=4\n",
      "[15:52:31] INFO: C:/Users/Administrator/workspace/xgboost-win64_release_1.5.1/src/tree/updater_prune.cc:101: tree pruning end, 16 extra nodes, 0 pruned nodes, max_depth=4\n",
      "[15:52:31] INFO: C:/Users/Administrator/workspace/xgboost-win64_release_1.5.1/src/tree/updater_prune.cc:101: tree pruning end, 14 extra nodes, 0 pruned nodes, max_depth=4\n",
      "[15:52:31] INFO: C:/Users/Administrator/workspace/xgboost-win64_release_1.5.1/src/tree/updater_prune.cc:101: tree pruning end, 26 extra nodes, 0 pruned nodes, max_depth=4\n",
      "[15:52:31] INFO: C:/Users/Administrator/workspace/xgboost-win64_release_1.5.1/src/tree/updater_prune.cc:101: tree pruning end, 10 extra nodes, 0 pruned nodes, max_depth=4\n",
      "[15:52:31] INFO: C:/Users/Administrator/workspace/xgboost-win64_release_1.5.1/src/tree/updater_prune.cc:101: tree pruning end, 16 extra nodes, 0 pruned nodes, max_depth=4\n",
      "[15:52:31] INFO: C:/Users/Administrator/workspace/xgboost-win64_release_1.5.1/src/tree/updater_prune.cc:101: tree pruning end, 16 extra nodes, 0 pruned nodes, max_depth=4\n",
      "[15:52:31] INFO: C:/Users/Administrator/workspace/xgboost-win64_release_1.5.1/src/tree/updater_prune.cc:101: tree pruning end, 26 extra nodes, 0 pruned nodes, max_depth=4\n",
      "[15:52:31] INFO: C:/Users/Administrator/workspace/xgboost-win64_release_1.5.1/src/tree/updater_prune.cc:101: tree pruning end, 30 extra nodes, 0 pruned nodes, max_depth=4\n",
      "[15:52:31] INFO: C:/Users/Administrator/workspace/xgboost-win64_release_1.5.1/src/tree/updater_prune.cc:101: tree pruning end, 14 extra nodes, 0 pruned nodes, max_depth=4\n",
      "[15:52:31] INFO: C:/Users/Administrator/workspace/xgboost-win64_release_1.5.1/src/tree/updater_prune.cc:101: tree pruning end, 16 extra nodes, 0 pruned nodes, max_depth=4\n",
      "[15:52:31] INFO: C:/Users/Administrator/workspace/xgboost-win64_release_1.5.1/src/tree/updater_prune.cc:101: tree pruning end, 10 extra nodes, 0 pruned nodes, max_depth=4\n",
      "[15:52:31] INFO: C:/Users/Administrator/workspace/xgboost-win64_release_1.5.1/src/tree/updater_prune.cc:101: tree pruning end, 30 extra nodes, 0 pruned nodes, max_depth=4\n",
      "[15:52:31] INFO: C:/Users/Administrator/workspace/xgboost-win64_release_1.5.1/src/tree/updater_prune.cc:101: tree pruning end, 24 extra nodes, 0 pruned nodes, max_depth=4\n",
      "[15:52:31] INFO: C:/Users/Administrator/workspace/xgboost-win64_release_1.5.1/src/tree/updater_prune.cc:101: tree pruning end, 12 extra nodes, 0 pruned nodes, max_depth=4\n",
      "[15:52:31] INFO: C:/Users/Administrator/workspace/xgboost-win64_release_1.5.1/src/tree/updater_prune.cc:101: tree pruning end, 22 extra nodes, 0 pruned nodes, max_depth=4\n",
      "[15:52:31] INFO: C:/Users/Administrator/workspace/xgboost-win64_release_1.5.1/src/tree/updater_prune.cc:101: tree pruning end, 14 extra nodes, 0 pruned nodes, max_depth=4\n",
      "[15:52:31] INFO: C:/Users/Administrator/workspace/xgboost-win64_release_1.5.1/src/tree/updater_prune.cc:101: tree pruning end, 16 extra nodes, 0 pruned nodes, max_depth=4\n",
      "[15:52:31] INFO: C:/Users/Administrator/workspace/xgboost-win64_release_1.5.1/src/tree/updater_prune.cc:101: tree pruning end, 24 extra nodes, 0 pruned nodes, max_depth=4\n",
      "[15:52:31] INFO: C:/Users/Administrator/workspace/xgboost-win64_release_1.5.1/src/tree/updater_prune.cc:101: tree pruning end, 14 extra nodes, 0 pruned nodes, max_depth=4\n",
      "[15:52:31] INFO: C:/Users/Administrator/workspace/xgboost-win64_release_1.5.1/src/tree/updater_prune.cc:101: tree pruning end, 28 extra nodes, 0 pruned nodes, max_depth=4\n",
      "[15:52:31] INFO: C:/Users/Administrator/workspace/xgboost-win64_release_1.5.1/src/tree/updater_prune.cc:101: tree pruning end, 22 extra nodes, 0 pruned nodes, max_depth=4\n",
      "[15:52:31] INFO: C:/Users/Administrator/workspace/xgboost-win64_release_1.5.1/src/tree/updater_prune.cc:101: tree pruning end, 28 extra nodes, 0 pruned nodes, max_depth=4\n",
      "[15:52:31] INFO: C:/Users/Administrator/workspace/xgboost-win64_release_1.5.1/src/tree/updater_prune.cc:101: tree pruning end, 20 extra nodes, 0 pruned nodes, max_depth=4\n",
      "[15:52:31] INFO: C:/Users/Administrator/workspace/xgboost-win64_release_1.5.1/src/tree/updater_prune.cc:101: tree pruning end, 18 extra nodes, 0 pruned nodes, max_depth=4\n",
      "[15:52:31] INFO: C:/Users/Administrator/workspace/xgboost-win64_release_1.5.1/src/tree/updater_prune.cc:101: tree pruning end, 12 extra nodes, 0 pruned nodes, max_depth=4\n",
      "[15:52:31] INFO: C:/Users/Administrator/workspace/xgboost-win64_release_1.5.1/src/tree/updater_prune.cc:101: tree pruning end, 30 extra nodes, 0 pruned nodes, max_depth=4\n",
      "[15:52:31] INFO: C:/Users/Administrator/workspace/xgboost-win64_release_1.5.1/src/tree/updater_prune.cc:101: tree pruning end, 30 extra nodes, 0 pruned nodes, max_depth=4\n",
      "[15:52:31] INFO: C:/Users/Administrator/workspace/xgboost-win64_release_1.5.1/src/tree/updater_prune.cc:101: tree pruning end, 24 extra nodes, 0 pruned nodes, max_depth=4\n",
      "[15:52:31] INFO: C:/Users/Administrator/workspace/xgboost-win64_release_1.5.1/src/tree/updater_prune.cc:101: tree pruning end, 26 extra nodes, 0 pruned nodes, max_depth=4\n",
      "[15:52:31] INFO: C:/Users/Administrator/workspace/xgboost-win64_release_1.5.1/src/tree/updater_prune.cc:101: tree pruning end, 10 extra nodes, 0 pruned nodes, max_depth=4\n",
      "[15:52:31] INFO: C:/Users/Administrator/workspace/xgboost-win64_release_1.5.1/src/tree/updater_prune.cc:101: tree pruning end, 26 extra nodes, 0 pruned nodes, max_depth=4\n",
      "[15:52:31] INFO: C:/Users/Administrator/workspace/xgboost-win64_release_1.5.1/src/tree/updater_prune.cc:101: tree pruning end, 18 extra nodes, 0 pruned nodes, max_depth=4\n",
      "[15:52:31] INFO: C:/Users/Administrator/workspace/xgboost-win64_release_1.5.1/src/tree/updater_prune.cc:101: tree pruning end, 26 extra nodes, 0 pruned nodes, max_depth=4\n",
      "[15:52:31] INFO: C:/Users/Administrator/workspace/xgboost-win64_release_1.5.1/src/tree/updater_prune.cc:101: tree pruning end, 22 extra nodes, 0 pruned nodes, max_depth=4\n",
      "[15:52:31] INFO: C:/Users/Administrator/workspace/xgboost-win64_release_1.5.1/src/tree/updater_prune.cc:101: tree pruning end, 22 extra nodes, 0 pruned nodes, max_depth=4\n",
      "[15:52:31] INFO: C:/Users/Administrator/workspace/xgboost-win64_release_1.5.1/src/tree/updater_prune.cc:101: tree pruning end, 28 extra nodes, 0 pruned nodes, max_depth=4\n",
      "[15:52:31] INFO: C:/Users/Administrator/workspace/xgboost-win64_release_1.5.1/src/tree/updater_prune.cc:101: tree pruning end, 30 extra nodes, 0 pruned nodes, max_depth=4\n",
      "[15:52:31] INFO: C:/Users/Administrator/workspace/xgboost-win64_release_1.5.1/src/tree/updater_prune.cc:101: tree pruning end, 24 extra nodes, 0 pruned nodes, max_depth=4\n",
      "[15:52:31] INFO: C:/Users/Administrator/workspace/xgboost-win64_release_1.5.1/src/tree/updater_prune.cc:101: tree pruning end, 26 extra nodes, 0 pruned nodes, max_depth=4\n"
     ]
    }
   ],
   "source": [
    "xgb_classifier = xgb_model.fit(X_train, Y_train.astype(int))"
   ],
   "metadata": {
    "collapsed": false,
    "pycharm": {
     "name": "#%%\n"
    }
   }
  },
  {
   "cell_type": "code",
   "execution_count": 48,
   "outputs": [],
   "source": [
    "prediction = xgb_classifier.predict(X_test)"
   ],
   "metadata": {
    "collapsed": false,
    "pycharm": {
     "name": "#%%\n"
    }
   }
  },
  {
   "cell_type": "code",
   "execution_count": 49,
   "outputs": [
    {
     "data": {
      "text/plain": "array([0, 0, 0, ..., 0, 0, 0])"
     },
     "execution_count": 49,
     "metadata": {},
     "output_type": "execute_result"
    }
   ],
   "source": [
    "prediction"
   ],
   "metadata": {
    "collapsed": false,
    "pycharm": {
     "name": "#%%\n"
    }
   }
  },
  {
   "cell_type": "code",
   "execution_count": 50,
   "outputs": [
    {
     "data": {
      "text/plain": "array([[6057,   33],\n       [ 122,  134]], dtype=int64)"
     },
     "execution_count": 50,
     "metadata": {},
     "output_type": "execute_result"
    }
   ],
   "source": [
    "confusion_matrix(Y_test, prediction)"
   ],
   "metadata": {
    "collapsed": false,
    "pycharm": {
     "name": "#%%\n"
    }
   }
  },
  {
   "cell_type": "code",
   "execution_count": 51,
   "outputs": [
    {
     "data": {
      "text/plain": "0.6335697399527188"
     },
     "execution_count": 51,
     "metadata": {},
     "output_type": "execute_result"
    }
   ],
   "source": [
    "f1_score(Y_test, prediction)"
   ],
   "metadata": {
    "collapsed": false,
    "pycharm": {
     "name": "#%%\n"
    }
   }
  },
  {
   "cell_type": "code",
   "execution_count": 55,
   "outputs": [
    {
     "name": "stdout",
     "output_type": "stream",
     "text": [
      "[[6057   33]\n",
      " [ 122  134]]\n"
     ]
    }
   ],
   "source": [
    "print(np.array2string(confusion_matrix(Y_test, prediction)))"
   ],
   "metadata": {
    "collapsed": false,
    "pycharm": {
     "name": "#%%\n"
    }
   }
  },
  {
   "cell_type": "code",
   "execution_count": null,
   "outputs": [],
   "source": [
    "xgb_classifier.score(X_train, Y_train)"
   ],
   "metadata": {
    "collapsed": false,
    "pycharm": {
     "name": "#%%\n"
    }
   }
  },
  {
   "cell_type": "code",
   "execution_count": null,
   "outputs": [],
   "source": [
    "paramaters = {\n",
    "    \"max_depth\" : [4,5,6],\n",
    "    \"learning_rate\" : [0.1, 0.2, 0.3],\n",
    "    \"num_steps\" : [10,20],\n",
    "    \"gamma\" : [0.3, 0.5]\n",
    "}\n",
    "\n",
    "clf = xgb.XGBClassifier(use_label_encoder=False, eval_metric = f1_score, eval_set = [(X_test, Y_test)])"
   ],
   "metadata": {
    "collapsed": false,
    "pycharm": {
     "name": "#%%\n"
    }
   }
  },
  {
   "cell_type": "code",
   "execution_count": null,
   "outputs": [],
   "source": [
    "grid_search = GridSearchCV(clf, paramaters, n_jobs = -1, cv=4, verbose=2)"
   ],
   "metadata": {
    "collapsed": false,
    "pycharm": {
     "name": "#%%\n"
    }
   }
  },
  {
   "cell_type": "code",
   "execution_count": null,
   "outputs": [],
   "source": [
    "grid = grid_search.fit(X_train,Y_train.astype(int))\n",
    "grid"
   ],
   "metadata": {
    "collapsed": false,
    "pycharm": {
     "name": "#%%\n"
    }
   }
  },
  {
   "cell_type": "code",
   "execution_count": null,
   "outputs": [],
   "source": [
    "print(\"OK printed\")\n",
    "grid.best_params_"
   ],
   "metadata": {
    "collapsed": false,
    "pycharm": {
     "name": "#%%\n"
    }
   }
  },
  {
   "cell_type": "code",
   "execution_count": null,
   "outputs": [],
   "source": [
    "grid.best_score_"
   ],
   "metadata": {
    "collapsed": false,
    "pycharm": {
     "name": "#%%\n"
    }
   }
  },
  {
   "cell_type": "code",
   "execution_count": null,
   "outputs": [],
   "source": [
    "pred = grid.predict(X_test)"
   ],
   "metadata": {
    "collapsed": false,
    "pycharm": {
     "name": "#%%\n"
    }
   }
  },
  {
   "cell_type": "code",
   "execution_count": null,
   "outputs": [],
   "source": [
    "confusion_matrix(Y_test, pred)"
   ],
   "metadata": {
    "collapsed": false,
    "pycharm": {
     "name": "#%%\n"
    }
   }
  },
  {
   "cell_type": "code",
   "execution_count": null,
   "outputs": [],
   "source": [
    "f1_score(Y_test, pred)"
   ],
   "metadata": {
    "collapsed": false,
    "pycharm": {
     "name": "#%%\n"
    }
   }
  },
  {
   "cell_type": "markdown",
   "source": [
    "I want to score different genres by Cross Validation, to find if there are any that the model works well on\n",
    "\n",
    "for (every Genre in List of Genres):\n",
    "\n",
    "    reset data\n",
    "    split off Genre target\n",
    "    Test_Train split\n",
    "\n",
    "    initialize XGB model\n",
    "    Grid_Score_CV on model\n",
    "\n",
    "    Score best model on Test data\n",
    "\n",
    "    Add to New dataframe: Genre, best Score, best model params\n"
   ],
   "metadata": {
    "collapsed": false,
    "pycharm": {
     "name": "#%% md\n"
    }
   }
  },
  {
   "cell_type": "code",
   "execution_count": null,
   "outputs": [],
   "source": [
    "for variable in ['duration_ms', 'loudness', 'tempo', 'key', 'time_signature']:\n",
    "    sns.boxplot(data=spotify_df.loc[:,variable], orient='h').set(title=\"Boxplot for \" + str(variable))\n",
    "    plt.show()"
   ],
   "metadata": {
    "collapsed": false,
    "pycharm": {
     "name": "#%%\n"
    }
   }
  },
  {
   "cell_type": "code",
   "execution_count": null,
   "outputs": [],
   "source": [],
   "metadata": {
    "collapsed": false,
    "pycharm": {
     "name": "#%%\n"
    }
   }
  }
 ],
 "metadata": {
  "kernelspec": {
   "display_name": "Python 3",
   "language": "python",
   "name": "python3"
  },
  "language_info": {
   "codemirror_mode": {
    "name": "ipython",
    "version": 2
   },
   "file_extension": ".py",
   "mimetype": "text/x-python",
   "name": "python",
   "nbconvert_exporter": "python",
   "pygments_lexer": "ipython2",
   "version": "2.7.6"
  }
 },
 "nbformat": 4,
 "nbformat_minor": 0
}