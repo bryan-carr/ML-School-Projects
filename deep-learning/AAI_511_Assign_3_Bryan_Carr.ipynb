{
  "nbformat": 4,
  "nbformat_minor": 0,
  "metadata": {
    "colab": {
      "name": "AAI 511 - Assign 3 - Bryan Carr.ipynb",
      "provenance": []
    },
    "kernelspec": {
      "name": "python3",
      "display_name": "Python 3"
    },
    "language_info": {
      "name": "python"
    },
    "accelerator": "GPU",
    "gpuClass": "standard"
  },
  "cells": [
    {
      "cell_type": "markdown",
      "source": [
        "# USD AAI 511 - Assingment #3 - Build a Convolutional Neural Network\n",
        "\n",
        "by Bryan Carr\n",
        "\n",
        "18 July 2022\n",
        "\n",
        "\n",
        "\n",
        "In this assignment, we will build a basic CNN to classify the handwritten images in the MNIST data set. The MNIST dataset was sourced from Kaggle.com, at:\n",
        "\n",
        "https://www.kaggle.com/datasets/hojjatk/mnist-dataset\n"
      ],
      "metadata": {
        "id": "4bEYooHl0hkQ"
      }
    },
    {
      "cell_type": "markdown",
      "source": [
        "\n",
        "## 3.1 - Reading in the Data\n",
        "\n",
        "I will begin by reading in the data, using the class and code provided by H. Khodabakhsh on Kaggle.com."
      ],
      "metadata": {
        "id": "FwHjKxxg5Eul"
      }
    },
    {
      "cell_type": "code",
      "source": [
        "# This Code provided by H. Khodabakhsh on Kaggle.com\n",
        "# https://www.kaggle.com/code/hojjatk/read-mnist-dataset/notebook\n",
        "# Accessed 18 July 2022\n",
        "# This block of code provides a class and function to read in the data\n",
        "#\n",
        "#\n",
        "# This is a sample Notebook to demonstrate how to read \"MNIST Dataset\"\n",
        "#\n",
        "import numpy as np # linear algebra\n",
        "import struct\n",
        "from array import array\n",
        "from os.path  import join\n",
        "\n",
        "#\n",
        "# MNIST Data Loader Class\n",
        "#\n",
        "class MnistDataloader(object):\n",
        "    def __init__(self, training_images_filepath,training_labels_filepath,\n",
        "                 test_images_filepath, test_labels_filepath):\n",
        "        self.training_images_filepath = training_images_filepath\n",
        "        self.training_labels_filepath = training_labels_filepath\n",
        "        self.test_images_filepath = test_images_filepath\n",
        "        self.test_labels_filepath = test_labels_filepath\n",
        "    \n",
        "    def read_images_labels(self, images_filepath, labels_filepath):        \n",
        "        labels = []\n",
        "        with open(labels_filepath, 'rb') as file:\n",
        "            magic, size = struct.unpack(\">II\", file.read(8))\n",
        "            if magic != 2049:\n",
        "                raise ValueError('Magic number mismatch, expected 2049, got {}'.format(magic))\n",
        "            labels = array(\"B\", file.read())        \n",
        "        \n",
        "        with open(images_filepath, 'rb') as file:\n",
        "            magic, size, rows, cols = struct.unpack(\">IIII\", file.read(16))\n",
        "            if magic != 2051:\n",
        "                raise ValueError('Magic number mismatch, expected 2051, got {}'.format(magic))\n",
        "            image_data = array(\"B\", file.read())        \n",
        "        images = []\n",
        "        for i in range(size):\n",
        "            images.append([0] * rows * cols)\n",
        "        for i in range(size):\n",
        "            img = np.array(image_data[i * rows * cols:(i + 1) * rows * cols])\n",
        "            img = img.reshape(28, 28)\n",
        "            images[i][:] = img            \n",
        "        \n",
        "        return images, labels\n",
        "            \n",
        "    def load_data(self):\n",
        "        x_train, y_train = self.read_images_labels(self.training_images_filepath, self.training_labels_filepath)\n",
        "        x_test, y_test = self.read_images_labels(self.test_images_filepath, self.test_labels_filepath)\n",
        "        return (x_train, y_train),(x_test, y_test)"
      ],
      "metadata": {
        "id": "7lxJiQav0kHj"
      },
      "execution_count": 1,
      "outputs": []
    },
    {
      "cell_type": "code",
      "source": [
        "# This Code provided by H. Khodabakhsh on Kaggle.com\n",
        "# https://www.kaggle.com/code/hojjatk/read-mnist-dataset/notebook\n",
        "# Accessed 18 July 2022\n",
        "# This block calls the class to read in the data, then plots 10 samples from Train and 5 from Test\n",
        "#\n",
        "#\n",
        "# Verify Reading Dataset via MnistDataloader class\n",
        "#\n",
        "%matplotlib inline\n",
        "import random\n",
        "import matplotlib.pyplot as plt\n",
        "\n",
        "#\n",
        "# Set file paths based on added MNIST Datasets\n",
        "#\n",
        "input_path = '/content/drive/MyDrive/AAI511/Assign3/'\n",
        "training_images_filepath = join(input_path, 'train-images-idx3-ubyte/train-images-idx3-ubyte')\n",
        "training_labels_filepath = join(input_path, 'train-labels-idx1-ubyte/train-labels-idx1-ubyte')\n",
        "test_images_filepath = join(input_path, 't10k-images-idx3-ubyte/t10k-images-idx3-ubyte')\n",
        "test_labels_filepath = join(input_path, 't10k-labels-idx1-ubyte/t10k-labels-idx1-ubyte')\n",
        "\n",
        "#\n",
        "# Helper function to show a list of images with their relating titles\n",
        "#\n",
        "def show_images(images, title_texts):\n",
        "    cols = 5\n",
        "    rows = int(len(images)/cols) + 1\n",
        "    plt.figure(figsize=(30,20))\n",
        "    index = 1    \n",
        "    for x in zip(images, title_texts):        \n",
        "        image = x[0]        \n",
        "        title_text = x[1]\n",
        "        plt.subplot(rows, cols, index)        \n",
        "        plt.imshow(image, cmap=plt.cm.gray)\n",
        "        if (title_text != ''):\n",
        "            plt.title(title_text, fontsize = 15);        \n",
        "        index += 1\n",
        "\n",
        "#\n",
        "# Load MINST dataset\n",
        "#\n",
        "mnist_dataloader = MnistDataloader(training_images_filepath, training_labels_filepath, test_images_filepath, test_labels_filepath)\n",
        "(x_train, y_train), (x_test, y_test) = mnist_dataloader.load_data()\n",
        "\n",
        "#\n",
        "# Show some random training and test images \n",
        "#\n",
        "images_2_show = []\n",
        "titles_2_show = []\n",
        "for i in range(0, 10):\n",
        "    r = random.randint(1, 60000)\n",
        "    images_2_show.append(x_train[r])\n",
        "    titles_2_show.append('training image [' + str(r) + '] = ' + str(y_train[r]))    \n",
        "\n",
        "for i in range(0, 5):\n",
        "    r = random.randint(1, 10000)\n",
        "    images_2_show.append(x_test[r])        \n",
        "    titles_2_show.append('test image [' + str(r) + '] = ' + str(y_test[r]))    \n",
        "\n",
        "show_images(images_2_show, titles_2_show)"
      ],
      "metadata": {
        "id": "PvOzteCY0kes",
        "colab": {
          "base_uri": "https://localhost:8080/",
          "height": 724
        },
        "outputId": "0df553ce-3004-4201-da9a-dbddebdb5e9a"
      },
      "execution_count": 2,
      "outputs": [
        {
          "output_type": "display_data",
          "data": {
            "text/plain": [
              "<Figure size 2160x1440 with 15 Axes>"
            ],
            "image/png": "[encoded data removed]"
          },
          "metadata": {
            "needs_background": "light"
          }
        }
      ]
    },
    {
      "cell_type": "code",
      "source": [
        "# Preprocess our Data\n",
        "#\n",
        "# The data is set up as a List of Arrays. We need it to be in an Array\n",
        "\n",
        "x_train = np.array(x_train)\n",
        "x_test = np.array(x_test)\n",
        "y_train = np.array(y_train)\n",
        "y_test = np.array(y_test)\n",
        "\n",
        "\n",
        "# Normaliize the image data as Floats\n",
        "# The images contain greyscale pixel values from 0 (black) to 255 (white)\n",
        "# Scaling them down by 255 to turn them into fractions should help with computing down the line\n",
        "\n",
        "x_train = x_train.astype('float32') / 255.0\n",
        "x_test = x_test.astype('float32') / 255.0"
      ],
      "metadata": {
        "id": "n2Fo8PHa-ya1"
      },
      "execution_count": 3,
      "outputs": []
    },
    {
      "cell_type": "markdown",
      "source": [
        "## 3.2 - Build the CNN\n",
        "\n",
        "Next up I will build the CNN, using Tensorflow and Keras libraries.\n",
        "\n",
        "I will use two Convolving layers, with Max Pooling at the end. These fill feed into a flattener, which will then feed into a three-layer fully connected network for classification.\n",
        "\n",
        "Input Layer (28x28) =>\n",
        "\n",
        "Convolving Layer 1 (3x3, stride 1) => (26x26) output =>\n",
        "\n",
        "Max Pooling Layer 1 (2x2, stride 2) => (13x13) output =>\n",
        "\n",
        "Convolving Layer 2 (3x3, stride 1) => (11x11) output =>\n",
        "\n",
        "Max Pooling Layer 2 (2x2, stride 2) => (6x6) output =>\n",
        "\n"
      ],
      "metadata": {
        "id": "BYOUJCJ_5fGq"
      }
    },
    {
      "cell_type": "code",
      "source": [
        "# Import key libraries from Tensorflow and Keras\n",
        "\n",
        "import tensorflow as tf\n",
        "from keras import models\n",
        "from keras import layers\n",
        "\n",
        "\n",
        "# Set the random seeds, to help ensure we can reproduce the results\n",
        "np.random.seed(18)\n",
        "tf.random.set_seed(18)\n"
      ],
      "metadata": {
        "id": "47MjcaPi0kiu"
      },
      "execution_count": 20,
      "outputs": []
    },
    {
      "cell_type": "code",
      "source": [
        "cnn1 = models.Sequential()\n",
        "\n",
        "cnn1.add(layers.Conv2D(32, (3,3), activation='relu', input_shape = (28,28,1), name='conv1'))\n",
        "cnn1.add(layers.MaxPool2D(pool_size=(2,2), name='pool1'))\n",
        "\n",
        "cnn1.add(layers.Conv2D(64, (3,3), activation='relu', name='conv2'))\n",
        "cnn1.add(layers.MaxPool2D((2,2), name='pool2'))\n",
        "\n",
        "cnn1.add(layers.Flatten(name='flatten'))\n",
        "\n",
        "cnn1.add(layers.Dense(500, activation='relu', name='dense1'))\n",
        "cnn1.add(layers.Dense(64, activation='relu', name='dense2'))\n",
        "cnn1.add(layers.Dense(10, activation='softmax', name='output'))"
      ],
      "metadata": {
        "id": "nx75FpHw2Qb9"
      },
      "execution_count": 21,
      "outputs": []
    },
    {
      "cell_type": "code",
      "source": [
        "# Print a Summary of the architecture of the model\n",
        "\n",
        "cnn1.summary()"
      ],
      "metadata": {
        "colab": {
          "base_uri": "https://localhost:8080/"
        },
        "id": "vzuLBM6_2Qht",
        "outputId": "0c7b74f1-817b-4083-9358-014dddf5c405"
      },
      "execution_count": 22,
      "outputs": [
        {
          "output_type": "stream",
          "name": "stdout",
          "text": [
            "Model: \"sequential_1\"\n",
            "_________________________________________________________________\n",
            " Layer (type)                Output Shape              Param #   \n",
            "=================================================================\n",
            " conv1 (Conv2D)              (None, 26, 26, 32)        320       \n",
            "                                                                 \n",
            " pool1 (MaxPooling2D)        (None, 13, 13, 32)        0         \n",
            "                                                                 \n",
            " conv2 (Conv2D)              (None, 11, 11, 64)        18496     \n",
            "                                                                 \n",
            " pool2 (MaxPooling2D)        (None, 5, 5, 64)          0         \n",
            "                                                                 \n",
            " flatten (Flatten)           (None, 1600)              0         \n",
            "                                                                 \n",
            " dense1 (Dense)              (None, 500)               800500    \n",
            "                                                                 \n",
            " dense2 (Dense)              (None, 64)                32064     \n",
            "                                                                 \n",
            " output (Dense)              (None, 10)                650       \n",
            "                                                                 \n",
            "=================================================================\n",
            "Total params: 852,030\n",
            "Trainable params: 852,030\n",
            "Non-trainable params: 0\n",
            "_________________________________________________________________\n"
          ]
        }
      ]
    },
    {
      "cell_type": "code",
      "source": [
        "# Next, Compile our Model\n",
        "# We will use the Adam Optimizer algorithm, and the Cross Entropy to evaluate Loss\n",
        "# We need to use Sparse Categorical Cross Entropy for our labels in a 1-dimensional array,\n",
        "#   Categorical-CrossEntropy requires One-Hot Encoded label data\n",
        "\n",
        "cnn1.compile(\n",
        "    optimizer='adam',\n",
        "    loss='sparse_categorical_crossentropy',\n",
        "    metrics=['accuracy']\n",
        ")"
      ],
      "metadata": {
        "id": "HOalrMHm2Qkd"
      },
      "execution_count": 23,
      "outputs": []
    },
    {
      "cell_type": "code",
      "source": [
        "history = cnn1.fit(x_train, y_train, epochs=10, batch_size=100, verbose=1, validation_split=0.1)"
      ],
      "metadata": {
        "colab": {
          "base_uri": "https://localhost:8080/"
        },
        "id": "ZavTJakv2QnW",
        "outputId": "ec693559-6f66-4912-c15d-7aeae95c1bdb"
      },
      "execution_count": 24,
      "outputs": [
        {
          "output_type": "stream",
          "name": "stdout",
          "text": [
            "Epoch 1/10\n",
            "540/540 [==============================] - 3s 4ms/step - loss: 0.1768 - accuracy: 0.9459 - val_loss: 0.0565 - val_accuracy: 0.9833\n",
            "Epoch 2/10\n",
            "540/540 [==============================] - 2s 4ms/step - loss: 0.0487 - accuracy: 0.9849 - val_loss: 0.0387 - val_accuracy: 0.9878\n",
            "Epoch 3/10\n",
            "540/540 [==============================] - 2s 4ms/step - loss: 0.0317 - accuracy: 0.9899 - val_loss: 0.0422 - val_accuracy: 0.9875\n",
            "Epoch 4/10\n",
            "540/540 [==============================] - 2s 4ms/step - loss: 0.0245 - accuracy: 0.9921 - val_loss: 0.0419 - val_accuracy: 0.9890\n",
            "Epoch 5/10\n",
            "540/540 [==============================] - 2s 4ms/step - loss: 0.0183 - accuracy: 0.9942 - val_loss: 0.0402 - val_accuracy: 0.9895\n",
            "Epoch 6/10\n",
            "540/540 [==============================] - 2s 4ms/step - loss: 0.0144 - accuracy: 0.9953 - val_loss: 0.0275 - val_accuracy: 0.9923\n",
            "Epoch 7/10\n",
            "540/540 [==============================] - 2s 4ms/step - loss: 0.0108 - accuracy: 0.9965 - val_loss: 0.0339 - val_accuracy: 0.9922\n",
            "Epoch 8/10\n",
            "540/540 [==============================] - 2s 4ms/step - loss: 0.0109 - accuracy: 0.9964 - val_loss: 0.0334 - val_accuracy: 0.9903\n",
            "Epoch 9/10\n",
            "540/540 [==============================] - 2s 4ms/step - loss: 0.0080 - accuracy: 0.9974 - val_loss: 0.0343 - val_accuracy: 0.9910\n",
            "Epoch 10/10\n",
            "540/540 [==============================] - 2s 4ms/step - loss: 0.0072 - accuracy: 0.9975 - val_loss: 0.0443 - val_accuracy: 0.9917\n"
          ]
        }
      ]
    },
    {
      "cell_type": "markdown",
      "source": [
        "## 3.3 - Results\n",
        "\n",
        "Let's begin by plotting our change in Loss and Accuracy with Training Epochs."
      ],
      "metadata": {
        "id": "luI2x1TYXHjj"
      }
    },
    {
      "cell_type": "code",
      "source": [
        "history.history"
      ],
      "metadata": {
        "colab": {
          "base_uri": "https://localhost:8080/"
        },
        "id": "Am0-6inCT7qr",
        "outputId": "8e832d9b-354b-4a67-a5f4-2a13cc142c93"
      },
      "execution_count": 25,
      "outputs": [
        {
          "output_type": "execute_result",
          "data": {
            "text/plain": [
              "{'accuracy': [0.9459444284439087,\n",
              "  0.9849073886871338,\n",
              "  0.9899444580078125,\n",
              "  0.9920926094055176,\n",
              "  0.9942407608032227,\n",
              "  0.9952777624130249,\n",
              "  0.9965370297431946,\n",
              "  0.9963889122009277,\n",
              "  0.9973703622817993,\n",
              "  0.9975370168685913],\n",
              " 'loss': [0.17679892480373383,\n",
              "  0.04868993163108826,\n",
              "  0.031700752675533295,\n",
              "  0.02448774129152298,\n",
              "  0.018327880650758743,\n",
              "  0.014443383552134037,\n",
              "  0.010786312632262707,\n",
              "  0.010881252586841583,\n",
              "  0.00798888225108385,\n",
              "  0.007237379439175129],\n",
              " 'val_accuracy': [0.9833333492279053,\n",
              "  0.9878333210945129,\n",
              "  0.987500011920929,\n",
              "  0.9890000224113464,\n",
              "  0.9894999861717224,\n",
              "  0.9923333525657654,\n",
              "  0.9921666383743286,\n",
              "  0.9903333187103271,\n",
              "  0.9909999966621399,\n",
              "  0.9916666746139526],\n",
              " 'val_loss': [0.05647317320108414,\n",
              "  0.03872533515095711,\n",
              "  0.04218798503279686,\n",
              "  0.041899148374795914,\n",
              "  0.04024219140410423,\n",
              "  0.02745973691344261,\n",
              "  0.03386285528540611,\n",
              "  0.03341878578066826,\n",
              "  0.03425917029380798,\n",
              "  0.044323455542325974]}"
            ]
          },
          "metadata": {},
          "execution_count": 25
        }
      ]
    },
    {
      "cell_type": "code",
      "source": [
        "# Plot Accuracies\n",
        "\n",
        "plt.plot(history.history['accuracy'])\n",
        "plt.plot(history.history['val_accuracy'])\n",
        "plt.title('Figure 3.3.1: Model Training Accuracy')\n",
        "plt.ylabel('Accuracy')\n",
        "plt.xlabel('Epoch')\n",
        "plt.legend(['Training', 'Validation'], loc='lower left')\n",
        "plt.show()"
      ],
      "metadata": {
        "colab": {
          "base_uri": "https://localhost:8080/",
          "height": 295
        },
        "id": "q8VTN-cSU2te",
        "outputId": "e1758518-cf41-4bbd-d5a8-620b36bb3e89"
      },
      "execution_count": 26,
      "outputs": [
        {
          "output_type": "display_data",
          "data": {
            "text/plain": [
              "<Figure size 432x288 with 1 Axes>"
            ],
            "image/png": "[encoded data removed]"
          },
          "metadata": {
            "needs_background": "light"
          }
        }
      ]
    },
    {
      "cell_type": "code",
      "source": [
        "plt.plot(history.history['loss'])\n",
        "plt.plot(history.history['val_loss'])\n",
        "plt.title('Figure 3.3.2: Model Training Loss')\n",
        "plt.ylabel('Loss')\n",
        "plt.xlabel('Epoch')\n",
        "plt.legend(['Training', 'Validation'], loc='lower left')\n",
        "plt.show()"
      ],
      "metadata": {
        "colab": {
          "base_uri": "https://localhost:8080/",
          "height": 295
        },
        "id": "gsqjpm_QU2wZ",
        "outputId": "a3a86bd7-733b-4de7-f243-745e8bff51bf"
      },
      "execution_count": 27,
      "outputs": [
        {
          "output_type": "display_data",
          "data": {
            "text/plain": [
              "<Figure size 432x288 with 1 Axes>"
            ],
            "image/png": "[encoded data removed]"
          },
          "metadata": {
            "needs_background": "light"
          }
        }
      ]
    },
    {
      "cell_type": "code",
      "source": [
        "# Evaluate the model on the Test data\n",
        "\n",
        "cnn1.evaluate(x_test, y_test)"
      ],
      "metadata": {
        "colab": {
          "base_uri": "https://localhost:8080/"
        },
        "id": "lWGmzWLcIBri",
        "outputId": "ac67f0c7-0b76-4ea8-d4fb-103122252825"
      },
      "execution_count": 28,
      "outputs": [
        {
          "output_type": "stream",
          "name": "stdout",
          "text": [
            "313/313 [==============================] - 1s 3ms/step - loss: 0.0320 - accuracy: 0.9921\n"
          ]
        },
        {
          "output_type": "execute_result",
          "data": {
            "text/plain": [
              "[0.0320158377289772, 0.9921000003814697]"
            ]
          },
          "metadata": {},
          "execution_count": 28
        }
      ]
    },
    {
      "cell_type": "markdown",
      "source": [
        "We can see good convergence of our accuracy and losses throughout fitting. We could have stopped with much fewer epochs to achieve a similar result. In fact, 5-6 Epochs would be the ideal spot, as both values are slightly closer there, indicating a small amount of overfitting with the additional training.\n",
        "\n",
        "On our test data, we achieve very respectable results of 99.21% accuracy and 0.032 Cross-Entropy Loss.\n",
        "\n",
        "We should check to see which digits are being mis-classified the most, as that may help inform on the performance of the model."
      ],
      "metadata": {
        "id": "_ALnwf1LaOTN"
      }
    },
    {
      "cell_type": "code",
      "source": [
        "y_pred = cnn1.predict(x_test)"
      ],
      "metadata": {
        "id": "lT5WvW7fT5x3"
      },
      "execution_count": 29,
      "outputs": []
    },
    {
      "cell_type": "code",
      "source": [
        "np.shape(y_pred)"
      ],
      "metadata": {
        "colab": {
          "base_uri": "https://localhost:8080/"
        },
        "id": "dNOBzkdCSbR2",
        "outputId": "f24ce6e6-8486-4197-fdfa-f268be132b11"
      },
      "execution_count": 30,
      "outputs": [
        {
          "output_type": "execute_result",
          "data": {
            "text/plain": [
              "(10000, 10)"
            ]
          },
          "metadata": {},
          "execution_count": 30
        }
      ]
    },
    {
      "cell_type": "code",
      "source": [
        "# the Predict function of our model returns the probabilities of each label\n",
        "# To turn that into a label, we will iterate through them, picking the maximum probability\n",
        "# Then we can compare with our \n",
        "\n",
        "y_prediction = []\n",
        "\n",
        "for i in range (10000):\n",
        "  y_prediction.append( np.argmax(y_pred[i]))"
      ],
      "metadata": {
        "id": "SStFf7jmSbVK"
      },
      "execution_count": 31,
      "outputs": []
    },
    {
      "cell_type": "code",
      "source": [
        "from sklearn.metrics import confusion_matrix\n",
        "from sklearn.metrics import ConfusionMatrixDisplay\n"
      ],
      "metadata": {
        "id": "uvYUCq4cSbav"
      },
      "execution_count": 32,
      "outputs": []
    },
    {
      "cell_type": "code",
      "source": [
        "# Check the data for the most common values in the test set\n",
        "\n",
        "import pandas as pd\n",
        "pd.DataFrame(y_test).value_counts()"
      ],
      "metadata": {
        "colab": {
          "base_uri": "https://localhost:8080/"
        },
        "id": "VRrFHjV_SbjV",
        "outputId": "1821c584-4a61-4f05-c1b6-6e1f7ba9ea6d"
      },
      "execution_count": 33,
      "outputs": [
        {
          "output_type": "execute_result",
          "data": {
            "text/plain": [
              "1    1135\n",
              "2    1032\n",
              "7    1028\n",
              "3    1010\n",
              "9    1009\n",
              "4     982\n",
              "0     980\n",
              "8     974\n",
              "6     958\n",
              "5     892\n",
              "dtype: int64"
            ]
          },
          "metadata": {},
          "execution_count": 33
        }
      ]
    },
    {
      "cell_type": "code",
      "source": [
        "ConfusionMatrixDisplay.from_predictions(y_test, y_prediction)"
      ],
      "metadata": {
        "colab": {
          "base_uri": "https://localhost:8080/",
          "height": 296
        },
        "id": "3w7EtlMrIBzq",
        "outputId": "4bda252c-8b3c-45a6-e89f-2539f81e0514"
      },
      "execution_count": 34,
      "outputs": [
        {
          "output_type": "execute_result",
          "data": {
            "text/plain": [
              "<sklearn.metrics._plot.confusion_matrix.ConfusionMatrixDisplay at 0x7f0f4965b850>"
            ]
          },
          "metadata": {},
          "execution_count": 34
        },
        {
          "output_type": "display_data",
          "data": {
            "text/plain": [
              "<Figure size 432x288 with 2 Axes>"
            ],
            "image/png": "[encoded data removed]"
          },
          "metadata": {
            "needs_background": "light"
          }
        }
      ]
    },
    {
      "cell_type": "markdown",
      "source": [
        "We can see that most of the more common mis-classifications follow some similarities about the features present in the written structures of the digits:\n",
        "\n",
        "8 is mislabelled as 0 (5 times), as both have loops;\n",
        "9 is mis labelled as 4 (4 times) and 4 mis labelled as a 9 (5 times), as both have a closed shape on top of a vertical line;\n",
        "5 is mis-labelled as a 3 (7 times), as both have sideways C-shapes;\n",
        "2 is mis-labelled as 7 (5 times), as both can be similar save for the line/bar on the bottom of the 2;\n",
        "etc.\n",
        "\n",
        "Overall, with an accuracy of just over 99%, I am quite satisfied with the performance of this classifier."
      ],
      "metadata": {
        "id": "hRKvOfSphz3E"
      }
    },
    {
      "cell_type": "markdown",
      "source": [
        "## References\n",
        "\n",
        "I was well assisted by several references and coding tutorials. In particular, the tutorials gave good starting points for the model's parameters.\n",
        "\n",
        "\n",
        "Kodabakhsh, H. (n.d.). Read MNIST Dataset | Kaggle. Kaggle.Com. Retrieved July 18, 2022, from https://www.kaggle.com/code/hojjatk/read-mnist-dataset/notebook\n",
        "\n",
        "Ductileasy. (2021, January 2). #02 Convolutional neural network : MNIST Dataset (99% accuracy) [Video]. YouTube. https://www.youtube.com/watch?v=9cPMFTwBdM4\n",
        "\n",
        "Goeduhub Technologies. (2021, April 8). How to develop a Convolutional Neural Network MNIST Handwritten digits classification Tensorflow 2.x [Video]. YouTube. https://www.youtube.com/watch?v=K3ZarjvT24I"
      ],
      "metadata": {
        "id": "pRGFL_5m1Xtu"
      }
    },
    {
      "cell_type": "code",
      "source": [
        ""
      ],
      "metadata": {
        "id": "czezoinOmlqj"
      },
      "execution_count": 18,
      "outputs": []
    }
  ]
}