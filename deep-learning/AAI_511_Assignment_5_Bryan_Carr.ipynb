{
  "nbformat": 4,
  "nbformat_minor": 0,
  "metadata": {
    "colab": {
      "provenance": []
    },
    "kernelspec": {
      "name": "python3",
      "display_name": "Python 3"
    },
    "language_info": {
      "name": "python"
    },
    "gpuClass": "standard",
    "accelerator": "GPU"
  },
  "cells": [
    {
      "cell_type": "markdown",
      "source": [
        "# AAI 511 - Assignment 5 - Natural Language Processing\n",
        "\n",
        "by Bryan Carr\n",
        "\n",
        "1 August, 2022\n",
        "\n",
        "for USD's AAI 511 Course\n",
        "\n",
        "\n",
        "In this assignment, we will build a classifier for the well known IMDB dataset of movie reviews. The intent is to create a basic sentiment analyzer, to classify reviews as having a positive or negative impression of the movies. We will build this as a RNN into a Dense layer for classification.\n",
        "\n",
        "First we will import some of the key libraries, and read in the data."
      ],
      "metadata": {
        "id": "zeZC0d2CZcQI"
      }
    },
    {
      "cell_type": "code",
      "source": [
        "import pandas as pd\n",
        "import numpy as np\n",
        "import re\n",
        "import nltk\n",
        "from nltk.corpus import stopwords\n",
        "import matplotlib.pyplot as plt\n",
        "import seaborn as sns\n",
        "import tensorflow as tf\n",
        "\n",
        "from keras.preprocessing.text import one_hot, Tokenizer\n",
        "from keras.preprocessing.sequence import pad_sequences\n",
        "from keras.models import Sequential\n",
        "from keras.layers import Dense, Dropout, Activation, SimpleRNN, Embedding, LSTM\n",
        "from keras.callbacks import EarlyStopping\n",
        "\n",
        "from sklearn.metrics import confusion_matrix, ConfusionMatrixDisplay, recall_score, precision_score, f1_score\n"
      ],
      "metadata": {
        "id": "4UItGUO8Zcxo"
      },
      "execution_count": null,
      "outputs": []
    },
    {
      "cell_type": "code",
      "source": [
        "# Set Random Seeds\n",
        "\n",
        "np.random.seed(801)\n",
        "tf.random.set_seed(801)"
      ],
      "metadata": {
        "id": "BffmLZeuyiZe"
      },
      "execution_count": null,
      "outputs": []
    },
    {
      "cell_type": "code",
      "source": [
        "# Import the data\n",
        "from keras.datasets import imdb"
      ],
      "metadata": {
        "id": "wVhVI2ntbW8K"
      },
      "execution_count": null,
      "outputs": []
    },
    {
      "cell_type": "code",
      "source": [
        "# We want to determine the most frequent words which we should skip\n",
        "# Load in the word dictionary\n",
        "review_dict = imdb.get_word_index(path=\"imdb_word_index.json\")\n"
      ],
      "metadata": {
        "colab": {
          "base_uri": "https://localhost:8080/"
        },
        "id": "J-ofqW6bjtUH",
        "outputId": "34841305-793d-44f8-a4ac-06a786f81c4a"
      },
      "execution_count": null,
      "outputs": [
        {
          "output_type": "stream",
          "name": "stdout",
          "text": [
            "Downloading data from https://storage.googleapis.com/tensorflow/tf-keras-datasets/imdb_word_index.json\n",
            "1646592/1641221 [==============================] - 0s 0us/step\n",
            "1654784/1641221 [==============================] - 0s 0us/step\n"
          ]
        }
      ]
    },
    {
      "cell_type": "code",
      "source": [
        "# Print 30 most common words\n",
        "\n",
        "for keys, values in review_dict.items():\n",
        "  for i in range (1,30):\n",
        "    if values == i: print(str(values) + \" -> key: \" + str(keys))"
      ],
      "metadata": {
        "colab": {
          "base_uri": "https://localhost:8080/"
        },
        "id": "fWRqUdnujtdz",
        "outputId": "1b594edb-9a47-4dcb-b3f6-cd29ffced387"
      },
      "execution_count": null,
      "outputs": [
        {
          "output_type": "stream",
          "name": "stdout",
          "text": [
            "16 -> key: with\n",
            "28 -> key: one\n",
            "25 -> key: have\n",
            "10 -> key: i\n",
            "26 -> key: he\n",
            "14 -> key: as\n",
            "9 -> key: it\n",
            "6 -> key: is\n",
            "8 -> key: in\n",
            "18 -> key: but\n",
            "20 -> key: on\n",
            "4 -> key: of\n",
            "24 -> key: his\n",
            "29 -> key: all\n",
            "11 -> key: this\n",
            "21 -> key: not\n",
            "22 -> key: you\n",
            "3 -> key: a\n",
            "15 -> key: for\n",
            "27 -> key: be\n",
            "7 -> key: br\n",
            "1 -> key: the\n",
            "13 -> key: was\n",
            "2 -> key: and\n",
            "5 -> key: to\n",
            "19 -> key: film\n",
            "17 -> key: movie\n",
            "12 -> key: that\n",
            "23 -> key: are\n"
          ]
        }
      ]
    },
    {
      "cell_type": "markdown",
      "source": [
        "I would expect the word 'But' at index=18 to start to be important. Certainly 'Not' at index=21 would be important. We might also expect 'Was' at index=13 to convey conditions. \n",
        "\n",
        "Therefore I will set my cutoff lower, at 10, to remove the 10 most common words.\n",
        "\n",
        "I will also limit the number of words to the 20,000 most frequent, to help limit the overall size of the dataset."
      ],
      "metadata": {
        "id": "2nVIp7m5lnAP"
      }
    },
    {
      "cell_type": "code",
      "source": [
        "# Load in the data\n",
        "# With OOV_Char = None, the truncated and removed words will not be replaced with anything, giving us the desired smaller dataset\n",
        "\n",
        "max_words = 20000\n",
        "\n",
        "(x_train, y_train), (x_test, y_test) = imdb.load_data(path=\"imdb.npz\",\n",
        "                                                      num_words=max_words,\n",
        "                                                      skip_top=10,\n",
        "                                                      maxlen=None,\n",
        "                                                      seed=801,\n",
        "                                                      start_char=1,\n",
        "                                                      oov_char=None,\n",
        "                                                      index_from=3\n",
        "                                                      )\n"
      ],
      "metadata": {
        "colab": {
          "base_uri": "https://localhost:8080/"
        },
        "id": "vkc0tua_bh-0",
        "outputId": "eb751ca8-ea8f-4111-aeba-05aee10f2cc7"
      },
      "execution_count": null,
      "outputs": [
        {
          "output_type": "stream",
          "name": "stdout",
          "text": [
            "Downloading data from https://storage.googleapis.com/tensorflow/tf-keras-datasets/imdb.npz\n",
            "17465344/17464789 [==============================] - 0s 0us/step\n",
            "17473536/17464789 [==============================] - 0s 0us/step\n"
          ]
        }
      ]
    },
    {
      "cell_type": "code",
      "source": [
        "# View a sample of the first 3 entries\n",
        "x_train[0:3]"
      ],
      "metadata": {
        "colab": {
          "base_uri": "https://localhost:8080/"
        },
        "id": "6jXA4laIblvG",
        "outputId": "9ed9237b-4377-4f25-8099-19ccc7dc1d3a"
      },
      "execution_count": null,
      "outputs": [
        {
          "output_type": "execute_result",
          "data": {
            "text/plain": [
              "array([list([348, 425, 7497, 953, 498, 13, 16, 1623, 18, 43, 44, 233, 382, 61, 6615, 71, 918, 43, 227, 312, 88, 13, 16, 317, 117, 2245, 10, 10, 22, 1051, 780, 23, 1796, 2026, 383, 20, 130, 56, 33, 680, 313, 54, 36, 79, 416, 11, 5382, 1197, 118, 96, 1142, 2193, 28, 383, 121, 1481, 14, 270, 56, 77, 343, 159, 1474, 133, 9325, 8383, 876, 383, 24, 1668, 123, 32, 6610, 13299, 665, 71, 4667, 11, 1898, 18, 196, 58, 51, 617, 46, 20, 497, 17, 254, 17, 12, 70, 123, 529, 43, 89, 7670, 383, 70, 30, 10, 10, 6929, 32, 9574, 7787, 23, 7934, 969, 625, 6174, 13, 191, 10783, 287, 56, 778, 5330, 349, 10084, 372, 95, 5330, 98, 99, 49, 7324, 26, 227, 76, 91, 3735, 255, 260, 41, 9465, 1906, 46, 143, 41, 14170, 42, 160, 255, 9162, 46, 538, 21, 900, 599, 184, 1273, 2396, 10, 10, 1116, 22, 1906, 180, 34, 45, 205, 4627, 45, 99, 120, 16795, 30, 16537, 189, 431, 99, 2943, 157, 17, 383, 509, 18351, 70, 157, 21, 50, 359, 30, 2972, 10, 10, 470, 158]),\n",
              "       list([4682, 312, 382, 91, 2184, 1179, 509, 3486, 12, 31, 171, 108, 11, 512, 15, 8483, 469, 15, 112, 301, 12, 82, 4066, 2699, 23, 1273, 1179, 2063, 604, 185, 349, 372, 79, 556, 31, 34, 31, 17479, 366, 477, 4901, 10, 10, 282, 138, 4682, 312, 1407, 752, 91, 102, 11, 94, 512, 15, 12, 271, 53, 120, 350, 4897, 455, 47, 52, 282, 1070, 5782, 429, 27, 1138, 8176, 36, 14833, 90, 17, 29, 3405, 1298, 11, 3919, 9762, 673, 3014, 33, 27, 11588, 19, 350, 12, 125, 17573, 27, 1067, 3491, 2846, 38, 12, 100, 90, 10, 10, 38, 1484, 11, 14, 20, 26, 44, 17, 6112, 17, 25, 79, 54, 36, 7563, 153, 303, 33, 312, 396, 3134, 276, 23, 34, 4897, 309, 25, 923, 36, 774, 14188, 32, 15, 76, 507, 762, 10, 10, 12, 330, 11302, 138, 36, 62, 24, 594, 138, 36, 71, 64, 663, 123, 56, 3134, 63, 34, 96, 1428, 33, 396, 15, 47, 237, 1583, 83, 37, 62, 104, 45, 52, 326, 3163, 3640, 10257, 258, 11, 2628, 1430, 11, 673, 15, 571, 28, 68, 154, 17, 73, 17, 23, 2444, 50, 26, 111, 9216, 1804, 529, 738, 193, 358, 14, 22, 277, 166, 117, 42, 57, 281, 6243, 28, 680, 1897, 89, 4324, 251, 495, 20, 2452, 15, 9138, 26, 57, 1207, 1668, 103, 10897, 10, 10, 11, 32, 20, 31, 118, 2685, 1179, 512, 466, 32, 94, 1508, 12, 254, 391, 138, 12, 1481, 246, 258, 94, 96, 288, 54, 38, 111, 85, 521, 4209, 1179, 1554, 26, 15076, 19, 318, 14426]),\n",
              "       list([14, 664, 15, 385, 46, 3620, 157, 2280, 3859, 3852, 625, 602, 47, 196, 77, 11, 317, 23, 703, 34, 42, 4508, 132, 12, 778, 19, 4311, 3283, 1315, 13521, 19, 84, 231, 87, 2593, 117, 183, 531, 312, 4991, 4920, 3532, 12, 218, 66, 93, 55, 788, 4268, 23, 89, 194, 273, 89, 111, 84, 26, 50, 89, 507, 187, 1005, 11, 117, 4177, 17692, 22, 82, 287, 3852, 780, 23, 3676, 2438, 81, 131, 7514, 134, 84, 1005, 3283, 662, 19, 27, 1051, 17, 29, 127, 38, 14, 182, 6164, 45, 2143, 33, 222, 124, 134, 9995, 1218, 713, 170, 30, 1353, 209, 406, 544, 17, 420, 11, 12977, 1043, 664, 44, 1644, 1600, 2933, 5375, 758, 1367, 1218, 84, 963, 437, 513, 111, 8622, 66, 112, 6877, 46, 34, 1126, 10781, 126, 19, 686, 5045, 324, 117, 250, 11, 14263, 41, 205, 3243, 1889, 46, 6035, 772, 2162, 220, 1963, 74, 59, 49, 134, 139, 663, 19, 3605, 3010, 11, 1824, 8124, 1370, 238, 28, 77, 324, 12905, 34, 10438, 3852, 21, 14, 3852, 218, 17, 928, 11, 319, 84, 56, 491, 27, 12749, 1370, 90, 1198, 11, 200, 1043, 9954, 682, 3859, 6193, 2075, 10, 10, 32, 14, 571, 11, 2714, 265, 151, 50, 908, 929, 11, 328, 428, 3852, 780, 187, 1058, 2138, 11, 12, 6712, 56, 34, 228, 11, 162, 559, 5394, 405, 15, 9644, 9346, 50, 26, 52, 111, 9681, 157, 42, 71, 49, 98, 93, 34, 22, 1051, 12, 218, 93, 788, 10, 10, 2498, 17861, 403, 3852, 75, 67, 84, 4635, 143, 27, 307, 157, 194, 905, 10333, 3398, 3946, 650, 370, 1399, 1218, 19, 2252, 8905, 3159, 15, 17861, 166, 141, 955, 4149, 1268, 1370, 15, 26, 2027, 1981, 744, 26, 357, 29, 7628, 309, 15, 29, 304, 57, 993, 759, 54, 75, 26, 502, 1661, 27, 1218, 19, 148, 1059, 34, 10847, 744, 598, 4446, 826, 17976, 157, 220, 4655, 243, 3041, 21, 29, 800, 178, 1370, 15, 48, 75, 168, 3280, 2596, 68, 368, 465, 65, 9185, 57, 551, 89, 8625, 2882, 6193, 98, 203, 30, 10, 10, 13336, 21, 24, 1097, 2994, 12, 17861, 625, 544, 7363, 91, 22, 17, 12, 10423, 120, 998, 8332, 17976, 203, 28, 1581, 27, 2740, 478, 157, 21, 36, 1166, 164, 21, 44, 89, 1106, 2546, 1225, 26, 11568, 23, 3239, 63, 80, 521, 46, 15, 2714, 47, 216, 83, 500, 2557, 522, 38, 203, 3524, 46, 402, 19, 7374, 602, 62, 30, 76, 2798, 48, 50, 71, 14731, 162, 1008, 10182, 12, 1007, 18, 149, 12, 26, 107, 67, 7316, 17976, 157, 2821, 10515, 9906, 29, 4726, 6245, 38, 1293, 7679, 139, 39, 4311, 1190, 247, 4442, 682, 2714, 10, 10, 88, 6198, 2559, 326, 425, 764, 1391, 12, 60, 186, 162, 5064, 36, 26, 21, 36, 26, 247, 74, 10250, 42, 238, 30, 128, 2818, 50, 76, 673, 317, 34, 14, 664, 18, 53, 8623, 3165, 157, 23, 22, 44, 14, 1774, 875, 148, 37, 181, 124, 53, 44, 2498, 17861, 238, 81, 128, 27, 1151, 42])],\n",
              "      dtype=object)"
            ]
          },
          "metadata": {},
          "execution_count": 7
        }
      ]
    },
    {
      "cell_type": "code",
      "source": [
        "y_train"
      ],
      "metadata": {
        "colab": {
          "base_uri": "https://localhost:8080/"
        },
        "id": "r_Gj8DuVeRil",
        "outputId": "f2fa4dee-a66c-45af-aafe-fa56e1f9da8a"
      },
      "execution_count": null,
      "outputs": [
        {
          "output_type": "execute_result",
          "data": {
            "text/plain": [
              "array([0, 1, 1, ..., 1, 1, 1])"
            ]
          },
          "metadata": {},
          "execution_count": 8
        }
      ]
    },
    {
      "cell_type": "code",
      "source": [
        "x_train.shape"
      ],
      "metadata": {
        "colab": {
          "base_uri": "https://localhost:8080/"
        },
        "id": "SmUCLv3teSbf",
        "outputId": "82f7c30a-a500-42e7-d270-9c3b7f3bfdf8"
      },
      "execution_count": null,
      "outputs": [
        {
          "output_type": "execute_result",
          "data": {
            "text/plain": [
              "(25000,)"
            ]
          },
          "metadata": {},
          "execution_count": 9
        }
      ]
    },
    {
      "cell_type": "code",
      "source": [
        "y_train.shape"
      ],
      "metadata": {
        "colab": {
          "base_uri": "https://localhost:8080/"
        },
        "id": "6PHq4A2Be-dA",
        "outputId": "536d33d3-6632-4ef4-9c18-47c9a97a03d6"
      },
      "execution_count": null,
      "outputs": [
        {
          "output_type": "execute_result",
          "data": {
            "text/plain": [
              "(25000,)"
            ]
          },
          "metadata": {},
          "execution_count": 10
        }
      ]
    },
    {
      "cell_type": "code",
      "source": [
        "x_test.shape"
      ],
      "metadata": {
        "colab": {
          "base_uri": "https://localhost:8080/"
        },
        "id": "DR-iTzv2fB0U",
        "outputId": "0cc49e8b-3b19-428e-f291-602047a3c42e"
      },
      "execution_count": null,
      "outputs": [
        {
          "output_type": "execute_result",
          "data": {
            "text/plain": [
              "(25000,)"
            ]
          },
          "metadata": {},
          "execution_count": 11
        }
      ]
    },
    {
      "cell_type": "markdown",
      "source": [
        "## Preprocessing\n",
        "\n",
        "We will now preprocess our data with Pad_Sequences. This will cut/truncate our data down to that point, which should be enough to give us a positive or negative impression of the reviews."
      ],
      "metadata": {
        "id": "zgp_82tqqh0x"
      }
    },
    {
      "cell_type": "code",
      "source": [
        "maxlength = 100\n",
        "\n",
        "x_train = pad_sequences(x_train, maxlen=maxlength)\n",
        "x_test = pad_sequences(x_test, maxlen=maxlength)"
      ],
      "metadata": {
        "id": "_OJraNVIpwtt"
      },
      "execution_count": null,
      "outputs": []
    },
    {
      "cell_type": "code",
      "source": [
        "# Check the first 3 entries\n",
        "x_train[0:3]\n"
      ],
      "metadata": {
        "colab": {
          "base_uri": "https://localhost:8080/"
        },
        "id": "LaNGMChDqzYa",
        "outputId": "b5a38de6-2d5c-48a4-9423-8f9166f99079"
      },
      "execution_count": null,
      "outputs": [
        {
          "output_type": "execute_result",
          "data": {
            "text/plain": [
              "array([[   17,    12,    70,   123,   529,    43,    89,  7670,   383,\n",
              "           70,    30,    10,    10,  6929,    32,  9574,  7787,    23,\n",
              "         7934,   969,   625,  6174,    13,   191, 10783,   287,    56,\n",
              "          778,  5330,   349, 10084,   372,    95,  5330,    98,    99,\n",
              "           49,  7324,    26,   227,    76,    91,  3735,   255,   260,\n",
              "           41,  9465,  1906,    46,   143,    41, 14170,    42,   160,\n",
              "          255,  9162,    46,   538,    21,   900,   599,   184,  1273,\n",
              "         2396,    10,    10,  1116,    22,  1906,   180,    34,    45,\n",
              "          205,  4627,    45,    99,   120, 16795,    30, 16537,   189,\n",
              "          431,    99,  2943,   157,    17,   383,   509, 18351,    70,\n",
              "          157,    21,    50,   359,    30,  2972,    10,    10,   470,\n",
              "          158],\n",
              "       [ 1583,    83,    37,    62,   104,    45,    52,   326,  3163,\n",
              "         3640, 10257,   258,    11,  2628,  1430,    11,   673,    15,\n",
              "          571,    28,    68,   154,    17,    73,    17,    23,  2444,\n",
              "           50,    26,   111,  9216,  1804,   529,   738,   193,   358,\n",
              "           14,    22,   277,   166,   117,    42,    57,   281,  6243,\n",
              "           28,   680,  1897,    89,  4324,   251,   495,    20,  2452,\n",
              "           15,  9138,    26,    57,  1207,  1668,   103, 10897,    10,\n",
              "           10,    11,    32,    20,    31,   118,  2685,  1179,   512,\n",
              "          466,    32,    94,  1508,    12,   254,   391,   138,    12,\n",
              "         1481,   246,   258,    94,    96,   288,    54,    38,   111,\n",
              "           85,   521,  4209,  1179,  1554,    26, 15076,    19,   318,\n",
              "        14426],\n",
              "       [ 7374,   602,    62,    30,    76,  2798,    48,    50,    71,\n",
              "        14731,   162,  1008, 10182,    12,  1007,    18,   149,    12,\n",
              "           26,   107,    67,  7316, 17976,   157,  2821, 10515,  9906,\n",
              "           29,  4726,  6245,    38,  1293,  7679,   139,    39,  4311,\n",
              "         1190,   247,  4442,   682,  2714,    10,    10,    88,  6198,\n",
              "         2559,   326,   425,   764,  1391,    12,    60,   186,   162,\n",
              "         5064,    36,    26,    21,    36,    26,   247,    74, 10250,\n",
              "           42,   238,    30,   128,  2818,    50,    76,   673,   317,\n",
              "           34,    14,   664,    18,    53,  8623,  3165,   157,    23,\n",
              "           22,    44,    14,  1774,   875,   148,    37,   181,   124,\n",
              "           53,    44,  2498, 17861,   238,    81,   128,    27,  1151,\n",
              "           42]], dtype=int32)"
            ]
          },
          "metadata": {},
          "execution_count": 13
        }
      ]
    },
    {
      "cell_type": "code",
      "source": [
        "x_train.shape"
      ],
      "metadata": {
        "colab": {
          "base_uri": "https://localhost:8080/"
        },
        "id": "AXWNO_lvq29J",
        "outputId": "f38faa79-d2cf-4ab1-ff9b-a14bd14ed4db"
      },
      "execution_count": null,
      "outputs": [
        {
          "output_type": "execute_result",
          "data": {
            "text/plain": [
              "(25000, 100)"
            ]
          },
          "metadata": {},
          "execution_count": 14
        }
      ]
    },
    {
      "cell_type": "code",
      "source": [
        "x_test.shape"
      ],
      "metadata": {
        "colab": {
          "base_uri": "https://localhost:8080/"
        },
        "id": "lwo-90iQq6Yj",
        "outputId": "128cb7d3-681c-4aea-a445-01cf61f5cb1b"
      },
      "execution_count": null,
      "outputs": [
        {
          "output_type": "execute_result",
          "data": {
            "text/plain": [
              "(25000, 100)"
            ]
          },
          "metadata": {},
          "execution_count": 15
        }
      ]
    },
    {
      "cell_type": "markdown",
      "source": [
        "## Build the Simple RNN\n",
        "\n",
        "We will now build a classifier using a Simple RNN layer.\n",
        "\n",
        "We will build an embedding layer with 32 dimensions (a seemingly standard number)."
      ],
      "metadata": {
        "id": "Kx1hXmKCuExe"
      }
    },
    {
      "cell_type": "code",
      "source": [
        "rnn_classifier = Sequential()\n",
        "\n",
        "rnn_classifier.add(Embedding(max_words, 32, input_length=maxlength ) )\n",
        "\n",
        "rnn_classifier.add(SimpleRNN(20, input_shape = (max_words, maxlength) ))\n",
        "rnn_classifier.add(Dropout(0.2))\n",
        "\n",
        "rnn_classifier.add(Dense(1, activation='sigmoid', name='output'))"
      ],
      "metadata": {
        "id": "vW1UY_NUs6Vf"
      },
      "execution_count": null,
      "outputs": []
    },
    {
      "cell_type": "code",
      "source": [
        "rnn_classifier.summary()"
      ],
      "metadata": {
        "colab": {
          "base_uri": "https://localhost:8080/"
        },
        "id": "OVDMqdFMup81",
        "outputId": "1e644688-5dbb-43c0-8af4-8d27c97d28ea"
      },
      "execution_count": null,
      "outputs": [
        {
          "output_type": "stream",
          "name": "stdout",
          "text": [
            "Model: \"sequential\"\n",
            "_________________________________________________________________\n",
            " Layer (type)                Output Shape              Param #   \n",
            "=================================================================\n",
            " embedding (Embedding)       (None, 100, 32)           640000    \n",
            "                                                                 \n",
            " simple_rnn (SimpleRNN)      (None, 20)                1060      \n",
            "                                                                 \n",
            " dropout (Dropout)           (None, 20)                0         \n",
            "                                                                 \n",
            " output (Dense)              (None, 1)                 21        \n",
            "                                                                 \n",
            "=================================================================\n",
            "Total params: 641,081\n",
            "Trainable params: 641,081\n",
            "Non-trainable params: 0\n",
            "_________________________________________________________________\n"
          ]
        }
      ]
    },
    {
      "cell_type": "code",
      "source": [
        "# Compile the Classifier\n",
        "\n",
        "rnn_classifier.compile(optimizer='adam', loss='binary_crossentropy', metrics=['acc'])"
      ],
      "metadata": {
        "id": "DpcPmuuuzz47"
      },
      "execution_count": null,
      "outputs": []
    },
    {
      "cell_type": "code",
      "source": [
        "# Create our Early Stopping Callback\n",
        "# We will stop at the Minimum, with a 20-epoch patience tolerance added, in case we are stopping on a local minima and could do better\n",
        "\n",
        "es = EarlyStopping(monitor='val_loss', mode='auto', patience=15, verbose=1)"
      ],
      "metadata": {
        "id": "7yw7iTjP0jar"
      },
      "execution_count": null,
      "outputs": []
    },
    {
      "cell_type": "code",
      "source": [
        "# Fit the RNN, saving the info as History\n",
        "\n",
        "history = rnn_classifier.fit(x_train, y_train, validation_split = 0.2, epochs=100, batch_size=100, verbose=1, callbacks=es)"
      ],
      "metadata": {
        "colab": {
          "base_uri": "https://localhost:8080/"
        },
        "id": "BRUH3kSuuqaW",
        "outputId": "1d8917f3-a037-4a6d-a014-a09ac6670ae2"
      },
      "execution_count": null,
      "outputs": [
        {
          "output_type": "stream",
          "name": "stdout",
          "text": [
            "Epoch 1/100\n",
            "200/200 [==============================] - 14s 72ms/step - loss: 0.0099 - acc: 0.9978 - val_loss: 0.7287 - val_acc: 0.8148\n",
            "Epoch 2/100\n",
            "200/200 [==============================] - 14s 71ms/step - loss: 0.0129 - acc: 0.9965 - val_loss: 0.7414 - val_acc: 0.8306\n",
            "Epoch 3/100\n",
            "200/200 [==============================] - 14s 72ms/step - loss: 0.0042 - acc: 0.9991 - val_loss: 0.7467 - val_acc: 0.8312\n",
            "Epoch 4/100\n",
            "200/200 [==============================] - 14s 72ms/step - loss: 0.0023 - acc: 0.9998 - val_loss: 0.7813 - val_acc: 0.8252\n",
            "Epoch 5/100\n",
            "200/200 [==============================] - 15s 73ms/step - loss: 0.0011 - acc: 0.9999 - val_loss: 0.8166 - val_acc: 0.8274\n",
            "Epoch 6/100\n",
            "200/200 [==============================] - 15s 73ms/step - loss: 6.8120e-04 - acc: 1.0000 - val_loss: 0.8373 - val_acc: 0.8288\n",
            "Epoch 7/100\n",
            "200/200 [==============================] - 15s 75ms/step - loss: 5.5628e-04 - acc: 1.0000 - val_loss: 0.8697 - val_acc: 0.8314\n",
            "Epoch 8/100\n",
            "200/200 [==============================] - 14s 72ms/step - loss: 4.7492e-04 - acc: 1.0000 - val_loss: 0.8712 - val_acc: 0.8254\n",
            "Epoch 9/100\n",
            "200/200 [==============================] - 14s 72ms/step - loss: 4.0310e-04 - acc: 1.0000 - val_loss: 0.9095 - val_acc: 0.8318\n",
            "Epoch 10/100\n",
            "200/200 [==============================] - 14s 72ms/step - loss: 3.1697e-04 - acc: 1.0000 - val_loss: 0.9276 - val_acc: 0.8310\n",
            "Epoch 11/100\n",
            "200/200 [==============================] - 14s 71ms/step - loss: 2.6993e-04 - acc: 1.0000 - val_loss: 0.9422 - val_acc: 0.8312\n",
            "Epoch 12/100\n",
            "200/200 [==============================] - 14s 71ms/step - loss: 2.4055e-04 - acc: 1.0000 - val_loss: 0.9667 - val_acc: 0.8318\n",
            "Epoch 13/100\n",
            "200/200 [==============================] - 14s 72ms/step - loss: 2.0003e-04 - acc: 1.0000 - val_loss: 0.9895 - val_acc: 0.8306\n",
            "Epoch 14/100\n",
            "200/200 [==============================] - 15s 76ms/step - loss: 2.0187e-04 - acc: 1.0000 - val_loss: 0.9932 - val_acc: 0.8308\n",
            "Epoch 15/100\n",
            "200/200 [==============================] - 14s 72ms/step - loss: 1.6231e-04 - acc: 1.0000 - val_loss: 1.0239 - val_acc: 0.8316\n",
            "Epoch 16/100\n",
            "200/200 [==============================] - 14s 72ms/step - loss: 1.4343e-04 - acc: 1.0000 - val_loss: 1.0396 - val_acc: 0.8310\n",
            "Epoch 16: early stopping\n"
          ]
        }
      ]
    },
    {
      "cell_type": "code",
      "source": [
        "# score the test data\n",
        "\n",
        "rnn_score = rnn_classifier.evaluate(x_test, y_test, verbose=1)"
      ],
      "metadata": {
        "colab": {
          "base_uri": "https://localhost:8080/"
        },
        "id": "mC6l1VmD1mD6",
        "outputId": "f095b621-0864-4ad5-d14d-69facbfd1608"
      },
      "execution_count": null,
      "outputs": [
        {
          "output_type": "stream",
          "name": "stdout",
          "text": [
            "782/782 [==============================] - 7s 10ms/step - loss: 1.0916 - acc: 0.8259\n"
          ]
        }
      ]
    },
    {
      "cell_type": "code",
      "source": [
        " rnn_score"
      ],
      "metadata": {
        "colab": {
          "base_uri": "https://localhost:8080/"
        },
        "id": "Tuz1fHBq1s13",
        "outputId": "d0ceea85-44a8-4db9-e7e4-1b31a7fdb355"
      },
      "execution_count": null,
      "outputs": [
        {
          "output_type": "execute_result",
          "data": {
            "text/plain": [
              "[1.0916061401367188, 0.8259199857711792]"
            ]
          },
          "metadata": {},
          "execution_count": 67
        }
      ]
    },
    {
      "cell_type": "code",
      "source": [
        "rnn_pred = rnn_classifier.predict(x_test)"
      ],
      "metadata": {
        "id": "1ZzZ4clV1w5J"
      },
      "execution_count": null,
      "outputs": []
    },
    {
      "cell_type": "code",
      "source": [
        "# Reshape our predictions and round them off to Integers\n",
        "rnn_pred = np.reshape(rnn_pred, (y_test.shape)).round(1).astype('int64')\n",
        "rnn_pred"
      ],
      "metadata": {
        "colab": {
          "base_uri": "https://localhost:8080/"
        },
        "id": "RqxDOA3o4c6T",
        "outputId": "f8045729-60ad-4bc7-dddd-b86c9201d08e"
      },
      "execution_count": null,
      "outputs": [
        {
          "output_type": "execute_result",
          "data": {
            "text/plain": [
              "array([1, 0, 0, ..., 1, 0, 1])"
            ]
          },
          "metadata": {},
          "execution_count": 79
        }
      ]
    },
    {
      "cell_type": "code",
      "source": [
        "ConfusionMatrixDisplay(confusion_matrix(y_test, rnn_pred)).plot()\n",
        "plt.show()"
      ],
      "metadata": {
        "colab": {
          "base_uri": "https://localhost:8080/",
          "height": 279
        },
        "id": "LJDWOJQ613JR",
        "outputId": "4ab6abff-0446-4dc9-d8ba-19eec1b9414c"
      },
      "execution_count": null,
      "outputs": [
        {
          "output_type": "display_data",
          "data": {
            "text/plain": [
              "<Figure size 432x288 with 2 Axes>"
            ],
            "image/png": "[encoded data removed]"
          },
          "metadata": {
            "needs_background": "light"
          }
        }
      ]
    },
    {
      "cell_type": "code",
      "source": [
        "# Check F1 Score\n",
        "rnn_f1 = f1_score(y_test, rnn_pred)\n",
        "rnn_f1"
      ],
      "metadata": {
        "colab": {
          "base_uri": "https://localhost:8080/"
        },
        "id": "jcEPdpGO2nia",
        "outputId": "d40a3f07-bc9a-4cfa-9457-4d70567c53c1"
      },
      "execution_count": null,
      "outputs": [
        {
          "output_type": "execute_result",
          "data": {
            "text/plain": [
              "0.8088061963293484"
            ]
          },
          "metadata": {},
          "execution_count": 82
        }
      ]
    },
    {
      "cell_type": "code",
      "source": [
        "# Check Recall\n",
        "rnn_recall = recall_score(y_test, rnn_pred)\n",
        "rnn_recall"
      ],
      "metadata": {
        "colab": {
          "base_uri": "https://localhost:8080/"
        },
        "id": "gGIVFCBj2qkF",
        "outputId": "e0c9c76d-7016-4fe3-9ed1-aa137cd1564d"
      },
      "execution_count": null,
      "outputs": [
        {
          "output_type": "execute_result",
          "data": {
            "text/plain": [
              "0.76856"
            ]
          },
          "metadata": {},
          "execution_count": 83
        }
      ]
    },
    {
      "cell_type": "code",
      "source": [
        "# Check Precision\n",
        "rnn_precision = precision_score(y_test, rnn_pred)\n",
        "rnn_precision"
      ],
      "metadata": {
        "colab": {
          "base_uri": "https://localhost:8080/"
        },
        "id": "prYvWz5h2rH2",
        "outputId": "40a624ca-f1cd-4809-e845-e556356a12db"
      },
      "execution_count": null,
      "outputs": [
        {
          "output_type": "execute_result",
          "data": {
            "text/plain": [
              "0.853500355366027"
            ]
          },
          "metadata": {},
          "execution_count": 84
        }
      ]
    },
    {
      "cell_type": "markdown",
      "source": [
        "## LSTM Model\n",
        "\n",
        "Next we will build a LSTM model, using a LSTM layer instead of the simple RNN."
      ],
      "metadata": {
        "id": "A0t6yuQ7AC7T"
      }
    },
    {
      "cell_type": "code",
      "source": [
        "#Initialize and build the model\n",
        "\n",
        "lstm_classifier = Sequential()\n",
        "\n",
        "lstm_classifier.add(Embedding(max_words, 32, input_length=maxlength ) )\n",
        "\n",
        "lstm_classifier.add(LSTM(20, input_shape = (max_words, maxlength) ))\n",
        "lstm_classifier.add(Dropout(0.2))\n",
        "\n",
        "lstm_classifier.add(Dense(1, activation='sigmoid', name='output'))"
      ],
      "metadata": {
        "id": "WHICDx8KADN4"
      },
      "execution_count": null,
      "outputs": []
    },
    {
      "cell_type": "code",
      "source": [
        "lstm_classifier.summary()"
      ],
      "metadata": {
        "colab": {
          "base_uri": "https://localhost:8080/"
        },
        "id": "OrIAQY3VADQn",
        "outputId": "bbe41b22-d769-4d38-8bee-2a2ed6110664"
      },
      "execution_count": null,
      "outputs": [
        {
          "output_type": "stream",
          "name": "stdout",
          "text": [
            "Model: \"sequential_1\"\n",
            "_________________________________________________________________\n",
            " Layer (type)                Output Shape              Param #   \n",
            "=================================================================\n",
            " embedding_1 (Embedding)     (None, 100, 32)           640000    \n",
            "                                                                 \n",
            " lstm (LSTM)                 (None, 20)                4240      \n",
            "                                                                 \n",
            " dropout_1 (Dropout)         (None, 20)                0         \n",
            "                                                                 \n",
            " output (Dense)              (None, 1)                 21        \n",
            "                                                                 \n",
            "=================================================================\n",
            "Total params: 644,261\n",
            "Trainable params: 644,261\n",
            "Non-trainable params: 0\n",
            "_________________________________________________________________\n"
          ]
        }
      ]
    },
    {
      "cell_type": "code",
      "source": [
        "# Compile the classifier\n",
        "\n",
        "lstm_classifier.compile(optimizer='adam', loss='binary_crossentropy', metrics=['acc'])"
      ],
      "metadata": {
        "id": "WjqXOQ25ADTR"
      },
      "execution_count": null,
      "outputs": []
    },
    {
      "cell_type": "code",
      "source": [
        "# Fit the model to the training data\n",
        "\n",
        "history = lstm_classifier.fit(x_train, y_train, validation_split = 0.2, epochs=100, batch_size=100, verbose=1, callbacks=es)"
      ],
      "metadata": {
        "colab": {
          "base_uri": "https://localhost:8080/"
        },
        "id": "A3Zq7ZjTAwn1",
        "outputId": "bf03b895-b482-4ed3-814b-17168ba026c0"
      },
      "execution_count": null,
      "outputs": [
        {
          "output_type": "stream",
          "name": "stdout",
          "text": [
            "Epoch 1/100\n",
            "200/200 [==============================] - 8s 14ms/step - loss: 0.5030 - acc: 0.7473 - val_loss: 0.3241 - val_acc: 0.8622\n",
            "Epoch 2/100\n",
            "200/200 [==============================] - 1s 7ms/step - loss: 0.2491 - acc: 0.9065 - val_loss: 0.3206 - val_acc: 0.8650\n",
            "Epoch 3/100\n",
            "200/200 [==============================] - 2s 8ms/step - loss: 0.1550 - acc: 0.9488 - val_loss: 0.3603 - val_acc: 0.8642\n",
            "Epoch 4/100\n",
            "200/200 [==============================] - 2s 8ms/step - loss: 0.1015 - acc: 0.9704 - val_loss: 0.4598 - val_acc: 0.8526\n",
            "Epoch 5/100\n",
            "200/200 [==============================] - 2s 8ms/step - loss: 0.0683 - acc: 0.9810 - val_loss: 0.5181 - val_acc: 0.8486\n",
            "Epoch 6/100\n",
            "200/200 [==============================] - 2s 8ms/step - loss: 0.0482 - acc: 0.9879 - val_loss: 0.5223 - val_acc: 0.8456\n",
            "Epoch 7/100\n",
            "200/200 [==============================] - 2s 7ms/step - loss: 0.0387 - acc: 0.9894 - val_loss: 0.6298 - val_acc: 0.8424\n",
            "Epoch 8/100\n",
            "200/200 [==============================] - 1s 7ms/step - loss: 0.0354 - acc: 0.9901 - val_loss: 0.5664 - val_acc: 0.8364\n",
            "Epoch 9/100\n",
            "200/200 [==============================] - 2s 8ms/step - loss: 0.0428 - acc: 0.9868 - val_loss: 0.6298 - val_acc: 0.8400\n",
            "Epoch 10/100\n",
            "200/200 [==============================] - 2s 8ms/step - loss: 0.0294 - acc: 0.9920 - val_loss: 0.7068 - val_acc: 0.8382\n",
            "Epoch 11/100\n",
            "200/200 [==============================] - 1s 7ms/step - loss: 0.0223 - acc: 0.9945 - val_loss: 0.7902 - val_acc: 0.8392\n",
            "Epoch 12/100\n",
            "200/200 [==============================] - 2s 8ms/step - loss: 0.0225 - acc: 0.9934 - val_loss: 0.6800 - val_acc: 0.8428\n",
            "Epoch 13/100\n",
            "200/200 [==============================] - 2s 8ms/step - loss: 0.0261 - acc: 0.9927 - val_loss: 0.7400 - val_acc: 0.8408\n",
            "Epoch 14/100\n",
            "200/200 [==============================] - 1s 7ms/step - loss: 0.0187 - acc: 0.9954 - val_loss: 0.7807 - val_acc: 0.8376\n",
            "Epoch 15/100\n",
            "200/200 [==============================] - 2s 7ms/step - loss: 0.0127 - acc: 0.9969 - val_loss: 0.8231 - val_acc: 0.8428\n",
            "Epoch 16/100\n",
            "200/200 [==============================] - 2s 8ms/step - loss: 0.0107 - acc: 0.9979 - val_loss: 0.8669 - val_acc: 0.8416\n",
            "Epoch 17/100\n",
            "200/200 [==============================] - 2s 8ms/step - loss: 0.0101 - acc: 0.9977 - val_loss: 0.8987 - val_acc: 0.8412\n",
            "Epoch 17: early stopping\n"
          ]
        }
      ]
    },
    {
      "cell_type": "code",
      "source": [
        "# Score the data on the test set\n",
        "\n",
        "lstm_score = lstm_classifier.evaluate(x_test, y_test, verbose=1)"
      ],
      "metadata": {
        "colab": {
          "base_uri": "https://localhost:8080/"
        },
        "id": "Bq_8KdGdAwqe",
        "outputId": "71b553c0-862c-4c9c-ee60-c617b1eaa4af"
      },
      "execution_count": null,
      "outputs": [
        {
          "output_type": "stream",
          "name": "stdout",
          "text": [
            "782/782 [==============================] - 5s 6ms/step - loss: 1.0168 - acc: 0.8206\n"
          ]
        }
      ]
    },
    {
      "cell_type": "code",
      "source": [
        "lstm_score"
      ],
      "metadata": {
        "colab": {
          "base_uri": "https://localhost:8080/"
        },
        "id": "PWf-XxVRAwtN",
        "outputId": "1a570bd0-cc2c-4e84-b294-7c3e5d3f28af"
      },
      "execution_count": null,
      "outputs": [
        {
          "output_type": "execute_result",
          "data": {
            "text/plain": [
              "[1.0168325901031494, 0.8206400275230408]"
            ]
          },
          "metadata": {},
          "execution_count": 90
        }
      ]
    },
    {
      "cell_type": "code",
      "source": [
        "lstm_pred = lstm_classifier.predict(x_test)"
      ],
      "metadata": {
        "id": "2maOWorNAwvf"
      },
      "execution_count": null,
      "outputs": []
    },
    {
      "cell_type": "code",
      "source": [
        "# Reshape our predictions and round them off to Integers\n",
        "lstm_pred = np.reshape(lstm_pred, (y_test.shape)).round(1).astype('int64')\n",
        "lstm_pred"
      ],
      "metadata": {
        "colab": {
          "base_uri": "https://localhost:8080/"
        },
        "id": "hHSrgGlmAwx_",
        "outputId": "36636c22-68bc-43a3-ea25-12a155122a6d"
      },
      "execution_count": null,
      "outputs": [
        {
          "output_type": "execute_result",
          "data": {
            "text/plain": [
              "array([1, 0, 0, ..., 1, 0, 0])"
            ]
          },
          "metadata": {},
          "execution_count": 105
        }
      ]
    },
    {
      "cell_type": "code",
      "source": [
        "# Adding spacing to facilitate the print-out\n",
        "#\n",
        "#\n",
        "#\n",
        "#\n",
        "#\n",
        "#\n",
        "#\n",
        "#\n",
        "#\n",
        "#\n",
        "#\n",
        "ConfusionMatrixDisplay(confusion_matrix(y_test, lstm_pred)).plot()\n",
        "plt.show()"
      ],
      "metadata": {
        "colab": {
          "base_uri": "https://localhost:8080/",
          "height": 279
        },
        "id": "xrOisz9sAw0g",
        "outputId": "b08b2fc9-aeff-437d-8e08-55ed0da78c82"
      },
      "execution_count": null,
      "outputs": [
        {
          "output_type": "display_data",
          "data": {
            "text/plain": [
              "<Figure size 432x288 with 2 Axes>"
            ],
            "image/png": "[encoded data removed]"
          },
          "metadata": {
            "needs_background": "light"
          }
        }
      ]
    },
    {
      "cell_type": "code",
      "source": [
        "# Check F1 Score\n",
        "lstm_f1 = f1_score(y_test, lstm_pred)\n",
        "lstm_f1"
      ],
      "metadata": {
        "colab": {
          "base_uri": "https://localhost:8080/"
        },
        "id": "MWTgMJ-TBbCC",
        "outputId": "73d33492-902c-4c95-df8c-13c752b7471a"
      },
      "execution_count": null,
      "outputs": [
        {
          "output_type": "execute_result",
          "data": {
            "text/plain": [
              "0.7959086789521385"
            ]
          },
          "metadata": {},
          "execution_count": 107
        }
      ]
    },
    {
      "cell_type": "code",
      "source": [
        "# Check Recall Score\n",
        "lstm_recall = recall_score(y_test, lstm_pred)\n",
        "lstm_recall"
      ],
      "metadata": {
        "colab": {
          "base_uri": "https://localhost:8080/"
        },
        "id": "qCPgpxdZBbEj",
        "outputId": "db4789b1-d6c8-41c4-c39c-3c29980f562b"
      },
      "execution_count": null,
      "outputs": [
        {
          "output_type": "execute_result",
          "data": {
            "text/plain": [
              "0.73768"
            ]
          },
          "metadata": {},
          "execution_count": 108
        }
      ]
    },
    {
      "cell_type": "code",
      "source": [
        "# Check Precision Score\n",
        "lstm_precision = precision_score(y_test, lstm_pred)\n",
        "lstm_precision"
      ],
      "metadata": {
        "colab": {
          "base_uri": "https://localhost:8080/"
        },
        "id": "TDhb9u2LBbHG",
        "outputId": "24947696-8caf-4f1a-930e-ee40044ef001"
      },
      "execution_count": null,
      "outputs": [
        {
          "output_type": "execute_result",
          "data": {
            "text/plain": [
              "0.8641177021834879"
            ]
          },
          "metadata": {},
          "execution_count": 109
        }
      ]
    },
    {
      "cell_type": "markdown",
      "source": [
        "## Conclusions\n",
        "\n",
        "We built two models: one using a simple RNN and one using LSTMs. The results are summarized in a dataframe below:"
      ],
      "metadata": {
        "id": "eUOtSlHz-WHk"
      }
    },
    {
      "cell_type": "code",
      "source": [
        "results = [['rnn', rnn_score[1], rnn_f1, rnn_recall, rnn_precision], ['lstm', lstm_score[1], lstm_f1, lstm_recall, lstm_precision]]\n",
        "results_df = pd.DataFrame(results, columns=['Model Type', 'Accuracy', 'F1', 'Recall', 'Precision'])\n",
        "results_df"
      ],
      "metadata": {
        "colab": {
          "base_uri": "https://localhost:8080/",
          "height": 112
        },
        "id": "MI3ZAcBnCLl2",
        "outputId": "21e97be8-da75-434f-c148-84c2a28456f0"
      },
      "execution_count": null,
      "outputs": [
        {
          "output_type": "execute_result",
          "data": {
            "text/plain": [
              "  Model Type  Accuracy        F1   Recall  Precision\n",
              "0        rnn   0.82592  0.808806  0.76856   0.853500\n",
              "1       lstm   0.82064  0.795909  0.73768   0.864118"
            ],
            "text/html": [
              "\n",
              "  <div id=\"df-922a0a6d-54bc-4d13-85aa-a0e77b8d6dec\">\n",
              "    <div class=\"colab-df-container\">\n",
              "      <div>\n",
              "<style scoped>\n",
              "    .dataframe tbody tr th:only-of-type {\n",
              "        vertical-align: middle;\n",
              "    }\n",
              "\n",
              "    .dataframe tbody tr th {\n",
              "        vertical-align: top;\n",
              "    }\n",
              "\n",
              "    .dataframe thead th {\n",
              "        text-align: right;\n",
              "    }\n",
              "</style>\n",
              "<table border=\"1\" class=\"dataframe\">\n",
              "  <thead>\n",
              "    <tr style=\"text-align: right;\">\n",
              "      <th></th>\n",
              "      <th>Model Type</th>\n",
              "      <th>Accuracy</th>\n",
              "      <th>F1</th>\n",
              "      <th>Recall</th>\n",
              "      <th>Precision</th>\n",
              "    </tr>\n",
              "  </thead>\n",
              "  <tbody>\n",
              "    <tr>\n",
              "      <th>0</th>\n",
              "      <td>rnn</td>\n",
              "      <td>0.82592</td>\n",
              "      <td>0.808806</td>\n",
              "      <td>0.76856</td>\n",
              "      <td>0.853500</td>\n",
              "    </tr>\n",
              "    <tr>\n",
              "      <th>1</th>\n",
              "      <td>lstm</td>\n",
              "      <td>0.82064</td>\n",
              "      <td>0.795909</td>\n",
              "      <td>0.73768</td>\n",
              "      <td>0.864118</td>\n",
              "    </tr>\n",
              "  </tbody>\n",
              "</table>\n",
              "</div>\n",
              "      <button class=\"colab-df-convert\" onclick=\"convertToInteractive('df-922a0a6d-54bc-4d13-85aa-a0e77b8d6dec')\"\n",
              "              title=\"Convert this dataframe to an interactive table.\"\n",
              "              style=\"display:none;\">\n",
              "        \n",
              "  <svg xmlns=\"http://www.w3.org/2000/svg\" height=\"24px\"viewBox=\"0 0 24 24\"\n",
              "       width=\"24px\">\n",
              "    <path d=\"M0 0h24v24H0V0z\" fill=\"none\"/>\n",
              "    <path d=\"M18.56 5.44l.94 2.06.94-2.06 2.06-.94-2.06-.94-.94-2.06-.94 2.06-2.06.94zm-11 1L8.5 8.5l.94-2.06 2.06-.94-2.06-.94L8.5 2.5l-.94 2.06-2.06.94zm10 10l.94 2.06.94-2.06 2.06-.94-2.06-.94-.94-2.06-.94 2.06-2.06.94z\"/><path d=\"M17.41 7.96l-1.37-1.37c-.4-.4-.92-.59-1.43-.59-.52 0-1.04.2-1.43.59L10.3 9.45l-7.72 7.72c-.78.78-.78 2.05 0 2.83L4 21.41c.39.39.9.59 1.41.59.51 0 1.02-.2 1.41-.59l7.78-7.78 2.81-2.81c.8-.78.8-2.07 0-2.86zM5.41 20L4 18.59l7.72-7.72 1.47 1.35L5.41 20z\"/>\n",
              "  </svg>\n",
              "      </button>\n",
              "      \n",
              "  <style>\n",
              "    .colab-df-container {\n",
              "      display:flex;\n",
              "      flex-wrap:wrap;\n",
              "      gap: 12px;\n",
              "    }\n",
              "\n",
              "    .colab-df-convert {\n",
              "      background-color: #E8F0FE;\n",
              "      border: none;\n",
              "      border-radius: 50%;\n",
              "      cursor: pointer;\n",
              "      display: none;\n",
              "      fill: #1967D2;\n",
              "      height: 32px;\n",
              "      padding: 0 0 0 0;\n",
              "      width: 32px;\n",
              "    }\n",
              "\n",
              "    .colab-df-convert:hover {\n",
              "      background-color: #E2EBFA;\n",
              "      box-shadow: 0px 1px 2px rgba(60, 64, 67, 0.3), 0px 1px 3px 1px rgba(60, 64, 67, 0.15);\n",
              "      fill: #174EA6;\n",
              "    }\n",
              "\n",
              "    [theme=dark] .colab-df-convert {\n",
              "      background-color: #3B4455;\n",
              "      fill: #D2E3FC;\n",
              "    }\n",
              "\n",
              "    [theme=dark] .colab-df-convert:hover {\n",
              "      background-color: #434B5C;\n",
              "      box-shadow: 0px 1px 3px 1px rgba(0, 0, 0, 0.15);\n",
              "      filter: drop-shadow(0px 1px 2px rgba(0, 0, 0, 0.3));\n",
              "      fill: #FFFFFF;\n",
              "    }\n",
              "  </style>\n",
              "\n",
              "      <script>\n",
              "        const buttonEl =\n",
              "          document.querySelector('#df-922a0a6d-54bc-4d13-85aa-a0e77b8d6dec button.colab-df-convert');\n",
              "        buttonEl.style.display =\n",
              "          google.colab.kernel.accessAllowed ? 'block' : 'none';\n",
              "\n",
              "        async function convertToInteractive(key) {\n",
              "          const element = document.querySelector('#df-922a0a6d-54bc-4d13-85aa-a0e77b8d6dec');\n",
              "          const dataTable =\n",
              "            await google.colab.kernel.invokeFunction('convertToInteractive',\n",
              "                                                     [key], {});\n",
              "          if (!dataTable) return;\n",
              "\n",
              "          const docLinkHtml = 'Like what you see? Visit the ' +\n",
              "            '<a target=\"_blank\" href=https://colab.research.google.com/notebooks/data_table.ipynb>data table notebook</a>'\n",
              "            + ' to learn more about interactive tables.';\n",
              "          element.innerHTML = '';\n",
              "          dataTable['output_type'] = 'display_data';\n",
              "          await google.colab.output.renderOutput(dataTable, element);\n",
              "          const docLink = document.createElement('div');\n",
              "          docLink.innerHTML = docLinkHtml;\n",
              "          element.appendChild(docLink);\n",
              "        }\n",
              "      </script>\n",
              "    </div>\n",
              "  </div>\n",
              "  "
            ]
          },
          "metadata": {},
          "execution_count": 110
        }
      ]
    },
    {
      "cell_type": "code",
      "source": [
        "# Calculate percentage differences between our two models\n",
        "results_df.iloc[:,1:].pct_change()"
      ],
      "metadata": {
        "colab": {
          "base_uri": "https://localhost:8080/",
          "height": 112
        },
        "id": "VE2EE0Y_DYUq",
        "outputId": "42a4dcc5-2f5c-475e-d6b2-dc73a6427006"
      },
      "execution_count": null,
      "outputs": [
        {
          "output_type": "execute_result",
          "data": {
            "text/plain": [
              "   Accuracy        F1    Recall  Precision\n",
              "0       NaN       NaN       NaN        NaN\n",
              "1 -0.006393 -0.015946 -0.040179    0.01244"
            ],
            "text/html": [
              "\n",
              "  <div id=\"df-e7f6f0b2-ebe2-4ae7-91a6-e5d9d36d3433\">\n",
              "    <div class=\"colab-df-container\">\n",
              "      <div>\n",
              "<style scoped>\n",
              "    .dataframe tbody tr th:only-of-type {\n",
              "        vertical-align: middle;\n",
              "    }\n",
              "\n",
              "    .dataframe tbody tr th {\n",
              "        vertical-align: top;\n",
              "    }\n",
              "\n",
              "    .dataframe thead th {\n",
              "        text-align: right;\n",
              "    }\n",
              "</style>\n",
              "<table border=\"1\" class=\"dataframe\">\n",
              "  <thead>\n",
              "    <tr style=\"text-align: right;\">\n",
              "      <th></th>\n",
              "      <th>Accuracy</th>\n",
              "      <th>F1</th>\n",
              "      <th>Recall</th>\n",
              "      <th>Precision</th>\n",
              "    </tr>\n",
              "  </thead>\n",
              "  <tbody>\n",
              "    <tr>\n",
              "      <th>0</th>\n",
              "      <td>NaN</td>\n",
              "      <td>NaN</td>\n",
              "      <td>NaN</td>\n",
              "      <td>NaN</td>\n",
              "    </tr>\n",
              "    <tr>\n",
              "      <th>1</th>\n",
              "      <td>-0.006393</td>\n",
              "      <td>-0.015946</td>\n",
              "      <td>-0.040179</td>\n",
              "      <td>0.01244</td>\n",
              "    </tr>\n",
              "  </tbody>\n",
              "</table>\n",
              "</div>\n",
              "      <button class=\"colab-df-convert\" onclick=\"convertToInteractive('df-e7f6f0b2-ebe2-4ae7-91a6-e5d9d36d3433')\"\n",
              "              title=\"Convert this dataframe to an interactive table.\"\n",
              "              style=\"display:none;\">\n",
              "        \n",
              "  <svg xmlns=\"http://www.w3.org/2000/svg\" height=\"24px\"viewBox=\"0 0 24 24\"\n",
              "       width=\"24px\">\n",
              "    <path d=\"M0 0h24v24H0V0z\" fill=\"none\"/>\n",
              "    <path d=\"M18.56 5.44l.94 2.06.94-2.06 2.06-.94-2.06-.94-.94-2.06-.94 2.06-2.06.94zm-11 1L8.5 8.5l.94-2.06 2.06-.94-2.06-.94L8.5 2.5l-.94 2.06-2.06.94zm10 10l.94 2.06.94-2.06 2.06-.94-2.06-.94-.94-2.06-.94 2.06-2.06.94z\"/><path d=\"M17.41 7.96l-1.37-1.37c-.4-.4-.92-.59-1.43-.59-.52 0-1.04.2-1.43.59L10.3 9.45l-7.72 7.72c-.78.78-.78 2.05 0 2.83L4 21.41c.39.39.9.59 1.41.59.51 0 1.02-.2 1.41-.59l7.78-7.78 2.81-2.81c.8-.78.8-2.07 0-2.86zM5.41 20L4 18.59l7.72-7.72 1.47 1.35L5.41 20z\"/>\n",
              "  </svg>\n",
              "      </button>\n",
              "      \n",
              "  <style>\n",
              "    .colab-df-container {\n",
              "      display:flex;\n",
              "      flex-wrap:wrap;\n",
              "      gap: 12px;\n",
              "    }\n",
              "\n",
              "    .colab-df-convert {\n",
              "      background-color: #E8F0FE;\n",
              "      border: none;\n",
              "      border-radius: 50%;\n",
              "      cursor: pointer;\n",
              "      display: none;\n",
              "      fill: #1967D2;\n",
              "      height: 32px;\n",
              "      padding: 0 0 0 0;\n",
              "      width: 32px;\n",
              "    }\n",
              "\n",
              "    .colab-df-convert:hover {\n",
              "      background-color: #E2EBFA;\n",
              "      box-shadow: 0px 1px 2px rgba(60, 64, 67, 0.3), 0px 1px 3px 1px rgba(60, 64, 67, 0.15);\n",
              "      fill: #174EA6;\n",
              "    }\n",
              "\n",
              "    [theme=dark] .colab-df-convert {\n",
              "      background-color: #3B4455;\n",
              "      fill: #D2E3FC;\n",
              "    }\n",
              "\n",
              "    [theme=dark] .colab-df-convert:hover {\n",
              "      background-color: #434B5C;\n",
              "      box-shadow: 0px 1px 3px 1px rgba(0, 0, 0, 0.15);\n",
              "      filter: drop-shadow(0px 1px 2px rgba(0, 0, 0, 0.3));\n",
              "      fill: #FFFFFF;\n",
              "    }\n",
              "  </style>\n",
              "\n",
              "      <script>\n",
              "        const buttonEl =\n",
              "          document.querySelector('#df-e7f6f0b2-ebe2-4ae7-91a6-e5d9d36d3433 button.colab-df-convert');\n",
              "        buttonEl.style.display =\n",
              "          google.colab.kernel.accessAllowed ? 'block' : 'none';\n",
              "\n",
              "        async function convertToInteractive(key) {\n",
              "          const element = document.querySelector('#df-e7f6f0b2-ebe2-4ae7-91a6-e5d9d36d3433');\n",
              "          const dataTable =\n",
              "            await google.colab.kernel.invokeFunction('convertToInteractive',\n",
              "                                                     [key], {});\n",
              "          if (!dataTable) return;\n",
              "\n",
              "          const docLinkHtml = 'Like what you see? Visit the ' +\n",
              "            '<a target=\"_blank\" href=https://colab.research.google.com/notebooks/data_table.ipynb>data table notebook</a>'\n",
              "            + ' to learn more about interactive tables.';\n",
              "          element.innerHTML = '';\n",
              "          dataTable['output_type'] = 'display_data';\n",
              "          await google.colab.output.renderOutput(dataTable, element);\n",
              "          const docLink = document.createElement('div');\n",
              "          docLink.innerHTML = docLinkHtml;\n",
              "          element.appendChild(docLink);\n",
              "        }\n",
              "      </script>\n",
              "    </div>\n",
              "  </div>\n",
              "  "
            ]
          },
          "metadata": {},
          "execution_count": 111
        }
      ]
    },
    {
      "cell_type": "markdown",
      "source": [
        "We can see that the Simple RNN gave us slightly better performance overall, though the two approaches are very similar, with only 0.6% accuracy difference.\n",
        "\n",
        "The biggest difference in the confusion matrix is that there are approx 400 fewer false negatives (and approx 200 fewer false positives) using the Simple RNN approach.\n",
        "\n",
        "It is almost certain that our hyperparameters could be tuned with further experimentation. I set them using best guesses, and generally targeted fewer results for computational expediency. In particular, the number of units output by our RNN layers could be increased (I picked 20 because it is fairly low).\n",
        "\n",
        "Another way to improve our model would be to use pre-trained embeddings, such as GloVe. As the majority of our parameters are in the embedding layer, this would free up computing resources for the later layers, which could then be made more complex."
      ],
      "metadata": {
        "id": "gacjHEBUC7uU"
      }
    }
  ]
}