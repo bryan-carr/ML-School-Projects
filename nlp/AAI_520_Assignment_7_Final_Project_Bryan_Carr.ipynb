{
  "nbformat": 4,
  "nbformat_minor": 0,
  "metadata": {
    "colab": {
      "provenance": []
    },
    "kernelspec": {
      "name": "python3",
      "display_name": "Python 3"
    },
    "language_info": {
      "name": "python"
    }
  },
  "cells": [
    {
      "cell_type": "markdown",
      "source": [
        "# AAI 520 - Assignment 7 - Final Project\n",
        "## Topic Modelling\n",
        "\n",
        "by Bryan Carr\n",
        "\n",
        "24 October 2022\n",
        "\n",
        "for University of San Diego, AAI 520 - Natural Language Processing\n",
        "\n",
        "Prof. Siamak Aram"
      ],
      "metadata": {
        "id": "Ak8-PAOlUlm-"
      }
    },
    {
      "cell_type": "markdown",
      "source": [
        "In this final assignment, we will conduct natural language analysis of some given data - sentences from texts written by a selection of famour authors (Edgar Allen Poe, HP Lovecraft, and Mary W. Shelly). Our goal is to conduct topic modelling, an unsupervised learning technique, to determine how many topics are best described in this body of work (corpus).\n",
        "\n",
        "We will look at some early EDA from the given dataset. Then we will apply some NLP techniques to standardize and streamline the text sentences, namely tokenization and lemmatization, followed by sequencing. Then we will then vectorize the sequences using count-based and frequency-based techniques. Finally we will apply and compare two topic modelling techniques, latent dirichlet allocaiton (LDA) and non-negative matrix factorization (NMF).\n",
        "\n",
        "Let's begin by importing the key libraries, and reading the data in. I've pre-loaded the data into my Google drive to support this."
      ],
      "metadata": {
        "id": "qiFVdcEvJ4a0"
      }
    },
    {
      "cell_type": "code",
      "source": [
        "# Import key libraries\n",
        "\n",
        "# Standard Data Science packages\n",
        "import pandas as pd\n",
        "import numpy as np\n",
        "import seaborn as sns\n",
        "import matplotlib.pyplot as plt\n",
        "\n",
        "# NLP packages\n",
        "import nltk\n",
        "\n",
        "# for time measurement\n",
        "from time import time"
      ],
      "metadata": {
        "id": "ukz1y0E8VElV"
      },
      "execution_count": null,
      "outputs": []
    },
    {
      "cell_type": "code",
      "source": [
        "# Mount the Google Drive to use the data file\n",
        "from google.colab import drive\n",
        "drive.mount('/content/drive')"
      ],
      "metadata": {
        "id": "lfhpxU-dVT7S",
        "colab": {
          "base_uri": "https://localhost:8080/"
        },
        "outputId": "4d67045c-f445-497a-a444-388cafd40e9c"
      },
      "execution_count": null,
      "outputs": [
        {
          "output_type": "stream",
          "name": "stdout",
          "text": [
            "Drive already mounted at /content/drive; to attempt to forcibly remount, call drive.mount(\"/content/drive\", force_remount=True).\n"
          ]
        }
      ]
    },
    {
      "cell_type": "markdown",
      "source": [
        "## 1. Exploratory Data Analysis\n",
        "\n",
        "We'll begin by loading in the data and exploring the two data sets (test and train) a bit."
      ],
      "metadata": {
        "id": "AEF3Qo3hJ7Y5"
      }
    },
    {
      "cell_type": "code",
      "source": [
        "# read in the Data\n",
        "train_df = pd.read_csv('/content/drive/My Drive/AAI 520 NLP/train.csv')\n",
        "test_df = pd.read_csv('/content/drive/My Drive/AAI 520 NLP/test.csv')"
      ],
      "metadata": {
        "id": "n-nEW02fV1e2"
      },
      "execution_count": null,
      "outputs": []
    },
    {
      "cell_type": "code",
      "source": [
        "train_df"
      ],
      "metadata": {
        "colab": {
          "base_uri": "https://localhost:8080/",
          "height": 424
        },
        "id": "vUqiZQDoWDSY",
        "outputId": "a8af131e-940b-4809-b701-987e4a25c3e6"
      },
      "execution_count": null,
      "outputs": [
        {
          "output_type": "execute_result",
          "data": {
            "text/plain": [
              "            id                                               text author\n",
              "0      id26305  This process, however, afforded me no means of...    EAP\n",
              "1      id17569  It never once occurred to me that the fumbling...    HPL\n",
              "2      id11008  In his left hand was a gold snuff box, from wh...    EAP\n",
              "3      id27763  How lovely is spring As we looked from Windsor...    MWS\n",
              "4      id12958  Finding nothing else, not even gold, the Super...    HPL\n",
              "...        ...                                                ...    ...\n",
              "19574  id17718  I could have fancied, while I looked at it, th...    EAP\n",
              "19575  id08973  The lids clenched themselves together as if in...    EAP\n",
              "19576  id05267  Mais il faut agir that is to say, a Frenchman ...    EAP\n",
              "19577  id17513  For an item of news like this, it strikes us i...    EAP\n",
              "19578  id00393  He laid a gnarled claw on my shoulder, and it ...    HPL\n",
              "\n",
              "[19579 rows x 3 columns]"
            ],
            "text/html": [
              "\n",
              "  <div id=\"df-f221cb28-3e1d-4cd1-8a2d-af6b817316f1\">\n",
              "    <div class=\"colab-df-container\">\n",
              "      <div>\n",
              "<style scoped>\n",
              "    .dataframe tbody tr th:only-of-type {\n",
              "        vertical-align: middle;\n",
              "    }\n",
              "\n",
              "    .dataframe tbody tr th {\n",
              "        vertical-align: top;\n",
              "    }\n",
              "\n",
              "    .dataframe thead th {\n",
              "        text-align: right;\n",
              "    }\n",
              "</style>\n",
              "<table border=\"1\" class=\"dataframe\">\n",
              "  <thead>\n",
              "    <tr style=\"text-align: right;\">\n",
              "      <th></th>\n",
              "      <th>id</th>\n",
              "      <th>text</th>\n",
              "      <th>author</th>\n",
              "    </tr>\n",
              "  </thead>\n",
              "  <tbody>\n",
              "    <tr>\n",
              "      <th>0</th>\n",
              "      <td>id26305</td>\n",
              "      <td>This process, however, afforded me no means of...</td>\n",
              "      <td>EAP</td>\n",
              "    </tr>\n",
              "    <tr>\n",
              "      <th>1</th>\n",
              "      <td>id17569</td>\n",
              "      <td>It never once occurred to me that the fumbling...</td>\n",
              "      <td>HPL</td>\n",
              "    </tr>\n",
              "    <tr>\n",
              "      <th>2</th>\n",
              "      <td>id11008</td>\n",
              "      <td>In his left hand was a gold snuff box, from wh...</td>\n",
              "      <td>EAP</td>\n",
              "    </tr>\n",
              "    <tr>\n",
              "      <th>3</th>\n",
              "      <td>id27763</td>\n",
              "      <td>How lovely is spring As we looked from Windsor...</td>\n",
              "      <td>MWS</td>\n",
              "    </tr>\n",
              "    <tr>\n",
              "      <th>4</th>\n",
              "      <td>id12958</td>\n",
              "      <td>Finding nothing else, not even gold, the Super...</td>\n",
              "      <td>HPL</td>\n",
              "    </tr>\n",
              "    <tr>\n",
              "      <th>...</th>\n",
              "      <td>...</td>\n",
              "      <td>...</td>\n",
              "      <td>...</td>\n",
              "    </tr>\n",
              "    <tr>\n",
              "      <th>19574</th>\n",
              "      <td>id17718</td>\n",
              "      <td>I could have fancied, while I looked at it, th...</td>\n",
              "      <td>EAP</td>\n",
              "    </tr>\n",
              "    <tr>\n",
              "      <th>19575</th>\n",
              "      <td>id08973</td>\n",
              "      <td>The lids clenched themselves together as if in...</td>\n",
              "      <td>EAP</td>\n",
              "    </tr>\n",
              "    <tr>\n",
              "      <th>19576</th>\n",
              "      <td>id05267</td>\n",
              "      <td>Mais il faut agir that is to say, a Frenchman ...</td>\n",
              "      <td>EAP</td>\n",
              "    </tr>\n",
              "    <tr>\n",
              "      <th>19577</th>\n",
              "      <td>id17513</td>\n",
              "      <td>For an item of news like this, it strikes us i...</td>\n",
              "      <td>EAP</td>\n",
              "    </tr>\n",
              "    <tr>\n",
              "      <th>19578</th>\n",
              "      <td>id00393</td>\n",
              "      <td>He laid a gnarled claw on my shoulder, and it ...</td>\n",
              "      <td>HPL</td>\n",
              "    </tr>\n",
              "  </tbody>\n",
              "</table>\n",
              "<p>19579 rows × 3 columns</p>\n",
              "</div>\n",
              "      <button class=\"colab-df-convert\" onclick=\"convertToInteractive('df-f221cb28-3e1d-4cd1-8a2d-af6b817316f1')\"\n",
              "              title=\"Convert this dataframe to an interactive table.\"\n",
              "              style=\"display:none;\">\n",
              "        \n",
              "  <svg xmlns=\"http://www.w3.org/2000/svg\" height=\"24px\"viewBox=\"0 0 24 24\"\n",
              "       width=\"24px\">\n",
              "    <path d=\"M0 0h24v24H0V0z\" fill=\"none\"/>\n",
              "    <path d=\"M18.56 5.44l.94 2.06.94-2.06 2.06-.94-2.06-.94-.94-2.06-.94 2.06-2.06.94zm-11 1L8.5 8.5l.94-2.06 2.06-.94-2.06-.94L8.5 2.5l-.94 2.06-2.06.94zm10 10l.94 2.06.94-2.06 2.06-.94-2.06-.94-.94-2.06-.94 2.06-2.06.94z\"/><path d=\"M17.41 7.96l-1.37-1.37c-.4-.4-.92-.59-1.43-.59-.52 0-1.04.2-1.43.59L10.3 9.45l-7.72 7.72c-.78.78-.78 2.05 0 2.83L4 21.41c.39.39.9.59 1.41.59.51 0 1.02-.2 1.41-.59l7.78-7.78 2.81-2.81c.8-.78.8-2.07 0-2.86zM5.41 20L4 18.59l7.72-7.72 1.47 1.35L5.41 20z\"/>\n",
              "  </svg>\n",
              "      </button>\n",
              "      \n",
              "  <style>\n",
              "    .colab-df-container {\n",
              "      display:flex;\n",
              "      flex-wrap:wrap;\n",
              "      gap: 12px;\n",
              "    }\n",
              "\n",
              "    .colab-df-convert {\n",
              "      background-color: #E8F0FE;\n",
              "      border: none;\n",
              "      border-radius: 50%;\n",
              "      cursor: pointer;\n",
              "      display: none;\n",
              "      fill: #1967D2;\n",
              "      height: 32px;\n",
              "      padding: 0 0 0 0;\n",
              "      width: 32px;\n",
              "    }\n",
              "\n",
              "    .colab-df-convert:hover {\n",
              "      background-color: #E2EBFA;\n",
              "      box-shadow: 0px 1px 2px rgba(60, 64, 67, 0.3), 0px 1px 3px 1px rgba(60, 64, 67, 0.15);\n",
              "      fill: #174EA6;\n",
              "    }\n",
              "\n",
              "    [theme=dark] .colab-df-convert {\n",
              "      background-color: #3B4455;\n",
              "      fill: #D2E3FC;\n",
              "    }\n",
              "\n",
              "    [theme=dark] .colab-df-convert:hover {\n",
              "      background-color: #434B5C;\n",
              "      box-shadow: 0px 1px 3px 1px rgba(0, 0, 0, 0.15);\n",
              "      filter: drop-shadow(0px 1px 2px rgba(0, 0, 0, 0.3));\n",
              "      fill: #FFFFFF;\n",
              "    }\n",
              "  </style>\n",
              "\n",
              "      <script>\n",
              "        const buttonEl =\n",
              "          document.querySelector('#df-f221cb28-3e1d-4cd1-8a2d-af6b817316f1 button.colab-df-convert');\n",
              "        buttonEl.style.display =\n",
              "          google.colab.kernel.accessAllowed ? 'block' : 'none';\n",
              "\n",
              "        async function convertToInteractive(key) {\n",
              "          const element = document.querySelector('#df-f221cb28-3e1d-4cd1-8a2d-af6b817316f1');\n",
              "          const dataTable =\n",
              "            await google.colab.kernel.invokeFunction('convertToInteractive',\n",
              "                                                     [key], {});\n",
              "          if (!dataTable) return;\n",
              "\n",
              "          const docLinkHtml = 'Like what you see? Visit the ' +\n",
              "            '<a target=\"_blank\" href=https://colab.research.google.com/notebooks/data_table.ipynb>data table notebook</a>'\n",
              "            + ' to learn more about interactive tables.';\n",
              "          element.innerHTML = '';\n",
              "          dataTable['output_type'] = 'display_data';\n",
              "          await google.colab.output.renderOutput(dataTable, element);\n",
              "          const docLink = document.createElement('div');\n",
              "          docLink.innerHTML = docLinkHtml;\n",
              "          element.appendChild(docLink);\n",
              "        }\n",
              "      </script>\n",
              "    </div>\n",
              "  </div>\n",
              "  "
            ]
          },
          "metadata": {},
          "execution_count": 4
        }
      ]
    },
    {
      "cell_type": "code",
      "source": [
        "# Print first 5 Sentences\n",
        "for i in range(0,5):\n",
        "  print(train_df.iloc[i][1])"
      ],
      "metadata": {
        "colab": {
          "base_uri": "https://localhost:8080/"
        },
        "id": "xuj9chJlWa_C",
        "outputId": "df4681b5-03c8-4aac-977f-d4cb1ab38997"
      },
      "execution_count": null,
      "outputs": [
        {
          "output_type": "stream",
          "name": "stdout",
          "text": [
            "This process, however, afforded me no means of ascertaining the dimensions of my dungeon; as I might make its circuit, and return to the point whence I set out, without being aware of the fact; so perfectly uniform seemed the wall.\n",
            "It never once occurred to me that the fumbling might be a mere mistake.\n",
            "In his left hand was a gold snuff box, from which, as he capered down the hill, cutting all manner of fantastic steps, he took snuff incessantly with an air of the greatest possible self satisfaction.\n",
            "How lovely is spring As we looked from Windsor Terrace on the sixteen fertile counties spread beneath, speckled by happy cottages and wealthier towns, all looked as in former years, heart cheering and fair.\n",
            "Finding nothing else, not even gold, the Superintendent abandoned his attempts; but a perplexed look occasionally steals over his countenance as he sits thinking at his desk.\n"
          ]
        }
      ]
    },
    {
      "cell_type": "code",
      "source": [
        "# Let's look at the number of occurences of each author\n",
        "train_df['author'].value_counts()"
      ],
      "metadata": {
        "colab": {
          "base_uri": "https://localhost:8080/"
        },
        "id": "kIqPq-UnWkF2",
        "outputId": "a84d0203-f259-4a19-96ed-59c9e5b8e893"
      },
      "execution_count": null,
      "outputs": [
        {
          "output_type": "execute_result",
          "data": {
            "text/plain": [
              "EAP    7900\n",
              "MWS    6044\n",
              "HPL    5635\n",
              "Name: author, dtype: int64"
            ]
          },
          "metadata": {},
          "execution_count": 6
        }
      ]
    },
    {
      "cell_type": "code",
      "source": [
        "# What is the percentage of Edgar Allen Poe entries?\n",
        "percent_eap = train_df['author'].value_counts()[0] / train_df.shape[0]\n",
        "percent_eap"
      ],
      "metadata": {
        "colab": {
          "base_uri": "https://localhost:8080/"
        },
        "id": "yWSXCyVDK4Fj",
        "outputId": "35538e5f-b7bc-4d99-b632-156dd40678c8"
      },
      "execution_count": null,
      "outputs": [
        {
          "output_type": "execute_result",
          "data": {
            "text/plain": [
              "0.40349353899586293"
            ]
          },
          "metadata": {},
          "execution_count": 7
        }
      ]
    },
    {
      "cell_type": "code",
      "source": [
        "# What is the percentage of Mary Shelly entries?\n",
        "percent_mws = train_df['author'].value_counts()[1] / train_df.shape[0]\n",
        "percent_mws"
      ],
      "metadata": {
        "colab": {
          "base_uri": "https://localhost:8080/"
        },
        "id": "ow_x-ZKSK4I1",
        "outputId": "6786d093-2973-4d92-c585-8a176150b18d"
      },
      "execution_count": null,
      "outputs": [
        {
          "output_type": "execute_result",
          "data": {
            "text/plain": [
              "0.30869809489759437"
            ]
          },
          "metadata": {},
          "execution_count": 8
        }
      ]
    },
    {
      "cell_type": "code",
      "source": [
        "# What is the percentage of HP Lovecraft entries?\n",
        "percent_hpl = train_df['author'].value_counts()[2] / train_df.shape[0]\n",
        "percent_hpl"
      ],
      "metadata": {
        "colab": {
          "base_uri": "https://localhost:8080/"
        },
        "id": "OsmS3g5dK4L2",
        "outputId": "940d9708-aa24-4db7-c194-56e5b39cda56"
      },
      "execution_count": null,
      "outputs": [
        {
          "output_type": "execute_result",
          "data": {
            "text/plain": [
              "0.2878083661065427"
            ]
          },
          "metadata": {},
          "execution_count": 9
        }
      ]
    },
    {
      "cell_type": "code",
      "source": [
        "# Let's create a Histogram for the counts of each author\n",
        "plt.title(\"Figure 1.1: Histogram of Author Frequency in Training Data\")\n",
        "sns.histplot(data=train_df, x='author')"
      ],
      "metadata": {
        "colab": {
          "base_uri": "https://localhost:8080/",
          "height": 312
        },
        "id": "oXsFFAprLzPz",
        "outputId": "3c666824-a5cf-4301-c871-984684bdac9a"
      },
      "execution_count": null,
      "outputs": [
        {
          "output_type": "execute_result",
          "data": {
            "text/plain": [
              "<matplotlib.axes._subplots.AxesSubplot at 0x7f3d68c7e190>"
            ]
          },
          "metadata": {},
          "execution_count": 10
        },
        {
          "output_type": "display_data",
          "data": {
            "text/plain": [
              "<Figure size 432x288 with 1 Axes>"
            ],
            "image/png": "[encoded data removed]"
          },
          "metadata": {
            "needs_background": "light"
          }
        }
      ]
    },
    {
      "cell_type": "markdown",
      "source": [
        "There's not much else to explore in this set, without looking at the structure of the sentences and applying NLP techniques to standardize things (for example, counting the number of tokens).\n",
        "\n",
        "One thing we could look at is the length of the sentences, both in general and broken down by author. Let's measure the Length data, using the built-in len function:"
      ],
      "metadata": {
        "id": "zUfCsyNlYQ0z"
      }
    },
    {
      "cell_type": "code",
      "source": [
        "# Create a Length column, for the length of sentences in terms of characters\n",
        "# map the Length function onto the data\n",
        "train_df['char_length'] = train_df['text'].map(len)\n",
        "\n",
        "train_df"
      ],
      "metadata": {
        "colab": {
          "base_uri": "https://localhost:8080/",
          "height": 424
        },
        "id": "AI1g0VCnWvG8",
        "outputId": "28e3b632-88b5-4ab9-9755-5f02a68b99d0"
      },
      "execution_count": null,
      "outputs": [
        {
          "output_type": "execute_result",
          "data": {
            "text/plain": [
              "            id                                               text author  \\\n",
              "0      id26305  This process, however, afforded me no means of...    EAP   \n",
              "1      id17569  It never once occurred to me that the fumbling...    HPL   \n",
              "2      id11008  In his left hand was a gold snuff box, from wh...    EAP   \n",
              "3      id27763  How lovely is spring As we looked from Windsor...    MWS   \n",
              "4      id12958  Finding nothing else, not even gold, the Super...    HPL   \n",
              "...        ...                                                ...    ...   \n",
              "19574  id17718  I could have fancied, while I looked at it, th...    EAP   \n",
              "19575  id08973  The lids clenched themselves together as if in...    EAP   \n",
              "19576  id05267  Mais il faut agir that is to say, a Frenchman ...    EAP   \n",
              "19577  id17513  For an item of news like this, it strikes us i...    EAP   \n",
              "19578  id00393  He laid a gnarled claw on my shoulder, and it ...    HPL   \n",
              "\n",
              "       char_length  \n",
              "0              231  \n",
              "1               71  \n",
              "2              200  \n",
              "3              206  \n",
              "4              174  \n",
              "...            ...  \n",
              "19574          108  \n",
              "19575           55  \n",
              "19576           68  \n",
              "19577           74  \n",
              "19578          109  \n",
              "\n",
              "[19579 rows x 4 columns]"
            ],
            "text/html": [
              "\n",
              "  <div id=\"df-88122c38-678c-41ca-a8af-5758b5cd6be0\">\n",
              "    <div class=\"colab-df-container\">\n",
              "      <div>\n",
              "<style scoped>\n",
              "    .dataframe tbody tr th:only-of-type {\n",
              "        vertical-align: middle;\n",
              "    }\n",
              "\n",
              "    .dataframe tbody tr th {\n",
              "        vertical-align: top;\n",
              "    }\n",
              "\n",
              "    .dataframe thead th {\n",
              "        text-align: right;\n",
              "    }\n",
              "</style>\n",
              "<table border=\"1\" class=\"dataframe\">\n",
              "  <thead>\n",
              "    <tr style=\"text-align: right;\">\n",
              "      <th></th>\n",
              "      <th>id</th>\n",
              "      <th>text</th>\n",
              "      <th>author</th>\n",
              "      <th>char_length</th>\n",
              "    </tr>\n",
              "  </thead>\n",
              "  <tbody>\n",
              "    <tr>\n",
              "      <th>0</th>\n",
              "      <td>id26305</td>\n",
              "      <td>This process, however, afforded me no means of...</td>\n",
              "      <td>EAP</td>\n",
              "      <td>231</td>\n",
              "    </tr>\n",
              "    <tr>\n",
              "      <th>1</th>\n",
              "      <td>id17569</td>\n",
              "      <td>It never once occurred to me that the fumbling...</td>\n",
              "      <td>HPL</td>\n",
              "      <td>71</td>\n",
              "    </tr>\n",
              "    <tr>\n",
              "      <th>2</th>\n",
              "      <td>id11008</td>\n",
              "      <td>In his left hand was a gold snuff box, from wh...</td>\n",
              "      <td>EAP</td>\n",
              "      <td>200</td>\n",
              "    </tr>\n",
              "    <tr>\n",
              "      <th>3</th>\n",
              "      <td>id27763</td>\n",
              "      <td>How lovely is spring As we looked from Windsor...</td>\n",
              "      <td>MWS</td>\n",
              "      <td>206</td>\n",
              "    </tr>\n",
              "    <tr>\n",
              "      <th>4</th>\n",
              "      <td>id12958</td>\n",
              "      <td>Finding nothing else, not even gold, the Super...</td>\n",
              "      <td>HPL</td>\n",
              "      <td>174</td>\n",
              "    </tr>\n",
              "    <tr>\n",
              "      <th>...</th>\n",
              "      <td>...</td>\n",
              "      <td>...</td>\n",
              "      <td>...</td>\n",
              "      <td>...</td>\n",
              "    </tr>\n",
              "    <tr>\n",
              "      <th>19574</th>\n",
              "      <td>id17718</td>\n",
              "      <td>I could have fancied, while I looked at it, th...</td>\n",
              "      <td>EAP</td>\n",
              "      <td>108</td>\n",
              "    </tr>\n",
              "    <tr>\n",
              "      <th>19575</th>\n",
              "      <td>id08973</td>\n",
              "      <td>The lids clenched themselves together as if in...</td>\n",
              "      <td>EAP</td>\n",
              "      <td>55</td>\n",
              "    </tr>\n",
              "    <tr>\n",
              "      <th>19576</th>\n",
              "      <td>id05267</td>\n",
              "      <td>Mais il faut agir that is to say, a Frenchman ...</td>\n",
              "      <td>EAP</td>\n",
              "      <td>68</td>\n",
              "    </tr>\n",
              "    <tr>\n",
              "      <th>19577</th>\n",
              "      <td>id17513</td>\n",
              "      <td>For an item of news like this, it strikes us i...</td>\n",
              "      <td>EAP</td>\n",
              "      <td>74</td>\n",
              "    </tr>\n",
              "    <tr>\n",
              "      <th>19578</th>\n",
              "      <td>id00393</td>\n",
              "      <td>He laid a gnarled claw on my shoulder, and it ...</td>\n",
              "      <td>HPL</td>\n",
              "      <td>109</td>\n",
              "    </tr>\n",
              "  </tbody>\n",
              "</table>\n",
              "<p>19579 rows × 4 columns</p>\n",
              "</div>\n",
              "      <button class=\"colab-df-convert\" onclick=\"convertToInteractive('df-88122c38-678c-41ca-a8af-5758b5cd6be0')\"\n",
              "              title=\"Convert this dataframe to an interactive table.\"\n",
              "              style=\"display:none;\">\n",
              "        \n",
              "  <svg xmlns=\"http://www.w3.org/2000/svg\" height=\"24px\"viewBox=\"0 0 24 24\"\n",
              "       width=\"24px\">\n",
              "    <path d=\"M0 0h24v24H0V0z\" fill=\"none\"/>\n",
              "    <path d=\"M18.56 5.44l.94 2.06.94-2.06 2.06-.94-2.06-.94-.94-2.06-.94 2.06-2.06.94zm-11 1L8.5 8.5l.94-2.06 2.06-.94-2.06-.94L8.5 2.5l-.94 2.06-2.06.94zm10 10l.94 2.06.94-2.06 2.06-.94-2.06-.94-.94-2.06-.94 2.06-2.06.94z\"/><path d=\"M17.41 7.96l-1.37-1.37c-.4-.4-.92-.59-1.43-.59-.52 0-1.04.2-1.43.59L10.3 9.45l-7.72 7.72c-.78.78-.78 2.05 0 2.83L4 21.41c.39.39.9.59 1.41.59.51 0 1.02-.2 1.41-.59l7.78-7.78 2.81-2.81c.8-.78.8-2.07 0-2.86zM5.41 20L4 18.59l7.72-7.72 1.47 1.35L5.41 20z\"/>\n",
              "  </svg>\n",
              "      </button>\n",
              "      \n",
              "  <style>\n",
              "    .colab-df-container {\n",
              "      display:flex;\n",
              "      flex-wrap:wrap;\n",
              "      gap: 12px;\n",
              "    }\n",
              "\n",
              "    .colab-df-convert {\n",
              "      background-color: #E8F0FE;\n",
              "      border: none;\n",
              "      border-radius: 50%;\n",
              "      cursor: pointer;\n",
              "      display: none;\n",
              "      fill: #1967D2;\n",
              "      height: 32px;\n",
              "      padding: 0 0 0 0;\n",
              "      width: 32px;\n",
              "    }\n",
              "\n",
              "    .colab-df-convert:hover {\n",
              "      background-color: #E2EBFA;\n",
              "      box-shadow: 0px 1px 2px rgba(60, 64, 67, 0.3), 0px 1px 3px 1px rgba(60, 64, 67, 0.15);\n",
              "      fill: #174EA6;\n",
              "    }\n",
              "\n",
              "    [theme=dark] .colab-df-convert {\n",
              "      background-color: #3B4455;\n",
              "      fill: #D2E3FC;\n",
              "    }\n",
              "\n",
              "    [theme=dark] .colab-df-convert:hover {\n",
              "      background-color: #434B5C;\n",
              "      box-shadow: 0px 1px 3px 1px rgba(0, 0, 0, 0.15);\n",
              "      filter: drop-shadow(0px 1px 2px rgba(0, 0, 0, 0.3));\n",
              "      fill: #FFFFFF;\n",
              "    }\n",
              "  </style>\n",
              "\n",
              "      <script>\n",
              "        const buttonEl =\n",
              "          document.querySelector('#df-88122c38-678c-41ca-a8af-5758b5cd6be0 button.colab-df-convert');\n",
              "        buttonEl.style.display =\n",
              "          google.colab.kernel.accessAllowed ? 'block' : 'none';\n",
              "\n",
              "        async function convertToInteractive(key) {\n",
              "          const element = document.querySelector('#df-88122c38-678c-41ca-a8af-5758b5cd6be0');\n",
              "          const dataTable =\n",
              "            await google.colab.kernel.invokeFunction('convertToInteractive',\n",
              "                                                     [key], {});\n",
              "          if (!dataTable) return;\n",
              "\n",
              "          const docLinkHtml = 'Like what you see? Visit the ' +\n",
              "            '<a target=\"_blank\" href=https://colab.research.google.com/notebooks/data_table.ipynb>data table notebook</a>'\n",
              "            + ' to learn more about interactive tables.';\n",
              "          element.innerHTML = '';\n",
              "          dataTable['output_type'] = 'display_data';\n",
              "          await google.colab.output.renderOutput(dataTable, element);\n",
              "          const docLink = document.createElement('div');\n",
              "          docLink.innerHTML = docLinkHtml;\n",
              "          element.appendChild(docLink);\n",
              "        }\n",
              "      </script>\n",
              "    </div>\n",
              "  </div>\n",
              "  "
            ]
          },
          "metadata": {},
          "execution_count": 11
        }
      ]
    },
    {
      "cell_type": "code",
      "source": [
        "author_groups = train_df.groupby(by=['author']).describe()\n",
        "author_groups"
      ],
      "metadata": {
        "colab": {
          "base_uri": "https://localhost:8080/",
          "height": 206
        },
        "id": "q2rRguMqZQ0b",
        "outputId": "56a6e213-80c8-49ac-cc51-8bf6e481b234"
      },
      "execution_count": null,
      "outputs": [
        {
          "output_type": "execute_result",
          "data": {
            "text/plain": [
              "       char_length                                                          \n",
              "             count        mean         std   min   25%    50%    75%     max\n",
              "author                                                                      \n",
              "EAP         7900.0  142.225949  105.751334  21.0  68.0  115.0  186.0  1533.0\n",
              "HPL         5635.0  155.843478   82.020647  21.0  98.0  142.0  196.5   900.0\n",
              "MWS         6044.0  151.659828  126.305008  21.0  84.0  130.0  192.0  4663.0"
            ],
            "text/html": [
              "\n",
              "  <div id=\"df-e717ff5c-1686-4f49-b7b8-b6da5984ad73\">\n",
              "    <div class=\"colab-df-container\">\n",
              "      <div>\n",
              "<style scoped>\n",
              "    .dataframe tbody tr th:only-of-type {\n",
              "        vertical-align: middle;\n",
              "    }\n",
              "\n",
              "    .dataframe tbody tr th {\n",
              "        vertical-align: top;\n",
              "    }\n",
              "\n",
              "    .dataframe thead tr th {\n",
              "        text-align: left;\n",
              "    }\n",
              "\n",
              "    .dataframe thead tr:last-of-type th {\n",
              "        text-align: right;\n",
              "    }\n",
              "</style>\n",
              "<table border=\"1\" class=\"dataframe\">\n",
              "  <thead>\n",
              "    <tr>\n",
              "      <th></th>\n",
              "      <th colspan=\"8\" halign=\"left\">char_length</th>\n",
              "    </tr>\n",
              "    <tr>\n",
              "      <th></th>\n",
              "      <th>count</th>\n",
              "      <th>mean</th>\n",
              "      <th>std</th>\n",
              "      <th>min</th>\n",
              "      <th>25%</th>\n",
              "      <th>50%</th>\n",
              "      <th>75%</th>\n",
              "      <th>max</th>\n",
              "    </tr>\n",
              "    <tr>\n",
              "      <th>author</th>\n",
              "      <th></th>\n",
              "      <th></th>\n",
              "      <th></th>\n",
              "      <th></th>\n",
              "      <th></th>\n",
              "      <th></th>\n",
              "      <th></th>\n",
              "      <th></th>\n",
              "    </tr>\n",
              "  </thead>\n",
              "  <tbody>\n",
              "    <tr>\n",
              "      <th>EAP</th>\n",
              "      <td>7900.0</td>\n",
              "      <td>142.225949</td>\n",
              "      <td>105.751334</td>\n",
              "      <td>21.0</td>\n",
              "      <td>68.0</td>\n",
              "      <td>115.0</td>\n",
              "      <td>186.0</td>\n",
              "      <td>1533.0</td>\n",
              "    </tr>\n",
              "    <tr>\n",
              "      <th>HPL</th>\n",
              "      <td>5635.0</td>\n",
              "      <td>155.843478</td>\n",
              "      <td>82.020647</td>\n",
              "      <td>21.0</td>\n",
              "      <td>98.0</td>\n",
              "      <td>142.0</td>\n",
              "      <td>196.5</td>\n",
              "      <td>900.0</td>\n",
              "    </tr>\n",
              "    <tr>\n",
              "      <th>MWS</th>\n",
              "      <td>6044.0</td>\n",
              "      <td>151.659828</td>\n",
              "      <td>126.305008</td>\n",
              "      <td>21.0</td>\n",
              "      <td>84.0</td>\n",
              "      <td>130.0</td>\n",
              "      <td>192.0</td>\n",
              "      <td>4663.0</td>\n",
              "    </tr>\n",
              "  </tbody>\n",
              "</table>\n",
              "</div>\n",
              "      <button class=\"colab-df-convert\" onclick=\"convertToInteractive('df-e717ff5c-1686-4f49-b7b8-b6da5984ad73')\"\n",
              "              title=\"Convert this dataframe to an interactive table.\"\n",
              "              style=\"display:none;\">\n",
              "        \n",
              "  <svg xmlns=\"http://www.w3.org/2000/svg\" height=\"24px\"viewBox=\"0 0 24 24\"\n",
              "       width=\"24px\">\n",
              "    <path d=\"M0 0h24v24H0V0z\" fill=\"none\"/>\n",
              "    <path d=\"M18.56 5.44l.94 2.06.94-2.06 2.06-.94-2.06-.94-.94-2.06-.94 2.06-2.06.94zm-11 1L8.5 8.5l.94-2.06 2.06-.94-2.06-.94L8.5 2.5l-.94 2.06-2.06.94zm10 10l.94 2.06.94-2.06 2.06-.94-2.06-.94-.94-2.06-.94 2.06-2.06.94z\"/><path d=\"M17.41 7.96l-1.37-1.37c-.4-.4-.92-.59-1.43-.59-.52 0-1.04.2-1.43.59L10.3 9.45l-7.72 7.72c-.78.78-.78 2.05 0 2.83L4 21.41c.39.39.9.59 1.41.59.51 0 1.02-.2 1.41-.59l7.78-7.78 2.81-2.81c.8-.78.8-2.07 0-2.86zM5.41 20L4 18.59l7.72-7.72 1.47 1.35L5.41 20z\"/>\n",
              "  </svg>\n",
              "      </button>\n",
              "      \n",
              "  <style>\n",
              "    .colab-df-container {\n",
              "      display:flex;\n",
              "      flex-wrap:wrap;\n",
              "      gap: 12px;\n",
              "    }\n",
              "\n",
              "    .colab-df-convert {\n",
              "      background-color: #E8F0FE;\n",
              "      border: none;\n",
              "      border-radius: 50%;\n",
              "      cursor: pointer;\n",
              "      display: none;\n",
              "      fill: #1967D2;\n",
              "      height: 32px;\n",
              "      padding: 0 0 0 0;\n",
              "      width: 32px;\n",
              "    }\n",
              "\n",
              "    .colab-df-convert:hover {\n",
              "      background-color: #E2EBFA;\n",
              "      box-shadow: 0px 1px 2px rgba(60, 64, 67, 0.3), 0px 1px 3px 1px rgba(60, 64, 67, 0.15);\n",
              "      fill: #174EA6;\n",
              "    }\n",
              "\n",
              "    [theme=dark] .colab-df-convert {\n",
              "      background-color: #3B4455;\n",
              "      fill: #D2E3FC;\n",
              "    }\n",
              "\n",
              "    [theme=dark] .colab-df-convert:hover {\n",
              "      background-color: #434B5C;\n",
              "      box-shadow: 0px 1px 3px 1px rgba(0, 0, 0, 0.15);\n",
              "      filter: drop-shadow(0px 1px 2px rgba(0, 0, 0, 0.3));\n",
              "      fill: #FFFFFF;\n",
              "    }\n",
              "  </style>\n",
              "\n",
              "      <script>\n",
              "        const buttonEl =\n",
              "          document.querySelector('#df-e717ff5c-1686-4f49-b7b8-b6da5984ad73 button.colab-df-convert');\n",
              "        buttonEl.style.display =\n",
              "          google.colab.kernel.accessAllowed ? 'block' : 'none';\n",
              "\n",
              "        async function convertToInteractive(key) {\n",
              "          const element = document.querySelector('#df-e717ff5c-1686-4f49-b7b8-b6da5984ad73');\n",
              "          const dataTable =\n",
              "            await google.colab.kernel.invokeFunction('convertToInteractive',\n",
              "                                                     [key], {});\n",
              "          if (!dataTable) return;\n",
              "\n",
              "          const docLinkHtml = 'Like what you see? Visit the ' +\n",
              "            '<a target=\"_blank\" href=https://colab.research.google.com/notebooks/data_table.ipynb>data table notebook</a>'\n",
              "            + ' to learn more about interactive tables.';\n",
              "          element.innerHTML = '';\n",
              "          dataTable['output_type'] = 'display_data';\n",
              "          await google.colab.output.renderOutput(dataTable, element);\n",
              "          const docLink = document.createElement('div');\n",
              "          docLink.innerHTML = docLinkHtml;\n",
              "          element.appendChild(docLink);\n",
              "        }\n",
              "      </script>\n",
              "    </div>\n",
              "  </div>\n",
              "  "
            ]
          },
          "metadata": {},
          "execution_count": 12
        }
      ]
    },
    {
      "cell_type": "markdown",
      "source": [
        "We can see that the means are all fairly close to one another, in the range 142-156 characters, but the standard deviations have some spread with HPL being the tightest and MWS the most spread out.\n",
        "\n",
        "Also, we can see some of the entries are quite long. Let's have a look at them, for curiosity's sake."
      ],
      "metadata": {
        "id": "XesMAOPPc_dk"
      }
    },
    {
      "cell_type": "code",
      "source": [
        "# Look up longest EAP sentence:\n",
        "print(train_df.iloc[ (train_df.loc[train_df['char_length'] == 1533].index[0]), 1])"
      ],
      "metadata": {
        "colab": {
          "base_uri": "https://localhost:8080/"
        },
        "id": "ozhtYAX4ZRDx",
        "outputId": "14c99e65-a841-4542-fc9d-66fcdd8e6d57"
      },
      "execution_count": null,
      "outputs": [
        {
          "output_type": "stream",
          "name": "stdout",
          "text": [
            "Burning with the chivalry of this determination, the great Touch and go, in the next 'Tea Pot,' came out merely with this simple but resolute paragraph, in reference to this unhappy affair: 'The editor of the \"Tea Pot\" has the honor of advising the editor of the \"Gazette\" that he the \"Tea Pot\" will take an opportunity in tomorrow morning's paper, of convincing him the \"Gazette\" that he the \"Tea Pot\" both can and will be his own master, as regards style; he the \"Tea Pot\" intending to show him the \"Gazette\" the supreme, and indeed the withering contempt with which the criticism of him the \"Gazette\" inspires the independent bosom of him the \"TeaPot\" by composing for the especial gratification ? of him the \"Gazette\" a leading article, of some extent, in which the beautiful vowel the emblem of Eternity yet so offensive to the hyper exquisite delicacy of him the \"Gazette\" shall most certainly not be avoided by his the \"Gazette's\" most obedient, humble servant, the \"Tea Pot.\" \"So much for Buckingham\"' In fulfilment of the awful threat thus darkly intimated rather than decidedly enunciated, the great Bullet head, turning a deaf ear to all entreaties for 'copy,' and simply requesting his foreman to 'go to the d l,' when he the foreman assured him the 'Tea Pot' that it was high time to 'go to press': turning a deaf ear to everything, I say, the great Bullet head sat up until day break, consuming the midnight oil, and absorbed in the composition of the really unparalleled paragraph, which follows: 'So ho, John how now?\n"
          ]
        }
      ]
    },
    {
      "cell_type": "code",
      "source": [
        "# look up longest HPL sentence:\n",
        "print(train_df.iloc[ (train_df.loc[train_df['char_length'] == 900].index[0]), 1])"
      ],
      "metadata": {
        "colab": {
          "base_uri": "https://localhost:8080/"
        },
        "id": "EsDHRNTHZRGQ",
        "outputId": "ee1ed055-45b9-4c49-de98-85489e51474c"
      },
      "execution_count": null,
      "outputs": [
        {
          "output_type": "stream",
          "name": "stdout",
          "text": [
            "A weak, filtered glow from the rain harassed street lamps outside, and a feeble phosphorescence from the detestable fungi within, shewed the dripping stone of the walls, from which all traces of whitewash had vanished; the dank, foetid, and mildew tainted hard earth floor with its obscene fungi; the rotting remains of what had been stools, chairs, and tables, and other more shapeless furniture; the heavy planks and massive beams of the ground floor overhead; the decrepit plank door leading to bins and chambers beneath other parts of the house; the crumbling stone staircase with ruined wooden hand rail; and the crude and cavernous fireplace of blackened brick where rusted iron fragments revealed the past presence of hooks, andirons, spit, crane, and a door to the Dutch oven these things, and our austere cot and camp chairs, and the heavy and intricate destructive machinery we had brought.\n"
          ]
        }
      ]
    },
    {
      "cell_type": "code",
      "source": [
        "# Look up the longest MWS sentence:\n",
        "print(train_df.iloc[ train_df.loc[train_df['char_length'] == 4663].index[0], 1])"
      ],
      "metadata": {
        "colab": {
          "base_uri": "https://localhost:8080/"
        },
        "id": "rq4PyDtfZRI4",
        "outputId": "27071121-6de4-4bea-f4cb-d1df8817d8ab"
      },
      "execution_count": null,
      "outputs": [
        {
          "output_type": "stream",
          "name": "stdout",
          "text": [
            "Diotima approached the fountain seated herself on a mossy mound near it and her disciples placed themselves on the grass near her Without noticing me who sat close under her she continued her discourse addressing as it happened one or other of her listeners but before I attempt to repeat her words I will describe the chief of these whom she appeared to wish principally to impress One was a woman of about years of age in the full enjoyment of the most exquisite beauty her golden hair floated in ringlets on her shoulders her hazle eyes were shaded by heavy lids and her mouth the lips apart seemed to breathe sensibility But she appeared thoughtful unhappy her cheek was pale she seemed as if accustomed to suffer and as if the lessons she now heard were the only words of wisdom to which she had ever listened The youth beside her had a far different aspect his form was emaciated nearly to a shadow his features were handsome but thin worn his eyes glistened as if animating the visage of decay his forehead was expansive but there was a doubt perplexity in his looks that seemed to say that although he had sought wisdom he had got entangled in some mysterious mazes from which he in vain endeavoured to extricate himself As Diotima spoke his colour went came with quick changes the flexible muscles of his countenance shewed every impression that his mind received he seemed one who in life had studied hard but whose feeble frame sunk beneath the weight of the mere exertion of life the spark of intelligence burned with uncommon strength within him but that of life seemed ever on the eve of fading At present I shall not describe any other of this groupe but with deep attention try to recall in my memory some of the words of Diotima they were words of fire but their path is faintly marked on my recollection It requires a just hand, said she continuing her discourse, to weigh divide the good from evil On the earth they are inextricably entangled and if you would cast away what there appears an evil a multitude of beneficial causes or effects cling to it mock your labour When I was on earth and have walked in a solitary country during the silence of night have beheld the multitude of stars, the soft radiance of the moon reflected on the sea, which was studded by lovely islands When I have felt the soft breeze steal across my cheek as the words of love it has soothed cherished me then my mind seemed almost to quit the body that confined it to the earth with a quick mental sense to mingle with the scene that I hardly saw I felt Then I have exclaimed, oh world how beautiful thou art Oh brightest universe behold thy worshiper spirit of beauty of sympathy which pervades all things, now lifts my soul as with wings, how have you animated the light the breezes Deep inexplicable spirit give me words to express my adoration; my mind is hurried away but with language I cannot tell how I feel thy loveliness Silence or the song of the nightingale the momentary apparition of some bird that flies quietly past all seems animated with thee more than all the deep sky studded with worlds\" If the winds roared tore the sea and the dreadful lightnings seemed falling around me still love was mingled with the sacred terror I felt; the majesty of loveliness was deeply impressed on me So also I have felt when I have seen a lovely countenance or heard solemn music or the eloquence of divine wisdom flowing from the lips of one of its worshippers a lovely animal or even the graceful undulations of trees inanimate objects have excited in me the same deep feeling of love beauty; a feeling which while it made me alive eager to seek the cause animator of the scene, yet satisfied me by its very depth as if I had already found the solution to my enquires sic as if in feeling myself a part of the great whole I had found the truth secret of the universe But when retired in my cell I have studied contemplated the various motions and actions in the world the weight of evil has confounded me If I thought of the creation I saw an eternal chain of evil linked one to the other from the great whale who in the sea swallows destroys multitudes the smaller fish that live on him also torment him to madness to the cat whose pleasure it is to torment her prey I saw the whole creation filled with pain each creature seems to exist through the misery of another death havoc is the watchword of the animated world And Man also even in Athens the most civilized spot on the earth what a multitude of mean passions envy, malice a restless desire to depreciate all that was great and good did I see And in the dominions of the great being I saw man reduced?\n"
          ]
        }
      ]
    },
    {
      "cell_type": "markdown",
      "source": [
        "The EAP and MWS entries are clearly combinations of sentences, lacking punctuation. We could address this with sequencing, however that is beyond the scope of this project. (Sequencing would be useful in creating a sentence classifier.)\n",
        "\n",
        "Lastly let's take a quick look at the Test Data:"
      ],
      "metadata": {
        "id": "POO_GuW2eovn"
      }
    },
    {
      "cell_type": "code",
      "source": [
        "# Let's take a quick look at the Test Data before moving on\n",
        "test_df"
      ],
      "metadata": {
        "colab": {
          "base_uri": "https://localhost:8080/",
          "height": 424
        },
        "id": "6aEro323XObv",
        "outputId": "dc7ebb3f-5daf-45fe-fced-4729a5a73fdf"
      },
      "execution_count": null,
      "outputs": [
        {
          "output_type": "execute_result",
          "data": {
            "text/plain": [
              "           id                                               text\n",
              "0     id02310  Still, as I urged our leaving Ireland with suc...\n",
              "1     id24541  If a fire wanted fanning, it could readily be ...\n",
              "2     id00134  And when they had broken down the frail door t...\n",
              "3     id27757  While I was thinking how I should possibly man...\n",
              "4     id04081  I am not sure to what limit his knowledge may ...\n",
              "...       ...                                                ...\n",
              "8387  id11749         All this is now the fitter for my purpose.\n",
              "8388  id10526                 I fixed myself on a wide solitude.\n",
              "8389  id13477  It is easily understood that what might improv...\n",
              "8390  id13761  Be this as it may, I now began to feel the ins...\n",
              "8391  id04282  Long winded, statistical, and drearily genealo...\n",
              "\n",
              "[8392 rows x 2 columns]"
            ],
            "text/html": [
              "\n",
              "  <div id=\"df-bf417013-2915-43f5-bd51-f6d7b045342c\">\n",
              "    <div class=\"colab-df-container\">\n",
              "      <div>\n",
              "<style scoped>\n",
              "    .dataframe tbody tr th:only-of-type {\n",
              "        vertical-align: middle;\n",
              "    }\n",
              "\n",
              "    .dataframe tbody tr th {\n",
              "        vertical-align: top;\n",
              "    }\n",
              "\n",
              "    .dataframe thead th {\n",
              "        text-align: right;\n",
              "    }\n",
              "</style>\n",
              "<table border=\"1\" class=\"dataframe\">\n",
              "  <thead>\n",
              "    <tr style=\"text-align: right;\">\n",
              "      <th></th>\n",
              "      <th>id</th>\n",
              "      <th>text</th>\n",
              "    </tr>\n",
              "  </thead>\n",
              "  <tbody>\n",
              "    <tr>\n",
              "      <th>0</th>\n",
              "      <td>id02310</td>\n",
              "      <td>Still, as I urged our leaving Ireland with suc...</td>\n",
              "    </tr>\n",
              "    <tr>\n",
              "      <th>1</th>\n",
              "      <td>id24541</td>\n",
              "      <td>If a fire wanted fanning, it could readily be ...</td>\n",
              "    </tr>\n",
              "    <tr>\n",
              "      <th>2</th>\n",
              "      <td>id00134</td>\n",
              "      <td>And when they had broken down the frail door t...</td>\n",
              "    </tr>\n",
              "    <tr>\n",
              "      <th>3</th>\n",
              "      <td>id27757</td>\n",
              "      <td>While I was thinking how I should possibly man...</td>\n",
              "    </tr>\n",
              "    <tr>\n",
              "      <th>4</th>\n",
              "      <td>id04081</td>\n",
              "      <td>I am not sure to what limit his knowledge may ...</td>\n",
              "    </tr>\n",
              "    <tr>\n",
              "      <th>...</th>\n",
              "      <td>...</td>\n",
              "      <td>...</td>\n",
              "    </tr>\n",
              "    <tr>\n",
              "      <th>8387</th>\n",
              "      <td>id11749</td>\n",
              "      <td>All this is now the fitter for my purpose.</td>\n",
              "    </tr>\n",
              "    <tr>\n",
              "      <th>8388</th>\n",
              "      <td>id10526</td>\n",
              "      <td>I fixed myself on a wide solitude.</td>\n",
              "    </tr>\n",
              "    <tr>\n",
              "      <th>8389</th>\n",
              "      <td>id13477</td>\n",
              "      <td>It is easily understood that what might improv...</td>\n",
              "    </tr>\n",
              "    <tr>\n",
              "      <th>8390</th>\n",
              "      <td>id13761</td>\n",
              "      <td>Be this as it may, I now began to feel the ins...</td>\n",
              "    </tr>\n",
              "    <tr>\n",
              "      <th>8391</th>\n",
              "      <td>id04282</td>\n",
              "      <td>Long winded, statistical, and drearily genealo...</td>\n",
              "    </tr>\n",
              "  </tbody>\n",
              "</table>\n",
              "<p>8392 rows × 2 columns</p>\n",
              "</div>\n",
              "      <button class=\"colab-df-convert\" onclick=\"convertToInteractive('df-bf417013-2915-43f5-bd51-f6d7b045342c')\"\n",
              "              title=\"Convert this dataframe to an interactive table.\"\n",
              "              style=\"display:none;\">\n",
              "        \n",
              "  <svg xmlns=\"http://www.w3.org/2000/svg\" height=\"24px\"viewBox=\"0 0 24 24\"\n",
              "       width=\"24px\">\n",
              "    <path d=\"M0 0h24v24H0V0z\" fill=\"none\"/>\n",
              "    <path d=\"M18.56 5.44l.94 2.06.94-2.06 2.06-.94-2.06-.94-.94-2.06-.94 2.06-2.06.94zm-11 1L8.5 8.5l.94-2.06 2.06-.94-2.06-.94L8.5 2.5l-.94 2.06-2.06.94zm10 10l.94 2.06.94-2.06 2.06-.94-2.06-.94-.94-2.06-.94 2.06-2.06.94z\"/><path d=\"M17.41 7.96l-1.37-1.37c-.4-.4-.92-.59-1.43-.59-.52 0-1.04.2-1.43.59L10.3 9.45l-7.72 7.72c-.78.78-.78 2.05 0 2.83L4 21.41c.39.39.9.59 1.41.59.51 0 1.02-.2 1.41-.59l7.78-7.78 2.81-2.81c.8-.78.8-2.07 0-2.86zM5.41 20L4 18.59l7.72-7.72 1.47 1.35L5.41 20z\"/>\n",
              "  </svg>\n",
              "      </button>\n",
              "      \n",
              "  <style>\n",
              "    .colab-df-container {\n",
              "      display:flex;\n",
              "      flex-wrap:wrap;\n",
              "      gap: 12px;\n",
              "    }\n",
              "\n",
              "    .colab-df-convert {\n",
              "      background-color: #E8F0FE;\n",
              "      border: none;\n",
              "      border-radius: 50%;\n",
              "      cursor: pointer;\n",
              "      display: none;\n",
              "      fill: #1967D2;\n",
              "      height: 32px;\n",
              "      padding: 0 0 0 0;\n",
              "      width: 32px;\n",
              "    }\n",
              "\n",
              "    .colab-df-convert:hover {\n",
              "      background-color: #E2EBFA;\n",
              "      box-shadow: 0px 1px 2px rgba(60, 64, 67, 0.3), 0px 1px 3px 1px rgba(60, 64, 67, 0.15);\n",
              "      fill: #174EA6;\n",
              "    }\n",
              "\n",
              "    [theme=dark] .colab-df-convert {\n",
              "      background-color: #3B4455;\n",
              "      fill: #D2E3FC;\n",
              "    }\n",
              "\n",
              "    [theme=dark] .colab-df-convert:hover {\n",
              "      background-color: #434B5C;\n",
              "      box-shadow: 0px 1px 3px 1px rgba(0, 0, 0, 0.15);\n",
              "      filter: drop-shadow(0px 1px 2px rgba(0, 0, 0, 0.3));\n",
              "      fill: #FFFFFF;\n",
              "    }\n",
              "  </style>\n",
              "\n",
              "      <script>\n",
              "        const buttonEl =\n",
              "          document.querySelector('#df-bf417013-2915-43f5-bd51-f6d7b045342c button.colab-df-convert');\n",
              "        buttonEl.style.display =\n",
              "          google.colab.kernel.accessAllowed ? 'block' : 'none';\n",
              "\n",
              "        async function convertToInteractive(key) {\n",
              "          const element = document.querySelector('#df-bf417013-2915-43f5-bd51-f6d7b045342c');\n",
              "          const dataTable =\n",
              "            await google.colab.kernel.invokeFunction('convertToInteractive',\n",
              "                                                     [key], {});\n",
              "          if (!dataTable) return;\n",
              "\n",
              "          const docLinkHtml = 'Like what you see? Visit the ' +\n",
              "            '<a target=\"_blank\" href=https://colab.research.google.com/notebooks/data_table.ipynb>data table notebook</a>'\n",
              "            + ' to learn more about interactive tables.';\n",
              "          element.innerHTML = '';\n",
              "          dataTable['output_type'] = 'display_data';\n",
              "          await google.colab.output.renderOutput(dataTable, element);\n",
              "          const docLink = document.createElement('div');\n",
              "          docLink.innerHTML = docLinkHtml;\n",
              "          element.appendChild(docLink);\n",
              "        }\n",
              "      </script>\n",
              "    </div>\n",
              "  </div>\n",
              "  "
            ]
          },
          "metadata": {},
          "execution_count": 16
        }
      ]
    },
    {
      "cell_type": "markdown",
      "source": [
        "## 2. Standardizing the Entries with Natural Language Processing Techniques.\n",
        "\n",
        "The next stage of the project is to prepare the data for our LDA and NMF models. LDA will require a Count Vectorizer to turn the strings into word frequency vectors; NMF requires a TF-IDF vectorizer. So we will proceed in three stages:\n",
        "\n",
        "1) Build a function to standardize the strings\n",
        "\n",
        "2) Build the two vectorizers\n",
        "\n",
        "3) Apply both methods to pre-process\n"
      ],
      "metadata": {
        "id": "Xlub0wcLe8r3"
      }
    },
    {
      "cell_type": "markdown",
      "source": [
        "\n",
        "### 2.1. Standardizing String inputs\n",
        "\n",
        "We will now build the string preprocessing function. This will aim to standardize the strings, but applying a series of NLP techniques. Specifically we will want to:\n",
        "\n",
        "1) process the strings as Lower Case\n",
        "\n",
        "2) Remove Stop Words and Punctuation\n",
        "\n",
        "3) Tokenize the strings\n",
        "\n",
        "4) Further reduce the tokens with Lemmatization and\n",
        "\n",
        "Due to the string-based nature of our entries, using NLTK is quite appropriate here."
      ],
      "metadata": {
        "id": "G8KxPBvOb6vK"
      }
    },
    {
      "cell_type": "code",
      "source": [
        "# Helper Functions for Cleaning Pipeline funciton\n",
        "\n",
        "# String Remomal with MakeTrans -- translate all Punctuation into blanks\n",
        "import string\n",
        "table = str.maketrans('', '', string.punctuation)\n",
        "\n",
        "# Import NLTK Tokenizer\n",
        "from nltk import word_tokenize\n",
        "\n",
        "# Download and prepare NLTK Stop Words\n",
        "from nltk.corpus import stopwords\n",
        "nltk.download('stopwords')\n",
        "stop_words = stopwords.words('english')\n",
        "\n",
        "#download nltk punkt\n",
        "nltk.download('punkt')\n",
        "\n",
        "# import NLTK Lemmatizer\n",
        "nltk.download('wordnet')\n",
        "nltk.download('omw-1.4')\n",
        "from nltk.stem.wordnet import WordNetLemmatizer\n",
        "lemmatizer = WordNetLemmatizer()\n",
        "\n",
        "\n",
        "# import NLTK Stemmer\n",
        "from nltk.stem.lancaster import LancasterStemmer\n",
        "stemmer = LancasterStemmer()"
      ],
      "metadata": {
        "colab": {
          "base_uri": "https://localhost:8080/"
        },
        "id": "4h3DjI_EFhum",
        "outputId": "94afd50a-c4fc-4a6a-d1a2-d0eaef65939d"
      },
      "execution_count": null,
      "outputs": [
        {
          "output_type": "stream",
          "name": "stderr",
          "text": [
            "[nltk_data] Downloading package stopwords to /root/nltk_data...\n",
            "[nltk_data]   Package stopwords is already up-to-date!\n",
            "[nltk_data] Downloading package punkt to /root/nltk_data...\n",
            "[nltk_data]   Package punkt is already up-to-date!\n",
            "[nltk_data] Downloading package wordnet to /root/nltk_data...\n",
            "[nltk_data]   Package wordnet is already up-to-date!\n",
            "[nltk_data] Downloading package omw-1.4 to /root/nltk_data...\n",
            "[nltk_data]   Package omw-1.4 is already up-to-date!\n"
          ]
        }
      ]
    },
    {
      "cell_type": "code",
      "source": [
        "\"\"\"\n",
        "Clean_Text function: to pre-process the text by:\n",
        "1) Converting to Lower Case\n",
        "2) Removing Stop Words and Punctuation\n",
        "3) Tokenize\n",
        "4) Lemmatize\n",
        "5) Stem\n",
        "6) Recombine to Sentence\n",
        "Note: Some code copied from J. Brownlee (2017), notably rmeoving punctuation and numbers\n",
        "\n",
        "Input: doc_text (string): Document to be converted\n",
        "\n",
        "Return: sent (string):\n",
        "\n",
        "Raises: TypeError - if the input is not a String\n",
        "\"\"\"\n",
        "\n",
        "def clean_text(doc_text):\n",
        "  # Raise a TypeError if not a string\n",
        "  if type(doc_text) is not str:\n",
        "    raise TypeError(\"The input must be a dtpye String\")\n",
        "\n",
        "  # Convert to Lower Case\n",
        "  doc_text = doc_text.lower()\n",
        "\n",
        "  # Tokenize using nltk\n",
        "  tokens = word_tokenize(doc_text)\n",
        "\n",
        "  # Remove Punctuation\n",
        "  stripped = [w.translate(table) for w in tokens]\n",
        "\n",
        "  # remove remaining tokens that are not alphabetic\n",
        "  cleaned = [word for word in stripped if word.isalpha()]\n",
        "\n",
        "  # Remove Stopwords\n",
        "  no_stops = [word for word in cleaned if word not in stop_words]\n",
        "\n",
        "  # Stem words\n",
        "  stems = [stemmer.stem(word) for word in no_stops]\n",
        "\n",
        "  # Lemmatize\n",
        "  lemmas = [lemmatizer.lemmatize(word) for word in stems]\n",
        "\n",
        "  # Rebuild list into string\n",
        "  sent = ' '.join(lemmas)\n",
        "\n",
        "  return sent\n"
      ],
      "metadata": {
        "id": "_vCBiCSukyxE"
      },
      "execution_count": null,
      "outputs": []
    },
    {
      "cell_type": "code",
      "source": [
        "# Testing our Clean-Text function\n",
        "# Create a Testing string, then run it through the function\n",
        "\n",
        "test_doc = \"This string is for testing, some of the SPACY functions; I will widely employ it somewhat\"\n",
        "\n",
        "clean_text(test_doc)"
      ],
      "metadata": {
        "colab": {
          "base_uri": "https://localhost:8080/",
          "height": 35
        },
        "id": "G_mtZIpkLYAV",
        "outputId": "ac9c080e-a90b-4d74-cc77-a935a1e3680b"
      },
      "execution_count": null,
      "outputs": [
        {
          "output_type": "execute_result",
          "data": {
            "text/plain": [
              "'string test spacy funct wid employ somewh'"
            ],
            "application/vnd.google.colaboratory.intrinsic+json": {
              "type": "string"
            }
          },
          "metadata": {},
          "execution_count": 19
        }
      ]
    },
    {
      "cell_type": "markdown",
      "source": [
        "Our function seems to be working well, returning a string, as appropriate for the Scikit-Learn Word Classifiers. We will now pre-process the Training and Testing data."
      ],
      "metadata": {
        "id": "DTeGR_ATT2mY"
      }
    },
    {
      "cell_type": "markdown",
      "source": [
        "### 2.2: Building Count Vectorizer and TF-IDF Vectorizer\n",
        "\n",
        "The LDA and NMF models work best with different vectorizations. LDA requires pure counts/frequencies; NMF works well with"
      ],
      "metadata": {
        "id": "DMws382PcgAB"
      }
    },
    {
      "cell_type": "code",
      "source": [
        "# Import the packages\n",
        "from sklearn.feature_extraction.text import CountVectorizer, TfidfVectorizer"
      ],
      "metadata": {
        "id": "ANfN7ACxgVpZ"
      },
      "execution_count": null,
      "outputs": []
    },
    {
      "cell_type": "code",
      "source": [
        "# build the Count Vectorizer\n",
        "count_vectorizer = CountVectorizer(\n",
        "    input='content',\n",
        "    max_df = 0.95,\n",
        "    min_df = 3\n",
        ")"
      ],
      "metadata": {
        "id": "eHWO0KN6gZw_"
      },
      "execution_count": null,
      "outputs": []
    },
    {
      "cell_type": "code",
      "source": [
        "# Build the TF-IDF Vectorizer\n",
        "tfidf_vectorizer = TfidfVectorizer(\n",
        "    input='content',\n",
        "    max_df=0.95,\n",
        "    min_df=3\n",
        ")"
      ],
      "metadata": {
        "id": "Som4C7gXhHjF"
      },
      "execution_count": null,
      "outputs": []
    },
    {
      "cell_type": "markdown",
      "source": [
        "### 2.3: Applying our functions to pre-process the data"
      ],
      "metadata": {
        "id": "tHz9XGr6cgHn"
      }
    },
    {
      "cell_type": "code",
      "source": [
        "# Pre-Process step one: Apply Clean_Text funct to our data, and break into Train and Test dataframes\n",
        "\n",
        "x_train = None\n",
        "x_train = pd.DataFrame(train_df.loc[:, 'text'].map(clean_text))\n",
        "\n",
        "print(x_train.head())\n",
        "\n",
        "x_test = None\n",
        "x_test = pd.DataFrame(test_df.loc[:, 'text'].map(clean_text))\n",
        "\n",
        "print(x_test.head())"
      ],
      "metadata": {
        "colab": {
          "base_uri": "https://localhost:8080/"
        },
        "id": "bUynLIm_YPpd",
        "outputId": "638e5e9f-c3c8-4fa3-9213-5826465d7911"
      },
      "execution_count": null,
      "outputs": [
        {
          "output_type": "stream",
          "name": "stdout",
          "text": [
            "                                                text\n",
            "0  process howev afford mean ascertain dimend dun...\n",
            "1                   nev occur fumbl might mer mistak\n",
            "2  left hand gold snuff box cap hil cut man fanta...\n",
            "3  lov spring look wind terrac sixteen fertil cou...\n",
            "4  find noth el ev gold superintend abandon attem...\n",
            "                                                text\n",
            "0  stil urg leav ireland inquietud impaty fath th...\n",
            "1  fir want fan could ready fan newspap govern gr...\n",
            "2  brok frail door found two cle pick hum skeleto...\n",
            "3  think po man without on act tumbl head rol ste...\n",
            "4                      sur limit knowledg may extend\n"
          ]
        }
      ]
    },
    {
      "cell_type": "code",
      "source": [
        "y_train = pd.DataFrame(train_df.loc[:,'author'])\n",
        "y_train"
      ],
      "metadata": {
        "colab": {
          "base_uri": "https://localhost:8080/",
          "height": 424
        },
        "id": "LKn5I8DfXbim",
        "outputId": "767cfefd-77d8-4cc1-86b2-354b9feeed79"
      },
      "execution_count": null,
      "outputs": [
        {
          "output_type": "execute_result",
          "data": {
            "text/plain": [
              "      author\n",
              "0        EAP\n",
              "1        HPL\n",
              "2        EAP\n",
              "3        MWS\n",
              "4        HPL\n",
              "...      ...\n",
              "19574    EAP\n",
              "19575    EAP\n",
              "19576    EAP\n",
              "19577    EAP\n",
              "19578    HPL\n",
              "\n",
              "[19579 rows x 1 columns]"
            ],
            "text/html": [
              "\n",
              "  <div id=\"df-5ae59481-b621-4dc6-88bf-0f68980c9e33\">\n",
              "    <div class=\"colab-df-container\">\n",
              "      <div>\n",
              "<style scoped>\n",
              "    .dataframe tbody tr th:only-of-type {\n",
              "        vertical-align: middle;\n",
              "    }\n",
              "\n",
              "    .dataframe tbody tr th {\n",
              "        vertical-align: top;\n",
              "    }\n",
              "\n",
              "    .dataframe thead th {\n",
              "        text-align: right;\n",
              "    }\n",
              "</style>\n",
              "<table border=\"1\" class=\"dataframe\">\n",
              "  <thead>\n",
              "    <tr style=\"text-align: right;\">\n",
              "      <th></th>\n",
              "      <th>author</th>\n",
              "    </tr>\n",
              "  </thead>\n",
              "  <tbody>\n",
              "    <tr>\n",
              "      <th>0</th>\n",
              "      <td>EAP</td>\n",
              "    </tr>\n",
              "    <tr>\n",
              "      <th>1</th>\n",
              "      <td>HPL</td>\n",
              "    </tr>\n",
              "    <tr>\n",
              "      <th>2</th>\n",
              "      <td>EAP</td>\n",
              "    </tr>\n",
              "    <tr>\n",
              "      <th>3</th>\n",
              "      <td>MWS</td>\n",
              "    </tr>\n",
              "    <tr>\n",
              "      <th>4</th>\n",
              "      <td>HPL</td>\n",
              "    </tr>\n",
              "    <tr>\n",
              "      <th>...</th>\n",
              "      <td>...</td>\n",
              "    </tr>\n",
              "    <tr>\n",
              "      <th>19574</th>\n",
              "      <td>EAP</td>\n",
              "    </tr>\n",
              "    <tr>\n",
              "      <th>19575</th>\n",
              "      <td>EAP</td>\n",
              "    </tr>\n",
              "    <tr>\n",
              "      <th>19576</th>\n",
              "      <td>EAP</td>\n",
              "    </tr>\n",
              "    <tr>\n",
              "      <th>19577</th>\n",
              "      <td>EAP</td>\n",
              "    </tr>\n",
              "    <tr>\n",
              "      <th>19578</th>\n",
              "      <td>HPL</td>\n",
              "    </tr>\n",
              "  </tbody>\n",
              "</table>\n",
              "<p>19579 rows × 1 columns</p>\n",
              "</div>\n",
              "      <button class=\"colab-df-convert\" onclick=\"convertToInteractive('df-5ae59481-b621-4dc6-88bf-0f68980c9e33')\"\n",
              "              title=\"Convert this dataframe to an interactive table.\"\n",
              "              style=\"display:none;\">\n",
              "        \n",
              "  <svg xmlns=\"http://www.w3.org/2000/svg\" height=\"24px\"viewBox=\"0 0 24 24\"\n",
              "       width=\"24px\">\n",
              "    <path d=\"M0 0h24v24H0V0z\" fill=\"none\"/>\n",
              "    <path d=\"M18.56 5.44l.94 2.06.94-2.06 2.06-.94-2.06-.94-.94-2.06-.94 2.06-2.06.94zm-11 1L8.5 8.5l.94-2.06 2.06-.94-2.06-.94L8.5 2.5l-.94 2.06-2.06.94zm10 10l.94 2.06.94-2.06 2.06-.94-2.06-.94-.94-2.06-.94 2.06-2.06.94z\"/><path d=\"M17.41 7.96l-1.37-1.37c-.4-.4-.92-.59-1.43-.59-.52 0-1.04.2-1.43.59L10.3 9.45l-7.72 7.72c-.78.78-.78 2.05 0 2.83L4 21.41c.39.39.9.59 1.41.59.51 0 1.02-.2 1.41-.59l7.78-7.78 2.81-2.81c.8-.78.8-2.07 0-2.86zM5.41 20L4 18.59l7.72-7.72 1.47 1.35L5.41 20z\"/>\n",
              "  </svg>\n",
              "      </button>\n",
              "      \n",
              "  <style>\n",
              "    .colab-df-container {\n",
              "      display:flex;\n",
              "      flex-wrap:wrap;\n",
              "      gap: 12px;\n",
              "    }\n",
              "\n",
              "    .colab-df-convert {\n",
              "      background-color: #E8F0FE;\n",
              "      border: none;\n",
              "      border-radius: 50%;\n",
              "      cursor: pointer;\n",
              "      display: none;\n",
              "      fill: #1967D2;\n",
              "      height: 32px;\n",
              "      padding: 0 0 0 0;\n",
              "      width: 32px;\n",
              "    }\n",
              "\n",
              "    .colab-df-convert:hover {\n",
              "      background-color: #E2EBFA;\n",
              "      box-shadow: 0px 1px 2px rgba(60, 64, 67, 0.3), 0px 1px 3px 1px rgba(60, 64, 67, 0.15);\n",
              "      fill: #174EA6;\n",
              "    }\n",
              "\n",
              "    [theme=dark] .colab-df-convert {\n",
              "      background-color: #3B4455;\n",
              "      fill: #D2E3FC;\n",
              "    }\n",
              "\n",
              "    [theme=dark] .colab-df-convert:hover {\n",
              "      background-color: #434B5C;\n",
              "      box-shadow: 0px 1px 3px 1px rgba(0, 0, 0, 0.15);\n",
              "      filter: drop-shadow(0px 1px 2px rgba(0, 0, 0, 0.3));\n",
              "      fill: #FFFFFF;\n",
              "    }\n",
              "  </style>\n",
              "\n",
              "      <script>\n",
              "        const buttonEl =\n",
              "          document.querySelector('#df-5ae59481-b621-4dc6-88bf-0f68980c9e33 button.colab-df-convert');\n",
              "        buttonEl.style.display =\n",
              "          google.colab.kernel.accessAllowed ? 'block' : 'none';\n",
              "\n",
              "        async function convertToInteractive(key) {\n",
              "          const element = document.querySelector('#df-5ae59481-b621-4dc6-88bf-0f68980c9e33');\n",
              "          const dataTable =\n",
              "            await google.colab.kernel.invokeFunction('convertToInteractive',\n",
              "                                                     [key], {});\n",
              "          if (!dataTable) return;\n",
              "\n",
              "          const docLinkHtml = 'Like what you see? Visit the ' +\n",
              "            '<a target=\"_blank\" href=https://colab.research.google.com/notebooks/data_table.ipynb>data table notebook</a>'\n",
              "            + ' to learn more about interactive tables.';\n",
              "          element.innerHTML = '';\n",
              "          dataTable['output_type'] = 'display_data';\n",
              "          await google.colab.output.renderOutput(dataTable, element);\n",
              "          const docLink = document.createElement('div');\n",
              "          docLink.innerHTML = docLinkHtml;\n",
              "          element.appendChild(docLink);\n",
              "        }\n",
              "      </script>\n",
              "    </div>\n",
              "  </div>\n",
              "  "
            ]
          },
          "metadata": {},
          "execution_count": 24
        }
      ]
    },
    {
      "cell_type": "code",
      "source": [
        "# Fit_Transform Vectorizers\n",
        "\n",
        "x_train_cv = count_vectorizer.fit_transform(x_train['text'])\n",
        "\n",
        "x_train_cv"
      ],
      "metadata": {
        "colab": {
          "base_uri": "https://localhost:8080/"
        },
        "id": "a5thbaexhlQQ",
        "outputId": "b5f4830f-56c5-4050-a21e-05cb02d857d9"
      },
      "execution_count": null,
      "outputs": [
        {
          "output_type": "execute_result",
          "data": {
            "text/plain": [
              "<19579x6910 sparse matrix of type '<class 'numpy.int64'>'\n",
              "\twith 240578 stored elements in Compressed Sparse Row format>"
            ]
          },
          "metadata": {},
          "execution_count": 25
        }
      ]
    },
    {
      "cell_type": "code",
      "source": [
        "# Fit_Transform TF-IDF Vectorizer\n",
        "\n",
        "x_train_tfidf = tfidf_vectorizer.fit_transform(x_train['text'])\n",
        "\n",
        "x_train_tfidf"
      ],
      "metadata": {
        "colab": {
          "base_uri": "https://localhost:8080/"
        },
        "id": "hZdazzQjiUDA",
        "outputId": "b2caaf3a-0a84-4bc6-bdc3-0acff42a4f5b"
      },
      "execution_count": null,
      "outputs": [
        {
          "output_type": "execute_result",
          "data": {
            "text/plain": [
              "<19579x6910 sparse matrix of type '<class 'numpy.float64'>'\n",
              "\twith 240578 stored elements in Compressed Sparse Row format>"
            ]
          },
          "metadata": {},
          "execution_count": 26
        }
      ]
    },
    {
      "cell_type": "markdown",
      "source": [
        "## 3. LDA and NMF Topic Modelling\n",
        "\n",
        "Time to build and fit our two topic modelling systems.\n",
        "\n",
        "We will evaluate with several different numbers of topics, using the perplexity score. Perplexity is simply e^(Cross Entropy), so smaller scores are better as they indicate less entropy, and therefore more distinct topics."
      ],
      "metadata": {
        "id": "DvkNn8G2cblx"
      }
    },
    {
      "cell_type": "code",
      "source": [
        "# Import models\n",
        "from sklearn.decomposition import LatentDirichletAllocation, NMF\n"
      ],
      "metadata": {
        "id": "Gsozu35-kbJL"
      },
      "execution_count": null,
      "outputs": []
    },
    {
      "cell_type": "code",
      "source": [
        "# Build a loop to evaluate LDA with different numbers of topics\n",
        "\n",
        "lda_results = pd.DataFrame(columns=['n', 'perp', 'run_time'])\n",
        "for i in range (0,10):\n",
        "  t0 = time()\n",
        "  n = i + 2\n",
        "  lda = LatentDirichletAllocation(n_components=n, random_state=1024)\n",
        "\n",
        "  lda.fit(x_train_cv)\n",
        "\n",
        "  perp = lda.perplexity(x_train_cv)\n",
        "  print('n = ' + str(n) + '     perplexity = ' + str(perp))\n",
        "\n",
        "  lda_results.loc[i] = [n, perp, (time()-t0)]\n",
        "\n",
        "lda_results"
      ],
      "metadata": {
        "colab": {
          "base_uri": "https://localhost:8080/",
          "height": 537
        },
        "id": "UTvifn_r-gc4",
        "outputId": "d0d7b64e-3651-497b-c65e-fc36d32a8fff"
      },
      "execution_count": null,
      "outputs": [
        {
          "output_type": "stream",
          "name": "stdout",
          "text": [
            "n = 2     perplexity = 2680.706707315594\n",
            "n = 3     perplexity = 2706.2071373036993\n",
            "n = 4     perplexity = 2816.5420582241036\n",
            "n = 5     perplexity = 2893.6253280317223\n",
            "n = 6     perplexity = 2991.382374930712\n",
            "n = 7     perplexity = 3069.5898077224615\n",
            "n = 8     perplexity = 3118.5595736022706\n",
            "n = 9     perplexity = 3190.828125097942\n",
            "n = 10     perplexity = 3276.7377749385864\n",
            "n = 11     perplexity = 3317.741676853357\n"
          ]
        },
        {
          "output_type": "execute_result",
          "data": {
            "text/plain": [
              "      n         perp   run_time\n",
              "0   2.0  2680.706707  72.064593\n",
              "1   3.0  2706.207137  78.245501\n",
              "2   4.0  2816.542058  66.810627\n",
              "3   5.0  2893.625328  65.574191\n",
              "4   6.0  2991.382375  61.287080\n",
              "5   7.0  3069.589808  62.079962\n",
              "6   8.0  3118.559574  58.332960\n",
              "7   9.0  3190.828125  58.888936\n",
              "8  10.0  3276.737775  62.896748\n",
              "9  11.0  3317.741677  56.430102"
            ],
            "text/html": [
              "\n",
              "  <div id=\"df-d7c916b2-b209-4156-adb7-c8e67eb27f91\">\n",
              "    <div class=\"colab-df-container\">\n",
              "      <div>\n",
              "<style scoped>\n",
              "    .dataframe tbody tr th:only-of-type {\n",
              "        vertical-align: middle;\n",
              "    }\n",
              "\n",
              "    .dataframe tbody tr th {\n",
              "        vertical-align: top;\n",
              "    }\n",
              "\n",
              "    .dataframe thead th {\n",
              "        text-align: right;\n",
              "    }\n",
              "</style>\n",
              "<table border=\"1\" class=\"dataframe\">\n",
              "  <thead>\n",
              "    <tr style=\"text-align: right;\">\n",
              "      <th></th>\n",
              "      <th>n</th>\n",
              "      <th>perp</th>\n",
              "      <th>run_time</th>\n",
              "    </tr>\n",
              "  </thead>\n",
              "  <tbody>\n",
              "    <tr>\n",
              "      <th>0</th>\n",
              "      <td>2.0</td>\n",
              "      <td>2680.706707</td>\n",
              "      <td>72.064593</td>\n",
              "    </tr>\n",
              "    <tr>\n",
              "      <th>1</th>\n",
              "      <td>3.0</td>\n",
              "      <td>2706.207137</td>\n",
              "      <td>78.245501</td>\n",
              "    </tr>\n",
              "    <tr>\n",
              "      <th>2</th>\n",
              "      <td>4.0</td>\n",
              "      <td>2816.542058</td>\n",
              "      <td>66.810627</td>\n",
              "    </tr>\n",
              "    <tr>\n",
              "      <th>3</th>\n",
              "      <td>5.0</td>\n",
              "      <td>2893.625328</td>\n",
              "      <td>65.574191</td>\n",
              "    </tr>\n",
              "    <tr>\n",
              "      <th>4</th>\n",
              "      <td>6.0</td>\n",
              "      <td>2991.382375</td>\n",
              "      <td>61.287080</td>\n",
              "    </tr>\n",
              "    <tr>\n",
              "      <th>5</th>\n",
              "      <td>7.0</td>\n",
              "      <td>3069.589808</td>\n",
              "      <td>62.079962</td>\n",
              "    </tr>\n",
              "    <tr>\n",
              "      <th>6</th>\n",
              "      <td>8.0</td>\n",
              "      <td>3118.559574</td>\n",
              "      <td>58.332960</td>\n",
              "    </tr>\n",
              "    <tr>\n",
              "      <th>7</th>\n",
              "      <td>9.0</td>\n",
              "      <td>3190.828125</td>\n",
              "      <td>58.888936</td>\n",
              "    </tr>\n",
              "    <tr>\n",
              "      <th>8</th>\n",
              "      <td>10.0</td>\n",
              "      <td>3276.737775</td>\n",
              "      <td>62.896748</td>\n",
              "    </tr>\n",
              "    <tr>\n",
              "      <th>9</th>\n",
              "      <td>11.0</td>\n",
              "      <td>3317.741677</td>\n",
              "      <td>56.430102</td>\n",
              "    </tr>\n",
              "  </tbody>\n",
              "</table>\n",
              "</div>\n",
              "      <button class=\"colab-df-convert\" onclick=\"convertToInteractive('df-d7c916b2-b209-4156-adb7-c8e67eb27f91')\"\n",
              "              title=\"Convert this dataframe to an interactive table.\"\n",
              "              style=\"display:none;\">\n",
              "        \n",
              "  <svg xmlns=\"http://www.w3.org/2000/svg\" height=\"24px\"viewBox=\"0 0 24 24\"\n",
              "       width=\"24px\">\n",
              "    <path d=\"M0 0h24v24H0V0z\" fill=\"none\"/>\n",
              "    <path d=\"M18.56 5.44l.94 2.06.94-2.06 2.06-.94-2.06-.94-.94-2.06-.94 2.06-2.06.94zm-11 1L8.5 8.5l.94-2.06 2.06-.94-2.06-.94L8.5 2.5l-.94 2.06-2.06.94zm10 10l.94 2.06.94-2.06 2.06-.94-2.06-.94-.94-2.06-.94 2.06-2.06.94z\"/><path d=\"M17.41 7.96l-1.37-1.37c-.4-.4-.92-.59-1.43-.59-.52 0-1.04.2-1.43.59L10.3 9.45l-7.72 7.72c-.78.78-.78 2.05 0 2.83L4 21.41c.39.39.9.59 1.41.59.51 0 1.02-.2 1.41-.59l7.78-7.78 2.81-2.81c.8-.78.8-2.07 0-2.86zM5.41 20L4 18.59l7.72-7.72 1.47 1.35L5.41 20z\"/>\n",
              "  </svg>\n",
              "      </button>\n",
              "      \n",
              "  <style>\n",
              "    .colab-df-container {\n",
              "      display:flex;\n",
              "      flex-wrap:wrap;\n",
              "      gap: 12px;\n",
              "    }\n",
              "\n",
              "    .colab-df-convert {\n",
              "      background-color: #E8F0FE;\n",
              "      border: none;\n",
              "      border-radius: 50%;\n",
              "      cursor: pointer;\n",
              "      display: none;\n",
              "      fill: #1967D2;\n",
              "      height: 32px;\n",
              "      padding: 0 0 0 0;\n",
              "      width: 32px;\n",
              "    }\n",
              "\n",
              "    .colab-df-convert:hover {\n",
              "      background-color: #E2EBFA;\n",
              "      box-shadow: 0px 1px 2px rgba(60, 64, 67, 0.3), 0px 1px 3px 1px rgba(60, 64, 67, 0.15);\n",
              "      fill: #174EA6;\n",
              "    }\n",
              "\n",
              "    [theme=dark] .colab-df-convert {\n",
              "      background-color: #3B4455;\n",
              "      fill: #D2E3FC;\n",
              "    }\n",
              "\n",
              "    [theme=dark] .colab-df-convert:hover {\n",
              "      background-color: #434B5C;\n",
              "      box-shadow: 0px 1px 3px 1px rgba(0, 0, 0, 0.15);\n",
              "      filter: drop-shadow(0px 1px 2px rgba(0, 0, 0, 0.3));\n",
              "      fill: #FFFFFF;\n",
              "    }\n",
              "  </style>\n",
              "\n",
              "      <script>\n",
              "        const buttonEl =\n",
              "          document.querySelector('#df-d7c916b2-b209-4156-adb7-c8e67eb27f91 button.colab-df-convert');\n",
              "        buttonEl.style.display =\n",
              "          google.colab.kernel.accessAllowed ? 'block' : 'none';\n",
              "\n",
              "        async function convertToInteractive(key) {\n",
              "          const element = document.querySelector('#df-d7c916b2-b209-4156-adb7-c8e67eb27f91');\n",
              "          const dataTable =\n",
              "            await google.colab.kernel.invokeFunction('convertToInteractive',\n",
              "                                                     [key], {});\n",
              "          if (!dataTable) return;\n",
              "\n",
              "          const docLinkHtml = 'Like what you see? Visit the ' +\n",
              "            '<a target=\"_blank\" href=https://colab.research.google.com/notebooks/data_table.ipynb>data table notebook</a>'\n",
              "            + ' to learn more about interactive tables.';\n",
              "          element.innerHTML = '';\n",
              "          dataTable['output_type'] = 'display_data';\n",
              "          await google.colab.output.renderOutput(dataTable, element);\n",
              "          const docLink = document.createElement('div');\n",
              "          docLink.innerHTML = docLinkHtml;\n",
              "          element.appendChild(docLink);\n",
              "        }\n",
              "      </script>\n",
              "    </div>\n",
              "  </div>\n",
              "  "
            ]
          },
          "metadata": {},
          "execution_count": 28
        }
      ]
    },
    {
      "cell_type": "code",
      "source": [
        "# Plot the results for LDA\n",
        "\n",
        "plt.title(\"Figure 3.1:: Perplexity vs Number of Topics for LDA Models\")\n",
        "sns.lineplot(data=lda_results, x='n', y='perp')"
      ],
      "metadata": {
        "colab": {
          "base_uri": "https://localhost:8080/",
          "height": 312
        },
        "id": "2GmaQucc-gfm",
        "outputId": "a6dab08b-3bb1-40bd-b280-d40fdd2bcdec"
      },
      "execution_count": null,
      "outputs": [
        {
          "output_type": "execute_result",
          "data": {
            "text/plain": [
              "<matplotlib.axes._subplots.AxesSubplot at 0x7f3d631ce4d0>"
            ]
          },
          "metadata": {},
          "execution_count": 29
        },
        {
          "output_type": "display_data",
          "data": {
            "text/plain": [
              "<Figure size 432x288 with 1 Axes>"
            ],
            "image/png": "[encoded data removed]"
          },
          "metadata": {
            "needs_background": "light"
          }
        }
      ]
    },
    {
      "cell_type": "markdown",
      "source": [
        "We can clearly see perplexity increaseing with the number of topics -- therefore n=2 topics is the best model we have for LDA.\n",
        "\n",
        "Let's retrain it, and have a look at the two sets of topics."
      ],
      "metadata": {
        "id": "gEjMMZkYOR_v"
      }
    },
    {
      "cell_type": "code",
      "source": [
        "# Build and train the model with n=2 Topics\n",
        "lda2 = LatentDirichletAllocation(n_components=2, random_state=1024)\n",
        "\n",
        "lda2.fit(x_train_cv)"
      ],
      "metadata": {
        "colab": {
          "base_uri": "https://localhost:8080/"
        },
        "id": "jEtshqNI-gh3",
        "outputId": "deff1afb-1086-4821-916c-6b6a97cfd123"
      },
      "execution_count": null,
      "outputs": [
        {
          "output_type": "execute_result",
          "data": {
            "text/plain": [
              "LatentDirichletAllocation(n_components=2, random_state=1024)"
            ]
          },
          "metadata": {},
          "execution_count": 30
        }
      ]
    },
    {
      "cell_type": "code",
      "source": [
        "# Print out top 20 word tokens in the LDA2 model\n",
        "\n",
        "for i, topic in enumerate(lda2.components_):\n",
        "  print(f'THE TOP 20 WORDS FOR TOPIC #{i}')\n",
        "  print([count_vectorizer.get_feature_names_out()[w] for w in topic.argsort()[-20:]])\n",
        "  print('\\n')\n"
      ],
      "metadata": {
        "colab": {
          "base_uri": "https://localhost:8080/"
        },
        "id": "EVDtig-q-gke",
        "outputId": "6b185f12-fd1d-4165-ec58-d38d5f334077"
      },
      "execution_count": null,
      "outputs": [
        {
          "output_type": "stream",
          "name": "stdout",
          "text": [
            "THE TOP 20 WORDS FOR TOPIC #0\n",
            "['door', 'room', 'near', 'look', 'found', 'first', 'ey', 'two', 'tim', 'gre', 'man', 'op', 'lik', 'hous', 'thing', 'seem', 'old', 'could', 'on', 'upon']\n",
            "\n",
            "\n",
            "THE TOP 20 WORDS FOR TOPIC #1\n",
            "['nev', 'friend', 'heart', 'mad', 'might', 'tim', 'thought', 'pas', 'long', 'nat', 'lif', 'said', 'man', 'day', 'lov', 'yet', 'on', 'could', 'would', 'ev']\n",
            "\n",
            "\n"
          ]
        }
      ]
    },
    {
      "cell_type": "markdown",
      "source": [
        "Even acknowledging that these are the word lemmas and thus difficult to read, it's difficult to see the common thread in these topics. The first seems to deal with objects and structures (thing, house, room, etc.) and the second with feelings (love, friend, heart, mad, etc.), but those are quite loose connections.\n",
        "\n",
        "Let's move on to the NMF modelling. We will use the reconstruction error as our evaluation metric."
      ],
      "metadata": {
        "id": "Ft-z8YR8U_hr"
      }
    },
    {
      "cell_type": "code",
      "source": [
        "# Build a loop to evaluate LDA with different numbers of topics\n",
        "\n",
        "nmf_results = pd.DataFrame(columns=['n', 'rec_err', 'run_time'])\n",
        "for i in range (0,20):\n",
        "  t0 = time()\n",
        "  n = i + 2\n",
        "  nmf = NMF(n_components=n, random_state=1024, init='nndsvda', max_iter=500)\n",
        "\n",
        "  nmf.fit(x_train_tfidf)\n",
        "\n",
        "  err = nmf.reconstruction_err_\n",
        "  print('n = ' + str(n) + '     reconstruction error = ' + str(err))\n",
        "\n",
        "  nmf_results.loc[i] = [n, err, (time()-t0)]\n",
        "\n",
        "nmf_results"
      ],
      "metadata": {
        "colab": {
          "base_uri": "https://localhost:8080/",
          "height": 1078
        },
        "id": "Xfjg5vME-gnS",
        "outputId": "35136efb-72c9-4786-fda3-25c721a1f786"
      },
      "execution_count": null,
      "outputs": [
        {
          "output_type": "stream",
          "name": "stdout",
          "text": [
            "n = 2     reconstruction error = 139.14616033987298\n",
            "n = 3     reconstruction error = 138.9872073724234\n",
            "n = 4     reconstruction error = 138.82129488285503\n",
            "n = 5     reconstruction error = 138.664512818084\n",
            "n = 6     reconstruction error = 138.49708372622692\n",
            "n = 7     reconstruction error = 138.33990334537538\n",
            "n = 8     reconstruction error = 138.19501529782116\n",
            "n = 9     reconstruction error = 138.05353791084588\n",
            "n = 10     reconstruction error = 137.9223865015758\n",
            "n = 11     reconstruction error = 137.79497936616994\n",
            "n = 12     reconstruction error = 137.6725486723791\n",
            "n = 13     reconstruction error = 137.552281683596\n",
            "n = 14     reconstruction error = 137.43067936286232\n"
          ]
        },
        {
          "output_type": "stream",
          "name": "stderr",
          "text": [
            "/usr/local/lib/python3.7/dist-packages/sklearn/decomposition/_nmf.py:1641: ConvergenceWarning: Maximum number of iterations 500 reached. Increase it to improve convergence.\n",
            "  ConvergenceWarning,\n"
          ]
        },
        {
          "output_type": "stream",
          "name": "stdout",
          "text": [
            "n = 15     reconstruction error = 137.3130052428271\n",
            "n = 16     reconstruction error = 137.19376599405194\n",
            "n = 17     reconstruction error = 137.0745730252235\n",
            "n = 18     reconstruction error = 136.96182681428976\n",
            "n = 19     reconstruction error = 136.86010949249604\n",
            "n = 20     reconstruction error = 136.73520657860794\n",
            "n = 21     reconstruction error = 136.6212412868684\n"
          ]
        },
        {
          "output_type": "execute_result",
          "data": {
            "text/plain": [
              "       n     rec_err   run_time\n",
              "0    2.0  139.146160   0.356681\n",
              "1    3.0  138.987207   0.583840\n",
              "2    4.0  138.821295   0.865997\n",
              "3    5.0  138.664513   0.838811\n",
              "4    6.0  138.497084   0.629534\n",
              "5    7.0  138.339903   0.998682\n",
              "6    8.0  138.195015   0.957159\n",
              "7    9.0  138.053538   1.288674\n",
              "8   10.0  137.922387   2.017508\n",
              "9   11.0  137.794979   2.555183\n",
              "10  12.0  137.672549   2.690563\n",
              "11  13.0  137.552282   3.363784\n",
              "12  14.0  137.430679   2.524977\n",
              "13  15.0  137.313005   9.806485\n",
              "14  16.0  137.193766   5.466555\n",
              "15  17.0  137.074573   6.775345\n",
              "16  18.0  136.961827  10.488138\n",
              "17  19.0  136.860109   5.689873\n",
              "18  20.0  136.735207   5.913840\n",
              "19  21.0  136.621241   5.997871"
            ],
            "text/html": [
              "\n",
              "  <div id=\"df-68bfe370-21e7-4753-9ab2-2e906e7c7531\">\n",
              "    <div class=\"colab-df-container\">\n",
              "      <div>\n",
              "<style scoped>\n",
              "    .dataframe tbody tr th:only-of-type {\n",
              "        vertical-align: middle;\n",
              "    }\n",
              "\n",
              "    .dataframe tbody tr th {\n",
              "        vertical-align: top;\n",
              "    }\n",
              "\n",
              "    .dataframe thead th {\n",
              "        text-align: right;\n",
              "    }\n",
              "</style>\n",
              "<table border=\"1\" class=\"dataframe\">\n",
              "  <thead>\n",
              "    <tr style=\"text-align: right;\">\n",
              "      <th></th>\n",
              "      <th>n</th>\n",
              "      <th>rec_err</th>\n",
              "      <th>run_time</th>\n",
              "    </tr>\n",
              "  </thead>\n",
              "  <tbody>\n",
              "    <tr>\n",
              "      <th>0</th>\n",
              "      <td>2.0</td>\n",
              "      <td>139.146160</td>\n",
              "      <td>0.356681</td>\n",
              "    </tr>\n",
              "    <tr>\n",
              "      <th>1</th>\n",
              "      <td>3.0</td>\n",
              "      <td>138.987207</td>\n",
              "      <td>0.583840</td>\n",
              "    </tr>\n",
              "    <tr>\n",
              "      <th>2</th>\n",
              "      <td>4.0</td>\n",
              "      <td>138.821295</td>\n",
              "      <td>0.865997</td>\n",
              "    </tr>\n",
              "    <tr>\n",
              "      <th>3</th>\n",
              "      <td>5.0</td>\n",
              "      <td>138.664513</td>\n",
              "      <td>0.838811</td>\n",
              "    </tr>\n",
              "    <tr>\n",
              "      <th>4</th>\n",
              "      <td>6.0</td>\n",
              "      <td>138.497084</td>\n",
              "      <td>0.629534</td>\n",
              "    </tr>\n",
              "    <tr>\n",
              "      <th>5</th>\n",
              "      <td>7.0</td>\n",
              "      <td>138.339903</td>\n",
              "      <td>0.998682</td>\n",
              "    </tr>\n",
              "    <tr>\n",
              "      <th>6</th>\n",
              "      <td>8.0</td>\n",
              "      <td>138.195015</td>\n",
              "      <td>0.957159</td>\n",
              "    </tr>\n",
              "    <tr>\n",
              "      <th>7</th>\n",
              "      <td>9.0</td>\n",
              "      <td>138.053538</td>\n",
              "      <td>1.288674</td>\n",
              "    </tr>\n",
              "    <tr>\n",
              "      <th>8</th>\n",
              "      <td>10.0</td>\n",
              "      <td>137.922387</td>\n",
              "      <td>2.017508</td>\n",
              "    </tr>\n",
              "    <tr>\n",
              "      <th>9</th>\n",
              "      <td>11.0</td>\n",
              "      <td>137.794979</td>\n",
              "      <td>2.555183</td>\n",
              "    </tr>\n",
              "    <tr>\n",
              "      <th>10</th>\n",
              "      <td>12.0</td>\n",
              "      <td>137.672549</td>\n",
              "      <td>2.690563</td>\n",
              "    </tr>\n",
              "    <tr>\n",
              "      <th>11</th>\n",
              "      <td>13.0</td>\n",
              "      <td>137.552282</td>\n",
              "      <td>3.363784</td>\n",
              "    </tr>\n",
              "    <tr>\n",
              "      <th>12</th>\n",
              "      <td>14.0</td>\n",
              "      <td>137.430679</td>\n",
              "      <td>2.524977</td>\n",
              "    </tr>\n",
              "    <tr>\n",
              "      <th>13</th>\n",
              "      <td>15.0</td>\n",
              "      <td>137.313005</td>\n",
              "      <td>9.806485</td>\n",
              "    </tr>\n",
              "    <tr>\n",
              "      <th>14</th>\n",
              "      <td>16.0</td>\n",
              "      <td>137.193766</td>\n",
              "      <td>5.466555</td>\n",
              "    </tr>\n",
              "    <tr>\n",
              "      <th>15</th>\n",
              "      <td>17.0</td>\n",
              "      <td>137.074573</td>\n",
              "      <td>6.775345</td>\n",
              "    </tr>\n",
              "    <tr>\n",
              "      <th>16</th>\n",
              "      <td>18.0</td>\n",
              "      <td>136.961827</td>\n",
              "      <td>10.488138</td>\n",
              "    </tr>\n",
              "    <tr>\n",
              "      <th>17</th>\n",
              "      <td>19.0</td>\n",
              "      <td>136.860109</td>\n",
              "      <td>5.689873</td>\n",
              "    </tr>\n",
              "    <tr>\n",
              "      <th>18</th>\n",
              "      <td>20.0</td>\n",
              "      <td>136.735207</td>\n",
              "      <td>5.913840</td>\n",
              "    </tr>\n",
              "    <tr>\n",
              "      <th>19</th>\n",
              "      <td>21.0</td>\n",
              "      <td>136.621241</td>\n",
              "      <td>5.997871</td>\n",
              "    </tr>\n",
              "  </tbody>\n",
              "</table>\n",
              "</div>\n",
              "      <button class=\"colab-df-convert\" onclick=\"convertToInteractive('df-68bfe370-21e7-4753-9ab2-2e906e7c7531')\"\n",
              "              title=\"Convert this dataframe to an interactive table.\"\n",
              "              style=\"display:none;\">\n",
              "        \n",
              "  <svg xmlns=\"http://www.w3.org/2000/svg\" height=\"24px\"viewBox=\"0 0 24 24\"\n",
              "       width=\"24px\">\n",
              "    <path d=\"M0 0h24v24H0V0z\" fill=\"none\"/>\n",
              "    <path d=\"M18.56 5.44l.94 2.06.94-2.06 2.06-.94-2.06-.94-.94-2.06-.94 2.06-2.06.94zm-11 1L8.5 8.5l.94-2.06 2.06-.94-2.06-.94L8.5 2.5l-.94 2.06-2.06.94zm10 10l.94 2.06.94-2.06 2.06-.94-2.06-.94-.94-2.06-.94 2.06-2.06.94z\"/><path d=\"M17.41 7.96l-1.37-1.37c-.4-.4-.92-.59-1.43-.59-.52 0-1.04.2-1.43.59L10.3 9.45l-7.72 7.72c-.78.78-.78 2.05 0 2.83L4 21.41c.39.39.9.59 1.41.59.51 0 1.02-.2 1.41-.59l7.78-7.78 2.81-2.81c.8-.78.8-2.07 0-2.86zM5.41 20L4 18.59l7.72-7.72 1.47 1.35L5.41 20z\"/>\n",
              "  </svg>\n",
              "      </button>\n",
              "      \n",
              "  <style>\n",
              "    .colab-df-container {\n",
              "      display:flex;\n",
              "      flex-wrap:wrap;\n",
              "      gap: 12px;\n",
              "    }\n",
              "\n",
              "    .colab-df-convert {\n",
              "      background-color: #E8F0FE;\n",
              "      border: none;\n",
              "      border-radius: 50%;\n",
              "      cursor: pointer;\n",
              "      display: none;\n",
              "      fill: #1967D2;\n",
              "      height: 32px;\n",
              "      padding: 0 0 0 0;\n",
              "      width: 32px;\n",
              "    }\n",
              "\n",
              "    .colab-df-convert:hover {\n",
              "      background-color: #E2EBFA;\n",
              "      box-shadow: 0px 1px 2px rgba(60, 64, 67, 0.3), 0px 1px 3px 1px rgba(60, 64, 67, 0.15);\n",
              "      fill: #174EA6;\n",
              "    }\n",
              "\n",
              "    [theme=dark] .colab-df-convert {\n",
              "      background-color: #3B4455;\n",
              "      fill: #D2E3FC;\n",
              "    }\n",
              "\n",
              "    [theme=dark] .colab-df-convert:hover {\n",
              "      background-color: #434B5C;\n",
              "      box-shadow: 0px 1px 3px 1px rgba(0, 0, 0, 0.15);\n",
              "      filter: drop-shadow(0px 1px 2px rgba(0, 0, 0, 0.3));\n",
              "      fill: #FFFFFF;\n",
              "    }\n",
              "  </style>\n",
              "\n",
              "      <script>\n",
              "        const buttonEl =\n",
              "          document.querySelector('#df-68bfe370-21e7-4753-9ab2-2e906e7c7531 button.colab-df-convert');\n",
              "        buttonEl.style.display =\n",
              "          google.colab.kernel.accessAllowed ? 'block' : 'none';\n",
              "\n",
              "        async function convertToInteractive(key) {\n",
              "          const element = document.querySelector('#df-68bfe370-21e7-4753-9ab2-2e906e7c7531');\n",
              "          const dataTable =\n",
              "            await google.colab.kernel.invokeFunction('convertToInteractive',\n",
              "                                                     [key], {});\n",
              "          if (!dataTable) return;\n",
              "\n",
              "          const docLinkHtml = 'Like what you see? Visit the ' +\n",
              "            '<a target=\"_blank\" href=https://colab.research.google.com/notebooks/data_table.ipynb>data table notebook</a>'\n",
              "            + ' to learn more about interactive tables.';\n",
              "          element.innerHTML = '';\n",
              "          dataTable['output_type'] = 'display_data';\n",
              "          await google.colab.output.renderOutput(dataTable, element);\n",
              "          const docLink = document.createElement('div');\n",
              "          docLink.innerHTML = docLinkHtml;\n",
              "          element.appendChild(docLink);\n",
              "        }\n",
              "      </script>\n",
              "    </div>\n",
              "  </div>\n",
              "  "
            ]
          },
          "metadata": {},
          "execution_count": 32
        }
      ]
    },
    {
      "cell_type": "code",
      "source": [
        "# plot error against number of components\n",
        "\n",
        "plt.title(\"Figure 3.2: Reconstruction Error vs Number of Topics for NMF Topic Modelling\")\n",
        "sns.lineplot(data=nmf_results, x='n', y='rec_err')"
      ],
      "metadata": {
        "colab": {
          "base_uri": "https://localhost:8080/",
          "height": 312
        },
        "id": "u6zSC5Z45RJl",
        "outputId": "97ac3ccd-4ad6-4ac9-e3cf-cc4f03400206"
      },
      "execution_count": null,
      "outputs": [
        {
          "output_type": "execute_result",
          "data": {
            "text/plain": [
              "<matplotlib.axes._subplots.AxesSubplot at 0x7f3d634b5510>"
            ]
          },
          "metadata": {},
          "execution_count": 33
        },
        {
          "output_type": "display_data",
          "data": {
            "text/plain": [
              "<Figure size 432x288 with 1 Axes>"
            ],
            "image/png": "[encoded data removed]"
          },
          "metadata": {
            "needs_background": "light"
          }
        }
      ]
    },
    {
      "cell_type": "markdown",
      "source": [
        "Although the graph looks steep, we can see that the error is only declining very slightly, from 139.15 to 136.62.\n",
        "\n",
        "We can also see a sharp increase in the time required to run the computation at N=14. Therefore we should consider evaluating 14 topics.\n",
        "\n",
        "Let's have a look at the topics from a NMF model with 2 topics, to compare with our LDA, as well as the aforementionned 14 topics."
      ],
      "metadata": {
        "id": "c6tEOg3Jgb2Q"
      }
    },
    {
      "cell_type": "code",
      "source": [
        "# build NMF2 and show topics\n",
        "nmf2 = NMF(n_components=2, random_state=1024, init='nndsvda', max_iter=500)\n",
        "\n",
        "nmf2.fit(x_train_tfidf)"
      ],
      "metadata": {
        "colab": {
          "base_uri": "https://localhost:8080/"
        },
        "id": "NYPLQk9B5RMX",
        "outputId": "e7fad725-b25a-490e-e449-5e92084d1d37"
      },
      "execution_count": null,
      "outputs": [
        {
          "output_type": "execute_result",
          "data": {
            "text/plain": [
              "NMF(init='nndsvda', max_iter=500, n_components=2, random_state=1024)"
            ]
          },
          "metadata": {},
          "execution_count": 34
        }
      ]
    },
    {
      "cell_type": "code",
      "source": [
        "# Print out top 20 word tokens in the NMF2 model\n",
        "\n",
        "for i, topic in enumerate(nmf2.components_):\n",
        "  print(f'THE TOP 20 WORDS FOR TOPIC #{i}')\n",
        "  print([tfidf_vectorizer.get_feature_names_out()[w] for w in topic.argsort()[-20:]])\n",
        "  print('\\n')"
      ],
      "metadata": {
        "colab": {
          "base_uri": "https://localhost:8080/"
        },
        "id": "iro9tK83g-Ui",
        "outputId": "e07372de-50e9-410f-8d84-3b58c92f02d8"
      },
      "execution_count": null,
      "outputs": [
        {
          "output_type": "stream",
          "name": "stdout",
          "text": [
            "THE TOP 20 WORDS FOR TOPIC #0\n",
            "['gre', 'first', 'pas', 'thought', 'lov', 'must', 'nev', 'ey', 'day', 'long', 'thing', 'mad', 'yet', 'said', 'tim', 'man', 'upon', 'would', 'could', 'ev']\n",
            "\n",
            "\n",
            "THE TOP 20 WORDS FOR TOPIC #1\n",
            "['mom', 'hand', 'found', 'singul', 'op', 'ent', 'smal', 'window', 'might', 'seen', 'day', 'hous', 'sid', 'night', 'every', 'old', 'thing', 'anoth', 'two', 'on']\n",
            "\n",
            "\n"
          ]
        }
      ]
    },
    {
      "cell_type": "markdown",
      "source": [
        "We can see that the first topic is fairly close to the second from LDA, containing several 'feeling' words. The second of these NMF topics is quite on its own, containing day, night; house, window, and thing. Both are even less coherent than the LDA topics, by my quick reading.\n",
        "\n",
        "Lastly, let's have a look at the 14-topic NMF model to see if anything is clearer."
      ],
      "metadata": {
        "id": "uQN533kIlLm4"
      }
    },
    {
      "cell_type": "code",
      "source": [
        "# Build NMF 14 and show topics\n",
        "nmf14 = NMF(n_components=14, random_state=1024, init='nndsvda', max_iter=600)\n",
        "\n",
        "nmf14.fit(x_train_tfidf)"
      ],
      "metadata": {
        "colab": {
          "base_uri": "https://localhost:8080/"
        },
        "id": "8EjCjPSxg-Xb",
        "outputId": "d7466c77-9389-4852-b2db-c413742cefd3"
      },
      "execution_count": null,
      "outputs": [
        {
          "output_type": "execute_result",
          "data": {
            "text/plain": [
              "NMF(init='nndsvda', max_iter=600, n_components=14, random_state=1024)"
            ]
          },
          "metadata": {},
          "execution_count": 36
        }
      ]
    },
    {
      "cell_type": "code",
      "source": [
        "# Print out top 20 word tokens in the LDA14 model\n",
        "\n",
        "for i, topic in enumerate(nmf14.components_):\n",
        "  print(f'THE TOP 20 WORDS FOR TOPIC #{i}')\n",
        "  print([count_vectorizer.get_feature_names_out()[w] for w in topic.argsort()[-20:]])\n",
        "  print('\\n')"
      ],
      "metadata": {
        "colab": {
          "base_uri": "https://localhost:8080/"
        },
        "id": "BeQcIZF55RPw",
        "outputId": "ee5143ce-a611-4af5-f79e-97ac230923b6"
      },
      "execution_count": null,
      "outputs": [
        {
          "output_type": "stream",
          "name": "stdout",
          "text": [
            "THE TOP 20 WORDS FOR TOPIC #0\n",
            "['every', 'wel', 'tak', 'mat', 'year', 'many', 'mind', 'part', 'much', 'thought', 'appear', 'found', 'howev', 'might', 'gre', 'first', 'day', 'long', 'mad', 'tim']\n",
            "\n",
            "\n",
            "THE TOP 20 WORDS FOR TOPIC #1\n",
            "['point', 'top', 'arm', 'tabl', 'found', 'depend', 'lay', 'effect', 'charact', 'let', 'word', 'thrown', 'sat', 'subject', 'head', 'thu', 'fel', 'look', 'hand', 'upon']\n",
            "\n",
            "\n",
            "THE TOP 20 WORDS FOR TOPIC #2\n",
            "['exceiv', 'smal', 'end', 'writ', 'dea', 'ent', 'voic', 'let', 'reply', 'mom', 'word', 'singul', 'seen', 'might', 'sid', 'old', 'every', 'two', 'anoth', 'on']\n",
            "\n",
            "\n",
            "THE TOP 20 WORDS FOR TOPIC #3\n",
            "['pound', 'wel', 'heard', 'thousand', 'stil', 'sur', 'mean', 'com', 'go', 'friend', 'tak', 'dear', 'ye', 'word', 'sir', 'noth', 'let', 'littl', 'dupin', 'said']\n",
            "\n",
            "\n",
            "THE TOP 20 WORDS FOR TOPIC #4\n",
            "['form', 'imagin', 'po', 'understand', 'knew', 'tel', 'scarc', 'reason', 'doubt', 'don', 'hum', 'help', 'mak', 'believ', 'perceiv', 'distinct', 'see', 'word', 'noth', 'could']\n",
            "\n",
            "\n",
            "THE TOP 20 WORDS FOR TOPIC #5\n",
            "['permit', 'might', 'bet', 'wish', 'night', 'raymond', 'dar', 'rest', 'thought', 'dea', 'knew', 'com', 'alon', 'think', 'tak', 'hop', 'mak', 'go', 'return', 'would']\n",
            "\n",
            "\n",
            "THE TOP 20 WORDS FOR TOPIC #6\n",
            "['fear', 'whol', 'perdit', 'though', 'thought', 'person', 'com', 'act', 'shal', 'alon', 'rel', 'dream', 'thu', 'heard', 'may', 'seen', 'stil', 'conceiv', 'sint', 'ev']\n",
            "\n",
            "\n",
            "THE TOP 20 WORDS FOR TOPIC #7\n",
            "['spok', 'talk', 'cal', 'busy', 'beard', 'nat', 'pow', 'fac', 'cre', 'wom', 'ag', 'alon', 'dead', 'anim', 'god', 'liv', 'young', 'gre', 'old', 'man']\n",
            "\n",
            "\n",
            "THE TOP 20 WORDS FOR TOPIC #8\n",
            "['dream', 'simpl', 'hum', 'beg', 'put', 'knew', 'don', 'told', 'old', 'ex', 'speak', 'lik', 'liv', 'strange', 'men', 'many', 'world', 'ear', 'every', 'thing']\n",
            "\n",
            "\n",
            "THE TOP 20 WORDS FOR TOPIC #9\n",
            "['heard', 'hand', 'left', 'near', 'dark', 'clos', 'window', 'stil', 'room', 'light', 'seem', 'hous', 'lik', 'cam', 'look', 'door', 'op', 'saw', 'night', 'ey']\n",
            "\n",
            "\n",
            "THE TOP 20 WORDS FOR TOPIC #10\n",
            "['hum', 'soul', 'cre', 'year', 'perdit', 'dea', 'thu', 'beauty', 'fath', 'raymond', 'affect', 'hop', 'nat', 'happy', 'friend', 'feel', 'heart', 'pas', 'lif', 'lov']\n",
            "\n",
            "\n",
            "THE TOP 20 WORDS FOR TOPIC #11\n",
            "['wel', 'also', 'cre', 'thought', 'word', 'confess', 'chang', 'suff', 'describ', 'act', 'liv', 'cut', 'try', 'die', 'someth', 'plac', 'go', 'knew', 'com', 'must']\n",
            "\n",
            "\n",
            "THE TOP 20 WORDS FOR TOPIC #12\n",
            "['feel', 'strange', 'terr', 'mi', 'mat', 'let', 'gentl', 'remain', 'seem', 'dread', 'die', 'find', 'perhap', 'hop', 'might', 'liv', 'although', 'fear', 'stil', 'yet']\n",
            "\n",
            "\n",
            "THE TOP 20 WORDS FOR TOPIC #13\n",
            "['want', 'lik', 'ca', 'com', 'god', 'much', 'noth', 'believ', 'go', 'tel', 'ye', 'wel', 'may', 'let', 'shal', 'see', 'nt', 'say', 'nev', 'know']\n",
            "\n",
            "\n"
          ]
        }
      ]
    },
    {
      "cell_type": "markdown",
      "source": [
        "These topics appear to be largely unintelligible and unrelated. This shows us one of the downsides of NMF, which is that it often results in less coherent topics."
      ],
      "metadata": {
        "id": "HkG69wKal1qY"
      }
    },
    {
      "cell_type": "markdown",
      "source": [
        "## 4. Conclusions\n",
        "\n",
        "We applied natural language processing techniques to conduct topic modelling of the requested data. We found that two topics was the best split for LDA, with the lowest perplexity (a representaiton of cross entropy), and saw increasing perplexity with every topic added in a relatively linear way.\n",
        "\n",
        "For NMF, we observed a linear decrease in the reconstruction error with increasing number of topics (a measure of how close we can get to the original values with our lower dimensional word vectors). However, this drop was quite small. Further, NMF appears to give us less useful collections of words for topics, at the benefit of running much much faster."
      ],
      "metadata": {
        "id": "dCmRjCPEhvzm"
      }
    },
    {
      "cell_type": "markdown",
      "source": [
        "## 5. References\n",
        "\n",
        "Brownlee, J. (2017, October 18). How to Clean Text for Machine Learning with Python. MachineLearningMastery.com. https://machinelearningmastery.com/clean-text-machine-learning-python/"
      ],
      "metadata": {
        "id": "W3LqbjSzVFFv"
      }
    },
    {
      "cell_type": "code",
      "source": [],
      "metadata": {
        "id": "m_ChpvMKVGvh"
      },
      "execution_count": null,
      "outputs": []
    }
  ]
}