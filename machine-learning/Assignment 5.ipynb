{
 "cells": [
  {
   "cell_type": "markdown",
   "metadata": {
    "collapsed": true,
    "pycharm": {
     "name": "#%% md\n"
    }
   },
   "source": [
    "# Assignment 5 - Bayesian Methods\n",
    "by Bryan Carr\n",
    "13 June 2022\n",
    "for AAI 510\n",
    "University of San Diego\n",
    "\n",
    "\n",
    "In this assignment, we will aim to use Bayesian statistical methods to improve our earlier model. We are once again using the Home Credit dataset from Kaggle.com:\n",
    "https://www.kaggle.com/competitions/home-credit-default-risk/data\n",
    "\n",
    "Recall in Assignment 4 that two reasonable models were created:\n",
    "1) A Random Forest with n=100 estimators; Max Depth = 20; min_samples_split = 10; and 50x weighting for the Positive target class\n",
    "-- this model had Test Accuracy of 62.7% and Test Recall of 71.7%\n",
    "2) A XGB gradient-boosted forest with n=75, Max Depth = 11, and 50x Weighting\n",
    "-- this model had Test Accuracy of 68.3% and Test Recall of 60.6%\n",
    "\n",
    "Today we will aim to create a predictive variable based on the dataset's included loan history, to predict whether or not an applicant has a history of difficulty making payments."
   ]
  },
  {
   "cell_type": "code",
   "execution_count": 239,
   "outputs": [],
   "source": [
    "import pandas\n",
    "import pandas as pd\n",
    "import numpy as np\n",
    "import matplotlib.pyplot as plt\n",
    "import seaborn as sns\n",
    "from sklearn.model_selection import train_test_split\n",
    "from sklearn.impute import SimpleImputer\n",
    "from sklearn.preprocessing import StandardScaler, OneHotEncoder, MinMaxScaler\n",
    "from sklearn.compose import ColumnTransformer\n",
    "from sklearn.pipeline import Pipeline\n",
    "from sklearn.metrics import confusion_matrix, f1_score, recall_score, precision_score\n",
    "from sklearn import tree\n",
    "from sklearn.ensemble import RandomForestClassifier\n",
    "from xgboost import XGBClassifier\n",
    "\n",
    "from sklearn.experimental import enable_iterative_imputer\n",
    "from sklearn.impute import IterativeImputer\n",
    "from sklearn.linear_model import BayesianRidge\n",
    "\n",
    "from sklearn.naive_bayes import GaussianNB\n",
    "from sklearn.naive_bayes import ComplementNB\n"
   ],
   "metadata": {
    "collapsed": false,
    "pycharm": {
     "name": "#%%\n"
    }
   }
  },
  {
   "cell_type": "code",
   "execution_count": 240,
   "outputs": [],
   "source": [
    "# read in Application data\n",
    "application_df = pd.read_csv('data/application_train.csv')"
   ],
   "metadata": {
    "collapsed": false,
    "pycharm": {
     "name": "#%%\n"
    }
   }
  },
  {
   "cell_type": "code",
   "execution_count": 241,
   "outputs": [
    {
     "data": {
      "text/plain": "   SK_ID_CURR  TARGET NAME_CONTRACT_TYPE CODE_GENDER FLAG_OWN_CAR  \\\n0      100002       1         Cash loans           M            N   \n1      100003       0         Cash loans           F            N   \n2      100004       0    Revolving loans           M            Y   \n3      100006       0         Cash loans           F            N   \n4      100007       0         Cash loans           M            N   \n\n  FLAG_OWN_REALTY  CNT_CHILDREN  AMT_INCOME_TOTAL  AMT_CREDIT  AMT_ANNUITY  \\\n0               Y             0          202500.0    406597.5      24700.5   \n1               N             0          270000.0   1293502.5      35698.5   \n2               Y             0           67500.0    135000.0       6750.0   \n3               Y             0          135000.0    312682.5      29686.5   \n4               Y             0          121500.0    513000.0      21865.5   \n\n   ...  FLAG_DOCUMENT_18 FLAG_DOCUMENT_19 FLAG_DOCUMENT_20 FLAG_DOCUMENT_21  \\\n0  ...                 0                0                0                0   \n1  ...                 0                0                0                0   \n2  ...                 0                0                0                0   \n3  ...                 0                0                0                0   \n4  ...                 0                0                0                0   \n\n  AMT_REQ_CREDIT_BUREAU_HOUR AMT_REQ_CREDIT_BUREAU_DAY  \\\n0                        0.0                       0.0   \n1                        0.0                       0.0   \n2                        0.0                       0.0   \n3                        NaN                       NaN   \n4                        0.0                       0.0   \n\n   AMT_REQ_CREDIT_BUREAU_WEEK  AMT_REQ_CREDIT_BUREAU_MON  \\\n0                         0.0                        0.0   \n1                         0.0                        0.0   \n2                         0.0                        0.0   \n3                         NaN                        NaN   \n4                         0.0                        0.0   \n\n   AMT_REQ_CREDIT_BUREAU_QRT  AMT_REQ_CREDIT_BUREAU_YEAR  \n0                        0.0                         1.0  \n1                        0.0                         0.0  \n2                        0.0                         0.0  \n3                        NaN                         NaN  \n4                        0.0                         0.0  \n\n[5 rows x 122 columns]",
      "text/html": "<div>\n<style scoped>\n    .dataframe tbody tr th:only-of-type {\n        vertical-align: middle;\n    }\n\n    .dataframe tbody tr th {\n        vertical-align: top;\n    }\n\n    .dataframe thead th {\n        text-align: right;\n    }\n</style>\n<table border=\"1\" class=\"dataframe\">\n  <thead>\n    <tr style=\"text-align: right;\">\n      <th></th>\n      <th>SK_ID_CURR</th>\n      <th>TARGET</th>\n      <th>NAME_CONTRACT_TYPE</th>\n      <th>CODE_GENDER</th>\n      <th>FLAG_OWN_CAR</th>\n      <th>FLAG_OWN_REALTY</th>\n      <th>CNT_CHILDREN</th>\n      <th>AMT_INCOME_TOTAL</th>\n      <th>AMT_CREDIT</th>\n      <th>AMT_ANNUITY</th>\n      <th>...</th>\n      <th>FLAG_DOCUMENT_18</th>\n      <th>FLAG_DOCUMENT_19</th>\n      <th>FLAG_DOCUMENT_20</th>\n      <th>FLAG_DOCUMENT_21</th>\n      <th>AMT_REQ_CREDIT_BUREAU_HOUR</th>\n      <th>AMT_REQ_CREDIT_BUREAU_DAY</th>\n      <th>AMT_REQ_CREDIT_BUREAU_WEEK</th>\n      <th>AMT_REQ_CREDIT_BUREAU_MON</th>\n      <th>AMT_REQ_CREDIT_BUREAU_QRT</th>\n      <th>AMT_REQ_CREDIT_BUREAU_YEAR</th>\n    </tr>\n  </thead>\n  <tbody>\n    <tr>\n      <th>0</th>\n      <td>100002</td>\n      <td>1</td>\n      <td>Cash loans</td>\n      <td>M</td>\n      <td>N</td>\n      <td>Y</td>\n      <td>0</td>\n      <td>202500.0</td>\n      <td>406597.5</td>\n      <td>24700.5</td>\n      <td>...</td>\n      <td>0</td>\n      <td>0</td>\n      <td>0</td>\n      <td>0</td>\n      <td>0.0</td>\n      <td>0.0</td>\n      <td>0.0</td>\n      <td>0.0</td>\n      <td>0.0</td>\n      <td>1.0</td>\n    </tr>\n    <tr>\n      <th>1</th>\n      <td>100003</td>\n      <td>0</td>\n      <td>Cash loans</td>\n      <td>F</td>\n      <td>N</td>\n      <td>N</td>\n      <td>0</td>\n      <td>270000.0</td>\n      <td>1293502.5</td>\n      <td>35698.5</td>\n      <td>...</td>\n      <td>0</td>\n      <td>0</td>\n      <td>0</td>\n      <td>0</td>\n      <td>0.0</td>\n      <td>0.0</td>\n      <td>0.0</td>\n      <td>0.0</td>\n      <td>0.0</td>\n      <td>0.0</td>\n    </tr>\n    <tr>\n      <th>2</th>\n      <td>100004</td>\n      <td>0</td>\n      <td>Revolving loans</td>\n      <td>M</td>\n      <td>Y</td>\n      <td>Y</td>\n      <td>0</td>\n      <td>67500.0</td>\n      <td>135000.0</td>\n      <td>6750.0</td>\n      <td>...</td>\n      <td>0</td>\n      <td>0</td>\n      <td>0</td>\n      <td>0</td>\n      <td>0.0</td>\n      <td>0.0</td>\n      <td>0.0</td>\n      <td>0.0</td>\n      <td>0.0</td>\n      <td>0.0</td>\n    </tr>\n    <tr>\n      <th>3</th>\n      <td>100006</td>\n      <td>0</td>\n      <td>Cash loans</td>\n      <td>F</td>\n      <td>N</td>\n      <td>Y</td>\n      <td>0</td>\n      <td>135000.0</td>\n      <td>312682.5</td>\n      <td>29686.5</td>\n      <td>...</td>\n      <td>0</td>\n      <td>0</td>\n      <td>0</td>\n      <td>0</td>\n      <td>NaN</td>\n      <td>NaN</td>\n      <td>NaN</td>\n      <td>NaN</td>\n      <td>NaN</td>\n      <td>NaN</td>\n    </tr>\n    <tr>\n      <th>4</th>\n      <td>100007</td>\n      <td>0</td>\n      <td>Cash loans</td>\n      <td>M</td>\n      <td>N</td>\n      <td>Y</td>\n      <td>0</td>\n      <td>121500.0</td>\n      <td>513000.0</td>\n      <td>21865.5</td>\n      <td>...</td>\n      <td>0</td>\n      <td>0</td>\n      <td>0</td>\n      <td>0</td>\n      <td>0.0</td>\n      <td>0.0</td>\n      <td>0.0</td>\n      <td>0.0</td>\n      <td>0.0</td>\n      <td>0.0</td>\n    </tr>\n  </tbody>\n</table>\n<p>5 rows × 122 columns</p>\n</div>"
     },
     "execution_count": 241,
     "metadata": {},
     "output_type": "execute_result"
    }
   ],
   "source": [
    "application_df.head()"
   ],
   "metadata": {
    "collapsed": false,
    "pycharm": {
     "name": "#%%\n"
    }
   }
  },
  {
   "cell_type": "markdown",
   "source": [
    "As before, we will drop the Building Information columns from the middle of the dataframe. Let's check their indices, then drop them, then verify."
   ],
   "metadata": {
    "collapsed": false,
    "pycharm": {
     "name": "#%% md\n"
    }
   }
  },
  {
   "cell_type": "code",
   "execution_count": 242,
   "outputs": [
    {
     "data": {
      "text/plain": "Index(['APARTMENTS_AVG', 'BASEMENTAREA_AVG', 'YEARS_BEGINEXPLUATATION_AVG',\n       'YEARS_BUILD_AVG', 'COMMONAREA_AVG', 'ELEVATORS_AVG', 'ENTRANCES_AVG',\n       'FLOORSMAX_AVG', 'FLOORSMIN_AVG', 'LANDAREA_AVG',\n       'LIVINGAPARTMENTS_AVG', 'LIVINGAREA_AVG', 'NONLIVINGAPARTMENTS_AVG',\n       'NONLIVINGAREA_AVG', 'APARTMENTS_MODE', 'BASEMENTAREA_MODE',\n       'YEARS_BEGINEXPLUATATION_MODE', 'YEARS_BUILD_MODE', 'COMMONAREA_MODE',\n       'ELEVATORS_MODE', 'ENTRANCES_MODE', 'FLOORSMAX_MODE', 'FLOORSMIN_MODE',\n       'LANDAREA_MODE', 'LIVINGAPARTMENTS_MODE', 'LIVINGAREA_MODE',\n       'NONLIVINGAPARTMENTS_MODE', 'NONLIVINGAREA_MODE', 'APARTMENTS_MEDI',\n       'BASEMENTAREA_MEDI', 'YEARS_BEGINEXPLUATATION_MEDI', 'YEARS_BUILD_MEDI',\n       'COMMONAREA_MEDI', 'ELEVATORS_MEDI', 'ENTRANCES_MEDI', 'FLOORSMAX_MEDI',\n       'FLOORSMIN_MEDI', 'LANDAREA_MEDI', 'LIVINGAPARTMENTS_MEDI',\n       'LIVINGAREA_MEDI', 'NONLIVINGAPARTMENTS_MEDI', 'NONLIVINGAREA_MEDI',\n       'FONDKAPREMONT_MODE', 'HOUSETYPE_MODE', 'TOTALAREA_MODE',\n       'WALLSMATERIAL_MODE', 'EMERGENCYSTATE_MODE'],\n      dtype='object')"
     },
     "execution_count": 242,
     "metadata": {},
     "output_type": "execute_result"
    }
   ],
   "source": [
    "application_df.columns[44:91]"
   ],
   "metadata": {
    "collapsed": false,
    "pycharm": {
     "name": "#%%\n"
    }
   }
  },
  {
   "cell_type": "code",
   "execution_count": 243,
   "outputs": [],
   "source": [
    "application_df.drop(axis='columns', columns=application_df.columns[44:91], inplace=True)"
   ],
   "metadata": {
    "collapsed": false,
    "pycharm": {
     "name": "#%%\n"
    }
   }
  },
  {
   "cell_type": "code",
   "execution_count": 244,
   "outputs": [],
   "source": [
    "# ALso drop Name_Type_Suite for the type of accompaniment, which we are not using\n",
    "application_df.drop(axis=1, columns='NAME_TYPE_SUITE', inplace=True)\n"
   ],
   "metadata": {
    "collapsed": false,
    "pycharm": {
     "name": "#%%\n"
    }
   }
  },
  {
   "cell_type": "code",
   "execution_count": 245,
   "outputs": [
    {
     "data": {
      "text/plain": "   SK_ID_CURR  TARGET NAME_CONTRACT_TYPE CODE_GENDER FLAG_OWN_CAR  \\\n0      100002       1         Cash loans           M            N   \n1      100003       0         Cash loans           F            N   \n2      100004       0    Revolving loans           M            Y   \n3      100006       0         Cash loans           F            N   \n4      100007       0         Cash loans           M            N   \n\n  FLAG_OWN_REALTY  CNT_CHILDREN  AMT_INCOME_TOTAL  AMT_CREDIT  AMT_ANNUITY  \\\n0               Y             0          202500.0    406597.5      24700.5   \n1               N             0          270000.0   1293502.5      35698.5   \n2               Y             0           67500.0    135000.0       6750.0   \n3               Y             0          135000.0    312682.5      29686.5   \n4               Y             0          121500.0    513000.0      21865.5   \n\n   ...  FLAG_DOCUMENT_18 FLAG_DOCUMENT_19 FLAG_DOCUMENT_20 FLAG_DOCUMENT_21  \\\n0  ...                 0                0                0                0   \n1  ...                 0                0                0                0   \n2  ...                 0                0                0                0   \n3  ...                 0                0                0                0   \n4  ...                 0                0                0                0   \n\n  AMT_REQ_CREDIT_BUREAU_HOUR  AMT_REQ_CREDIT_BUREAU_DAY  \\\n0                        0.0                        0.0   \n1                        0.0                        0.0   \n2                        0.0                        0.0   \n3                        NaN                        NaN   \n4                        0.0                        0.0   \n\n   AMT_REQ_CREDIT_BUREAU_WEEK  AMT_REQ_CREDIT_BUREAU_MON  \\\n0                         0.0                        0.0   \n1                         0.0                        0.0   \n2                         0.0                        0.0   \n3                         NaN                        NaN   \n4                         0.0                        0.0   \n\n   AMT_REQ_CREDIT_BUREAU_QRT  AMT_REQ_CREDIT_BUREAU_YEAR  \n0                        0.0                         1.0  \n1                        0.0                         0.0  \n2                        0.0                         0.0  \n3                        NaN                         NaN  \n4                        0.0                         0.0  \n\n[5 rows x 74 columns]",
      "text/html": "<div>\n<style scoped>\n    .dataframe tbody tr th:only-of-type {\n        vertical-align: middle;\n    }\n\n    .dataframe tbody tr th {\n        vertical-align: top;\n    }\n\n    .dataframe thead th {\n        text-align: right;\n    }\n</style>\n<table border=\"1\" class=\"dataframe\">\n  <thead>\n    <tr style=\"text-align: right;\">\n      <th></th>\n      <th>SK_ID_CURR</th>\n      <th>TARGET</th>\n      <th>NAME_CONTRACT_TYPE</th>\n      <th>CODE_GENDER</th>\n      <th>FLAG_OWN_CAR</th>\n      <th>FLAG_OWN_REALTY</th>\n      <th>CNT_CHILDREN</th>\n      <th>AMT_INCOME_TOTAL</th>\n      <th>AMT_CREDIT</th>\n      <th>AMT_ANNUITY</th>\n      <th>...</th>\n      <th>FLAG_DOCUMENT_18</th>\n      <th>FLAG_DOCUMENT_19</th>\n      <th>FLAG_DOCUMENT_20</th>\n      <th>FLAG_DOCUMENT_21</th>\n      <th>AMT_REQ_CREDIT_BUREAU_HOUR</th>\n      <th>AMT_REQ_CREDIT_BUREAU_DAY</th>\n      <th>AMT_REQ_CREDIT_BUREAU_WEEK</th>\n      <th>AMT_REQ_CREDIT_BUREAU_MON</th>\n      <th>AMT_REQ_CREDIT_BUREAU_QRT</th>\n      <th>AMT_REQ_CREDIT_BUREAU_YEAR</th>\n    </tr>\n  </thead>\n  <tbody>\n    <tr>\n      <th>0</th>\n      <td>100002</td>\n      <td>1</td>\n      <td>Cash loans</td>\n      <td>M</td>\n      <td>N</td>\n      <td>Y</td>\n      <td>0</td>\n      <td>202500.0</td>\n      <td>406597.5</td>\n      <td>24700.5</td>\n      <td>...</td>\n      <td>0</td>\n      <td>0</td>\n      <td>0</td>\n      <td>0</td>\n      <td>0.0</td>\n      <td>0.0</td>\n      <td>0.0</td>\n      <td>0.0</td>\n      <td>0.0</td>\n      <td>1.0</td>\n    </tr>\n    <tr>\n      <th>1</th>\n      <td>100003</td>\n      <td>0</td>\n      <td>Cash loans</td>\n      <td>F</td>\n      <td>N</td>\n      <td>N</td>\n      <td>0</td>\n      <td>270000.0</td>\n      <td>1293502.5</td>\n      <td>35698.5</td>\n      <td>...</td>\n      <td>0</td>\n      <td>0</td>\n      <td>0</td>\n      <td>0</td>\n      <td>0.0</td>\n      <td>0.0</td>\n      <td>0.0</td>\n      <td>0.0</td>\n      <td>0.0</td>\n      <td>0.0</td>\n    </tr>\n    <tr>\n      <th>2</th>\n      <td>100004</td>\n      <td>0</td>\n      <td>Revolving loans</td>\n      <td>M</td>\n      <td>Y</td>\n      <td>Y</td>\n      <td>0</td>\n      <td>67500.0</td>\n      <td>135000.0</td>\n      <td>6750.0</td>\n      <td>...</td>\n      <td>0</td>\n      <td>0</td>\n      <td>0</td>\n      <td>0</td>\n      <td>0.0</td>\n      <td>0.0</td>\n      <td>0.0</td>\n      <td>0.0</td>\n      <td>0.0</td>\n      <td>0.0</td>\n    </tr>\n    <tr>\n      <th>3</th>\n      <td>100006</td>\n      <td>0</td>\n      <td>Cash loans</td>\n      <td>F</td>\n      <td>N</td>\n      <td>Y</td>\n      <td>0</td>\n      <td>135000.0</td>\n      <td>312682.5</td>\n      <td>29686.5</td>\n      <td>...</td>\n      <td>0</td>\n      <td>0</td>\n      <td>0</td>\n      <td>0</td>\n      <td>NaN</td>\n      <td>NaN</td>\n      <td>NaN</td>\n      <td>NaN</td>\n      <td>NaN</td>\n      <td>NaN</td>\n    </tr>\n    <tr>\n      <th>4</th>\n      <td>100007</td>\n      <td>0</td>\n      <td>Cash loans</td>\n      <td>M</td>\n      <td>N</td>\n      <td>Y</td>\n      <td>0</td>\n      <td>121500.0</td>\n      <td>513000.0</td>\n      <td>21865.5</td>\n      <td>...</td>\n      <td>0</td>\n      <td>0</td>\n      <td>0</td>\n      <td>0</td>\n      <td>0.0</td>\n      <td>0.0</td>\n      <td>0.0</td>\n      <td>0.0</td>\n      <td>0.0</td>\n      <td>0.0</td>\n    </tr>\n  </tbody>\n</table>\n<p>5 rows × 74 columns</p>\n</div>"
     },
     "execution_count": 245,
     "metadata": {},
     "output_type": "execute_result"
    }
   ],
   "source": [
    "application_df.head()"
   ],
   "metadata": {
    "collapsed": false,
    "pycharm": {
     "name": "#%%\n"
    }
   }
  },
  {
   "cell_type": "markdown",
   "source": [
    "We can safely fill in the 'Unknown' for Null values of Occupation_Type as well, without leaking any data into our future test splt."
   ],
   "metadata": {
    "collapsed": false,
    "pycharm": {
     "name": "#%% md\n"
    }
   }
  },
  {
   "cell_type": "code",
   "execution_count": 246,
   "outputs": [],
   "source": [
    "application_df['OCCUPATION_TYPE'].mask(application_df['OCCUPATION_TYPE'].isnull(), 'Unknown', inplace=True)"
   ],
   "metadata": {
    "collapsed": false,
    "pycharm": {
     "name": "#%%\n"
    }
   }
  },
  {
   "cell_type": "code",
   "execution_count": 247,
   "outputs": [
    {
     "data": {
      "text/plain": "SK_ID_CURR                        0\nTARGET                            0\nNAME_CONTRACT_TYPE                0\nCODE_GENDER                       0\nFLAG_OWN_CAR                      0\n                              ...  \nAMT_REQ_CREDIT_BUREAU_DAY     41519\nAMT_REQ_CREDIT_BUREAU_WEEK    41519\nAMT_REQ_CREDIT_BUREAU_MON     41519\nAMT_REQ_CREDIT_BUREAU_QRT     41519\nAMT_REQ_CREDIT_BUREAU_YEAR    41519\nLength: 74, dtype: int64"
     },
     "execution_count": 247,
     "metadata": {},
     "output_type": "execute_result"
    }
   ],
   "source": [
    "application_df.isnull().sum()"
   ],
   "metadata": {
    "collapsed": false,
    "pycharm": {
     "name": "#%%\n"
    }
   }
  },
  {
   "cell_type": "code",
   "execution_count": 248,
   "outputs": [],
   "source": [
    "# read in Past Loan Balance data\n",
    "past_balance_df = pd.read_csv('data/POS_CASH_balance.csv')"
   ],
   "metadata": {
    "collapsed": false,
    "pycharm": {
     "name": "#%%\n"
    }
   }
  },
  {
   "cell_type": "code",
   "execution_count": 249,
   "outputs": [
    {
     "data": {
      "text/plain": "    SK_ID_PREV  SK_ID_CURR  MONTHS_BALANCE  CNT_INSTALMENT  \\\n0      1803195      182943             -31            48.0   \n1      1715348      367990             -33            36.0   \n2      1784872      397406             -32            12.0   \n3      1903291      269225             -35            48.0   \n4      2341044      334279             -35            36.0   \n5      2207092      342166             -32            12.0   \n6      1110516      204376             -38            48.0   \n7      1387235      153211             -35            36.0   \n8      1220500      112740             -31            12.0   \n9      2371489      274851             -32            24.0   \n10     2328294      287361             -32            12.0   \n11     2023570      237959             -39            12.0   \n12     1258390      278261             -32            36.0   \n13     1627166      146161             -33            24.0   \n14     1711625      131467             -34            12.0   \n15     2374177      204722             -35            24.0   \n16     1716688      405549             -33            12.0   \n17     1846127      380050             -31            36.0   \n18     1911764      312551             -32            24.0   \n19     2645133      152810             -35            24.0   \n\n    CNT_INSTALMENT_FUTURE NAME_CONTRACT_STATUS  SK_DPD  SK_DPD_DEF  \n0                    45.0               Active       0           0  \n1                    35.0               Active       0           0  \n2                     9.0               Active       0           0  \n3                    42.0               Active       0           0  \n4                    35.0               Active       0           0  \n5                    12.0               Active       0           0  \n6                    43.0               Active       0           0  \n7                    36.0               Active       0           0  \n8                    12.0               Active       0           0  \n9                    16.0               Active       0           0  \n10                   12.0               Active       0           0  \n11                   12.0               Active       0           0  \n12                   36.0               Active       0           0  \n13                   24.0               Active       0           0  \n14                    5.0               Active       0           0  \n15                   15.0               Active       0           0  \n16                    1.0               Active       0           0  \n17                   28.0               Active       0           0  \n18                   16.0               Active       0           0  \n19                   23.0               Active       0           0  ",
      "text/html": "<div>\n<style scoped>\n    .dataframe tbody tr th:only-of-type {\n        vertical-align: middle;\n    }\n\n    .dataframe tbody tr th {\n        vertical-align: top;\n    }\n\n    .dataframe thead th {\n        text-align: right;\n    }\n</style>\n<table border=\"1\" class=\"dataframe\">\n  <thead>\n    <tr style=\"text-align: right;\">\n      <th></th>\n      <th>SK_ID_PREV</th>\n      <th>SK_ID_CURR</th>\n      <th>MONTHS_BALANCE</th>\n      <th>CNT_INSTALMENT</th>\n      <th>CNT_INSTALMENT_FUTURE</th>\n      <th>NAME_CONTRACT_STATUS</th>\n      <th>SK_DPD</th>\n      <th>SK_DPD_DEF</th>\n    </tr>\n  </thead>\n  <tbody>\n    <tr>\n      <th>0</th>\n      <td>1803195</td>\n      <td>182943</td>\n      <td>-31</td>\n      <td>48.0</td>\n      <td>45.0</td>\n      <td>Active</td>\n      <td>0</td>\n      <td>0</td>\n    </tr>\n    <tr>\n      <th>1</th>\n      <td>1715348</td>\n      <td>367990</td>\n      <td>-33</td>\n      <td>36.0</td>\n      <td>35.0</td>\n      <td>Active</td>\n      <td>0</td>\n      <td>0</td>\n    </tr>\n    <tr>\n      <th>2</th>\n      <td>1784872</td>\n      <td>397406</td>\n      <td>-32</td>\n      <td>12.0</td>\n      <td>9.0</td>\n      <td>Active</td>\n      <td>0</td>\n      <td>0</td>\n    </tr>\n    <tr>\n      <th>3</th>\n      <td>1903291</td>\n      <td>269225</td>\n      <td>-35</td>\n      <td>48.0</td>\n      <td>42.0</td>\n      <td>Active</td>\n      <td>0</td>\n      <td>0</td>\n    </tr>\n    <tr>\n      <th>4</th>\n      <td>2341044</td>\n      <td>334279</td>\n      <td>-35</td>\n      <td>36.0</td>\n      <td>35.0</td>\n      <td>Active</td>\n      <td>0</td>\n      <td>0</td>\n    </tr>\n    <tr>\n      <th>5</th>\n      <td>2207092</td>\n      <td>342166</td>\n      <td>-32</td>\n      <td>12.0</td>\n      <td>12.0</td>\n      <td>Active</td>\n      <td>0</td>\n      <td>0</td>\n    </tr>\n    <tr>\n      <th>6</th>\n      <td>1110516</td>\n      <td>204376</td>\n      <td>-38</td>\n      <td>48.0</td>\n      <td>43.0</td>\n      <td>Active</td>\n      <td>0</td>\n      <td>0</td>\n    </tr>\n    <tr>\n      <th>7</th>\n      <td>1387235</td>\n      <td>153211</td>\n      <td>-35</td>\n      <td>36.0</td>\n      <td>36.0</td>\n      <td>Active</td>\n      <td>0</td>\n      <td>0</td>\n    </tr>\n    <tr>\n      <th>8</th>\n      <td>1220500</td>\n      <td>112740</td>\n      <td>-31</td>\n      <td>12.0</td>\n      <td>12.0</td>\n      <td>Active</td>\n      <td>0</td>\n      <td>0</td>\n    </tr>\n    <tr>\n      <th>9</th>\n      <td>2371489</td>\n      <td>274851</td>\n      <td>-32</td>\n      <td>24.0</td>\n      <td>16.0</td>\n      <td>Active</td>\n      <td>0</td>\n      <td>0</td>\n    </tr>\n    <tr>\n      <th>10</th>\n      <td>2328294</td>\n      <td>287361</td>\n      <td>-32</td>\n      <td>12.0</td>\n      <td>12.0</td>\n      <td>Active</td>\n      <td>0</td>\n      <td>0</td>\n    </tr>\n    <tr>\n      <th>11</th>\n      <td>2023570</td>\n      <td>237959</td>\n      <td>-39</td>\n      <td>12.0</td>\n      <td>12.0</td>\n      <td>Active</td>\n      <td>0</td>\n      <td>0</td>\n    </tr>\n    <tr>\n      <th>12</th>\n      <td>1258390</td>\n      <td>278261</td>\n      <td>-32</td>\n      <td>36.0</td>\n      <td>36.0</td>\n      <td>Active</td>\n      <td>0</td>\n      <td>0</td>\n    </tr>\n    <tr>\n      <th>13</th>\n      <td>1627166</td>\n      <td>146161</td>\n      <td>-33</td>\n      <td>24.0</td>\n      <td>24.0</td>\n      <td>Active</td>\n      <td>0</td>\n      <td>0</td>\n    </tr>\n    <tr>\n      <th>14</th>\n      <td>1711625</td>\n      <td>131467</td>\n      <td>-34</td>\n      <td>12.0</td>\n      <td>5.0</td>\n      <td>Active</td>\n      <td>0</td>\n      <td>0</td>\n    </tr>\n    <tr>\n      <th>15</th>\n      <td>2374177</td>\n      <td>204722</td>\n      <td>-35</td>\n      <td>24.0</td>\n      <td>15.0</td>\n      <td>Active</td>\n      <td>0</td>\n      <td>0</td>\n    </tr>\n    <tr>\n      <th>16</th>\n      <td>1716688</td>\n      <td>405549</td>\n      <td>-33</td>\n      <td>12.0</td>\n      <td>1.0</td>\n      <td>Active</td>\n      <td>0</td>\n      <td>0</td>\n    </tr>\n    <tr>\n      <th>17</th>\n      <td>1846127</td>\n      <td>380050</td>\n      <td>-31</td>\n      <td>36.0</td>\n      <td>28.0</td>\n      <td>Active</td>\n      <td>0</td>\n      <td>0</td>\n    </tr>\n    <tr>\n      <th>18</th>\n      <td>1911764</td>\n      <td>312551</td>\n      <td>-32</td>\n      <td>24.0</td>\n      <td>16.0</td>\n      <td>Active</td>\n      <td>0</td>\n      <td>0</td>\n    </tr>\n    <tr>\n      <th>19</th>\n      <td>2645133</td>\n      <td>152810</td>\n      <td>-35</td>\n      <td>24.0</td>\n      <td>23.0</td>\n      <td>Active</td>\n      <td>0</td>\n      <td>0</td>\n    </tr>\n  </tbody>\n</table>\n</div>"
     },
     "execution_count": 249,
     "metadata": {},
     "output_type": "execute_result"
    }
   ],
   "source": [
    "past_balance_df.head(20)"
   ],
   "metadata": {
    "collapsed": false,
    "pycharm": {
     "name": "#%%\n"
    }
   }
  },
  {
   "cell_type": "code",
   "execution_count": 250,
   "outputs": [
    {
     "data": {
      "text/plain": "(10001358, 8)"
     },
     "execution_count": 250,
     "metadata": {},
     "output_type": "execute_result"
    }
   ],
   "source": [
    "past_balance_df.shape"
   ],
   "metadata": {
    "collapsed": false,
    "pycharm": {
     "name": "#%%\n"
    }
   }
  },
  {
   "cell_type": "code",
   "execution_count": 251,
   "outputs": [
    {
     "name": "stdout",
     "output_type": "stream",
     "text": [
      "<class 'pandas.core.frame.DataFrame'>\n",
      "RangeIndex: 10001358 entries, 0 to 10001357\n",
      "Data columns (total 8 columns):\n",
      " #   Column                 Dtype  \n",
      "---  ------                 -----  \n",
      " 0   SK_ID_PREV             int64  \n",
      " 1   SK_ID_CURR             int64  \n",
      " 2   MONTHS_BALANCE         int64  \n",
      " 3   CNT_INSTALMENT         float64\n",
      " 4   CNT_INSTALMENT_FUTURE  float64\n",
      " 5   NAME_CONTRACT_STATUS   object \n",
      " 6   SK_DPD                 int64  \n",
      " 7   SK_DPD_DEF             int64  \n",
      "dtypes: float64(2), int64(5), object(1)\n",
      "memory usage: 610.4+ MB\n"
     ]
    }
   ],
   "source": [
    "past_balance_df.info()"
   ],
   "metadata": {
    "collapsed": false,
    "pycharm": {
     "name": "#%%\n"
    }
   }
  },
  {
   "cell_type": "code",
   "execution_count": 252,
   "outputs": [
    {
     "data": {
      "text/plain": "337252"
     },
     "execution_count": 252,
     "metadata": {},
     "output_type": "execute_result"
    }
   ],
   "source": [
    "# Check number of unique participants in Past Balance DF, based on Current Loan ID\n",
    "past_balance_df['SK_ID_CURR'].nunique()\n"
   ],
   "metadata": {
    "collapsed": false,
    "pycharm": {
     "name": "#%%\n"
    }
   }
  },
  {
   "cell_type": "code",
   "execution_count": 253,
   "outputs": [
    {
     "name": "stdout",
     "output_type": "stream",
     "text": [
      "<class 'pandas.core.frame.DataFrame'>\n",
      "RangeIndex: 307511 entries, 0 to 307510\n",
      "Data columns (total 74 columns):\n",
      " #   Column                       Non-Null Count   Dtype  \n",
      "---  ------                       --------------   -----  \n",
      " 0   SK_ID_CURR                   307511 non-null  int64  \n",
      " 1   TARGET                       307511 non-null  int64  \n",
      " 2   NAME_CONTRACT_TYPE           307511 non-null  object \n",
      " 3   CODE_GENDER                  307511 non-null  object \n",
      " 4   FLAG_OWN_CAR                 307511 non-null  object \n",
      " 5   FLAG_OWN_REALTY              307511 non-null  object \n",
      " 6   CNT_CHILDREN                 307511 non-null  int64  \n",
      " 7   AMT_INCOME_TOTAL             307511 non-null  float64\n",
      " 8   AMT_CREDIT                   307511 non-null  float64\n",
      " 9   AMT_ANNUITY                  307499 non-null  float64\n",
      " 10  AMT_GOODS_PRICE              307233 non-null  float64\n",
      " 11  NAME_INCOME_TYPE             307511 non-null  object \n",
      " 12  NAME_EDUCATION_TYPE          307511 non-null  object \n",
      " 13  NAME_FAMILY_STATUS           307511 non-null  object \n",
      " 14  NAME_HOUSING_TYPE            307511 non-null  object \n",
      " 15  REGION_POPULATION_RELATIVE   307511 non-null  float64\n",
      " 16  DAYS_BIRTH                   307511 non-null  int64  \n",
      " 17  DAYS_EMPLOYED                307511 non-null  int64  \n",
      " 18  DAYS_REGISTRATION            307511 non-null  float64\n",
      " 19  DAYS_ID_PUBLISH              307511 non-null  int64  \n",
      " 20  OWN_CAR_AGE                  104582 non-null  float64\n",
      " 21  FLAG_MOBIL                   307511 non-null  int64  \n",
      " 22  FLAG_EMP_PHONE               307511 non-null  int64  \n",
      " 23  FLAG_WORK_PHONE              307511 non-null  int64  \n",
      " 24  FLAG_CONT_MOBILE             307511 non-null  int64  \n",
      " 25  FLAG_PHONE                   307511 non-null  int64  \n",
      " 26  FLAG_EMAIL                   307511 non-null  int64  \n",
      " 27  OCCUPATION_TYPE              307511 non-null  object \n",
      " 28  CNT_FAM_MEMBERS              307509 non-null  float64\n",
      " 29  REGION_RATING_CLIENT         307511 non-null  int64  \n",
      " 30  REGION_RATING_CLIENT_W_CITY  307511 non-null  int64  \n",
      " 31  WEEKDAY_APPR_PROCESS_START   307511 non-null  object \n",
      " 32  HOUR_APPR_PROCESS_START      307511 non-null  int64  \n",
      " 33  REG_REGION_NOT_LIVE_REGION   307511 non-null  int64  \n",
      " 34  REG_REGION_NOT_WORK_REGION   307511 non-null  int64  \n",
      " 35  LIVE_REGION_NOT_WORK_REGION  307511 non-null  int64  \n",
      " 36  REG_CITY_NOT_LIVE_CITY       307511 non-null  int64  \n",
      " 37  REG_CITY_NOT_WORK_CITY       307511 non-null  int64  \n",
      " 38  LIVE_CITY_NOT_WORK_CITY      307511 non-null  int64  \n",
      " 39  ORGANIZATION_TYPE            307511 non-null  object \n",
      " 40  EXT_SOURCE_1                 134133 non-null  float64\n",
      " 41  EXT_SOURCE_2                 306851 non-null  float64\n",
      " 42  EXT_SOURCE_3                 246546 non-null  float64\n",
      " 43  OBS_30_CNT_SOCIAL_CIRCLE     306490 non-null  float64\n",
      " 44  DEF_30_CNT_SOCIAL_CIRCLE     306490 non-null  float64\n",
      " 45  OBS_60_CNT_SOCIAL_CIRCLE     306490 non-null  float64\n",
      " 46  DEF_60_CNT_SOCIAL_CIRCLE     306490 non-null  float64\n",
      " 47  DAYS_LAST_PHONE_CHANGE       307510 non-null  float64\n",
      " 48  FLAG_DOCUMENT_2              307511 non-null  int64  \n",
      " 49  FLAG_DOCUMENT_3              307511 non-null  int64  \n",
      " 50  FLAG_DOCUMENT_4              307511 non-null  int64  \n",
      " 51  FLAG_DOCUMENT_5              307511 non-null  int64  \n",
      " 52  FLAG_DOCUMENT_6              307511 non-null  int64  \n",
      " 53  FLAG_DOCUMENT_7              307511 non-null  int64  \n",
      " 54  FLAG_DOCUMENT_8              307511 non-null  int64  \n",
      " 55  FLAG_DOCUMENT_9              307511 non-null  int64  \n",
      " 56  FLAG_DOCUMENT_10             307511 non-null  int64  \n",
      " 57  FLAG_DOCUMENT_11             307511 non-null  int64  \n",
      " 58  FLAG_DOCUMENT_12             307511 non-null  int64  \n",
      " 59  FLAG_DOCUMENT_13             307511 non-null  int64  \n",
      " 60  FLAG_DOCUMENT_14             307511 non-null  int64  \n",
      " 61  FLAG_DOCUMENT_15             307511 non-null  int64  \n",
      " 62  FLAG_DOCUMENT_16             307511 non-null  int64  \n",
      " 63  FLAG_DOCUMENT_17             307511 non-null  int64  \n",
      " 64  FLAG_DOCUMENT_18             307511 non-null  int64  \n",
      " 65  FLAG_DOCUMENT_19             307511 non-null  int64  \n",
      " 66  FLAG_DOCUMENT_20             307511 non-null  int64  \n",
      " 67  FLAG_DOCUMENT_21             307511 non-null  int64  \n",
      " 68  AMT_REQ_CREDIT_BUREAU_HOUR   265992 non-null  float64\n",
      " 69  AMT_REQ_CREDIT_BUREAU_DAY    265992 non-null  float64\n",
      " 70  AMT_REQ_CREDIT_BUREAU_WEEK   265992 non-null  float64\n",
      " 71  AMT_REQ_CREDIT_BUREAU_MON    265992 non-null  float64\n",
      " 72  AMT_REQ_CREDIT_BUREAU_QRT    265992 non-null  float64\n",
      " 73  AMT_REQ_CREDIT_BUREAU_YEAR   265992 non-null  float64\n",
      "dtypes: float64(22), int64(41), object(11)\n",
      "memory usage: 173.6+ MB\n"
     ]
    }
   ],
   "source": [
    "application_df.info()"
   ],
   "metadata": {
    "collapsed": false,
    "pycharm": {
     "name": "#%%\n"
    }
   }
  },
  {
   "cell_type": "code",
   "execution_count": 254,
   "outputs": [
    {
     "data": {
      "text/plain": "307511"
     },
     "execution_count": 254,
     "metadata": {},
     "output_type": "execute_result"
    }
   ],
   "source": [
    "# Check number of loans in Application_DF\n",
    "application_df['SK_ID_CURR'].nunique()\n"
   ],
   "metadata": {
    "collapsed": false,
    "pycharm": {
     "name": "#%%\n"
    }
   }
  },
  {
   "cell_type": "markdown",
   "source": [
    "## 1.1 - Building a Target Variable for Past Loans\n",
    "\n",
    "I want to identify if an applicant has a history of loans being past due, as this seems like a strong indicator. I'll build this varialbe from the Past_Balance data, which has columns for Days-Past-Due and Days-Past-Due for Larger loans (exempting some small loans within a tolerance). I'll pick the later to base off of, as it uses some prior knowledge of the credit agency (some loan payments are small and ignorable)."
   ],
   "metadata": {
    "collapsed": false,
    "pycharm": {
     "name": "#%% md\n"
    }
   }
  },
  {
   "cell_type": "code",
   "execution_count": 255,
   "outputs": [
    {
     "data": {
      "text/plain": "0       9706131\n1         21872\n2         17358\n3         14403\n4         12350\n         ...   \n3278          1\n3280          1\n3282          1\n3284          1\n4231          1\nName: SK_DPD, Length: 3400, dtype: int64"
     },
     "execution_count": 255,
     "metadata": {},
     "output_type": "execute_result"
    }
   ],
   "source": [
    "# Check counts of entries in Past Balance's Days-Past-Due columns\n",
    "past_balance_df['SK_DPD'].value_counts()\n"
   ],
   "metadata": {
    "collapsed": false,
    "pycharm": {
     "name": "#%%\n"
    }
   }
  },
  {
   "cell_type": "code",
   "execution_count": 256,
   "outputs": [],
   "source": [
    "\"\"\"\n",
    "Function: Make_Row_Target\n",
    "\n",
    "Returns a value of 1.0 (i.e. Target == True) if the target column (SK_DPD_DEF) is greater than 0\n",
    "i.e. if a loan is past due (outside of tolerance for small loans)\n",
    "\n",
    "Otherwise returns a 0.0 (i.e. loan is not past due)\n",
    "\n",
    "To be used row-wise in creating a new Target column\n",
    "\"\"\"\n",
    "\n",
    "def make_row_target(row):\n",
    "    if row['SK_DPD_DEF'] > 0:\n",
    "        return 1.0\n",
    "    else:\n",
    "        return 0.0\n"
   ],
   "metadata": {
    "collapsed": false,
    "pycharm": {
     "name": "#%%\n"
    }
   }
  },
  {
   "cell_type": "code",
   "execution_count": 257,
   "outputs": [],
   "source": [
    "# Apply the above function to our Past_Balance DF to\n",
    "past_balance_df['Past_Due'] = past_balance_df.apply(lambda row: make_row_target(row), axis=1)"
   ],
   "metadata": {
    "collapsed": false,
    "pycharm": {
     "name": "#%%\n"
    }
   }
  },
  {
   "cell_type": "code",
   "execution_count": 258,
   "outputs": [
    {
     "data": {
      "text/plain": "          SK_ID_PREV  SK_ID_CURR  MONTHS_BALANCE  CNT_INSTALMENT  \\\n0            1803195      182943             -31            48.0   \n1            1715348      367990             -33            36.0   \n2            1784872      397406             -32            12.0   \n3            1903291      269225             -35            48.0   \n4            2341044      334279             -35            36.0   \n...              ...         ...             ...             ...   \n10001353     2448283      226558             -20             6.0   \n10001354     1717234      141565             -19            12.0   \n10001355     1283126      315695             -21            10.0   \n10001356     1082516      450255             -22            12.0   \n10001357     1259607      174278             -52            16.0   \n\n          CNT_INSTALMENT_FUTURE NAME_CONTRACT_STATUS  SK_DPD  SK_DPD_DEF  \\\n0                          45.0               Active       0           0   \n1                          35.0               Active       0           0   \n2                           9.0               Active       0           0   \n3                          42.0               Active       0           0   \n4                          35.0               Active       0           0   \n...                         ...                  ...     ...         ...   \n10001353                    0.0               Active     843           0   \n10001354                    0.0               Active     602           0   \n10001355                    0.0               Active     609           0   \n10001356                    0.0               Active     614           0   \n10001357                    0.0            Completed       0           0   \n\n          Past_Due  \n0              0.0  \n1              0.0  \n2              0.0  \n3              0.0  \n4              0.0  \n...            ...  \n10001353       0.0  \n10001354       0.0  \n10001355       0.0  \n10001356       0.0  \n10001357       0.0  \n\n[10001358 rows x 9 columns]",
      "text/html": "<div>\n<style scoped>\n    .dataframe tbody tr th:only-of-type {\n        vertical-align: middle;\n    }\n\n    .dataframe tbody tr th {\n        vertical-align: top;\n    }\n\n    .dataframe thead th {\n        text-align: right;\n    }\n</style>\n<table border=\"1\" class=\"dataframe\">\n  <thead>\n    <tr style=\"text-align: right;\">\n      <th></th>\n      <th>SK_ID_PREV</th>\n      <th>SK_ID_CURR</th>\n      <th>MONTHS_BALANCE</th>\n      <th>CNT_INSTALMENT</th>\n      <th>CNT_INSTALMENT_FUTURE</th>\n      <th>NAME_CONTRACT_STATUS</th>\n      <th>SK_DPD</th>\n      <th>SK_DPD_DEF</th>\n      <th>Past_Due</th>\n    </tr>\n  </thead>\n  <tbody>\n    <tr>\n      <th>0</th>\n      <td>1803195</td>\n      <td>182943</td>\n      <td>-31</td>\n      <td>48.0</td>\n      <td>45.0</td>\n      <td>Active</td>\n      <td>0</td>\n      <td>0</td>\n      <td>0.0</td>\n    </tr>\n    <tr>\n      <th>1</th>\n      <td>1715348</td>\n      <td>367990</td>\n      <td>-33</td>\n      <td>36.0</td>\n      <td>35.0</td>\n      <td>Active</td>\n      <td>0</td>\n      <td>0</td>\n      <td>0.0</td>\n    </tr>\n    <tr>\n      <th>2</th>\n      <td>1784872</td>\n      <td>397406</td>\n      <td>-32</td>\n      <td>12.0</td>\n      <td>9.0</td>\n      <td>Active</td>\n      <td>0</td>\n      <td>0</td>\n      <td>0.0</td>\n    </tr>\n    <tr>\n      <th>3</th>\n      <td>1903291</td>\n      <td>269225</td>\n      <td>-35</td>\n      <td>48.0</td>\n      <td>42.0</td>\n      <td>Active</td>\n      <td>0</td>\n      <td>0</td>\n      <td>0.0</td>\n    </tr>\n    <tr>\n      <th>4</th>\n      <td>2341044</td>\n      <td>334279</td>\n      <td>-35</td>\n      <td>36.0</td>\n      <td>35.0</td>\n      <td>Active</td>\n      <td>0</td>\n      <td>0</td>\n      <td>0.0</td>\n    </tr>\n    <tr>\n      <th>...</th>\n      <td>...</td>\n      <td>...</td>\n      <td>...</td>\n      <td>...</td>\n      <td>...</td>\n      <td>...</td>\n      <td>...</td>\n      <td>...</td>\n      <td>...</td>\n    </tr>\n    <tr>\n      <th>10001353</th>\n      <td>2448283</td>\n      <td>226558</td>\n      <td>-20</td>\n      <td>6.0</td>\n      <td>0.0</td>\n      <td>Active</td>\n      <td>843</td>\n      <td>0</td>\n      <td>0.0</td>\n    </tr>\n    <tr>\n      <th>10001354</th>\n      <td>1717234</td>\n      <td>141565</td>\n      <td>-19</td>\n      <td>12.0</td>\n      <td>0.0</td>\n      <td>Active</td>\n      <td>602</td>\n      <td>0</td>\n      <td>0.0</td>\n    </tr>\n    <tr>\n      <th>10001355</th>\n      <td>1283126</td>\n      <td>315695</td>\n      <td>-21</td>\n      <td>10.0</td>\n      <td>0.0</td>\n      <td>Active</td>\n      <td>609</td>\n      <td>0</td>\n      <td>0.0</td>\n    </tr>\n    <tr>\n      <th>10001356</th>\n      <td>1082516</td>\n      <td>450255</td>\n      <td>-22</td>\n      <td>12.0</td>\n      <td>0.0</td>\n      <td>Active</td>\n      <td>614</td>\n      <td>0</td>\n      <td>0.0</td>\n    </tr>\n    <tr>\n      <th>10001357</th>\n      <td>1259607</td>\n      <td>174278</td>\n      <td>-52</td>\n      <td>16.0</td>\n      <td>0.0</td>\n      <td>Completed</td>\n      <td>0</td>\n      <td>0</td>\n      <td>0.0</td>\n    </tr>\n  </tbody>\n</table>\n<p>10001358 rows × 9 columns</p>\n</div>"
     },
     "execution_count": 258,
     "metadata": {},
     "output_type": "execute_result"
    }
   ],
   "source": [
    "# Check on the new dataframe\n",
    "past_balance_df"
   ],
   "metadata": {
    "collapsed": false,
    "pycharm": {
     "name": "#%%\n"
    }
   }
  },
  {
   "cell_type": "code",
   "execution_count": 259,
   "outputs": [
    {
     "data": {
      "text/plain": "0.0    9887389\n1.0     113969\nName: Past_Due, dtype: int64"
     },
     "execution_count": 259,
     "metadata": {},
     "output_type": "execute_result"
    }
   ],
   "source": [
    "past_balance_df['Past_Due'].value_counts()"
   ],
   "metadata": {
    "collapsed": false,
    "pycharm": {
     "name": "#%%\n"
    }
   }
  },
  {
   "cell_type": "code",
   "execution_count": 260,
   "outputs": [
    {
     "name": "stdout",
     "output_type": "stream",
     "text": [
      "<class 'pandas.core.frame.DataFrame'>\n",
      "RangeIndex: 10001358 entries, 0 to 10001357\n",
      "Data columns (total 9 columns):\n",
      " #   Column                 Dtype  \n",
      "---  ------                 -----  \n",
      " 0   SK_ID_PREV             int64  \n",
      " 1   SK_ID_CURR             int64  \n",
      " 2   MONTHS_BALANCE         int64  \n",
      " 3   CNT_INSTALMENT         float64\n",
      " 4   CNT_INSTALMENT_FUTURE  float64\n",
      " 5   NAME_CONTRACT_STATUS   object \n",
      " 6   SK_DPD                 int64  \n",
      " 7   SK_DPD_DEF             int64  \n",
      " 8   Past_Due               float64\n",
      "dtypes: float64(3), int64(5), object(1)\n",
      "memory usage: 686.7+ MB\n"
     ]
    }
   ],
   "source": [
    "past_balance_df.info()"
   ],
   "metadata": {
    "collapsed": false,
    "pycharm": {
     "name": "#%%\n"
    }
   }
  },
  {
   "cell_type": "markdown",
   "source": [
    "## 1.2 - Building our Predictive Data\n",
    "\n",
    "Now that we have a variable to predict on -- are late payments made? -- we need to find some fair data to make our predictions from. The Past_Balance dataframe doesn't offer much. Nor would the Installment_Payments file, which would only tell us if payments are late. We'll need to use the data in the Previous_Application file, which contains generalities about loans. I'll begin by loading that data in and looking at the dataframe -- we won't want to use all the columns for our Bayesian prediction, as some will be red herrings with little use."
   ],
   "metadata": {
    "collapsed": false,
    "pycharm": {
     "name": "#%% md\n"
    }
   }
  },
  {
   "cell_type": "code",
   "execution_count": 261,
   "outputs": [],
   "source": [
    "previous_app_df = pd.read_csv('data/previous_application.csv')"
   ],
   "metadata": {
    "collapsed": false,
    "pycharm": {
     "name": "#%%\n"
    }
   }
  },
  {
   "cell_type": "code",
   "execution_count": 262,
   "outputs": [
    {
     "data": {
      "text/plain": "    SK_ID_PREV  SK_ID_CURR NAME_CONTRACT_TYPE  AMT_ANNUITY  AMT_APPLICATION  \\\n0      2030495      271877     Consumer loans     1730.430          17145.0   \n1      2802425      108129         Cash loans    25188.615         607500.0   \n2      2523466      122040         Cash loans    15060.735         112500.0   \n3      2819243      176158         Cash loans    47041.335         450000.0   \n4      1784265      202054         Cash loans    31924.395         337500.0   \n5      1383531      199383         Cash loans    23703.930         315000.0   \n6      2315218      175704         Cash loans          NaN              0.0   \n7      1656711      296299         Cash loans          NaN              0.0   \n8      2367563      342292         Cash loans          NaN              0.0   \n9      2579447      334349         Cash loans          NaN              0.0   \n10     1715995      447712         Cash loans    11368.620         270000.0   \n11     2257824      161140         Cash loans    13832.775         211500.0   \n12     2330894      258628         Cash loans    12165.210         148500.0   \n13     1397919      321676     Consumer loans     7654.860          53779.5   \n14     2273188      270658     Consumer loans     9644.220          26550.0   \n15     1232483      151612     Consumer loans    21307.455         126490.5   \n16     2163253      154602     Consumer loans     4187.340          26955.0   \n17     1285768      142748    Revolving loans     9000.000         180000.0   \n18     2393109      396305         Cash loans    10181.700         180000.0   \n19     1173070      199178         Cash loans     4666.500          45000.0   \n\n    AMT_CREDIT  AMT_DOWN_PAYMENT  AMT_GOODS_PRICE WEEKDAY_APPR_PROCESS_START  \\\n0      17145.0               0.0          17145.0                   SATURDAY   \n1     679671.0               NaN         607500.0                   THURSDAY   \n2     136444.5               NaN         112500.0                    TUESDAY   \n3     470790.0               NaN         450000.0                     MONDAY   \n4     404055.0               NaN         337500.0                   THURSDAY   \n5     340573.5               NaN         315000.0                   SATURDAY   \n6          0.0               NaN              NaN                    TUESDAY   \n7          0.0               NaN              NaN                     MONDAY   \n8          0.0               NaN              NaN                     MONDAY   \n9          0.0               NaN              NaN                   SATURDAY   \n10    335754.0               NaN         270000.0                     FRIDAY   \n11    246397.5               NaN         211500.0                     FRIDAY   \n12    174361.5               NaN         148500.0                    TUESDAY   \n13     57564.0               0.0          53779.5                     SUNDAY   \n14     27252.0               0.0          26550.0                   SATURDAY   \n15    119853.0           12649.5         126490.5                    TUESDAY   \n16     27297.0            1350.0          26955.0                   SATURDAY   \n17    180000.0               NaN         180000.0                     FRIDAY   \n18    180000.0               NaN         180000.0                   THURSDAY   \n19     49455.0               NaN          45000.0                   SATURDAY   \n\n    HOUR_APPR_PROCESS_START  ...  NAME_SELLER_INDUSTRY  CNT_PAYMENT  \\\n0                        15  ...          Connectivity         12.0   \n1                        11  ...                   XNA         36.0   \n2                        11  ...                   XNA         12.0   \n3                         7  ...                   XNA         12.0   \n4                         9  ...                   XNA         24.0   \n5                         8  ...                   XNA         18.0   \n6                        11  ...                   XNA          NaN   \n7                         7  ...                   XNA          NaN   \n8                        15  ...                   XNA          NaN   \n9                        15  ...                   XNA          NaN   \n10                        7  ...                   XNA         54.0   \n11                       10  ...                   XNA         30.0   \n12                       15  ...                   XNA         24.0   \n13                       15  ...  Consumer electronics          8.0   \n14                       10  ...  Consumer electronics          3.0   \n15                        7  ...              Industry          6.0   \n16                       12  ...  Consumer electronics          8.0   \n17                       13  ...                   XNA          0.0   \n18                       14  ...                   XNA         24.0   \n19                       16  ...                   XNA         18.0   \n\n    NAME_YIELD_GROUP             PRODUCT_COMBINATION  DAYS_FIRST_DRAWING  \\\n0             middle        POS mobile with interest            365243.0   \n1         low_action                Cash X-Sell: low            365243.0   \n2               high               Cash X-Sell: high            365243.0   \n3             middle             Cash X-Sell: middle            365243.0   \n4               high               Cash Street: high                 NaN   \n5         low_normal                Cash X-Sell: low            365243.0   \n6                XNA                            Cash                 NaN   \n7                XNA                            Cash                 NaN   \n8                XNA                            Cash                 NaN   \n9                XNA                            Cash                 NaN   \n10        low_normal                Cash X-Sell: low            365243.0   \n11            middle             Cash X-Sell: middle            365243.0   \n12              high               Cash X-Sell: high            365243.0   \n13        low_action  POS household without interest            365243.0   \n14            middle     POS household with interest            365243.0   \n15        low_normal         POS other with interest            365243.0   \n16              high     POS household with interest            365243.0   \n17               XNA                     Card X-Sell              -277.0   \n18        low_normal                Cash X-Sell: low                 NaN   \n19              high               Cash Street: high                 NaN   \n\n   DAYS_FIRST_DUE DAYS_LAST_DUE_1ST_VERSION  DAYS_LAST_DUE DAYS_TERMINATION  \\\n0           -42.0                     300.0          -42.0            -37.0   \n1          -134.0                     916.0       365243.0         365243.0   \n2          -271.0                      59.0       365243.0         365243.0   \n3          -482.0                    -152.0         -182.0           -177.0   \n4             NaN                       NaN            NaN              NaN   \n5          -654.0                    -144.0         -144.0           -137.0   \n6             NaN                       NaN            NaN              NaN   \n7             NaN                       NaN            NaN              NaN   \n8             NaN                       NaN            NaN              NaN   \n9             NaN                       NaN            NaN              NaN   \n10         -705.0                     885.0         -345.0           -334.0   \n11         -785.0                      85.0         -725.0           -721.0   \n12         -830.0                    -140.0         -200.0           -197.0   \n13         -378.0                    -168.0         -168.0           -163.0   \n14         -693.0                    -633.0         -633.0           -627.0   \n15         -668.0                    -518.0         -518.0           -512.0   \n16        -1440.0                   -1230.0        -1230.0          -1226.0   \n17         -257.0                  365243.0       365243.0         365243.0   \n18            NaN                       NaN            NaN              NaN   \n19            NaN                       NaN            NaN              NaN   \n\n   NFLAG_INSURED_ON_APPROVAL  \n0                        0.0  \n1                        1.0  \n2                        1.0  \n3                        1.0  \n4                        NaN  \n5                        1.0  \n6                        NaN  \n7                        NaN  \n8                        NaN  \n9                        NaN  \n10                       1.0  \n11                       1.0  \n12                       1.0  \n13                       1.0  \n14                       0.0  \n15                       0.0  \n16                       0.0  \n17                       0.0  \n18                       NaN  \n19                       NaN  \n\n[20 rows x 37 columns]",
      "text/html": "<div>\n<style scoped>\n    .dataframe tbody tr th:only-of-type {\n        vertical-align: middle;\n    }\n\n    .dataframe tbody tr th {\n        vertical-align: top;\n    }\n\n    .dataframe thead th {\n        text-align: right;\n    }\n</style>\n<table border=\"1\" class=\"dataframe\">\n  <thead>\n    <tr style=\"text-align: right;\">\n      <th></th>\n      <th>SK_ID_PREV</th>\n      <th>SK_ID_CURR</th>\n      <th>NAME_CONTRACT_TYPE</th>\n      <th>AMT_ANNUITY</th>\n      <th>AMT_APPLICATION</th>\n      <th>AMT_CREDIT</th>\n      <th>AMT_DOWN_PAYMENT</th>\n      <th>AMT_GOODS_PRICE</th>\n      <th>WEEKDAY_APPR_PROCESS_START</th>\n      <th>HOUR_APPR_PROCESS_START</th>\n      <th>...</th>\n      <th>NAME_SELLER_INDUSTRY</th>\n      <th>CNT_PAYMENT</th>\n      <th>NAME_YIELD_GROUP</th>\n      <th>PRODUCT_COMBINATION</th>\n      <th>DAYS_FIRST_DRAWING</th>\n      <th>DAYS_FIRST_DUE</th>\n      <th>DAYS_LAST_DUE_1ST_VERSION</th>\n      <th>DAYS_LAST_DUE</th>\n      <th>DAYS_TERMINATION</th>\n      <th>NFLAG_INSURED_ON_APPROVAL</th>\n    </tr>\n  </thead>\n  <tbody>\n    <tr>\n      <th>0</th>\n      <td>2030495</td>\n      <td>271877</td>\n      <td>Consumer loans</td>\n      <td>1730.430</td>\n      <td>17145.0</td>\n      <td>17145.0</td>\n      <td>0.0</td>\n      <td>17145.0</td>\n      <td>SATURDAY</td>\n      <td>15</td>\n      <td>...</td>\n      <td>Connectivity</td>\n      <td>12.0</td>\n      <td>middle</td>\n      <td>POS mobile with interest</td>\n      <td>365243.0</td>\n      <td>-42.0</td>\n      <td>300.0</td>\n      <td>-42.0</td>\n      <td>-37.0</td>\n      <td>0.0</td>\n    </tr>\n    <tr>\n      <th>1</th>\n      <td>2802425</td>\n      <td>108129</td>\n      <td>Cash loans</td>\n      <td>25188.615</td>\n      <td>607500.0</td>\n      <td>679671.0</td>\n      <td>NaN</td>\n      <td>607500.0</td>\n      <td>THURSDAY</td>\n      <td>11</td>\n      <td>...</td>\n      <td>XNA</td>\n      <td>36.0</td>\n      <td>low_action</td>\n      <td>Cash X-Sell: low</td>\n      <td>365243.0</td>\n      <td>-134.0</td>\n      <td>916.0</td>\n      <td>365243.0</td>\n      <td>365243.0</td>\n      <td>1.0</td>\n    </tr>\n    <tr>\n      <th>2</th>\n      <td>2523466</td>\n      <td>122040</td>\n      <td>Cash loans</td>\n      <td>15060.735</td>\n      <td>112500.0</td>\n      <td>136444.5</td>\n      <td>NaN</td>\n      <td>112500.0</td>\n      <td>TUESDAY</td>\n      <td>11</td>\n      <td>...</td>\n      <td>XNA</td>\n      <td>12.0</td>\n      <td>high</td>\n      <td>Cash X-Sell: high</td>\n      <td>365243.0</td>\n      <td>-271.0</td>\n      <td>59.0</td>\n      <td>365243.0</td>\n      <td>365243.0</td>\n      <td>1.0</td>\n    </tr>\n    <tr>\n      <th>3</th>\n      <td>2819243</td>\n      <td>176158</td>\n      <td>Cash loans</td>\n      <td>47041.335</td>\n      <td>450000.0</td>\n      <td>470790.0</td>\n      <td>NaN</td>\n      <td>450000.0</td>\n      <td>MONDAY</td>\n      <td>7</td>\n      <td>...</td>\n      <td>XNA</td>\n      <td>12.0</td>\n      <td>middle</td>\n      <td>Cash X-Sell: middle</td>\n      <td>365243.0</td>\n      <td>-482.0</td>\n      <td>-152.0</td>\n      <td>-182.0</td>\n      <td>-177.0</td>\n      <td>1.0</td>\n    </tr>\n    <tr>\n      <th>4</th>\n      <td>1784265</td>\n      <td>202054</td>\n      <td>Cash loans</td>\n      <td>31924.395</td>\n      <td>337500.0</td>\n      <td>404055.0</td>\n      <td>NaN</td>\n      <td>337500.0</td>\n      <td>THURSDAY</td>\n      <td>9</td>\n      <td>...</td>\n      <td>XNA</td>\n      <td>24.0</td>\n      <td>high</td>\n      <td>Cash Street: high</td>\n      <td>NaN</td>\n      <td>NaN</td>\n      <td>NaN</td>\n      <td>NaN</td>\n      <td>NaN</td>\n      <td>NaN</td>\n    </tr>\n    <tr>\n      <th>5</th>\n      <td>1383531</td>\n      <td>199383</td>\n      <td>Cash loans</td>\n      <td>23703.930</td>\n      <td>315000.0</td>\n      <td>340573.5</td>\n      <td>NaN</td>\n      <td>315000.0</td>\n      <td>SATURDAY</td>\n      <td>8</td>\n      <td>...</td>\n      <td>XNA</td>\n      <td>18.0</td>\n      <td>low_normal</td>\n      <td>Cash X-Sell: low</td>\n      <td>365243.0</td>\n      <td>-654.0</td>\n      <td>-144.0</td>\n      <td>-144.0</td>\n      <td>-137.0</td>\n      <td>1.0</td>\n    </tr>\n    <tr>\n      <th>6</th>\n      <td>2315218</td>\n      <td>175704</td>\n      <td>Cash loans</td>\n      <td>NaN</td>\n      <td>0.0</td>\n      <td>0.0</td>\n      <td>NaN</td>\n      <td>NaN</td>\n      <td>TUESDAY</td>\n      <td>11</td>\n      <td>...</td>\n      <td>XNA</td>\n      <td>NaN</td>\n      <td>XNA</td>\n      <td>Cash</td>\n      <td>NaN</td>\n      <td>NaN</td>\n      <td>NaN</td>\n      <td>NaN</td>\n      <td>NaN</td>\n      <td>NaN</td>\n    </tr>\n    <tr>\n      <th>7</th>\n      <td>1656711</td>\n      <td>296299</td>\n      <td>Cash loans</td>\n      <td>NaN</td>\n      <td>0.0</td>\n      <td>0.0</td>\n      <td>NaN</td>\n      <td>NaN</td>\n      <td>MONDAY</td>\n      <td>7</td>\n      <td>...</td>\n      <td>XNA</td>\n      <td>NaN</td>\n      <td>XNA</td>\n      <td>Cash</td>\n      <td>NaN</td>\n      <td>NaN</td>\n      <td>NaN</td>\n      <td>NaN</td>\n      <td>NaN</td>\n      <td>NaN</td>\n    </tr>\n    <tr>\n      <th>8</th>\n      <td>2367563</td>\n      <td>342292</td>\n      <td>Cash loans</td>\n      <td>NaN</td>\n      <td>0.0</td>\n      <td>0.0</td>\n      <td>NaN</td>\n      <td>NaN</td>\n      <td>MONDAY</td>\n      <td>15</td>\n      <td>...</td>\n      <td>XNA</td>\n      <td>NaN</td>\n      <td>XNA</td>\n      <td>Cash</td>\n      <td>NaN</td>\n      <td>NaN</td>\n      <td>NaN</td>\n      <td>NaN</td>\n      <td>NaN</td>\n      <td>NaN</td>\n    </tr>\n    <tr>\n      <th>9</th>\n      <td>2579447</td>\n      <td>334349</td>\n      <td>Cash loans</td>\n      <td>NaN</td>\n      <td>0.0</td>\n      <td>0.0</td>\n      <td>NaN</td>\n      <td>NaN</td>\n      <td>SATURDAY</td>\n      <td>15</td>\n      <td>...</td>\n      <td>XNA</td>\n      <td>NaN</td>\n      <td>XNA</td>\n      <td>Cash</td>\n      <td>NaN</td>\n      <td>NaN</td>\n      <td>NaN</td>\n      <td>NaN</td>\n      <td>NaN</td>\n      <td>NaN</td>\n    </tr>\n    <tr>\n      <th>10</th>\n      <td>1715995</td>\n      <td>447712</td>\n      <td>Cash loans</td>\n      <td>11368.620</td>\n      <td>270000.0</td>\n      <td>335754.0</td>\n      <td>NaN</td>\n      <td>270000.0</td>\n      <td>FRIDAY</td>\n      <td>7</td>\n      <td>...</td>\n      <td>XNA</td>\n      <td>54.0</td>\n      <td>low_normal</td>\n      <td>Cash X-Sell: low</td>\n      <td>365243.0</td>\n      <td>-705.0</td>\n      <td>885.0</td>\n      <td>-345.0</td>\n      <td>-334.0</td>\n      <td>1.0</td>\n    </tr>\n    <tr>\n      <th>11</th>\n      <td>2257824</td>\n      <td>161140</td>\n      <td>Cash loans</td>\n      <td>13832.775</td>\n      <td>211500.0</td>\n      <td>246397.5</td>\n      <td>NaN</td>\n      <td>211500.0</td>\n      <td>FRIDAY</td>\n      <td>10</td>\n      <td>...</td>\n      <td>XNA</td>\n      <td>30.0</td>\n      <td>middle</td>\n      <td>Cash X-Sell: middle</td>\n      <td>365243.0</td>\n      <td>-785.0</td>\n      <td>85.0</td>\n      <td>-725.0</td>\n      <td>-721.0</td>\n      <td>1.0</td>\n    </tr>\n    <tr>\n      <th>12</th>\n      <td>2330894</td>\n      <td>258628</td>\n      <td>Cash loans</td>\n      <td>12165.210</td>\n      <td>148500.0</td>\n      <td>174361.5</td>\n      <td>NaN</td>\n      <td>148500.0</td>\n      <td>TUESDAY</td>\n      <td>15</td>\n      <td>...</td>\n      <td>XNA</td>\n      <td>24.0</td>\n      <td>high</td>\n      <td>Cash X-Sell: high</td>\n      <td>365243.0</td>\n      <td>-830.0</td>\n      <td>-140.0</td>\n      <td>-200.0</td>\n      <td>-197.0</td>\n      <td>1.0</td>\n    </tr>\n    <tr>\n      <th>13</th>\n      <td>1397919</td>\n      <td>321676</td>\n      <td>Consumer loans</td>\n      <td>7654.860</td>\n      <td>53779.5</td>\n      <td>57564.0</td>\n      <td>0.0</td>\n      <td>53779.5</td>\n      <td>SUNDAY</td>\n      <td>15</td>\n      <td>...</td>\n      <td>Consumer electronics</td>\n      <td>8.0</td>\n      <td>low_action</td>\n      <td>POS household without interest</td>\n      <td>365243.0</td>\n      <td>-378.0</td>\n      <td>-168.0</td>\n      <td>-168.0</td>\n      <td>-163.0</td>\n      <td>1.0</td>\n    </tr>\n    <tr>\n      <th>14</th>\n      <td>2273188</td>\n      <td>270658</td>\n      <td>Consumer loans</td>\n      <td>9644.220</td>\n      <td>26550.0</td>\n      <td>27252.0</td>\n      <td>0.0</td>\n      <td>26550.0</td>\n      <td>SATURDAY</td>\n      <td>10</td>\n      <td>...</td>\n      <td>Consumer electronics</td>\n      <td>3.0</td>\n      <td>middle</td>\n      <td>POS household with interest</td>\n      <td>365243.0</td>\n      <td>-693.0</td>\n      <td>-633.0</td>\n      <td>-633.0</td>\n      <td>-627.0</td>\n      <td>0.0</td>\n    </tr>\n    <tr>\n      <th>15</th>\n      <td>1232483</td>\n      <td>151612</td>\n      <td>Consumer loans</td>\n      <td>21307.455</td>\n      <td>126490.5</td>\n      <td>119853.0</td>\n      <td>12649.5</td>\n      <td>126490.5</td>\n      <td>TUESDAY</td>\n      <td>7</td>\n      <td>...</td>\n      <td>Industry</td>\n      <td>6.0</td>\n      <td>low_normal</td>\n      <td>POS other with interest</td>\n      <td>365243.0</td>\n      <td>-668.0</td>\n      <td>-518.0</td>\n      <td>-518.0</td>\n      <td>-512.0</td>\n      <td>0.0</td>\n    </tr>\n    <tr>\n      <th>16</th>\n      <td>2163253</td>\n      <td>154602</td>\n      <td>Consumer loans</td>\n      <td>4187.340</td>\n      <td>26955.0</td>\n      <td>27297.0</td>\n      <td>1350.0</td>\n      <td>26955.0</td>\n      <td>SATURDAY</td>\n      <td>12</td>\n      <td>...</td>\n      <td>Consumer electronics</td>\n      <td>8.0</td>\n      <td>high</td>\n      <td>POS household with interest</td>\n      <td>365243.0</td>\n      <td>-1440.0</td>\n      <td>-1230.0</td>\n      <td>-1230.0</td>\n      <td>-1226.0</td>\n      <td>0.0</td>\n    </tr>\n    <tr>\n      <th>17</th>\n      <td>1285768</td>\n      <td>142748</td>\n      <td>Revolving loans</td>\n      <td>9000.000</td>\n      <td>180000.0</td>\n      <td>180000.0</td>\n      <td>NaN</td>\n      <td>180000.0</td>\n      <td>FRIDAY</td>\n      <td>13</td>\n      <td>...</td>\n      <td>XNA</td>\n      <td>0.0</td>\n      <td>XNA</td>\n      <td>Card X-Sell</td>\n      <td>-277.0</td>\n      <td>-257.0</td>\n      <td>365243.0</td>\n      <td>365243.0</td>\n      <td>365243.0</td>\n      <td>0.0</td>\n    </tr>\n    <tr>\n      <th>18</th>\n      <td>2393109</td>\n      <td>396305</td>\n      <td>Cash loans</td>\n      <td>10181.700</td>\n      <td>180000.0</td>\n      <td>180000.0</td>\n      <td>NaN</td>\n      <td>180000.0</td>\n      <td>THURSDAY</td>\n      <td>14</td>\n      <td>...</td>\n      <td>XNA</td>\n      <td>24.0</td>\n      <td>low_normal</td>\n      <td>Cash X-Sell: low</td>\n      <td>NaN</td>\n      <td>NaN</td>\n      <td>NaN</td>\n      <td>NaN</td>\n      <td>NaN</td>\n      <td>NaN</td>\n    </tr>\n    <tr>\n      <th>19</th>\n      <td>1173070</td>\n      <td>199178</td>\n      <td>Cash loans</td>\n      <td>4666.500</td>\n      <td>45000.0</td>\n      <td>49455.0</td>\n      <td>NaN</td>\n      <td>45000.0</td>\n      <td>SATURDAY</td>\n      <td>16</td>\n      <td>...</td>\n      <td>XNA</td>\n      <td>18.0</td>\n      <td>high</td>\n      <td>Cash Street: high</td>\n      <td>NaN</td>\n      <td>NaN</td>\n      <td>NaN</td>\n      <td>NaN</td>\n      <td>NaN</td>\n      <td>NaN</td>\n    </tr>\n  </tbody>\n</table>\n<p>20 rows × 37 columns</p>\n</div>"
     },
     "execution_count": 262,
     "metadata": {},
     "output_type": "execute_result"
    }
   ],
   "source": [
    "previous_app_df.head(20)"
   ],
   "metadata": {
    "collapsed": false,
    "pycharm": {
     "name": "#%%\n"
    }
   }
  },
  {
   "cell_type": "code",
   "execution_count": 263,
   "outputs": [
    {
     "name": "stdout",
     "output_type": "stream",
     "text": [
      "<class 'pandas.core.frame.DataFrame'>\n",
      "RangeIndex: 1670214 entries, 0 to 1670213\n",
      "Data columns (total 37 columns):\n",
      " #   Column                       Non-Null Count    Dtype  \n",
      "---  ------                       --------------    -----  \n",
      " 0   SK_ID_PREV                   1670214 non-null  int64  \n",
      " 1   SK_ID_CURR                   1670214 non-null  int64  \n",
      " 2   NAME_CONTRACT_TYPE           1670214 non-null  object \n",
      " 3   AMT_ANNUITY                  1297979 non-null  float64\n",
      " 4   AMT_APPLICATION              1670214 non-null  float64\n",
      " 5   AMT_CREDIT                   1670213 non-null  float64\n",
      " 6   AMT_DOWN_PAYMENT             774370 non-null   float64\n",
      " 7   AMT_GOODS_PRICE              1284699 non-null  float64\n",
      " 8   WEEKDAY_APPR_PROCESS_START   1670214 non-null  object \n",
      " 9   HOUR_APPR_PROCESS_START      1670214 non-null  int64  \n",
      " 10  FLAG_LAST_APPL_PER_CONTRACT  1670214 non-null  object \n",
      " 11  NFLAG_LAST_APPL_IN_DAY       1670214 non-null  int64  \n",
      " 12  RATE_DOWN_PAYMENT            774370 non-null   float64\n",
      " 13  RATE_INTEREST_PRIMARY        5951 non-null     float64\n",
      " 14  RATE_INTEREST_PRIVILEGED     5951 non-null     float64\n",
      " 15  NAME_CASH_LOAN_PURPOSE       1670214 non-null  object \n",
      " 16  NAME_CONTRACT_STATUS         1670214 non-null  object \n",
      " 17  DAYS_DECISION                1670214 non-null  int64  \n",
      " 18  NAME_PAYMENT_TYPE            1670214 non-null  object \n",
      " 19  CODE_REJECT_REASON           1670214 non-null  object \n",
      " 20  NAME_TYPE_SUITE              849809 non-null   object \n",
      " 21  NAME_CLIENT_TYPE             1670214 non-null  object \n",
      " 22  NAME_GOODS_CATEGORY          1670214 non-null  object \n",
      " 23  NAME_PORTFOLIO               1670214 non-null  object \n",
      " 24  NAME_PRODUCT_TYPE            1670214 non-null  object \n",
      " 25  CHANNEL_TYPE                 1670214 non-null  object \n",
      " 26  SELLERPLACE_AREA             1670214 non-null  int64  \n",
      " 27  NAME_SELLER_INDUSTRY         1670214 non-null  object \n",
      " 28  CNT_PAYMENT                  1297984 non-null  float64\n",
      " 29  NAME_YIELD_GROUP             1670214 non-null  object \n",
      " 30  PRODUCT_COMBINATION          1669868 non-null  object \n",
      " 31  DAYS_FIRST_DRAWING           997149 non-null   float64\n",
      " 32  DAYS_FIRST_DUE               997149 non-null   float64\n",
      " 33  DAYS_LAST_DUE_1ST_VERSION    997149 non-null   float64\n",
      " 34  DAYS_LAST_DUE                997149 non-null   float64\n",
      " 35  DAYS_TERMINATION             997149 non-null   float64\n",
      " 36  NFLAG_INSURED_ON_APPROVAL    997149 non-null   float64\n",
      "dtypes: float64(15), int64(6), object(16)\n",
      "memory usage: 471.5+ MB\n"
     ]
    }
   ],
   "source": [
    "previous_app_df.info()"
   ],
   "metadata": {
    "collapsed": false,
    "pycharm": {
     "name": "#%%\n"
    }
   }
  },
  {
   "cell_type": "markdown",
   "source": [
    "We can drop a few variables of less likely importance: Weekday & Hour of Application; the Flags, and the Rates (which are too full of Nulls, and should be accounted for in the Amt_Credit and Amt_Annuity). Name_Type_Suite is not being used and can also be dropped.\n",
    "\n",
    "Many of the categorical columns both do not sound like useful information (except for Yield Type), and have many 'XNA' values which appear to be coded Nulls. I will drop those, to simplify the imputation and pipeline.\n",
    "\n",
    "The last few columns refer to time between this previous loan and the current one (our overall target variable). This info has no bearing on failure to repay the previous loan, and can safely be dropped."
   ],
   "metadata": {
    "collapsed": false,
    "pycharm": {
     "name": "#%% md\n"
    }
   }
  },
  {
   "cell_type": "code",
   "execution_count": 264,
   "outputs": [],
   "source": [
    "previous_app_drop = previous_app_df.columns[8:26].tolist()\n",
    "previous_app_drop.append(previous_app_df.columns[2])"
   ],
   "metadata": {
    "collapsed": false,
    "pycharm": {
     "name": "#%%\n"
    }
   }
  },
  {
   "cell_type": "code",
   "execution_count": 265,
   "outputs": [],
   "source": [
    "previous_app_drop.extend(previous_app_df.columns[26:29].tolist())"
   ],
   "metadata": {
    "collapsed": false,
    "pycharm": {
     "name": "#%%\n"
    }
   }
  },
  {
   "cell_type": "code",
   "execution_count": 266,
   "outputs": [],
   "source": [
    "previous_app_drop.extend(previous_app_df.columns[30:].tolist())"
   ],
   "metadata": {
    "collapsed": false,
    "pycharm": {
     "name": "#%%\n"
    }
   }
  },
  {
   "cell_type": "code",
   "execution_count": 267,
   "outputs": [
    {
     "data": {
      "text/plain": "['WEEKDAY_APPR_PROCESS_START',\n 'HOUR_APPR_PROCESS_START',\n 'FLAG_LAST_APPL_PER_CONTRACT',\n 'NFLAG_LAST_APPL_IN_DAY',\n 'RATE_DOWN_PAYMENT',\n 'RATE_INTEREST_PRIMARY',\n 'RATE_INTEREST_PRIVILEGED',\n 'NAME_CASH_LOAN_PURPOSE',\n 'NAME_CONTRACT_STATUS',\n 'DAYS_DECISION',\n 'NAME_PAYMENT_TYPE',\n 'CODE_REJECT_REASON',\n 'NAME_TYPE_SUITE',\n 'NAME_CLIENT_TYPE',\n 'NAME_GOODS_CATEGORY',\n 'NAME_PORTFOLIO',\n 'NAME_PRODUCT_TYPE',\n 'CHANNEL_TYPE',\n 'NAME_CONTRACT_TYPE',\n 'SELLERPLACE_AREA',\n 'NAME_SELLER_INDUSTRY',\n 'CNT_PAYMENT',\n 'PRODUCT_COMBINATION',\n 'DAYS_FIRST_DRAWING',\n 'DAYS_FIRST_DUE',\n 'DAYS_LAST_DUE_1ST_VERSION',\n 'DAYS_LAST_DUE',\n 'DAYS_TERMINATION',\n 'NFLAG_INSURED_ON_APPROVAL']"
     },
     "execution_count": 267,
     "metadata": {},
     "output_type": "execute_result"
    }
   ],
   "source": [
    "previous_app_drop"
   ],
   "metadata": {
    "collapsed": false,
    "pycharm": {
     "name": "#%%\n"
    }
   }
  },
  {
   "cell_type": "code",
   "execution_count": 268,
   "outputs": [],
   "source": [
    "previous_app_df.drop(axis=1, columns=previous_app_drop, inplace=True)"
   ],
   "metadata": {
    "collapsed": false,
    "pycharm": {
     "name": "#%%\n"
    }
   }
  },
  {
   "cell_type": "code",
   "execution_count": 269,
   "outputs": [
    {
     "data": {
      "text/plain": "    SK_ID_PREV  SK_ID_CURR  AMT_ANNUITY  AMT_APPLICATION  AMT_CREDIT  \\\n0      2030495      271877     1730.430          17145.0     17145.0   \n1      2802425      108129    25188.615         607500.0    679671.0   \n2      2523466      122040    15060.735         112500.0    136444.5   \n3      2819243      176158    47041.335         450000.0    470790.0   \n4      1784265      202054    31924.395         337500.0    404055.0   \n5      1383531      199383    23703.930         315000.0    340573.5   \n6      2315218      175704          NaN              0.0         0.0   \n7      1656711      296299          NaN              0.0         0.0   \n8      2367563      342292          NaN              0.0         0.0   \n9      2579447      334349          NaN              0.0         0.0   \n10     1715995      447712    11368.620         270000.0    335754.0   \n11     2257824      161140    13832.775         211500.0    246397.5   \n12     2330894      258628    12165.210         148500.0    174361.5   \n13     1397919      321676     7654.860          53779.5     57564.0   \n14     2273188      270658     9644.220          26550.0     27252.0   \n15     1232483      151612    21307.455         126490.5    119853.0   \n16     2163253      154602     4187.340          26955.0     27297.0   \n17     1285768      142748     9000.000         180000.0    180000.0   \n18     2393109      396305    10181.700         180000.0    180000.0   \n19     1173070      199178     4666.500          45000.0     49455.0   \n\n    AMT_DOWN_PAYMENT  AMT_GOODS_PRICE NAME_YIELD_GROUP  \n0                0.0          17145.0           middle  \n1                NaN         607500.0       low_action  \n2                NaN         112500.0             high  \n3                NaN         450000.0           middle  \n4                NaN         337500.0             high  \n5                NaN         315000.0       low_normal  \n6                NaN              NaN              XNA  \n7                NaN              NaN              XNA  \n8                NaN              NaN              XNA  \n9                NaN              NaN              XNA  \n10               NaN         270000.0       low_normal  \n11               NaN         211500.0           middle  \n12               NaN         148500.0             high  \n13               0.0          53779.5       low_action  \n14               0.0          26550.0           middle  \n15           12649.5         126490.5       low_normal  \n16            1350.0          26955.0             high  \n17               NaN         180000.0              XNA  \n18               NaN         180000.0       low_normal  \n19               NaN          45000.0             high  ",
      "text/html": "<div>\n<style scoped>\n    .dataframe tbody tr th:only-of-type {\n        vertical-align: middle;\n    }\n\n    .dataframe tbody tr th {\n        vertical-align: top;\n    }\n\n    .dataframe thead th {\n        text-align: right;\n    }\n</style>\n<table border=\"1\" class=\"dataframe\">\n  <thead>\n    <tr style=\"text-align: right;\">\n      <th></th>\n      <th>SK_ID_PREV</th>\n      <th>SK_ID_CURR</th>\n      <th>AMT_ANNUITY</th>\n      <th>AMT_APPLICATION</th>\n      <th>AMT_CREDIT</th>\n      <th>AMT_DOWN_PAYMENT</th>\n      <th>AMT_GOODS_PRICE</th>\n      <th>NAME_YIELD_GROUP</th>\n    </tr>\n  </thead>\n  <tbody>\n    <tr>\n      <th>0</th>\n      <td>2030495</td>\n      <td>271877</td>\n      <td>1730.430</td>\n      <td>17145.0</td>\n      <td>17145.0</td>\n      <td>0.0</td>\n      <td>17145.0</td>\n      <td>middle</td>\n    </tr>\n    <tr>\n      <th>1</th>\n      <td>2802425</td>\n      <td>108129</td>\n      <td>25188.615</td>\n      <td>607500.0</td>\n      <td>679671.0</td>\n      <td>NaN</td>\n      <td>607500.0</td>\n      <td>low_action</td>\n    </tr>\n    <tr>\n      <th>2</th>\n      <td>2523466</td>\n      <td>122040</td>\n      <td>15060.735</td>\n      <td>112500.0</td>\n      <td>136444.5</td>\n      <td>NaN</td>\n      <td>112500.0</td>\n      <td>high</td>\n    </tr>\n    <tr>\n      <th>3</th>\n      <td>2819243</td>\n      <td>176158</td>\n      <td>47041.335</td>\n      <td>450000.0</td>\n      <td>470790.0</td>\n      <td>NaN</td>\n      <td>450000.0</td>\n      <td>middle</td>\n    </tr>\n    <tr>\n      <th>4</th>\n      <td>1784265</td>\n      <td>202054</td>\n      <td>31924.395</td>\n      <td>337500.0</td>\n      <td>404055.0</td>\n      <td>NaN</td>\n      <td>337500.0</td>\n      <td>high</td>\n    </tr>\n    <tr>\n      <th>5</th>\n      <td>1383531</td>\n      <td>199383</td>\n      <td>23703.930</td>\n      <td>315000.0</td>\n      <td>340573.5</td>\n      <td>NaN</td>\n      <td>315000.0</td>\n      <td>low_normal</td>\n    </tr>\n    <tr>\n      <th>6</th>\n      <td>2315218</td>\n      <td>175704</td>\n      <td>NaN</td>\n      <td>0.0</td>\n      <td>0.0</td>\n      <td>NaN</td>\n      <td>NaN</td>\n      <td>XNA</td>\n    </tr>\n    <tr>\n      <th>7</th>\n      <td>1656711</td>\n      <td>296299</td>\n      <td>NaN</td>\n      <td>0.0</td>\n      <td>0.0</td>\n      <td>NaN</td>\n      <td>NaN</td>\n      <td>XNA</td>\n    </tr>\n    <tr>\n      <th>8</th>\n      <td>2367563</td>\n      <td>342292</td>\n      <td>NaN</td>\n      <td>0.0</td>\n      <td>0.0</td>\n      <td>NaN</td>\n      <td>NaN</td>\n      <td>XNA</td>\n    </tr>\n    <tr>\n      <th>9</th>\n      <td>2579447</td>\n      <td>334349</td>\n      <td>NaN</td>\n      <td>0.0</td>\n      <td>0.0</td>\n      <td>NaN</td>\n      <td>NaN</td>\n      <td>XNA</td>\n    </tr>\n    <tr>\n      <th>10</th>\n      <td>1715995</td>\n      <td>447712</td>\n      <td>11368.620</td>\n      <td>270000.0</td>\n      <td>335754.0</td>\n      <td>NaN</td>\n      <td>270000.0</td>\n      <td>low_normal</td>\n    </tr>\n    <tr>\n      <th>11</th>\n      <td>2257824</td>\n      <td>161140</td>\n      <td>13832.775</td>\n      <td>211500.0</td>\n      <td>246397.5</td>\n      <td>NaN</td>\n      <td>211500.0</td>\n      <td>middle</td>\n    </tr>\n    <tr>\n      <th>12</th>\n      <td>2330894</td>\n      <td>258628</td>\n      <td>12165.210</td>\n      <td>148500.0</td>\n      <td>174361.5</td>\n      <td>NaN</td>\n      <td>148500.0</td>\n      <td>high</td>\n    </tr>\n    <tr>\n      <th>13</th>\n      <td>1397919</td>\n      <td>321676</td>\n      <td>7654.860</td>\n      <td>53779.5</td>\n      <td>57564.0</td>\n      <td>0.0</td>\n      <td>53779.5</td>\n      <td>low_action</td>\n    </tr>\n    <tr>\n      <th>14</th>\n      <td>2273188</td>\n      <td>270658</td>\n      <td>9644.220</td>\n      <td>26550.0</td>\n      <td>27252.0</td>\n      <td>0.0</td>\n      <td>26550.0</td>\n      <td>middle</td>\n    </tr>\n    <tr>\n      <th>15</th>\n      <td>1232483</td>\n      <td>151612</td>\n      <td>21307.455</td>\n      <td>126490.5</td>\n      <td>119853.0</td>\n      <td>12649.5</td>\n      <td>126490.5</td>\n      <td>low_normal</td>\n    </tr>\n    <tr>\n      <th>16</th>\n      <td>2163253</td>\n      <td>154602</td>\n      <td>4187.340</td>\n      <td>26955.0</td>\n      <td>27297.0</td>\n      <td>1350.0</td>\n      <td>26955.0</td>\n      <td>high</td>\n    </tr>\n    <tr>\n      <th>17</th>\n      <td>1285768</td>\n      <td>142748</td>\n      <td>9000.000</td>\n      <td>180000.0</td>\n      <td>180000.0</td>\n      <td>NaN</td>\n      <td>180000.0</td>\n      <td>XNA</td>\n    </tr>\n    <tr>\n      <th>18</th>\n      <td>2393109</td>\n      <td>396305</td>\n      <td>10181.700</td>\n      <td>180000.0</td>\n      <td>180000.0</td>\n      <td>NaN</td>\n      <td>180000.0</td>\n      <td>low_normal</td>\n    </tr>\n    <tr>\n      <th>19</th>\n      <td>1173070</td>\n      <td>199178</td>\n      <td>4666.500</td>\n      <td>45000.0</td>\n      <td>49455.0</td>\n      <td>NaN</td>\n      <td>45000.0</td>\n      <td>high</td>\n    </tr>\n  </tbody>\n</table>\n</div>"
     },
     "execution_count": 269,
     "metadata": {},
     "output_type": "execute_result"
    }
   ],
   "source": [
    "previous_app_df.head(20)"
   ],
   "metadata": {
    "collapsed": false,
    "pycharm": {
     "name": "#%%\n"
    }
   }
  },
  {
   "cell_type": "code",
   "execution_count": 270,
   "outputs": [
    {
     "name": "stdout",
     "output_type": "stream",
     "text": [
      "<class 'pandas.core.frame.DataFrame'>\n",
      "RangeIndex: 1670214 entries, 0 to 1670213\n",
      "Data columns (total 8 columns):\n",
      " #   Column            Non-Null Count    Dtype  \n",
      "---  ------            --------------    -----  \n",
      " 0   SK_ID_PREV        1670214 non-null  int64  \n",
      " 1   SK_ID_CURR        1670214 non-null  int64  \n",
      " 2   AMT_ANNUITY       1297979 non-null  float64\n",
      " 3   AMT_APPLICATION   1670214 non-null  float64\n",
      " 4   AMT_CREDIT        1670213 non-null  float64\n",
      " 5   AMT_DOWN_PAYMENT  774370 non-null   float64\n",
      " 6   AMT_GOODS_PRICE   1284699 non-null  float64\n",
      " 7   NAME_YIELD_GROUP  1670214 non-null  object \n",
      "dtypes: float64(5), int64(2), object(1)\n",
      "memory usage: 101.9+ MB\n"
     ]
    }
   ],
   "source": [
    "previous_app_df.info()"
   ],
   "metadata": {
    "collapsed": false,
    "pycharm": {
     "name": "#%%\n"
    }
   }
  },
  {
   "cell_type": "markdown",
   "source": [
    "Amt_Income is one of the most important variables. We will need to add this in from the Current Loan Application dataframe in order to use it (acknowledging that the applicant's income may have changed -- this is the best we can do for now). We can do an Inner join, in case there are any previous loans without current applicants' incomes (which would be useless to predict on)."
   ],
   "metadata": {
    "collapsed": false,
    "pycharm": {
     "name": "#%% md\n"
    }
   }
  },
  {
   "cell_type": "code",
   "execution_count": 271,
   "outputs": [],
   "source": [
    "previous_pred_df = previous_app_df.join(application_df['AMT_INCOME_TOTAL'], on='SK_ID_CURR', how='inner')"
   ],
   "metadata": {
    "collapsed": false,
    "pycharm": {
     "name": "#%%\n"
    }
   }
  },
  {
   "cell_type": "code",
   "execution_count": 272,
   "outputs": [],
   "source": [
    "predict_df = previous_pred_df.join(past_balance_df['Past_Due'], on='SK_ID_PREV', how='left')"
   ],
   "metadata": {
    "collapsed": false,
    "pycharm": {
     "name": "#%%\n"
    }
   }
  },
  {
   "cell_type": "code",
   "execution_count": 273,
   "outputs": [
    {
     "data": {
      "text/plain": "         SK_ID_PREV  SK_ID_CURR  AMT_ANNUITY  AMT_APPLICATION  AMT_CREDIT  \\\n0           2030495      271877     1730.430          17145.0     17145.0   \n735737      1696966      271877    68258.655        1800000.0   1754721.0   \n1567518     2154916      271877    12417.390         108400.5    119848.5   \n1           2802425      108129    25188.615         607500.0    679671.0   \n335841      1536272      108129    21709.125         450000.0    512370.0   \n...             ...         ...          ...              ...         ...   \n1669427     1563733      227766    13726.080         137250.0    123525.0   \n1669619     2319569      239799     4716.495          46800.0     46800.0   \n1669655     2210917      174832    30439.305         243000.0    289732.5   \n1669726     2253728      253940    26084.700         135000.0    135000.0   \n1670060     1944034      191629          NaN              0.0         0.0   \n\n         AMT_DOWN_PAYMENT  AMT_GOODS_PRICE NAME_YIELD_GROUP  AMT_INCOME_TOTAL  \\\n0                     0.0          17145.0           middle          135000.0   \n735737           180000.0        1800000.0       low_normal          135000.0   \n1567518               0.0         108400.5           middle          135000.0   \n1                     NaN         607500.0       low_action          180000.0   \n335841                NaN         450000.0       low_normal          180000.0   \n...                   ...              ...              ...               ...   \n1669427           13725.0         137250.0       low_normal           90000.0   \n1669619               0.0          46800.0           middle           74250.0   \n1669655               NaN         243000.0           middle          135000.0   \n1669726               0.0         135000.0             high           76500.0   \n1670060               NaN              NaN              XNA          427500.0   \n\n         Past_Due  \n0             0.0  \n735737        0.0  \n1567518       0.0  \n1             0.0  \n335841        0.0  \n...           ...  \n1669427       1.0  \n1669619       0.0  \n1669655       0.0  \n1669726       0.0  \n1670060       0.0  \n\n[971102 rows x 10 columns]",
      "text/html": "<div>\n<style scoped>\n    .dataframe tbody tr th:only-of-type {\n        vertical-align: middle;\n    }\n\n    .dataframe tbody tr th {\n        vertical-align: top;\n    }\n\n    .dataframe thead th {\n        text-align: right;\n    }\n</style>\n<table border=\"1\" class=\"dataframe\">\n  <thead>\n    <tr style=\"text-align: right;\">\n      <th></th>\n      <th>SK_ID_PREV</th>\n      <th>SK_ID_CURR</th>\n      <th>AMT_ANNUITY</th>\n      <th>AMT_APPLICATION</th>\n      <th>AMT_CREDIT</th>\n      <th>AMT_DOWN_PAYMENT</th>\n      <th>AMT_GOODS_PRICE</th>\n      <th>NAME_YIELD_GROUP</th>\n      <th>AMT_INCOME_TOTAL</th>\n      <th>Past_Due</th>\n    </tr>\n  </thead>\n  <tbody>\n    <tr>\n      <th>0</th>\n      <td>2030495</td>\n      <td>271877</td>\n      <td>1730.430</td>\n      <td>17145.0</td>\n      <td>17145.0</td>\n      <td>0.0</td>\n      <td>17145.0</td>\n      <td>middle</td>\n      <td>135000.0</td>\n      <td>0.0</td>\n    </tr>\n    <tr>\n      <th>735737</th>\n      <td>1696966</td>\n      <td>271877</td>\n      <td>68258.655</td>\n      <td>1800000.0</td>\n      <td>1754721.0</td>\n      <td>180000.0</td>\n      <td>1800000.0</td>\n      <td>low_normal</td>\n      <td>135000.0</td>\n      <td>0.0</td>\n    </tr>\n    <tr>\n      <th>1567518</th>\n      <td>2154916</td>\n      <td>271877</td>\n      <td>12417.390</td>\n      <td>108400.5</td>\n      <td>119848.5</td>\n      <td>0.0</td>\n      <td>108400.5</td>\n      <td>middle</td>\n      <td>135000.0</td>\n      <td>0.0</td>\n    </tr>\n    <tr>\n      <th>1</th>\n      <td>2802425</td>\n      <td>108129</td>\n      <td>25188.615</td>\n      <td>607500.0</td>\n      <td>679671.0</td>\n      <td>NaN</td>\n      <td>607500.0</td>\n      <td>low_action</td>\n      <td>180000.0</td>\n      <td>0.0</td>\n    </tr>\n    <tr>\n      <th>335841</th>\n      <td>1536272</td>\n      <td>108129</td>\n      <td>21709.125</td>\n      <td>450000.0</td>\n      <td>512370.0</td>\n      <td>NaN</td>\n      <td>450000.0</td>\n      <td>low_normal</td>\n      <td>180000.0</td>\n      <td>0.0</td>\n    </tr>\n    <tr>\n      <th>...</th>\n      <td>...</td>\n      <td>...</td>\n      <td>...</td>\n      <td>...</td>\n      <td>...</td>\n      <td>...</td>\n      <td>...</td>\n      <td>...</td>\n      <td>...</td>\n      <td>...</td>\n    </tr>\n    <tr>\n      <th>1669427</th>\n      <td>1563733</td>\n      <td>227766</td>\n      <td>13726.080</td>\n      <td>137250.0</td>\n      <td>123525.0</td>\n      <td>13725.0</td>\n      <td>137250.0</td>\n      <td>low_normal</td>\n      <td>90000.0</td>\n      <td>1.0</td>\n    </tr>\n    <tr>\n      <th>1669619</th>\n      <td>2319569</td>\n      <td>239799</td>\n      <td>4716.495</td>\n      <td>46800.0</td>\n      <td>46800.0</td>\n      <td>0.0</td>\n      <td>46800.0</td>\n      <td>middle</td>\n      <td>74250.0</td>\n      <td>0.0</td>\n    </tr>\n    <tr>\n      <th>1669655</th>\n      <td>2210917</td>\n      <td>174832</td>\n      <td>30439.305</td>\n      <td>243000.0</td>\n      <td>289732.5</td>\n      <td>NaN</td>\n      <td>243000.0</td>\n      <td>middle</td>\n      <td>135000.0</td>\n      <td>0.0</td>\n    </tr>\n    <tr>\n      <th>1669726</th>\n      <td>2253728</td>\n      <td>253940</td>\n      <td>26084.700</td>\n      <td>135000.0</td>\n      <td>135000.0</td>\n      <td>0.0</td>\n      <td>135000.0</td>\n      <td>high</td>\n      <td>76500.0</td>\n      <td>0.0</td>\n    </tr>\n    <tr>\n      <th>1670060</th>\n      <td>1944034</td>\n      <td>191629</td>\n      <td>NaN</td>\n      <td>0.0</td>\n      <td>0.0</td>\n      <td>NaN</td>\n      <td>NaN</td>\n      <td>XNA</td>\n      <td>427500.0</td>\n      <td>0.0</td>\n    </tr>\n  </tbody>\n</table>\n<p>971102 rows × 10 columns</p>\n</div>"
     },
     "execution_count": 273,
     "metadata": {},
     "output_type": "execute_result"
    }
   ],
   "source": [
    "predict_df"
   ],
   "metadata": {
    "collapsed": false,
    "pycharm": {
     "name": "#%%\n"
    }
   }
  },
  {
   "cell_type": "code",
   "execution_count": 274,
   "outputs": [
    {
     "name": "stdout",
     "output_type": "stream",
     "text": [
      "<class 'pandas.core.frame.DataFrame'>\n",
      "Int64Index: 971102 entries, 0 to 1670060\n",
      "Data columns (total 10 columns):\n",
      " #   Column            Non-Null Count   Dtype  \n",
      "---  ------            --------------   -----  \n",
      " 0   SK_ID_PREV        971102 non-null  int64  \n",
      " 1   SK_ID_CURR        971102 non-null  int64  \n",
      " 2   AMT_ANNUITY       754609 non-null  float64\n",
      " 3   AMT_APPLICATION   971102 non-null  float64\n",
      " 4   AMT_CREDIT        971102 non-null  float64\n",
      " 5   AMT_DOWN_PAYMENT  450226 non-null  float64\n",
      " 6   AMT_GOODS_PRICE   746765 non-null  float64\n",
      " 7   NAME_YIELD_GROUP  971102 non-null  object \n",
      " 8   AMT_INCOME_TOTAL  971102 non-null  float64\n",
      " 9   Past_Due          971102 non-null  float64\n",
      "dtypes: float64(7), int64(2), object(1)\n",
      "memory usage: 81.5+ MB\n"
     ]
    }
   ],
   "source": [
    "predict_df.info()"
   ],
   "metadata": {
    "collapsed": false,
    "pycharm": {
     "name": "#%%\n"
    }
   }
  },
  {
   "cell_type": "markdown",
   "source": [
    "We can see there are a number of nulls in Amt_Annuity (which should not be zero), Amt_Down_Payment (which could be zero for all we know), and Amt_Goods_Price (again, should not be zero). It would be nice to use Iterative Imputer on these to fill in based on nearby columns.\n",
    "\n",
    "We do not need to transform the categorical data as the Naive Bayes algorithm handles categorical data well.\n",
    "\n",
    "Let's make the necessary transformers:"
   ],
   "metadata": {
    "collapsed": false,
    "pycharm": {
     "name": "#%% md\n"
    }
   }
  },
  {
   "cell_type": "code",
   "execution_count": 275,
   "outputs": [],
   "source": [
    "# List out Numeric Columns for a Column Transformer\n",
    "num_cols_predict = ['AMT_ANNUITY', 'AMT_APPLICATION', 'AMT_CREDIT', 'AMT_DOWN_PAYMENT', 'AMT_GOODS_PRICE', 'AMT_INCOME_TOTAL', 'Past_Due']"
   ],
   "metadata": {
    "collapsed": false,
    "pycharm": {
     "name": "#%%\n"
    }
   }
  },
  {
   "cell_type": "code",
   "execution_count": 276,
   "outputs": [],
   "source": [
    "# Build Iterative Imputer\n",
    "numeric_transformer_predict = Pipeline(steps=[\n",
    "    ('imputer', IterativeImputer(verbose=1, random_state=123,\n",
    "                                 estimator=BayesianRidge(lambda_init=0.1),\n",
    "                                 missing_values=np.nan,\n",
    "                                 n_nearest_features=5, # do multi regression on only up to 5 features\n",
    "                                 initial_strategy='mean' # initially set imputes to the Mean\n",
    "                                 ))\n",
    "])"
   ],
   "metadata": {
    "collapsed": false,
    "pycharm": {
     "name": "#%%\n"
    }
   }
  },
  {
   "cell_type": "code",
   "execution_count": 277,
   "outputs": [],
   "source": [
    "# Build Categorical OHE transformer\n",
    "categ_transformer = Pipeline(steps=[\n",
    "    ('OneHot', OneHotEncoder(sparse=False, handle_unknown='ignore'))\n",
    "])"
   ],
   "metadata": {
    "collapsed": false,
    "pycharm": {
     "name": "#%%\n"
    }
   }
  },
  {
   "cell_type": "code",
   "execution_count": 278,
   "outputs": [],
   "source": [
    "# Make Column Transformer, passing through the remainders (IDs)\n",
    "col_transformer_predict = ColumnTransformer(\n",
    "    transformers=[\n",
    "        ('numeric', numeric_transformer_predict, num_cols_predict),\n",
    "        ('ohe', categ_transformer, ['NAME_YIELD_GROUP'])\n",
    "    ],\n",
    "    remainder='passthrough'\n",
    ")"
   ],
   "metadata": {
    "collapsed": false,
    "pycharm": {
     "name": "#%%\n"
    }
   }
  },
  {
   "cell_type": "code",
   "execution_count": 278,
   "outputs": [],
   "source": [],
   "metadata": {
    "collapsed": false,
    "pycharm": {
     "name": "#%%\n"
    }
   }
  },
  {
   "cell_type": "code",
   "execution_count": 279,
   "outputs": [
    {
     "name": "stdout",
     "output_type": "stream",
     "text": [
      "[IterativeImputer] Completing matrix with shape (971102, 7)\n",
      "[IterativeImputer] Change: 1274384.4338942694, scaled tolerance: 18000.09 \n",
      "[IterativeImputer] Change: 11684.193503930728, scaled tolerance: 18000.09 \n",
      "[IterativeImputer] Early stopping criterion reached.\n"
     ]
    }
   ],
   "source": [
    "predict_array_transformed=[]\n",
    "predict_array_transformed = col_transformer_predict.fit_transform(predict_df)\n"
   ],
   "metadata": {
    "collapsed": false,
    "pycharm": {
     "name": "#%%\n"
    }
   }
  },
  {
   "cell_type": "code",
   "execution_count": 280,
   "outputs": [
    {
     "data": {
      "text/plain": "array([[1.73043000e+03, 1.71450000e+04, 1.71450000e+04, ...,\n        1.00000000e+00, 2.03049500e+06, 2.71877000e+05],\n       [6.82586550e+04, 1.80000000e+06, 1.75472100e+06, ...,\n        0.00000000e+00, 1.69696600e+06, 2.71877000e+05],\n       [1.24173900e+04, 1.08400500e+05, 1.19848500e+05, ...,\n        1.00000000e+00, 2.15491600e+06, 2.71877000e+05],\n       ...,\n       [3.04393050e+04, 2.43000000e+05, 2.89732500e+05, ...,\n        1.00000000e+00, 2.21091700e+06, 1.74832000e+05],\n       [2.60847000e+04, 1.35000000e+05, 1.35000000e+05, ...,\n        0.00000000e+00, 2.25372800e+06, 2.53940000e+05],\n       [7.23439996e+03, 0.00000000e+00, 0.00000000e+00, ...,\n        0.00000000e+00, 1.94403400e+06, 1.91629000e+05]])"
     },
     "execution_count": 280,
     "metadata": {},
     "output_type": "execute_result"
    }
   ],
   "source": [
    "predict_array_transformed"
   ],
   "metadata": {
    "collapsed": false,
    "pycharm": {
     "name": "#%%\n"
    }
   }
  },
  {
   "cell_type": "code",
   "execution_count": 281,
   "outputs": [],
   "source": [
    "# Converting our array to a Dataframe\n",
    "# Using Placeholder labels for the One-Hot variables, which are derived from Name_Yield_Group, the broad grouping of yields\n",
    "predict_df_transformed = pd.DataFrame(predict_array_transformed,\n",
    "                                      columns=num_cols_predict + ['OHE7','OHE8','OHE9','OHE10','OHE11','SK_ID_PREV', 'SK_ID_CURR'])"
   ],
   "metadata": {
    "collapsed": false,
    "pycharm": {
     "name": "#%%\n"
    }
   }
  },
  {
   "cell_type": "code",
   "execution_count": 282,
   "outputs": [
    {
     "data": {
      "text/plain": "         AMT_ANNUITY  AMT_APPLICATION  AMT_CREDIT  AMT_DOWN_PAYMENT  \\\n0        1730.430000          17145.0     17145.0          0.000000   \n1       68258.655000        1800000.0   1754721.0     180000.000000   \n2       12417.390000         108400.5    119848.5          0.000000   \n3       25188.615000         607500.0    679671.0     -26304.921258   \n4       21709.125000         450000.0    512370.0     -26369.013679   \n...              ...              ...         ...               ...   \n971097  13726.080000         137250.0    123525.0      13725.000000   \n971098   4716.495000          46800.0     46800.0          0.000000   \n971099  30439.305000         243000.0    289732.5     -25885.926125   \n971100  26084.700000         135000.0    135000.0          0.000000   \n971101   7234.399964              0.0         0.0        990.364118   \n\n        AMT_GOODS_PRICE  AMT_INCOME_TOTAL  Past_Due  OHE7  OHE8  OHE9  OHE10  \\\n0          1.714500e+04          135000.0       0.0   0.0   0.0   0.0    0.0   \n1          1.800000e+06          135000.0       0.0   0.0   0.0   0.0    1.0   \n2          1.084005e+05          135000.0       0.0   0.0   0.0   0.0    0.0   \n3          6.075000e+05          180000.0       0.0   0.0   0.0   1.0    0.0   \n4          4.500000e+05          180000.0       0.0   0.0   0.0   0.0    1.0   \n...                 ...               ...       ...   ...   ...   ...    ...   \n971097     1.372500e+05           90000.0       1.0   0.0   0.0   0.0    1.0   \n971098     4.680000e+04           74250.0       0.0   0.0   0.0   0.0    0.0   \n971099     2.430000e+05          135000.0       0.0   0.0   0.0   0.0    0.0   \n971100     1.350000e+05           76500.0       0.0   0.0   1.0   0.0    0.0   \n971101     7.073378e+01          427500.0       0.0   1.0   0.0   0.0    0.0   \n\n        OHE11  SK_ID_PREV  SK_ID_CURR  \n0         1.0   2030495.0    271877.0  \n1         0.0   1696966.0    271877.0  \n2         1.0   2154916.0    271877.0  \n3         0.0   2802425.0    108129.0  \n4         0.0   1536272.0    108129.0  \n...       ...         ...         ...  \n971097    0.0   1563733.0    227766.0  \n971098    1.0   2319569.0    239799.0  \n971099    1.0   2210917.0    174832.0  \n971100    0.0   2253728.0    253940.0  \n971101    0.0   1944034.0    191629.0  \n\n[971102 rows x 14 columns]",
      "text/html": "<div>\n<style scoped>\n    .dataframe tbody tr th:only-of-type {\n        vertical-align: middle;\n    }\n\n    .dataframe tbody tr th {\n        vertical-align: top;\n    }\n\n    .dataframe thead th {\n        text-align: right;\n    }\n</style>\n<table border=\"1\" class=\"dataframe\">\n  <thead>\n    <tr style=\"text-align: right;\">\n      <th></th>\n      <th>AMT_ANNUITY</th>\n      <th>AMT_APPLICATION</th>\n      <th>AMT_CREDIT</th>\n      <th>AMT_DOWN_PAYMENT</th>\n      <th>AMT_GOODS_PRICE</th>\n      <th>AMT_INCOME_TOTAL</th>\n      <th>Past_Due</th>\n      <th>OHE7</th>\n      <th>OHE8</th>\n      <th>OHE9</th>\n      <th>OHE10</th>\n      <th>OHE11</th>\n      <th>SK_ID_PREV</th>\n      <th>SK_ID_CURR</th>\n    </tr>\n  </thead>\n  <tbody>\n    <tr>\n      <th>0</th>\n      <td>1730.430000</td>\n      <td>17145.0</td>\n      <td>17145.0</td>\n      <td>0.000000</td>\n      <td>1.714500e+04</td>\n      <td>135000.0</td>\n      <td>0.0</td>\n      <td>0.0</td>\n      <td>0.0</td>\n      <td>0.0</td>\n      <td>0.0</td>\n      <td>1.0</td>\n      <td>2030495.0</td>\n      <td>271877.0</td>\n    </tr>\n    <tr>\n      <th>1</th>\n      <td>68258.655000</td>\n      <td>1800000.0</td>\n      <td>1754721.0</td>\n      <td>180000.000000</td>\n      <td>1.800000e+06</td>\n      <td>135000.0</td>\n      <td>0.0</td>\n      <td>0.0</td>\n      <td>0.0</td>\n      <td>0.0</td>\n      <td>1.0</td>\n      <td>0.0</td>\n      <td>1696966.0</td>\n      <td>271877.0</td>\n    </tr>\n    <tr>\n      <th>2</th>\n      <td>12417.390000</td>\n      <td>108400.5</td>\n      <td>119848.5</td>\n      <td>0.000000</td>\n      <td>1.084005e+05</td>\n      <td>135000.0</td>\n      <td>0.0</td>\n      <td>0.0</td>\n      <td>0.0</td>\n      <td>0.0</td>\n      <td>0.0</td>\n      <td>1.0</td>\n      <td>2154916.0</td>\n      <td>271877.0</td>\n    </tr>\n    <tr>\n      <th>3</th>\n      <td>25188.615000</td>\n      <td>607500.0</td>\n      <td>679671.0</td>\n      <td>-26304.921258</td>\n      <td>6.075000e+05</td>\n      <td>180000.0</td>\n      <td>0.0</td>\n      <td>0.0</td>\n      <td>0.0</td>\n      <td>1.0</td>\n      <td>0.0</td>\n      <td>0.0</td>\n      <td>2802425.0</td>\n      <td>108129.0</td>\n    </tr>\n    <tr>\n      <th>4</th>\n      <td>21709.125000</td>\n      <td>450000.0</td>\n      <td>512370.0</td>\n      <td>-26369.013679</td>\n      <td>4.500000e+05</td>\n      <td>180000.0</td>\n      <td>0.0</td>\n      <td>0.0</td>\n      <td>0.0</td>\n      <td>0.0</td>\n      <td>1.0</td>\n      <td>0.0</td>\n      <td>1536272.0</td>\n      <td>108129.0</td>\n    </tr>\n    <tr>\n      <th>...</th>\n      <td>...</td>\n      <td>...</td>\n      <td>...</td>\n      <td>...</td>\n      <td>...</td>\n      <td>...</td>\n      <td>...</td>\n      <td>...</td>\n      <td>...</td>\n      <td>...</td>\n      <td>...</td>\n      <td>...</td>\n      <td>...</td>\n      <td>...</td>\n    </tr>\n    <tr>\n      <th>971097</th>\n      <td>13726.080000</td>\n      <td>137250.0</td>\n      <td>123525.0</td>\n      <td>13725.000000</td>\n      <td>1.372500e+05</td>\n      <td>90000.0</td>\n      <td>1.0</td>\n      <td>0.0</td>\n      <td>0.0</td>\n      <td>0.0</td>\n      <td>1.0</td>\n      <td>0.0</td>\n      <td>1563733.0</td>\n      <td>227766.0</td>\n    </tr>\n    <tr>\n      <th>971098</th>\n      <td>4716.495000</td>\n      <td>46800.0</td>\n      <td>46800.0</td>\n      <td>0.000000</td>\n      <td>4.680000e+04</td>\n      <td>74250.0</td>\n      <td>0.0</td>\n      <td>0.0</td>\n      <td>0.0</td>\n      <td>0.0</td>\n      <td>0.0</td>\n      <td>1.0</td>\n      <td>2319569.0</td>\n      <td>239799.0</td>\n    </tr>\n    <tr>\n      <th>971099</th>\n      <td>30439.305000</td>\n      <td>243000.0</td>\n      <td>289732.5</td>\n      <td>-25885.926125</td>\n      <td>2.430000e+05</td>\n      <td>135000.0</td>\n      <td>0.0</td>\n      <td>0.0</td>\n      <td>0.0</td>\n      <td>0.0</td>\n      <td>0.0</td>\n      <td>1.0</td>\n      <td>2210917.0</td>\n      <td>174832.0</td>\n    </tr>\n    <tr>\n      <th>971100</th>\n      <td>26084.700000</td>\n      <td>135000.0</td>\n      <td>135000.0</td>\n      <td>0.000000</td>\n      <td>1.350000e+05</td>\n      <td>76500.0</td>\n      <td>0.0</td>\n      <td>0.0</td>\n      <td>1.0</td>\n      <td>0.0</td>\n      <td>0.0</td>\n      <td>0.0</td>\n      <td>2253728.0</td>\n      <td>253940.0</td>\n    </tr>\n    <tr>\n      <th>971101</th>\n      <td>7234.399964</td>\n      <td>0.0</td>\n      <td>0.0</td>\n      <td>990.364118</td>\n      <td>7.073378e+01</td>\n      <td>427500.0</td>\n      <td>0.0</td>\n      <td>1.0</td>\n      <td>0.0</td>\n      <td>0.0</td>\n      <td>0.0</td>\n      <td>0.0</td>\n      <td>1944034.0</td>\n      <td>191629.0</td>\n    </tr>\n  </tbody>\n</table>\n<p>971102 rows × 14 columns</p>\n</div>"
     },
     "execution_count": 282,
     "metadata": {},
     "output_type": "execute_result"
    }
   ],
   "source": [
    "# Check our data. It should be ready to go for our Naive Bayes algo now\n",
    "predict_df_transformed\n"
   ],
   "metadata": {
    "collapsed": false,
    "pycharm": {
     "name": "#%%\n"
    }
   }
  },
  {
   "cell_type": "code",
   "execution_count": 283,
   "outputs": [
    {
     "data": {
      "text/plain": "AMT_ANNUITY         0\nAMT_APPLICATION     0\nAMT_CREDIT          0\nAMT_DOWN_PAYMENT    0\nAMT_GOODS_PRICE     0\nAMT_INCOME_TOTAL    0\nPast_Due            0\nOHE7                0\nOHE8                0\nOHE9                0\nOHE10               0\nOHE11               0\nSK_ID_PREV          0\nSK_ID_CURR          0\ndtype: int64"
     },
     "execution_count": 283,
     "metadata": {},
     "output_type": "execute_result"
    }
   ],
   "source": [
    "# Check the DF for Nulls\n",
    "predict_df_transformed.isnull().sum()\n"
   ],
   "metadata": {
    "collapsed": false,
    "pycharm": {
     "name": "#%%\n"
    }
   }
  },
  {
   "cell_type": "markdown",
   "source": [
    "## 1.3 - Building our Naive Bayes Model\n",
    "\n",
    "We will now build the Naive Bayes model to predict if a loan payment will be Past Due based on our selected data from previous loan applications."
   ],
   "metadata": {
    "collapsed": false,
    "pycharm": {
     "name": "#%% md\n"
    }
   }
  },
  {
   "cell_type": "code",
   "execution_count": 284,
   "outputs": [],
   "source": [
    "gnb = GaussianNB()"
   ],
   "metadata": {
    "collapsed": false,
    "pycharm": {
     "name": "#%%\n"
    }
   }
  },
  {
   "cell_type": "code",
   "execution_count": 285,
   "outputs": [
    {
     "data": {
      "text/plain": "         AMT_ANNUITY  AMT_APPLICATION  AMT_CREDIT  AMT_DOWN_PAYMENT  \\\n0        1730.430000          17145.0     17145.0          0.000000   \n1       68258.655000        1800000.0   1754721.0     180000.000000   \n2       12417.390000         108400.5    119848.5          0.000000   \n3       25188.615000         607500.0    679671.0     -26304.921258   \n4       21709.125000         450000.0    512370.0     -26369.013679   \n...              ...              ...         ...               ...   \n971097  13726.080000         137250.0    123525.0      13725.000000   \n971098   4716.495000          46800.0     46800.0          0.000000   \n971099  30439.305000         243000.0    289732.5     -25885.926125   \n971100  26084.700000         135000.0    135000.0          0.000000   \n971101   7234.399964              0.0         0.0        990.364118   \n\n        AMT_GOODS_PRICE  AMT_INCOME_TOTAL  OHE7  OHE8  OHE9  OHE10  OHE11  \n0          1.714500e+04          135000.0   0.0   0.0   0.0    0.0    1.0  \n1          1.800000e+06          135000.0   0.0   0.0   0.0    1.0    0.0  \n2          1.084005e+05          135000.0   0.0   0.0   0.0    0.0    1.0  \n3          6.075000e+05          180000.0   0.0   0.0   1.0    0.0    0.0  \n4          4.500000e+05          180000.0   0.0   0.0   0.0    1.0    0.0  \n...                 ...               ...   ...   ...   ...    ...    ...  \n971097     1.372500e+05           90000.0   0.0   0.0   0.0    1.0    0.0  \n971098     4.680000e+04           74250.0   0.0   0.0   0.0    0.0    1.0  \n971099     2.430000e+05          135000.0   0.0   0.0   0.0    0.0    1.0  \n971100     1.350000e+05           76500.0   0.0   1.0   0.0    0.0    0.0  \n971101     7.073378e+01          427500.0   1.0   0.0   0.0    0.0    0.0  \n\n[971102 rows x 11 columns]",
      "text/html": "<div>\n<style scoped>\n    .dataframe tbody tr th:only-of-type {\n        vertical-align: middle;\n    }\n\n    .dataframe tbody tr th {\n        vertical-align: top;\n    }\n\n    .dataframe thead th {\n        text-align: right;\n    }\n</style>\n<table border=\"1\" class=\"dataframe\">\n  <thead>\n    <tr style=\"text-align: right;\">\n      <th></th>\n      <th>AMT_ANNUITY</th>\n      <th>AMT_APPLICATION</th>\n      <th>AMT_CREDIT</th>\n      <th>AMT_DOWN_PAYMENT</th>\n      <th>AMT_GOODS_PRICE</th>\n      <th>AMT_INCOME_TOTAL</th>\n      <th>OHE7</th>\n      <th>OHE8</th>\n      <th>OHE9</th>\n      <th>OHE10</th>\n      <th>OHE11</th>\n    </tr>\n  </thead>\n  <tbody>\n    <tr>\n      <th>0</th>\n      <td>1730.430000</td>\n      <td>17145.0</td>\n      <td>17145.0</td>\n      <td>0.000000</td>\n      <td>1.714500e+04</td>\n      <td>135000.0</td>\n      <td>0.0</td>\n      <td>0.0</td>\n      <td>0.0</td>\n      <td>0.0</td>\n      <td>1.0</td>\n    </tr>\n    <tr>\n      <th>1</th>\n      <td>68258.655000</td>\n      <td>1800000.0</td>\n      <td>1754721.0</td>\n      <td>180000.000000</td>\n      <td>1.800000e+06</td>\n      <td>135000.0</td>\n      <td>0.0</td>\n      <td>0.0</td>\n      <td>0.0</td>\n      <td>1.0</td>\n      <td>0.0</td>\n    </tr>\n    <tr>\n      <th>2</th>\n      <td>12417.390000</td>\n      <td>108400.5</td>\n      <td>119848.5</td>\n      <td>0.000000</td>\n      <td>1.084005e+05</td>\n      <td>135000.0</td>\n      <td>0.0</td>\n      <td>0.0</td>\n      <td>0.0</td>\n      <td>0.0</td>\n      <td>1.0</td>\n    </tr>\n    <tr>\n      <th>3</th>\n      <td>25188.615000</td>\n      <td>607500.0</td>\n      <td>679671.0</td>\n      <td>-26304.921258</td>\n      <td>6.075000e+05</td>\n      <td>180000.0</td>\n      <td>0.0</td>\n      <td>0.0</td>\n      <td>1.0</td>\n      <td>0.0</td>\n      <td>0.0</td>\n    </tr>\n    <tr>\n      <th>4</th>\n      <td>21709.125000</td>\n      <td>450000.0</td>\n      <td>512370.0</td>\n      <td>-26369.013679</td>\n      <td>4.500000e+05</td>\n      <td>180000.0</td>\n      <td>0.0</td>\n      <td>0.0</td>\n      <td>0.0</td>\n      <td>1.0</td>\n      <td>0.0</td>\n    </tr>\n    <tr>\n      <th>...</th>\n      <td>...</td>\n      <td>...</td>\n      <td>...</td>\n      <td>...</td>\n      <td>...</td>\n      <td>...</td>\n      <td>...</td>\n      <td>...</td>\n      <td>...</td>\n      <td>...</td>\n      <td>...</td>\n    </tr>\n    <tr>\n      <th>971097</th>\n      <td>13726.080000</td>\n      <td>137250.0</td>\n      <td>123525.0</td>\n      <td>13725.000000</td>\n      <td>1.372500e+05</td>\n      <td>90000.0</td>\n      <td>0.0</td>\n      <td>0.0</td>\n      <td>0.0</td>\n      <td>1.0</td>\n      <td>0.0</td>\n    </tr>\n    <tr>\n      <th>971098</th>\n      <td>4716.495000</td>\n      <td>46800.0</td>\n      <td>46800.0</td>\n      <td>0.000000</td>\n      <td>4.680000e+04</td>\n      <td>74250.0</td>\n      <td>0.0</td>\n      <td>0.0</td>\n      <td>0.0</td>\n      <td>0.0</td>\n      <td>1.0</td>\n    </tr>\n    <tr>\n      <th>971099</th>\n      <td>30439.305000</td>\n      <td>243000.0</td>\n      <td>289732.5</td>\n      <td>-25885.926125</td>\n      <td>2.430000e+05</td>\n      <td>135000.0</td>\n      <td>0.0</td>\n      <td>0.0</td>\n      <td>0.0</td>\n      <td>0.0</td>\n      <td>1.0</td>\n    </tr>\n    <tr>\n      <th>971100</th>\n      <td>26084.700000</td>\n      <td>135000.0</td>\n      <td>135000.0</td>\n      <td>0.000000</td>\n      <td>1.350000e+05</td>\n      <td>76500.0</td>\n      <td>0.0</td>\n      <td>1.0</td>\n      <td>0.0</td>\n      <td>0.0</td>\n      <td>0.0</td>\n    </tr>\n    <tr>\n      <th>971101</th>\n      <td>7234.399964</td>\n      <td>0.0</td>\n      <td>0.0</td>\n      <td>990.364118</td>\n      <td>7.073378e+01</td>\n      <td>427500.0</td>\n      <td>1.0</td>\n      <td>0.0</td>\n      <td>0.0</td>\n      <td>0.0</td>\n      <td>0.0</td>\n    </tr>\n  </tbody>\n</table>\n<p>971102 rows × 11 columns</p>\n</div>"
     },
     "execution_count": 285,
     "metadata": {},
     "output_type": "execute_result"
    }
   ],
   "source": [
    "# Split off X and Y\n",
    "X_predict = predict_df_transformed.drop(columns=['Past_Due', 'SK_ID_CURR', 'SK_ID_PREV'])\n",
    "X_predict\n"
   ],
   "metadata": {
    "collapsed": false,
    "pycharm": {
     "name": "#%%\n"
    }
   }
  },
  {
   "cell_type": "code",
   "execution_count": 286,
   "outputs": [
    {
     "data": {
      "text/plain": "66        1.0\n137       1.0\n236       1.0\n512       1.0\n726       1.0\n         ... \n970543    1.0\n970936    1.0\n970949    1.0\n970972    1.0\n971097    1.0\nName: Past_Due, Length: 10402, dtype: float64"
     },
     "execution_count": 286,
     "metadata": {},
     "output_type": "execute_result"
    }
   ],
   "source": [
    "# Create the Y Data, Past_Due\n",
    "Y_predict = predict_df_transformed['Past_Due']\n",
    "Y_predict[Y_predict == 1.0]"
   ],
   "metadata": {
    "collapsed": false,
    "pycharm": {
     "name": "#%%\n"
    }
   }
  },
  {
   "cell_type": "code",
   "execution_count": 287,
   "outputs": [
    {
     "data": {
      "text/plain": "GaussianNB()"
     },
     "execution_count": 287,
     "metadata": {},
     "output_type": "execute_result"
    }
   ],
   "source": [
    "gnb.fit(X_predict, Y_predict)"
   ],
   "metadata": {
    "collapsed": false,
    "pycharm": {
     "name": "#%%\n"
    }
   }
  },
  {
   "cell_type": "code",
   "execution_count": 288,
   "outputs": [
    {
     "data": {
      "text/plain": "0.9892153450409946"
     },
     "execution_count": 288,
     "metadata": {},
     "output_type": "execute_result"
    }
   ],
   "source": [
    "# Check the accuracy for our new model\n",
    "gnb.score(X_predict,Y_predict)\n"
   ],
   "metadata": {
    "collapsed": false,
    "pycharm": {
     "name": "#%%\n"
    }
   }
  },
  {
   "cell_type": "code",
   "execution_count": 289,
   "outputs": [
    {
     "data": {
      "text/plain": "array([0.9882482, 0.0117518])"
     },
     "execution_count": 289,
     "metadata": {},
     "output_type": "execute_result"
    }
   ],
   "source": [
    "# The accuracy looks good, at ~99%. Let's look at the Probabilities -- this is what we want to generate as a variable\n",
    "gnb.predict_proba(X_predict)[1110]"
   ],
   "metadata": {
    "collapsed": false,
    "pycharm": {
     "name": "#%%\n"
    }
   }
  },
  {
   "cell_type": "code",
   "execution_count": 290,
   "outputs": [
    {
     "data": {
      "text/plain": "0.9892884578550966"
     },
     "execution_count": 290,
     "metadata": {},
     "output_type": "execute_result"
    }
   ],
   "source": [
    "# Check for a baseline accuracy: Count of Past_Due vs Total Count.\n",
    "1- (Y_predict.sum() / Y_predict.count())\n"
   ],
   "metadata": {
    "collapsed": false,
    "pycharm": {
     "name": "#%%\n"
    }
   }
  },
  {
   "cell_type": "code",
   "execution_count": 291,
   "outputs": [
    {
     "data": {
      "text/plain": "array([[960626,     74],\n       [ 10399,      3]], dtype=int64)"
     },
     "execution_count": 291,
     "metadata": {},
     "output_type": "execute_result"
    }
   ],
   "source": [
    "# CHeck the COnfusion Matrix\n",
    "confusion_matrix(Y_predict, gnb.predict(X_predict))\n"
   ],
   "metadata": {
    "collapsed": false,
    "pycharm": {
     "name": "#%%\n"
    }
   }
  },
  {
   "cell_type": "markdown",
   "source": [
    "We can see that this Gaussian Naive Bayes is quite bad at actually making predictions, as it is just strongly predicting negatives in this imbalanced dataset. We should try something else.\n",
    "\n",
    "SKLearn has a ComplementNB Classifier which is supposed to be better for imbalanced datasets. Let's try it.\n",
    "\n",
    "CNB requires nonzero data, so the first step will be to apply a Min-Max Scaler to our dataframe, to scale the data between 0 and 1."
   ],
   "metadata": {
    "collapsed": false,
    "pycharm": {
     "name": "#%% md\n"
    }
   }
  },
  {
   "cell_type": "code",
   "execution_count": 292,
   "outputs": [],
   "source": [
    "# Create a scaler with the default range of 0 to 1\n",
    "min_max_scaler = MinMaxScaler()\n"
   ],
   "metadata": {
    "collapsed": false,
    "pycharm": {
     "name": "#%%\n"
    }
   }
  },
  {
   "cell_type": "code",
   "execution_count": 293,
   "outputs": [
    {
     "data": {
      "text/plain": "array([[0.00413921, 0.00384848, 0.00417727, ..., 0.        , 0.        ,\n        1.        ],\n       [0.16327551, 0.4040404 , 0.42752703, ..., 0.        , 1.        ,\n        0.        ],\n       [0.02970254, 0.02433232, 0.02920035, ..., 0.        , 0.        ,\n        1.        ],\n       ...,\n       [0.07281118, 0.05454545, 0.07059155, ..., 0.        , 0.        ,\n        1.        ],\n       [0.06239491, 0.03030303, 0.03289192, ..., 0.        , 0.        ,\n        0.        ],\n       [0.01730477, 0.        , 0.        , ..., 0.        , 0.        ,\n        0.        ]])"
     },
     "execution_count": 293,
     "metadata": {},
     "output_type": "execute_result"
    }
   ],
   "source": [
    "X_predict_scaled = min_max_scaler.fit_transform(X_predict)\n",
    "X_predict_scaled"
   ],
   "metadata": {
    "collapsed": false,
    "pycharm": {
     "name": "#%%\n"
    }
   }
  },
  {
   "cell_type": "code",
   "execution_count": 294,
   "outputs": [],
   "source": [
    "# Create the CNB model object\n",
    "cnb = ComplementNB()"
   ],
   "metadata": {
    "collapsed": false,
    "pycharm": {
     "name": "#%%\n"
    }
   }
  },
  {
   "cell_type": "code",
   "execution_count": 295,
   "outputs": [
    {
     "data": {
      "text/plain": "ComplementNB()"
     },
     "execution_count": 295,
     "metadata": {},
     "output_type": "execute_result"
    }
   ],
   "source": [
    "# Fit the model on our data\n",
    "cnb.fit(X_predict_scaled, Y_predict)"
   ],
   "metadata": {
    "collapsed": false,
    "pycharm": {
     "name": "#%%\n"
    }
   }
  },
  {
   "cell_type": "code",
   "execution_count": 296,
   "outputs": [
    {
     "data": {
      "text/plain": "array([[535328, 425372],\n       [  5675,   4727]], dtype=int64)"
     },
     "execution_count": 296,
     "metadata": {},
     "output_type": "execute_result"
    }
   ],
   "source": [
    "# Check the Confusion Matrix\n",
    "confusion_matrix(Y_predict, cnb.predict(X_predict_scaled))\n"
   ],
   "metadata": {
    "collapsed": false,
    "pycharm": {
     "name": "#%%\n"
    }
   }
  },
  {
   "cell_type": "code",
   "execution_count": 297,
   "outputs": [
    {
     "data": {
      "text/plain": "array([1., 0., 1., ..., 1., 1., 0.])"
     },
     "execution_count": 297,
     "metadata": {},
     "output_type": "execute_result"
    }
   ],
   "source": [
    "cnb.predict(X_predict_scaled)"
   ],
   "metadata": {
    "collapsed": false,
    "pycharm": {
     "name": "#%%\n"
    }
   }
  },
  {
   "cell_type": "code",
   "execution_count": 298,
   "outputs": [
    {
     "data": {
      "text/plain": "0.5561259270395901"
     },
     "execution_count": 298,
     "metadata": {},
     "output_type": "execute_result"
    }
   ],
   "source": [
    "cnb.score(X_predict_scaled, Y_predict)"
   ],
   "metadata": {
    "collapsed": false,
    "pycharm": {
     "name": "#%%\n"
    }
   }
  },
  {
   "cell_type": "code",
   "execution_count": 299,
   "outputs": [
    {
     "data": {
      "text/plain": "array([[0.49337278, 0.50662722],\n       [0.50902146, 0.49097854],\n       [0.49325395, 0.50674605],\n       ...,\n       [0.49305777, 0.50694223],\n       [0.49376243, 0.50623757],\n       [0.50251502, 0.49748498]])"
     },
     "execution_count": 299,
     "metadata": {},
     "output_type": "execute_result"
    }
   ],
   "source": [
    "cnb.predict_proba(X_predict_scaled)"
   ],
   "metadata": {
    "collapsed": false,
    "pycharm": {
     "name": "#%%\n"
    }
   }
  },
  {
   "cell_type": "markdown",
   "source": [
    "This seems like quite poor and indeterminate performance, but let's give it a try. Maybe these new probabilities will help in our XGBoost model.\n",
    "\n",
    "To do so, we must create a DF which we can Join onto the initial Application_DF, i.e. which has the SK_ID_CURR variable. We will need to average out the scores for repeated previous entries."
   ],
   "metadata": {
    "collapsed": false,
    "pycharm": {
     "name": "#%% md\n"
    }
   }
  },
  {
   "cell_type": "code",
   "execution_count": 300,
   "outputs": [
    {
     "data": {
      "text/plain": "        Probab_0  Probab_1  SK_ID_CURR\n0       0.493373  0.506627    271877.0\n1       0.509021  0.490979    271877.0\n2       0.493254  0.506746    271877.0\n3       0.505013  0.494987    108129.0\n4       0.509718  0.490282    108129.0\n...          ...       ...         ...\n971097  0.509877  0.490123    227766.0\n971098  0.493356  0.506644    239799.0\n971099  0.493058  0.506942    174832.0\n971100  0.493762  0.506238    253940.0\n971101  0.502515  0.497485    191629.0\n\n[971102 rows x 3 columns]",
      "text/html": "<div>\n<style scoped>\n    .dataframe tbody tr th:only-of-type {\n        vertical-align: middle;\n    }\n\n    .dataframe tbody tr th {\n        vertical-align: top;\n    }\n\n    .dataframe thead th {\n        text-align: right;\n    }\n</style>\n<table border=\"1\" class=\"dataframe\">\n  <thead>\n    <tr style=\"text-align: right;\">\n      <th></th>\n      <th>Probab_0</th>\n      <th>Probab_1</th>\n      <th>SK_ID_CURR</th>\n    </tr>\n  </thead>\n  <tbody>\n    <tr>\n      <th>0</th>\n      <td>0.493373</td>\n      <td>0.506627</td>\n      <td>271877.0</td>\n    </tr>\n    <tr>\n      <th>1</th>\n      <td>0.509021</td>\n      <td>0.490979</td>\n      <td>271877.0</td>\n    </tr>\n    <tr>\n      <th>2</th>\n      <td>0.493254</td>\n      <td>0.506746</td>\n      <td>271877.0</td>\n    </tr>\n    <tr>\n      <th>3</th>\n      <td>0.505013</td>\n      <td>0.494987</td>\n      <td>108129.0</td>\n    </tr>\n    <tr>\n      <th>4</th>\n      <td>0.509718</td>\n      <td>0.490282</td>\n      <td>108129.0</td>\n    </tr>\n    <tr>\n      <th>...</th>\n      <td>...</td>\n      <td>...</td>\n      <td>...</td>\n    </tr>\n    <tr>\n      <th>971097</th>\n      <td>0.509877</td>\n      <td>0.490123</td>\n      <td>227766.0</td>\n    </tr>\n    <tr>\n      <th>971098</th>\n      <td>0.493356</td>\n      <td>0.506644</td>\n      <td>239799.0</td>\n    </tr>\n    <tr>\n      <th>971099</th>\n      <td>0.493058</td>\n      <td>0.506942</td>\n      <td>174832.0</td>\n    </tr>\n    <tr>\n      <th>971100</th>\n      <td>0.493762</td>\n      <td>0.506238</td>\n      <td>253940.0</td>\n    </tr>\n    <tr>\n      <th>971101</th>\n      <td>0.502515</td>\n      <td>0.497485</td>\n      <td>191629.0</td>\n    </tr>\n  </tbody>\n</table>\n<p>971102 rows × 3 columns</p>\n</div>"
     },
     "execution_count": 300,
     "metadata": {},
     "output_type": "execute_result"
    }
   ],
   "source": [
    "cnb_prediction_df = pd.DataFrame(cnb.predict_proba(X_predict_scaled))\n",
    "cnb_prediction_df.columns = ['Probab_0', 'Probab_1']\n",
    "cnb_prediction_df = cnb_prediction_df.join(predict_df_transformed['SK_ID_CURR'])\n",
    "cnb_prediction_df"
   ],
   "metadata": {
    "collapsed": false,
    "pycharm": {
     "name": "#%%\n"
    }
   }
  },
  {
   "cell_type": "code",
   "execution_count": 301,
   "outputs": [],
   "source": [
    "cnb_groups = cnb_prediction_df.groupby('SK_ID_CURR')"
   ],
   "metadata": {
    "collapsed": false,
    "pycharm": {
     "name": "#%%\n"
    }
   }
  },
  {
   "cell_type": "code",
   "execution_count": 302,
   "outputs": [
    {
     "data": {
      "text/plain": "            Probab_0  Probab_1\nSK_ID_CURR                    \n100001.0    0.493698  0.506302\n100002.0    0.509905  0.490095\n100003.0    0.498321  0.501679\n100004.0    0.493343  0.506657\n100005.0    0.498263  0.501737\n...              ...       ...\n307506.0    0.497939  0.502061\n307507.0    0.496880  0.503120\n307508.0    0.493955  0.506045\n307509.0    0.495979  0.504021\n307510.0    0.493673  0.506327\n\n[197263 rows x 2 columns]",
      "text/html": "<div>\n<style scoped>\n    .dataframe tbody tr th:only-of-type {\n        vertical-align: middle;\n    }\n\n    .dataframe tbody tr th {\n        vertical-align: top;\n    }\n\n    .dataframe thead th {\n        text-align: right;\n    }\n</style>\n<table border=\"1\" class=\"dataframe\">\n  <thead>\n    <tr style=\"text-align: right;\">\n      <th></th>\n      <th>Probab_0</th>\n      <th>Probab_1</th>\n    </tr>\n    <tr>\n      <th>SK_ID_CURR</th>\n      <th></th>\n      <th></th>\n    </tr>\n  </thead>\n  <tbody>\n    <tr>\n      <th>100001.0</th>\n      <td>0.493698</td>\n      <td>0.506302</td>\n    </tr>\n    <tr>\n      <th>100002.0</th>\n      <td>0.509905</td>\n      <td>0.490095</td>\n    </tr>\n    <tr>\n      <th>100003.0</th>\n      <td>0.498321</td>\n      <td>0.501679</td>\n    </tr>\n    <tr>\n      <th>100004.0</th>\n      <td>0.493343</td>\n      <td>0.506657</td>\n    </tr>\n    <tr>\n      <th>100005.0</th>\n      <td>0.498263</td>\n      <td>0.501737</td>\n    </tr>\n    <tr>\n      <th>...</th>\n      <td>...</td>\n      <td>...</td>\n    </tr>\n    <tr>\n      <th>307506.0</th>\n      <td>0.497939</td>\n      <td>0.502061</td>\n    </tr>\n    <tr>\n      <th>307507.0</th>\n      <td>0.496880</td>\n      <td>0.503120</td>\n    </tr>\n    <tr>\n      <th>307508.0</th>\n      <td>0.493955</td>\n      <td>0.506045</td>\n    </tr>\n    <tr>\n      <th>307509.0</th>\n      <td>0.495979</td>\n      <td>0.504021</td>\n    </tr>\n    <tr>\n      <th>307510.0</th>\n      <td>0.493673</td>\n      <td>0.506327</td>\n    </tr>\n  </tbody>\n</table>\n<p>197263 rows × 2 columns</p>\n</div>"
     },
     "execution_count": 302,
     "metadata": {},
     "output_type": "execute_result"
    }
   ],
   "source": [
    "cnb_groups.mean()"
   ],
   "metadata": {
    "collapsed": false,
    "pycharm": {
     "name": "#%%\n"
    }
   }
  },
  {
   "cell_type": "code",
   "execution_count": 303,
   "outputs": [
    {
     "data": {
      "text/plain": "0         100002\n1         100003\n2         100004\n3         100006\n4         100007\n           ...  \n307506    456251\n307507    456252\n307508    456253\n307509    456254\n307510    456255\nName: SK_ID_CURR, Length: 307511, dtype: int64"
     },
     "execution_count": 303,
     "metadata": {},
     "output_type": "execute_result"
    }
   ],
   "source": [
    "application_df['SK_ID_CURR']"
   ],
   "metadata": {
    "collapsed": false,
    "pycharm": {
     "name": "#%%\n"
    }
   }
  },
  {
   "cell_type": "code",
   "execution_count": 304,
   "outputs": [],
   "source": [
    "model_df = application_df.join(cnb_groups.mean(), on='SK_ID_CURR', how='left')"
   ],
   "metadata": {
    "collapsed": false,
    "pycharm": {
     "name": "#%%\n"
    }
   }
  },
  {
   "cell_type": "code",
   "execution_count": 305,
   "outputs": [
    {
     "data": {
      "text/plain": "        SK_ID_CURR  TARGET NAME_CONTRACT_TYPE CODE_GENDER FLAG_OWN_CAR  \\\n0           100002       1         Cash loans           M            N   \n1           100003       0         Cash loans           F            N   \n2           100004       0    Revolving loans           M            Y   \n3           100006       0         Cash loans           F            N   \n4           100007       0         Cash loans           M            N   \n...            ...     ...                ...         ...          ...   \n307506      456251       0         Cash loans           M            N   \n307507      456252       0         Cash loans           F            N   \n307508      456253       0         Cash loans           F            N   \n307509      456254       1         Cash loans           F            N   \n307510      456255       0         Cash loans           F            N   \n\n       FLAG_OWN_REALTY  CNT_CHILDREN  AMT_INCOME_TOTAL  AMT_CREDIT  \\\n0                    Y             0          202500.0    406597.5   \n1                    N             0          270000.0   1293502.5   \n2                    Y             0           67500.0    135000.0   \n3                    Y             0          135000.0    312682.5   \n4                    Y             0          121500.0    513000.0   \n...                ...           ...               ...         ...   \n307506               N             0          157500.0    254700.0   \n307507               Y             0           72000.0    269550.0   \n307508               Y             0          153000.0    677664.0   \n307509               Y             0          171000.0    370107.0   \n307510               N             0          157500.0    675000.0   \n\n        AMT_ANNUITY  ...  FLAG_DOCUMENT_20 FLAG_DOCUMENT_21  \\\n0           24700.5  ...                 0                0   \n1           35698.5  ...                 0                0   \n2            6750.0  ...                 0                0   \n3           29686.5  ...                 0                0   \n4           21865.5  ...                 0                0   \n...             ...  ...               ...              ...   \n307506      27558.0  ...                 0                0   \n307507      12001.5  ...                 0                0   \n307508      29979.0  ...                 0                0   \n307509      20205.0  ...                 0                0   \n307510      49117.5  ...                 0                0   \n\n       AMT_REQ_CREDIT_BUREAU_HOUR AMT_REQ_CREDIT_BUREAU_DAY  \\\n0                             0.0                       0.0   \n1                             0.0                       0.0   \n2                             0.0                       0.0   \n3                             NaN                       NaN   \n4                             0.0                       0.0   \n...                           ...                       ...   \n307506                        NaN                       NaN   \n307507                        NaN                       NaN   \n307508                        1.0                       0.0   \n307509                        0.0                       0.0   \n307510                        0.0                       0.0   \n\n       AMT_REQ_CREDIT_BUREAU_WEEK  AMT_REQ_CREDIT_BUREAU_MON  \\\n0                             0.0                        0.0   \n1                             0.0                        0.0   \n2                             0.0                        0.0   \n3                             NaN                        NaN   \n4                             0.0                        0.0   \n...                           ...                        ...   \n307506                        NaN                        NaN   \n307507                        NaN                        NaN   \n307508                        0.0                        1.0   \n307509                        0.0                        0.0   \n307510                        0.0                        2.0   \n\n        AMT_REQ_CREDIT_BUREAU_QRT  AMT_REQ_CREDIT_BUREAU_YEAR  Probab_0  \\\n0                             0.0                         1.0  0.509905   \n1                             0.0                         0.0  0.498321   \n2                             0.0                         0.0  0.493343   \n3                             NaN                         NaN  0.501116   \n4                             0.0                         0.0  0.493569   \n...                           ...                         ...       ...   \n307506                        NaN                         NaN       NaN   \n307507                        NaN                         NaN       NaN   \n307508                        0.0                         1.0       NaN   \n307509                        0.0                         0.0       NaN   \n307510                        0.0                         1.0       NaN   \n\n        Probab_1  \n0       0.490095  \n1       0.501679  \n2       0.506657  \n3       0.498884  \n4       0.506431  \n...          ...  \n307506       NaN  \n307507       NaN  \n307508       NaN  \n307509       NaN  \n307510       NaN  \n\n[307511 rows x 76 columns]",
      "text/html": "<div>\n<style scoped>\n    .dataframe tbody tr th:only-of-type {\n        vertical-align: middle;\n    }\n\n    .dataframe tbody tr th {\n        vertical-align: top;\n    }\n\n    .dataframe thead th {\n        text-align: right;\n    }\n</style>\n<table border=\"1\" class=\"dataframe\">\n  <thead>\n    <tr style=\"text-align: right;\">\n      <th></th>\n      <th>SK_ID_CURR</th>\n      <th>TARGET</th>\n      <th>NAME_CONTRACT_TYPE</th>\n      <th>CODE_GENDER</th>\n      <th>FLAG_OWN_CAR</th>\n      <th>FLAG_OWN_REALTY</th>\n      <th>CNT_CHILDREN</th>\n      <th>AMT_INCOME_TOTAL</th>\n      <th>AMT_CREDIT</th>\n      <th>AMT_ANNUITY</th>\n      <th>...</th>\n      <th>FLAG_DOCUMENT_20</th>\n      <th>FLAG_DOCUMENT_21</th>\n      <th>AMT_REQ_CREDIT_BUREAU_HOUR</th>\n      <th>AMT_REQ_CREDIT_BUREAU_DAY</th>\n      <th>AMT_REQ_CREDIT_BUREAU_WEEK</th>\n      <th>AMT_REQ_CREDIT_BUREAU_MON</th>\n      <th>AMT_REQ_CREDIT_BUREAU_QRT</th>\n      <th>AMT_REQ_CREDIT_BUREAU_YEAR</th>\n      <th>Probab_0</th>\n      <th>Probab_1</th>\n    </tr>\n  </thead>\n  <tbody>\n    <tr>\n      <th>0</th>\n      <td>100002</td>\n      <td>1</td>\n      <td>Cash loans</td>\n      <td>M</td>\n      <td>N</td>\n      <td>Y</td>\n      <td>0</td>\n      <td>202500.0</td>\n      <td>406597.5</td>\n      <td>24700.5</td>\n      <td>...</td>\n      <td>0</td>\n      <td>0</td>\n      <td>0.0</td>\n      <td>0.0</td>\n      <td>0.0</td>\n      <td>0.0</td>\n      <td>0.0</td>\n      <td>1.0</td>\n      <td>0.509905</td>\n      <td>0.490095</td>\n    </tr>\n    <tr>\n      <th>1</th>\n      <td>100003</td>\n      <td>0</td>\n      <td>Cash loans</td>\n      <td>F</td>\n      <td>N</td>\n      <td>N</td>\n      <td>0</td>\n      <td>270000.0</td>\n      <td>1293502.5</td>\n      <td>35698.5</td>\n      <td>...</td>\n      <td>0</td>\n      <td>0</td>\n      <td>0.0</td>\n      <td>0.0</td>\n      <td>0.0</td>\n      <td>0.0</td>\n      <td>0.0</td>\n      <td>0.0</td>\n      <td>0.498321</td>\n      <td>0.501679</td>\n    </tr>\n    <tr>\n      <th>2</th>\n      <td>100004</td>\n      <td>0</td>\n      <td>Revolving loans</td>\n      <td>M</td>\n      <td>Y</td>\n      <td>Y</td>\n      <td>0</td>\n      <td>67500.0</td>\n      <td>135000.0</td>\n      <td>6750.0</td>\n      <td>...</td>\n      <td>0</td>\n      <td>0</td>\n      <td>0.0</td>\n      <td>0.0</td>\n      <td>0.0</td>\n      <td>0.0</td>\n      <td>0.0</td>\n      <td>0.0</td>\n      <td>0.493343</td>\n      <td>0.506657</td>\n    </tr>\n    <tr>\n      <th>3</th>\n      <td>100006</td>\n      <td>0</td>\n      <td>Cash loans</td>\n      <td>F</td>\n      <td>N</td>\n      <td>Y</td>\n      <td>0</td>\n      <td>135000.0</td>\n      <td>312682.5</td>\n      <td>29686.5</td>\n      <td>...</td>\n      <td>0</td>\n      <td>0</td>\n      <td>NaN</td>\n      <td>NaN</td>\n      <td>NaN</td>\n      <td>NaN</td>\n      <td>NaN</td>\n      <td>NaN</td>\n      <td>0.501116</td>\n      <td>0.498884</td>\n    </tr>\n    <tr>\n      <th>4</th>\n      <td>100007</td>\n      <td>0</td>\n      <td>Cash loans</td>\n      <td>M</td>\n      <td>N</td>\n      <td>Y</td>\n      <td>0</td>\n      <td>121500.0</td>\n      <td>513000.0</td>\n      <td>21865.5</td>\n      <td>...</td>\n      <td>0</td>\n      <td>0</td>\n      <td>0.0</td>\n      <td>0.0</td>\n      <td>0.0</td>\n      <td>0.0</td>\n      <td>0.0</td>\n      <td>0.0</td>\n      <td>0.493569</td>\n      <td>0.506431</td>\n    </tr>\n    <tr>\n      <th>...</th>\n      <td>...</td>\n      <td>...</td>\n      <td>...</td>\n      <td>...</td>\n      <td>...</td>\n      <td>...</td>\n      <td>...</td>\n      <td>...</td>\n      <td>...</td>\n      <td>...</td>\n      <td>...</td>\n      <td>...</td>\n      <td>...</td>\n      <td>...</td>\n      <td>...</td>\n      <td>...</td>\n      <td>...</td>\n      <td>...</td>\n      <td>...</td>\n      <td>...</td>\n      <td>...</td>\n    </tr>\n    <tr>\n      <th>307506</th>\n      <td>456251</td>\n      <td>0</td>\n      <td>Cash loans</td>\n      <td>M</td>\n      <td>N</td>\n      <td>N</td>\n      <td>0</td>\n      <td>157500.0</td>\n      <td>254700.0</td>\n      <td>27558.0</td>\n      <td>...</td>\n      <td>0</td>\n      <td>0</td>\n      <td>NaN</td>\n      <td>NaN</td>\n      <td>NaN</td>\n      <td>NaN</td>\n      <td>NaN</td>\n      <td>NaN</td>\n      <td>NaN</td>\n      <td>NaN</td>\n    </tr>\n    <tr>\n      <th>307507</th>\n      <td>456252</td>\n      <td>0</td>\n      <td>Cash loans</td>\n      <td>F</td>\n      <td>N</td>\n      <td>Y</td>\n      <td>0</td>\n      <td>72000.0</td>\n      <td>269550.0</td>\n      <td>12001.5</td>\n      <td>...</td>\n      <td>0</td>\n      <td>0</td>\n      <td>NaN</td>\n      <td>NaN</td>\n      <td>NaN</td>\n      <td>NaN</td>\n      <td>NaN</td>\n      <td>NaN</td>\n      <td>NaN</td>\n      <td>NaN</td>\n    </tr>\n    <tr>\n      <th>307508</th>\n      <td>456253</td>\n      <td>0</td>\n      <td>Cash loans</td>\n      <td>F</td>\n      <td>N</td>\n      <td>Y</td>\n      <td>0</td>\n      <td>153000.0</td>\n      <td>677664.0</td>\n      <td>29979.0</td>\n      <td>...</td>\n      <td>0</td>\n      <td>0</td>\n      <td>1.0</td>\n      <td>0.0</td>\n      <td>0.0</td>\n      <td>1.0</td>\n      <td>0.0</td>\n      <td>1.0</td>\n      <td>NaN</td>\n      <td>NaN</td>\n    </tr>\n    <tr>\n      <th>307509</th>\n      <td>456254</td>\n      <td>1</td>\n      <td>Cash loans</td>\n      <td>F</td>\n      <td>N</td>\n      <td>Y</td>\n      <td>0</td>\n      <td>171000.0</td>\n      <td>370107.0</td>\n      <td>20205.0</td>\n      <td>...</td>\n      <td>0</td>\n      <td>0</td>\n      <td>0.0</td>\n      <td>0.0</td>\n      <td>0.0</td>\n      <td>0.0</td>\n      <td>0.0</td>\n      <td>0.0</td>\n      <td>NaN</td>\n      <td>NaN</td>\n    </tr>\n    <tr>\n      <th>307510</th>\n      <td>456255</td>\n      <td>0</td>\n      <td>Cash loans</td>\n      <td>F</td>\n      <td>N</td>\n      <td>N</td>\n      <td>0</td>\n      <td>157500.0</td>\n      <td>675000.0</td>\n      <td>49117.5</td>\n      <td>...</td>\n      <td>0</td>\n      <td>0</td>\n      <td>0.0</td>\n      <td>0.0</td>\n      <td>0.0</td>\n      <td>2.0</td>\n      <td>0.0</td>\n      <td>1.0</td>\n      <td>NaN</td>\n      <td>NaN</td>\n    </tr>\n  </tbody>\n</table>\n<p>307511 rows × 76 columns</p>\n</div>"
     },
     "execution_count": 305,
     "metadata": {},
     "output_type": "execute_result"
    }
   ],
   "source": [
    "model_df"
   ],
   "metadata": {
    "collapsed": false,
    "pycharm": {
     "name": "#%%\n"
    }
   }
  },
  {
   "cell_type": "code",
   "execution_count": 306,
   "outputs": [
    {
     "data": {
      "text/plain": "SK_ID_CURR                         0\nTARGET                             0\nNAME_CONTRACT_TYPE                 0\nCODE_GENDER                        0\nFLAG_OWN_CAR                       0\n                               ...  \nAMT_REQ_CREDIT_BUREAU_MON      41519\nAMT_REQ_CREDIT_BUREAU_QRT      41519\nAMT_REQ_CREDIT_BUREAU_YEAR     41519\nProbab_0                      138149\nProbab_1                      138149\nLength: 76, dtype: int64"
     },
     "execution_count": 306,
     "metadata": {},
     "output_type": "execute_result"
    }
   ],
   "source": [
    "# Check for Nulls:\n",
    "model_df.isnull().sum()"
   ],
   "metadata": {
    "collapsed": false,
    "pycharm": {
     "name": "#%%\n"
    }
   }
  },
  {
   "cell_type": "code",
   "execution_count": 307,
   "outputs": [],
   "source": [
    "# Drop rows with nulls in our predictive variable, as they are too unreliable\n",
    "# Recall that we also dropped nulls in the AMT_REQ_CREDIT_BUREAU columns - we will repeat that here\n",
    "#model_df.dropna(axis=0, subset=['Probab_0', 'Probab_1', 'AMT_REQ_CREDIT_BUREAU_DAY'], inplace=True)\n",
    "\n",
    "\n",
    "model_df.dropna(axis=0, subset=['AMT_REQ_CREDIT_BUREAU_DAY'], inplace=True)"
   ],
   "metadata": {
    "collapsed": false,
    "pycharm": {
     "name": "#%%\n"
    }
   }
  },
  {
   "cell_type": "markdown",
   "source": [
    "## 3.1 - Splitting and Pre-Processing before XGBoost\n",
    "\n",
    "We are now ready to rebuild the previous XGBoost model, with these two new 'Bayesian Prediction' variables.\n",
    "\n",
    "First we will need to pre-process the Application data. Recall that we need to fill OWN_CAR_AGE and replace the outlier in DAYS_EMPLOYED. Then do some One Hot Encoding, and finally apply our Iterative Imputer to fill in any remaining blanks."
   ],
   "metadata": {
    "collapsed": false,
    "pycharm": {
     "name": "#%% md\n"
    }
   }
  },
  {
   "cell_type": "code",
   "execution_count": 308,
   "outputs": [],
   "source": [
    "# Split off the X and Y variables, starting with X\n",
    "\n",
    "X_final = model_df.drop(columns=['SK_ID_CURR', 'TARGET'])\n",
    "Y_final = model_df['TARGET']"
   ],
   "metadata": {
    "collapsed": false,
    "pycharm": {
     "name": "#%%\n"
    }
   }
  },
  {
   "cell_type": "code",
   "execution_count": 309,
   "outputs": [],
   "source": [
    "# Create testing split of 20% size\n",
    "\n",
    "X_train, X_test, Y_train, Y_test = train_test_split(X_final, Y_final, test_size=0.2, random_state=123)"
   ],
   "metadata": {
    "collapsed": false,
    "pycharm": {
     "name": "#%%\n"
    }
   }
  },
  {
   "cell_type": "code",
   "execution_count": 310,
   "outputs": [
    {
     "name": "stderr",
     "output_type": "stream",
     "text": [
      "C:\\Users\\bcarr\\anaconda3\\lib\\site-packages\\pandas\\core\\series.py:4517: SettingWithCopyWarning: \n",
      "A value is trying to be set on a copy of a slice from a DataFrame\n",
      "\n",
      "See the caveats in the documentation: https://pandas.pydata.org/pandas-docs/stable/user_guide/indexing.html#returning-a-view-versus-a-copy\n",
      "  return super().fillna(\n"
     ]
    }
   ],
   "source": [
    "# Filling in OWN_CAR_AGE\n",
    "X_train['OWN_CAR_AGE'].fillna(value=(-2 * X_train.std()['OWN_CAR_AGE']), inplace=True)\n",
    "\n",
    "# repeat on Test, with the Training data's values to not leak info\n",
    "X_test['OWN_CAR_AGE'].fillna(value=(-2 * X_train.std()['OWN_CAR_AGE']), inplace=True)"
   ],
   "metadata": {
    "collapsed": false,
    "pycharm": {
     "name": "#%%\n"
    }
   }
  },
  {
   "cell_type": "code",
   "execution_count": 311,
   "outputs": [
    {
     "name": "stderr",
     "output_type": "stream",
     "text": [
      "C:\\Users\\bcarr\\anaconda3\\lib\\site-packages\\pandas\\core\\generic.py:9004: SettingWithCopyWarning: \n",
      "A value is trying to be set on a copy of a slice from a DataFrame\n",
      "\n",
      "See the caveats in the documentation: https://pandas.pydata.org/pandas-docs/stable/user_guide/indexing.html#returning-a-view-versus-a-copy\n",
      "  return self._where(\n",
      "C:\\Users\\bcarr\\anaconda3\\lib\\site-packages\\pandas\\core\\generic.py:9004: SettingWithCopyWarning: \n",
      "A value is trying to be set on a copy of a slice from a DataFrame\n",
      "\n",
      "See the caveats in the documentation: https://pandas.pydata.org/pandas-docs/stable/user_guide/indexing.html#returning-a-view-versus-a-copy\n",
      "  return self._where(\n"
     ]
    }
   ],
   "source": [
    "# Replacing the Outliers in DAYS_EMPLOYED\n",
    "# We used 5000, or approx 2* Std_Dev.\n",
    "\n",
    "X_train['DAYS_EMPLOYED'].mask(X_train['DAYS_EMPLOYED'] > 1, 5000.0, inplace=True)\n",
    "\n",
    "#Repeat the transformation for the Test Set\n",
    "X_test['DAYS_EMPLOYED'].mask(X_test['DAYS_EMPLOYED'] > 1, 5000.0, inplace=True)"
   ],
   "metadata": {
    "collapsed": false,
    "pycharm": {
     "name": "#%%\n"
    }
   }
  },
  {
   "cell_type": "code",
   "execution_count": 312,
   "outputs": [
    {
     "data": {
      "text/plain": "       NAME_CONTRACT_TYPE CODE_GENDER FLAG_OWN_CAR FLAG_OWN_REALTY  \\\n53753          Cash loans           M            N               Y   \n12882          Cash loans           F            Y               Y   \n248472         Cash loans           M            N               Y   \n270818         Cash loans           M            N               N   \n101771    Revolving loans           M            N               Y   \n\n        CNT_CHILDREN  AMT_INCOME_TOTAL  AMT_CREDIT  AMT_ANNUITY  \\\n53753              0          180000.0    730017.0      35248.5   \n12882              0           98100.0    284400.0      16456.5   \n248472             0          225000.0    835380.0      42840.0   \n270818             0          225000.0    755190.0      32125.5   \n101771             1          189000.0    270000.0      13500.0   \n\n        AMT_GOODS_PRICE      NAME_INCOME_TYPE  ... FLAG_DOCUMENT_20  \\\n53753          652500.0               Working  ...                0   \n12882          225000.0             Pensioner  ...                0   \n248472         675000.0               Working  ...                0   \n270818         675000.0               Working  ...                0   \n101771         270000.0  Commercial associate  ...                0   \n\n       FLAG_DOCUMENT_21 AMT_REQ_CREDIT_BUREAU_HOUR  AMT_REQ_CREDIT_BUREAU_DAY  \\\n53753                 0                        0.0                        0.0   \n12882                 0                        0.0                        0.0   \n248472                0                        0.0                        0.0   \n270818                0                        0.0                        0.0   \n101771                0                        0.0                        0.0   \n\n        AMT_REQ_CREDIT_BUREAU_WEEK  AMT_REQ_CREDIT_BUREAU_MON  \\\n53753                          0.0                        0.0   \n12882                          0.0                        0.0   \n248472                         0.0                        1.0   \n270818                         0.0                        0.0   \n101771                         0.0                        0.0   \n\n        AMT_REQ_CREDIT_BUREAU_QRT  AMT_REQ_CREDIT_BUREAU_YEAR  Probab_0  \\\n53753                         0.0                         3.0  0.497426   \n12882                         0.0                         2.0  0.497941   \n248472                        0.0                         5.0       NaN   \n270818                        0.0                         0.0       NaN   \n101771                        0.0                         2.0  0.502151   \n\n        Probab_1  \n53753   0.502574  \n12882   0.502059  \n248472       NaN  \n270818       NaN  \n101771  0.497849  \n\n[5 rows x 74 columns]",
      "text/html": "<div>\n<style scoped>\n    .dataframe tbody tr th:only-of-type {\n        vertical-align: middle;\n    }\n\n    .dataframe tbody tr th {\n        vertical-align: top;\n    }\n\n    .dataframe thead th {\n        text-align: right;\n    }\n</style>\n<table border=\"1\" class=\"dataframe\">\n  <thead>\n    <tr style=\"text-align: right;\">\n      <th></th>\n      <th>NAME_CONTRACT_TYPE</th>\n      <th>CODE_GENDER</th>\n      <th>FLAG_OWN_CAR</th>\n      <th>FLAG_OWN_REALTY</th>\n      <th>CNT_CHILDREN</th>\n      <th>AMT_INCOME_TOTAL</th>\n      <th>AMT_CREDIT</th>\n      <th>AMT_ANNUITY</th>\n      <th>AMT_GOODS_PRICE</th>\n      <th>NAME_INCOME_TYPE</th>\n      <th>...</th>\n      <th>FLAG_DOCUMENT_20</th>\n      <th>FLAG_DOCUMENT_21</th>\n      <th>AMT_REQ_CREDIT_BUREAU_HOUR</th>\n      <th>AMT_REQ_CREDIT_BUREAU_DAY</th>\n      <th>AMT_REQ_CREDIT_BUREAU_WEEK</th>\n      <th>AMT_REQ_CREDIT_BUREAU_MON</th>\n      <th>AMT_REQ_CREDIT_BUREAU_QRT</th>\n      <th>AMT_REQ_CREDIT_BUREAU_YEAR</th>\n      <th>Probab_0</th>\n      <th>Probab_1</th>\n    </tr>\n  </thead>\n  <tbody>\n    <tr>\n      <th>53753</th>\n      <td>Cash loans</td>\n      <td>M</td>\n      <td>N</td>\n      <td>Y</td>\n      <td>0</td>\n      <td>180000.0</td>\n      <td>730017.0</td>\n      <td>35248.5</td>\n      <td>652500.0</td>\n      <td>Working</td>\n      <td>...</td>\n      <td>0</td>\n      <td>0</td>\n      <td>0.0</td>\n      <td>0.0</td>\n      <td>0.0</td>\n      <td>0.0</td>\n      <td>0.0</td>\n      <td>3.0</td>\n      <td>0.497426</td>\n      <td>0.502574</td>\n    </tr>\n    <tr>\n      <th>12882</th>\n      <td>Cash loans</td>\n      <td>F</td>\n      <td>Y</td>\n      <td>Y</td>\n      <td>0</td>\n      <td>98100.0</td>\n      <td>284400.0</td>\n      <td>16456.5</td>\n      <td>225000.0</td>\n      <td>Pensioner</td>\n      <td>...</td>\n      <td>0</td>\n      <td>0</td>\n      <td>0.0</td>\n      <td>0.0</td>\n      <td>0.0</td>\n      <td>0.0</td>\n      <td>0.0</td>\n      <td>2.0</td>\n      <td>0.497941</td>\n      <td>0.502059</td>\n    </tr>\n    <tr>\n      <th>248472</th>\n      <td>Cash loans</td>\n      <td>M</td>\n      <td>N</td>\n      <td>Y</td>\n      <td>0</td>\n      <td>225000.0</td>\n      <td>835380.0</td>\n      <td>42840.0</td>\n      <td>675000.0</td>\n      <td>Working</td>\n      <td>...</td>\n      <td>0</td>\n      <td>0</td>\n      <td>0.0</td>\n      <td>0.0</td>\n      <td>0.0</td>\n      <td>1.0</td>\n      <td>0.0</td>\n      <td>5.0</td>\n      <td>NaN</td>\n      <td>NaN</td>\n    </tr>\n    <tr>\n      <th>270818</th>\n      <td>Cash loans</td>\n      <td>M</td>\n      <td>N</td>\n      <td>N</td>\n      <td>0</td>\n      <td>225000.0</td>\n      <td>755190.0</td>\n      <td>32125.5</td>\n      <td>675000.0</td>\n      <td>Working</td>\n      <td>...</td>\n      <td>0</td>\n      <td>0</td>\n      <td>0.0</td>\n      <td>0.0</td>\n      <td>0.0</td>\n      <td>0.0</td>\n      <td>0.0</td>\n      <td>0.0</td>\n      <td>NaN</td>\n      <td>NaN</td>\n    </tr>\n    <tr>\n      <th>101771</th>\n      <td>Revolving loans</td>\n      <td>M</td>\n      <td>N</td>\n      <td>Y</td>\n      <td>1</td>\n      <td>189000.0</td>\n      <td>270000.0</td>\n      <td>13500.0</td>\n      <td>270000.0</td>\n      <td>Commercial associate</td>\n      <td>...</td>\n      <td>0</td>\n      <td>0</td>\n      <td>0.0</td>\n      <td>0.0</td>\n      <td>0.0</td>\n      <td>0.0</td>\n      <td>0.0</td>\n      <td>2.0</td>\n      <td>0.502151</td>\n      <td>0.497849</td>\n    </tr>\n  </tbody>\n</table>\n<p>5 rows × 74 columns</p>\n</div>"
     },
     "execution_count": 312,
     "metadata": {},
     "output_type": "execute_result"
    }
   ],
   "source": [
    "# Review column names in the data\n",
    "X_train.head()"
   ],
   "metadata": {
    "collapsed": false,
    "pycharm": {
     "name": "#%%\n"
    }
   }
  },
  {
   "cell_type": "code",
   "execution_count": 313,
   "outputs": [],
   "source": [
    "#Define columns for transformer\n",
    "#Remember that the Document fields are already binary and full, so no more pre-processing is needed\n",
    "# We will pass through our Probability data variables, and not run the Iterative imputer on it, as it is new to the model. I am lacking some confidence in it at this point\n",
    "binary_cols = ['NAME_CONTRACT_TYPE', 'CODE_GENDER', 'FLAG_OWN_CAR', 'FLAG_OWN_REALTY']\n",
    "categ_cols = ['NAME_INCOME_TYPE', 'NAME_EDUCATION_TYPE', 'NAME_FAMILY_STATUS', 'NAME_HOUSING_TYPE', 'OCCUPATION_TYPE',\n",
    "              'WEEKDAY_APPR_PROCESS_START', 'ORGANIZATION_TYPE']\n",
    "numeric_cols = ['CNT_CHILDREN', 'AMT_INCOME_TOTAL', 'AMT_CREDIT', 'AMT_ANNUITY', 'AMT_GOODS_PRICE', 'REGION_POPULATION_RELATIVE', 'DAYS_BIRTH', 'DAYS_EMPLOYED', 'DAYS_REGISTRATION', 'DAYS_ID_PUBLISH', 'OWN_CAR_AGE', 'CNT_FAM_MEMBERS', 'REGION_RATING_CLIENT', 'REGION_RATING_CLIENT_W_CITY', 'HOUR_APPR_PROCESS_START', 'EXT_SOURCE_1', 'EXT_SOURCE_2', 'EXT_SOURCE_3', 'OBS_30_CNT_SOCIAL_CIRCLE', 'DEF_30_CNT_SOCIAL_CIRCLE', 'OBS_60_CNT_SOCIAL_CIRCLE', 'DEF_60_CNT_SOCIAL_CIRCLE', 'DAYS_LAST_PHONE_CHANGE', 'AMT_REQ_CREDIT_BUREAU_HOUR', 'AMT_REQ_CREDIT_BUREAU_DAY', 'AMT_REQ_CREDIT_BUREAU_WEEK', 'AMT_REQ_CREDIT_BUREAU_MON', 'AMT_REQ_CREDIT_BUREAU_QRT', 'AMT_REQ_CREDIT_BUREAU_YEAR']"
   ],
   "metadata": {
    "collapsed": false,
    "pycharm": {
     "name": "#%%\n"
    }
   }
  },
  {
   "cell_type": "code",
   "execution_count": 314,
   "outputs": [],
   "source": [
    "numeric_transformer = Pipeline(steps=[\n",
    "    ('scaler', StandardScaler()),\n",
    "    ('imputer', IterativeImputer(verbose=1, random_state=123,\n",
    "                                 estimator=BayesianRidge(lambda_init=0.1),\n",
    "                                 missing_values=np.nan,\n",
    "                                 n_nearest_features=5, # do multi regression on only up to 5 features\n",
    "                                 initial_strategy='mean' # initially set imputes to the Mean\n",
    "                                 ))\n",
    "])"
   ],
   "metadata": {
    "collapsed": false,
    "pycharm": {
     "name": "#%%\n"
    }
   }
  },
  {
   "cell_type": "code",
   "execution_count": 315,
   "outputs": [],
   "source": [
    "# Make Binary Cols Pipeline\n",
    "binary_transformer = Pipeline(steps=[\n",
    "    ('OHE', OneHotEncoder(drop='if_binary', sparse=False))\n",
    "])"
   ],
   "metadata": {
    "collapsed": false,
    "pycharm": {
     "name": "#%%\n"
    }
   }
  },
  {
   "cell_type": "code",
   "execution_count": 316,
   "outputs": [],
   "source": [
    "# Make Categorical Cols Pipeline\n",
    "categ_transformer = Pipeline(steps=[\n",
    "    ('OneHot', OneHotEncoder(sparse=False, handle_unknown='ignore'))\n",
    "])"
   ],
   "metadata": {
    "collapsed": false,
    "pycharm": {
     "name": "#%%\n"
    }
   }
  },
  {
   "cell_type": "code",
   "execution_count": 317,
   "outputs": [],
   "source": [
    "col_transformer = ColumnTransformer(\n",
    "    transformers=[\n",
    "        ('numeric', numeric_transformer, numeric_cols),\n",
    "        ('categorical', categ_transformer, categ_cols),\n",
    "        ('binary', binary_transformer, binary_cols)\n",
    "    ],\n",
    "    remainder='passthrough'\n",
    ")"
   ],
   "metadata": {
    "collapsed": false,
    "pycharm": {
     "name": "#%%\n"
    }
   }
  },
  {
   "cell_type": "code",
   "execution_count": 318,
   "outputs": [
    {
     "name": "stdout",
     "output_type": "stream",
     "text": [
      "[IterativeImputer] Completing matrix with shape (212793, 29)\n",
      "[IterativeImputer] Change: 2.588588299494135, scaled tolerance: 0.42792632180369294 \n",
      "[IterativeImputer] Change: 1.1563885692028615, scaled tolerance: 0.42792632180369294 \n",
      "[IterativeImputer] Change: 2.343966308163636, scaled tolerance: 0.42792632180369294 \n",
      "[IterativeImputer] Change: 2.5694602892500624, scaled tolerance: 0.42792632180369294 \n",
      "[IterativeImputer] Change: 2.394765239663136, scaled tolerance: 0.42792632180369294 \n",
      "[IterativeImputer] Change: 3.0358950519819485, scaled tolerance: 0.42792632180369294 \n",
      "[IterativeImputer] Change: 3.5662010569691045, scaled tolerance: 0.42792632180369294 \n",
      "[IterativeImputer] Change: 4.167697741377685, scaled tolerance: 0.42792632180369294 \n",
      "[IterativeImputer] Change: 3.539910199111387, scaled tolerance: 0.42792632180369294 \n",
      "[IterativeImputer] Change: 2.51684420600181, scaled tolerance: 0.42792632180369294 \n"
     ]
    },
    {
     "name": "stderr",
     "output_type": "stream",
     "text": [
      "C:\\Users\\bcarr\\anaconda3\\lib\\site-packages\\sklearn\\impute\\_iterative.py:669: ConvergenceWarning: [IterativeImputer] Early stopping criterion not reached.\n",
      "  warnings.warn(\"[IterativeImputer] Early stopping criterion not\"\n"
     ]
    }
   ],
   "source": [
    "# Fit_Transform the Transformer on X_Train\n",
    "X_train_preprocessed = col_transformer.fit_transform(X_train)"
   ],
   "metadata": {
    "collapsed": false,
    "pycharm": {
     "name": "#%%\n"
    }
   }
  },
  {
   "cell_type": "code",
   "execution_count": 319,
   "outputs": [
    {
     "name": "stdout",
     "output_type": "stream",
     "text": [
      "[IterativeImputer] Completing matrix with shape (53199, 29)\n"
     ]
    }
   ],
   "source": [
    "# Apply the transformer to the Test Data\n",
    "X_test_preprocessed = col_transformer.transform((X_test))"
   ],
   "metadata": {
    "collapsed": false,
    "pycharm": {
     "name": "#%%\n"
    }
   }
  },
  {
   "cell_type": "code",
   "execution_count": 320,
   "outputs": [
    {
     "data": {
      "text/plain": "array([[-0.58295853,  0.03106024,  0.30388725, ...,  0.        ,\n         0.49742587,  0.50257413],\n       [-0.58295853, -0.26892796, -0.79472299, ...,  0.        ,\n         0.4979406 ,  0.5020594 ],\n       [-0.58295853,  0.19588892,  0.5636459 , ...,  0.        ,\n                nan,         nan],\n       ...,\n       [-0.58295853,  0.27830327,  0.27919165, ...,  0.        ,\n         0.49338783,  0.50661217],\n       [-0.58295853, -0.29859712,  0.49774659, ...,  0.        ,\n         0.49885515,  0.50114485],\n       [-0.58295853, -0.33156286, -0.27587134, ...,  0.        ,\n                nan,         nan]])"
     },
     "execution_count": 320,
     "metadata": {},
     "output_type": "execute_result"
    }
   ],
   "source": [
    "# Take a look at X_train:\n",
    "X_train_preprocessed"
   ],
   "metadata": {
    "collapsed": false,
    "pycharm": {
     "name": "#%%\n"
    }
   }
  },
  {
   "cell_type": "markdown",
   "source": [
    "## 3.2 Applying our XGBoost model to the data\n",
    "\n",
    "It is finally time to rebuild our model and apply it to our data.\n",
    "\n",
    "Recall that for the 'Short' XGB tree, we had a superior recall & confusion matrix. So we will use those hyperparameters.\n",
    "\n",
    "Recall that the scores were:"
   ],
   "metadata": {
    "collapsed": false,
    "pycharm": {
     "name": "#%% md\n"
    }
   }
  },
  {
   "cell_type": "code",
   "execution_count": 321,
   "outputs": [],
   "source": [
    "past_training_acc = 0.7636743803594502\n",
    "past_training_recall = 0.9999392577294539\n",
    "past_testing_acc = 0.6833374085428932\n",
    "past_testing_recall = 0.6061425061425061"
   ],
   "metadata": {
    "collapsed": false,
    "pycharm": {
     "name": "#%%\n"
    }
   }
  },
  {
   "cell_type": "code",
   "execution_count": 322,
   "outputs": [],
   "source": [
    "past_testing_confusion_matrix = np.array([[33864, 15233],\n",
    "                                          [ 1603,  2467]])"
   ],
   "metadata": {
    "collapsed": false,
    "pycharm": {
     "name": "#%%\n"
    }
   }
  },
  {
   "cell_type": "code",
   "execution_count": 323,
   "outputs": [
    {
     "data": {
      "text/plain": "0.13937853107344633"
     },
     "execution_count": 323,
     "metadata": {},
     "output_type": "execute_result"
    }
   ],
   "source": [
    "# I also want to compare F1 scores on Testing, so will need to compute the Precision from the above Confusion Matrix\n",
    "past_testing_precision = past_testing_confusion_matrix[1][1] / (past_testing_confusion_matrix[1][1] + past_testing_confusion_matrix[0][1])\n",
    "past_testing_precision"
   ],
   "metadata": {
    "collapsed": false,
    "pycharm": {
     "name": "#%%\n"
    }
   }
  },
  {
   "cell_type": "code",
   "execution_count": 324,
   "outputs": [
    {
     "data": {
      "text/plain": "0.22664216812126778"
     },
     "execution_count": 324,
     "metadata": {},
     "output_type": "execute_result"
    }
   ],
   "source": [
    "past_testing_f1 = 2 * (past_testing_recall * past_testing_precision) / (past_testing_recall + past_testing_precision)\n",
    "past_testing_f1"
   ],
   "metadata": {
    "collapsed": false,
    "pycharm": {
     "name": "#%%\n"
    }
   }
  },
  {
   "cell_type": "code",
   "execution_count": 325,
   "outputs": [],
   "source": [
    "# Build the Model\n",
    "xgb_class_short = XGBClassifier(\n",
    "    n_estimators = 75,\n",
    "    max_depth = 11,\n",
    "    verbosity = 2,\n",
    "    n_jobs = -1,\n",
    "    random_state = 123,\n",
    "    scale_pos_weight = 50,\n",
    ")"
   ],
   "metadata": {
    "collapsed": false,
    "pycharm": {
     "name": "#%%\n"
    }
   }
  },
  {
   "cell_type": "code",
   "execution_count": 326,
   "outputs": [
    {
     "name": "stderr",
     "output_type": "stream",
     "text": [
      "C:\\Users\\bcarr\\anaconda3\\lib\\site-packages\\xgboost\\sklearn.py:1224: UserWarning: The use of label encoder in XGBClassifier is deprecated and will be removed in a future release. To remove this warning, do the following: 1) Pass option use_label_encoder=False when constructing XGBClassifier object; and 2) Encode your labels (y) as integers starting with 0, i.e. 0, 1, 2, ..., [num_class - 1].\n",
      "  warnings.warn(label_encoder_deprecation_msg, UserWarning)\n"
     ]
    },
    {
     "name": "stdout",
     "output_type": "stream",
     "text": [
      "[22:11:06] INFO: C:/Users/Administrator/workspace/xgboost-win64_release_1.5.1/src/tree/updater_prune.cc:101: tree pruning end, 1232 extra nodes, 0 pruned nodes, max_depth=11\n",
      "[22:11:06] WARNING: C:/Users/Administrator/workspace/xgboost-win64_release_1.5.1/src/learner.cc:1115: Starting in XGBoost 1.3.0, the default evaluation metric used with the objective 'binary:logistic' was changed from 'error' to 'logloss'. Explicitly set eval_metric if you'd like to restore the old behavior.\n",
      "[22:11:06] INFO: C:/Users/Administrator/workspace/xgboost-win64_release_1.5.1/src/tree/updater_prune.cc:101: tree pruning end, 1124 extra nodes, 0 pruned nodes, max_depth=11\n",
      "[22:11:06] INFO: C:/Users/Administrator/workspace/xgboost-win64_release_1.5.1/src/tree/updater_prune.cc:101: tree pruning end, 1266 extra nodes, 0 pruned nodes, max_depth=11\n",
      "[22:11:07] INFO: C:/Users/Administrator/workspace/xgboost-win64_release_1.5.1/src/tree/updater_prune.cc:101: tree pruning end, 1088 extra nodes, 0 pruned nodes, max_depth=11\n",
      "[22:11:07] INFO: C:/Users/Administrator/workspace/xgboost-win64_release_1.5.1/src/tree/updater_prune.cc:101: tree pruning end, 1266 extra nodes, 0 pruned nodes, max_depth=11\n",
      "[22:11:07] INFO: C:/Users/Administrator/workspace/xgboost-win64_release_1.5.1/src/tree/updater_prune.cc:101: tree pruning end, 1180 extra nodes, 0 pruned nodes, max_depth=11\n",
      "[22:11:08] INFO: C:/Users/Administrator/workspace/xgboost-win64_release_1.5.1/src/tree/updater_prune.cc:101: tree pruning end, 1086 extra nodes, 0 pruned nodes, max_depth=11\n",
      "[22:11:08] INFO: C:/Users/Administrator/workspace/xgboost-win64_release_1.5.1/src/tree/updater_prune.cc:101: tree pruning end, 980 extra nodes, 0 pruned nodes, max_depth=11\n",
      "[22:11:08] INFO: C:/Users/Administrator/workspace/xgboost-win64_release_1.5.1/src/tree/updater_prune.cc:101: tree pruning end, 996 extra nodes, 0 pruned nodes, max_depth=11\n",
      "[22:11:09] INFO: C:/Users/Administrator/workspace/xgboost-win64_release_1.5.1/src/tree/updater_prune.cc:101: tree pruning end, 896 extra nodes, 0 pruned nodes, max_depth=11\n",
      "[22:11:09] INFO: C:/Users/Administrator/workspace/xgboost-win64_release_1.5.1/src/tree/updater_prune.cc:101: tree pruning end, 1374 extra nodes, 0 pruned nodes, max_depth=11\n",
      "[22:11:09] INFO: C:/Users/Administrator/workspace/xgboost-win64_release_1.5.1/src/tree/updater_prune.cc:101: tree pruning end, 1538 extra nodes, 0 pruned nodes, max_depth=11\n",
      "[22:11:10] INFO: C:/Users/Administrator/workspace/xgboost-win64_release_1.5.1/src/tree/updater_prune.cc:101: tree pruning end, 726 extra nodes, 0 pruned nodes, max_depth=11\n",
      "[22:11:10] INFO: C:/Users/Administrator/workspace/xgboost-win64_release_1.5.1/src/tree/updater_prune.cc:101: tree pruning end, 664 extra nodes, 0 pruned nodes, max_depth=11\n",
      "[22:11:10] INFO: C:/Users/Administrator/workspace/xgboost-win64_release_1.5.1/src/tree/updater_prune.cc:101: tree pruning end, 874 extra nodes, 0 pruned nodes, max_depth=11\n",
      "[22:11:11] INFO: C:/Users/Administrator/workspace/xgboost-win64_release_1.5.1/src/tree/updater_prune.cc:101: tree pruning end, 1088 extra nodes, 0 pruned nodes, max_depth=11\n",
      "[22:11:11] INFO: C:/Users/Administrator/workspace/xgboost-win64_release_1.5.1/src/tree/updater_prune.cc:101: tree pruning end, 558 extra nodes, 0 pruned nodes, max_depth=11\n",
      "[22:11:11] INFO: C:/Users/Administrator/workspace/xgboost-win64_release_1.5.1/src/tree/updater_prune.cc:101: tree pruning end, 1480 extra nodes, 0 pruned nodes, max_depth=11\n",
      "[22:11:12] INFO: C:/Users/Administrator/workspace/xgboost-win64_release_1.5.1/src/tree/updater_prune.cc:101: tree pruning end, 872 extra nodes, 0 pruned nodes, max_depth=11\n",
      "[22:11:12] INFO: C:/Users/Administrator/workspace/xgboost-win64_release_1.5.1/src/tree/updater_prune.cc:101: tree pruning end, 462 extra nodes, 0 pruned nodes, max_depth=11\n",
      "[22:11:12] INFO: C:/Users/Administrator/workspace/xgboost-win64_release_1.5.1/src/tree/updater_prune.cc:101: tree pruning end, 1178 extra nodes, 0 pruned nodes, max_depth=11\n",
      "[22:11:13] INFO: C:/Users/Administrator/workspace/xgboost-win64_release_1.5.1/src/tree/updater_prune.cc:101: tree pruning end, 776 extra nodes, 0 pruned nodes, max_depth=11\n",
      "[22:11:13] INFO: C:/Users/Administrator/workspace/xgboost-win64_release_1.5.1/src/tree/updater_prune.cc:101: tree pruning end, 552 extra nodes, 0 pruned nodes, max_depth=11\n",
      "[22:11:13] INFO: C:/Users/Administrator/workspace/xgboost-win64_release_1.5.1/src/tree/updater_prune.cc:101: tree pruning end, 570 extra nodes, 0 pruned nodes, max_depth=11\n",
      "[22:11:14] INFO: C:/Users/Administrator/workspace/xgboost-win64_release_1.5.1/src/tree/updater_prune.cc:101: tree pruning end, 472 extra nodes, 0 pruned nodes, max_depth=11\n",
      "[22:11:14] INFO: C:/Users/Administrator/workspace/xgboost-win64_release_1.5.1/src/tree/updater_prune.cc:101: tree pruning end, 1000 extra nodes, 0 pruned nodes, max_depth=11\n",
      "[22:11:14] INFO: C:/Users/Administrator/workspace/xgboost-win64_release_1.5.1/src/tree/updater_prune.cc:101: tree pruning end, 566 extra nodes, 0 pruned nodes, max_depth=11\n",
      "[22:11:14] INFO: C:/Users/Administrator/workspace/xgboost-win64_release_1.5.1/src/tree/updater_prune.cc:101: tree pruning end, 844 extra nodes, 0 pruned nodes, max_depth=11\n",
      "[22:11:15] INFO: C:/Users/Administrator/workspace/xgboost-win64_release_1.5.1/src/tree/updater_prune.cc:101: tree pruning end, 344 extra nodes, 0 pruned nodes, max_depth=11\n",
      "[22:11:15] INFO: C:/Users/Administrator/workspace/xgboost-win64_release_1.5.1/src/tree/updater_prune.cc:101: tree pruning end, 726 extra nodes, 0 pruned nodes, max_depth=11\n",
      "[22:11:15] INFO: C:/Users/Administrator/workspace/xgboost-win64_release_1.5.1/src/tree/updater_prune.cc:101: tree pruning end, 750 extra nodes, 0 pruned nodes, max_depth=11\n",
      "[22:11:16] INFO: C:/Users/Administrator/workspace/xgboost-win64_release_1.5.1/src/tree/updater_prune.cc:101: tree pruning end, 450 extra nodes, 0 pruned nodes, max_depth=11\n",
      "[22:11:16] INFO: C:/Users/Administrator/workspace/xgboost-win64_release_1.5.1/src/tree/updater_prune.cc:101: tree pruning end, 408 extra nodes, 0 pruned nodes, max_depth=11\n",
      "[22:11:16] INFO: C:/Users/Administrator/workspace/xgboost-win64_release_1.5.1/src/tree/updater_prune.cc:101: tree pruning end, 472 extra nodes, 0 pruned nodes, max_depth=11\n",
      "[22:11:17] INFO: C:/Users/Administrator/workspace/xgboost-win64_release_1.5.1/src/tree/updater_prune.cc:101: tree pruning end, 658 extra nodes, 0 pruned nodes, max_depth=11\n",
      "[22:11:17] INFO: C:/Users/Administrator/workspace/xgboost-win64_release_1.5.1/src/tree/updater_prune.cc:101: tree pruning end, 294 extra nodes, 0 pruned nodes, max_depth=11\n",
      "[22:11:17] INFO: C:/Users/Administrator/workspace/xgboost-win64_release_1.5.1/src/tree/updater_prune.cc:101: tree pruning end, 840 extra nodes, 0 pruned nodes, max_depth=11\n",
      "[22:11:17] INFO: C:/Users/Administrator/workspace/xgboost-win64_release_1.5.1/src/tree/updater_prune.cc:101: tree pruning end, 638 extra nodes, 0 pruned nodes, max_depth=11\n",
      "[22:11:18] INFO: C:/Users/Administrator/workspace/xgboost-win64_release_1.5.1/src/tree/updater_prune.cc:101: tree pruning end, 392 extra nodes, 0 pruned nodes, max_depth=11\n",
      "[22:11:18] INFO: C:/Users/Administrator/workspace/xgboost-win64_release_1.5.1/src/tree/updater_prune.cc:101: tree pruning end, 726 extra nodes, 0 pruned nodes, max_depth=11\n",
      "[22:11:18] INFO: C:/Users/Administrator/workspace/xgboost-win64_release_1.5.1/src/tree/updater_prune.cc:101: tree pruning end, 596 extra nodes, 0 pruned nodes, max_depth=11\n",
      "[22:11:19] INFO: C:/Users/Administrator/workspace/xgboost-win64_release_1.5.1/src/tree/updater_prune.cc:101: tree pruning end, 566 extra nodes, 0 pruned nodes, max_depth=11\n",
      "[22:11:19] INFO: C:/Users/Administrator/workspace/xgboost-win64_release_1.5.1/src/tree/updater_prune.cc:101: tree pruning end, 282 extra nodes, 0 pruned nodes, max_depth=11\n",
      "[22:11:19] INFO: C:/Users/Administrator/workspace/xgboost-win64_release_1.5.1/src/tree/updater_prune.cc:101: tree pruning end, 210 extra nodes, 0 pruned nodes, max_depth=11\n",
      "[22:11:20] INFO: C:/Users/Administrator/workspace/xgboost-win64_release_1.5.1/src/tree/updater_prune.cc:101: tree pruning end, 582 extra nodes, 0 pruned nodes, max_depth=11\n",
      "[22:11:20] INFO: C:/Users/Administrator/workspace/xgboost-win64_release_1.5.1/src/tree/updater_prune.cc:101: tree pruning end, 842 extra nodes, 0 pruned nodes, max_depth=11\n",
      "[22:11:20] INFO: C:/Users/Administrator/workspace/xgboost-win64_release_1.5.1/src/tree/updater_prune.cc:101: tree pruning end, 554 extra nodes, 0 pruned nodes, max_depth=11\n",
      "[22:11:20] INFO: C:/Users/Administrator/workspace/xgboost-win64_release_1.5.1/src/tree/updater_prune.cc:101: tree pruning end, 452 extra nodes, 0 pruned nodes, max_depth=11\n",
      "[22:11:21] INFO: C:/Users/Administrator/workspace/xgboost-win64_release_1.5.1/src/tree/updater_prune.cc:101: tree pruning end, 1048 extra nodes, 0 pruned nodes, max_depth=11\n",
      "[22:11:21] INFO: C:/Users/Administrator/workspace/xgboost-win64_release_1.5.1/src/tree/updater_prune.cc:101: tree pruning end, 624 extra nodes, 0 pruned nodes, max_depth=11\n",
      "[22:11:21] INFO: C:/Users/Administrator/workspace/xgboost-win64_release_1.5.1/src/tree/updater_prune.cc:101: tree pruning end, 698 extra nodes, 0 pruned nodes, max_depth=11\n",
      "[22:11:22] INFO: C:/Users/Administrator/workspace/xgboost-win64_release_1.5.1/src/tree/updater_prune.cc:101: tree pruning end, 572 extra nodes, 0 pruned nodes, max_depth=11\n",
      "[22:11:22] INFO: C:/Users/Administrator/workspace/xgboost-win64_release_1.5.1/src/tree/updater_prune.cc:101: tree pruning end, 450 extra nodes, 0 pruned nodes, max_depth=11\n",
      "[22:11:22] INFO: C:/Users/Administrator/workspace/xgboost-win64_release_1.5.1/src/tree/updater_prune.cc:101: tree pruning end, 360 extra nodes, 0 pruned nodes, max_depth=11\n",
      "[22:11:23] INFO: C:/Users/Administrator/workspace/xgboost-win64_release_1.5.1/src/tree/updater_prune.cc:101: tree pruning end, 270 extra nodes, 0 pruned nodes, max_depth=11\n",
      "[22:11:23] INFO: C:/Users/Administrator/workspace/xgboost-win64_release_1.5.1/src/tree/updater_prune.cc:101: tree pruning end, 604 extra nodes, 0 pruned nodes, max_depth=11\n",
      "[22:11:23] INFO: C:/Users/Administrator/workspace/xgboost-win64_release_1.5.1/src/tree/updater_prune.cc:101: tree pruning end, 1008 extra nodes, 0 pruned nodes, max_depth=11\n",
      "[22:11:24] INFO: C:/Users/Administrator/workspace/xgboost-win64_release_1.5.1/src/tree/updater_prune.cc:101: tree pruning end, 668 extra nodes, 0 pruned nodes, max_depth=11\n",
      "[22:11:24] INFO: C:/Users/Administrator/workspace/xgboost-win64_release_1.5.1/src/tree/updater_prune.cc:101: tree pruning end, 602 extra nodes, 0 pruned nodes, max_depth=11\n",
      "[22:11:24] INFO: C:/Users/Administrator/workspace/xgboost-win64_release_1.5.1/src/tree/updater_prune.cc:101: tree pruning end, 698 extra nodes, 0 pruned nodes, max_depth=11\n",
      "[22:11:25] INFO: C:/Users/Administrator/workspace/xgboost-win64_release_1.5.1/src/tree/updater_prune.cc:101: tree pruning end, 658 extra nodes, 0 pruned nodes, max_depth=11\n",
      "[22:11:25] INFO: C:/Users/Administrator/workspace/xgboost-win64_release_1.5.1/src/tree/updater_prune.cc:101: tree pruning end, 420 extra nodes, 0 pruned nodes, max_depth=11\n",
      "[22:11:25] INFO: C:/Users/Administrator/workspace/xgboost-win64_release_1.5.1/src/tree/updater_prune.cc:101: tree pruning end, 650 extra nodes, 0 pruned nodes, max_depth=11\n",
      "[22:11:25] INFO: C:/Users/Administrator/workspace/xgboost-win64_release_1.5.1/src/tree/updater_prune.cc:101: tree pruning end, 714 extra nodes, 0 pruned nodes, max_depth=11\n",
      "[22:11:26] INFO: C:/Users/Administrator/workspace/xgboost-win64_release_1.5.1/src/tree/updater_prune.cc:101: tree pruning end, 838 extra nodes, 0 pruned nodes, max_depth=11\n",
      "[22:11:26] INFO: C:/Users/Administrator/workspace/xgboost-win64_release_1.5.1/src/tree/updater_prune.cc:101: tree pruning end, 604 extra nodes, 0 pruned nodes, max_depth=11\n",
      "[22:11:26] INFO: C:/Users/Administrator/workspace/xgboost-win64_release_1.5.1/src/tree/updater_prune.cc:101: tree pruning end, 450 extra nodes, 0 pruned nodes, max_depth=11\n",
      "[22:11:27] INFO: C:/Users/Administrator/workspace/xgboost-win64_release_1.5.1/src/tree/updater_prune.cc:101: tree pruning end, 786 extra nodes, 0 pruned nodes, max_depth=11\n",
      "[22:11:27] INFO: C:/Users/Administrator/workspace/xgboost-win64_release_1.5.1/src/tree/updater_prune.cc:101: tree pruning end, 672 extra nodes, 0 pruned nodes, max_depth=11\n",
      "[22:11:27] INFO: C:/Users/Administrator/workspace/xgboost-win64_release_1.5.1/src/tree/updater_prune.cc:101: tree pruning end, 892 extra nodes, 0 pruned nodes, max_depth=11\n",
      "[22:11:28] INFO: C:/Users/Administrator/workspace/xgboost-win64_release_1.5.1/src/tree/updater_prune.cc:101: tree pruning end, 472 extra nodes, 0 pruned nodes, max_depth=11\n",
      "[22:11:28] INFO: C:/Users/Administrator/workspace/xgboost-win64_release_1.5.1/src/tree/updater_prune.cc:101: tree pruning end, 802 extra nodes, 0 pruned nodes, max_depth=11\n",
      "[22:11:28] INFO: C:/Users/Administrator/workspace/xgboost-win64_release_1.5.1/src/tree/updater_prune.cc:101: tree pruning end, 1036 extra nodes, 0 pruned nodes, max_depth=11\n",
      "[22:11:29] INFO: C:/Users/Administrator/workspace/xgboost-win64_release_1.5.1/src/tree/updater_prune.cc:101: tree pruning end, 332 extra nodes, 0 pruned nodes, max_depth=11\n",
      "[22:11:29] INFO: C:/Users/Administrator/workspace/xgboost-win64_release_1.5.1/src/tree/updater_prune.cc:101: tree pruning end, 624 extra nodes, 0 pruned nodes, max_depth=11\n"
     ]
    },
    {
     "data": {
      "text/plain": "XGBClassifier(base_score=0.5, booster='gbtree', colsample_bylevel=1,\n              colsample_bynode=1, colsample_bytree=1, enable_categorical=False,\n              gamma=0, gpu_id=-1, importance_type=None,\n              interaction_constraints='', learning_rate=0.300000012,\n              max_delta_step=0, max_depth=11, min_child_weight=1, missing=nan,\n              monotone_constraints='()', n_estimators=75, n_jobs=-1,\n              num_parallel_tree=1, predictor='auto', random_state=123,\n              reg_alpha=0, reg_lambda=1, scale_pos_weight=50, subsample=1,\n              tree_method='exact', validate_parameters=1, verbosity=2)"
     },
     "execution_count": 326,
     "metadata": {},
     "output_type": "execute_result"
    }
   ],
   "source": [
    "# Fit the model\n",
    "xgb_class_short.fit(X_train_preprocessed, Y_train)"
   ],
   "metadata": {
    "collapsed": false,
    "pycharm": {
     "name": "#%%\n"
    }
   }
  },
  {
   "cell_type": "code",
   "execution_count": 327,
   "outputs": [
    {
     "data": {
      "text/plain": "0.7673090750165654"
     },
     "execution_count": 327,
     "metadata": {},
     "output_type": "execute_result"
    }
   ],
   "source": [
    "new_train_accuracy = xgb_class_short.score(X_train_preprocessed,Y_train)\n",
    "new_train_accuracy"
   ],
   "metadata": {
    "collapsed": false,
    "pycharm": {
     "name": "#%%\n"
    }
   }
  },
  {
   "cell_type": "code",
   "execution_count": 328,
   "outputs": [
    {
     "data": {
      "text/plain": "1.0"
     },
     "execution_count": 328,
     "metadata": {},
     "output_type": "execute_result"
    }
   ],
   "source": [
    "new_train_recall = recall_score(Y_train, xgb_class_short.predict(X_train_preprocessed))\n",
    "new_train_recall"
   ],
   "metadata": {
    "collapsed": false,
    "pycharm": {
     "name": "#%%\n"
    }
   }
  },
  {
   "cell_type": "code",
   "execution_count": 329,
   "outputs": [
    {
     "data": {
      "text/plain": "0.6854640124814376"
     },
     "execution_count": 329,
     "metadata": {},
     "output_type": "execute_result"
    }
   ],
   "source": [
    "# Now score Accuracy, Recall and F1 for the Test data\n",
    "new_test_acc = xgb_class_short.score(X_test_preprocessed, Y_test)\n",
    "new_test_acc"
   ],
   "metadata": {
    "collapsed": false,
    "pycharm": {
     "name": "#%%\n"
    }
   }
  },
  {
   "cell_type": "code",
   "execution_count": 330,
   "outputs": [
    {
     "data": {
      "text/plain": "0.5869565217391305"
     },
     "execution_count": 330,
     "metadata": {},
     "output_type": "execute_result"
    }
   ],
   "source": [
    "new_test_recall = recall_score(Y_test, xgb_class_short.predict(X_test_preprocessed))\n",
    "new_test_recall"
   ],
   "metadata": {
    "collapsed": false,
    "pycharm": {
     "name": "#%%\n"
    }
   }
  },
  {
   "cell_type": "code",
   "execution_count": 331,
   "outputs": [
    {
     "data": {
      "text/plain": "0.22507294030472838"
     },
     "execution_count": 331,
     "metadata": {},
     "output_type": "execute_result"
    }
   ],
   "source": [
    "new_test_f1 = f1_score(Y_test, xgb_class_short.predict(X_test_preprocessed))\n",
    "new_test_f1"
   ],
   "metadata": {
    "collapsed": false,
    "pycharm": {
     "name": "#%%\n"
    }
   }
  },
  {
   "cell_type": "code",
   "execution_count": 332,
   "outputs": [
    {
     "data": {
      "text/plain": "array([[34036, 15023],\n       [ 1710,  2430]], dtype=int64)"
     },
     "execution_count": 332,
     "metadata": {},
     "output_type": "execute_result"
    }
   ],
   "source": [
    "# Lastly let's look at the Testing Confusion Matrix\n",
    "new_test_confusion_matrix = confusion_matrix(Y_test, xgb_class_short.predict(X_test_preprocessed))\n",
    "new_test_confusion_matrix"
   ],
   "metadata": {
    "collapsed": false,
    "pycharm": {
     "name": "#%%\n"
    }
   }
  },
  {
   "cell_type": "code",
   "execution_count": 333,
   "outputs": [
    {
     "data": {
      "text/plain": "array([[33864, 15233],\n       [ 1603,  2467]])"
     },
     "execution_count": 333,
     "metadata": {},
     "output_type": "execute_result"
    }
   ],
   "source": [
    "# Compare to the old model's confusion matrix, which provided better scores\n",
    "past_testing_confusion_matrix"
   ],
   "metadata": {
    "collapsed": false,
    "pycharm": {
     "name": "#%%\n"
    }
   }
  },
  {
   "cell_type": "code",
   "execution_count": 334,
   "outputs": [
    {
     "data": {
      "text/plain": "53167"
     },
     "execution_count": 334,
     "metadata": {},
     "output_type": "execute_result"
    }
   ],
   "source": [
    "# Count the values in the old testing data:\n",
    "past_testing_confusion_matrix.sum()"
   ],
   "metadata": {
    "collapsed": false,
    "pycharm": {
     "name": "#%%\n"
    }
   }
  },
  {
   "cell_type": "code",
   "execution_count": 335,
   "outputs": [
    {
     "data": {
      "text/plain": "53199"
     },
     "execution_count": 335,
     "metadata": {},
     "output_type": "execute_result"
    }
   ],
   "source": [
    "# Count of values in the new testing data:\n",
    "new_test_confusion_matrix.sum()"
   ],
   "metadata": {
    "collapsed": false,
    "pycharm": {
     "name": "#%%\n"
    }
   }
  },
  {
   "cell_type": "markdown",
   "source": [
    "## 4. Discussion\n",
    "\n",
    "We can see that, despite our efforts, our scores have not significantly changed. If anything, they are slightly worse in terms of Recall and F1.\n",
    "\n",
    "The testing scores before adding Bayes:\n",
    "Accuracy = 68.3%\n",
    "Recall = 60.6%\n",
    "F1 = 22.6%\n",
    "\n",
    "And after:\n",
    "Accuracy = 68.5%\n",
    "Recall = 58.7%\n",
    "F1 = 22.1%\n",
    "\n",
    "We should check the Feature Importance to see where our added Bayesian features rank"
   ],
   "metadata": {
    "collapsed": false,
    "pycharm": {
     "name": "#%% md\n"
    }
   }
  },
  {
   "cell_type": "code",
   "execution_count": 336,
   "outputs": [
    {
     "data": {
      "text/plain": "array([[-0.58295853, -0.0513541 , -0.12277194, ...,  0.        ,\n         0.50197007,  0.49802993],\n       [-0.58295853, -0.29859712,  0.27180294, ...,  0.        ,\n         0.49680816,  0.50319184],\n       [ 2.17406451, -0.13376844, -0.49739951, ...,  0.        ,\n                nan,         nan],\n       ...,\n       [-0.58295853, -0.13376844,  0.71039944, ...,  0.        ,\n         0.50268673,  0.49731327],\n       [ 3.55257603, -0.49639154, -1.05210749, ...,  0.        ,\n         0.49398151,  0.50601849],\n       [-0.58295853, -0.38101147, -0.94116589, ...,  0.        ,\n                nan,         nan]])"
     },
     "execution_count": 336,
     "metadata": {},
     "output_type": "execute_result"
    }
   ],
   "source": [
    "# Find the location of our variables -- they were passed through\n",
    "X_test_preprocessed"
   ],
   "metadata": {
    "collapsed": false,
    "pycharm": {
     "name": "#%%\n"
    }
   }
  },
  {
   "cell_type": "code",
   "execution_count": 337,
   "outputs": [
    {
     "data": {
      "text/plain": "array([0.00363958, 0.00476721, 0.00615773, 0.00653774, 0.00771266,\n       0.00539966, 0.00627272, 0.00618481, 0.00556362, 0.00589299,\n       0.00644976, 0.00533205, 0.00468339, 0.00738304, 0.00537823,\n       0.00710585, 0.00914989, 0.01140282, 0.00489991, 0.00512376,\n       0.00726146, 0.0069605 , 0.00616271, 0.00518416, 0.00554358,\n       0.00666717, 0.00642705, 0.00620507, 0.00603605, 0.        ,\n       0.0050183 , 0.        , 0.        , 0.00680128, 0.        ,\n       0.        , 0.00522338, 0.00704034, 0.01057763, 0.00501708,\n       0.00864609, 0.00855834, 0.00410999, 0.00747468, 0.0048098 ,\n       0.00426769, 0.        , 0.00642447, 0.00813313, 0.00590658,\n       0.00639172, 0.00578343, 0.0050217 , 0.00395034, 0.00711004,\n       0.00674237, 0.00570698, 0.00661525, 0.00600676, 0.00649551,\n       0.00717378, 0.00545817, 0.00544743, 0.00435866, 0.00625415,\n       0.0069034 , 0.00954537, 0.00864807, 0.00468485, 0.00669545,\n       0.0063223 , 0.00462845, 0.00543559, 0.00451581, 0.00580617,\n       0.00532183, 0.00641684, 0.00679258, 0.00451649, 0.00404781,\n       0.01148489, 0.00661127, 0.00573757, 0.00777747, 0.00654328,\n       0.00474298, 0.00284512, 0.00630281, 0.00251182, 0.00576046,\n       0.00887237, 0.00633949, 0.00407838, 0.00606926, 0.00448048,\n       0.00646019, 0.00536285, 0.00733736, 0.00317954, 0.00589944,\n       0.00506464, 0.00706692, 0.00633168, 0.        , 0.00878592,\n       0.00276627, 0.00718789, 0.00375516, 0.0079844 , 0.0022353 ,\n       0.01039655, 0.00794145, 0.00486173, 0.0062656 , 0.00699345,\n       0.00898053, 0.00243462, 0.        , 0.00547031, 0.00792555,\n       0.00522798, 0.00794812, 0.00566279, 0.01003833, 0.01021549,\n       0.00519016, 0.00850234, 0.00753483, 0.00462974, 0.00278942,\n       0.00632701, 0.00655231, 0.        , 0.00446719, 0.00464867,\n       0.00671871, 0.00904456, 0.        , 0.0109368 , 0.0095574 ,\n       0.01430486, 0.        , 0.01919657, 0.00428196, 0.        ,\n       0.00174927, 0.00517   , 0.00387654, 0.00511384, 0.00549683,\n       0.00401894, 0.00560736, 0.00576167, 0.00522995, 0.00457284,\n       0.004303  , 0.        , 0.00686743, 0.        , 0.00611796,\n       0.00530103, 0.        , 0.00462318, 0.00488832, 0.        ,\n       0.00478131, 0.        , 0.00918992, 0.01020181, 0.00630833,\n       0.00928195, 0.00377902, 0.00946014, 0.00447364, 0.        ,\n       0.00166642, 0.00596026, 0.0032875 ], dtype=float32)"
     },
     "execution_count": 337,
     "metadata": {},
     "output_type": "execute_result"
    }
   ],
   "source": [
    "# We can see they are features 176 and 177, at the end of the matrix\n",
    "xgb_class_short.feature_importances_"
   ],
   "metadata": {
    "collapsed": false,
    "pycharm": {
     "name": "#%%\n"
    }
   }
  },
  {
   "cell_type": "code",
   "execution_count": 338,
   "outputs": [
    {
     "data": {
      "text/plain": "<Figure size 3200x1200 with 1 Axes>",
      "image/png": "[encoded data removed]"
     },
     "metadata": {
      "needs_background": "light"
     },
     "output_type": "display_data"
    }
   ],
   "source": [
    "plt.figure(figsize=(8,3), dpi=400)\n",
    "plt.bar(range(len(xgb_class_short.feature_importances_)), xgb_class_short.feature_importances_)\n",
    "plt.show()"
   ],
   "metadata": {
    "collapsed": false,
    "pycharm": {
     "name": "#%%\n"
    }
   }
  },
  {
   "cell_type": "markdown",
   "source": [
    "The Bayesian features are the last ones, 176 and 177. We can see they are both quite low, with a combined score of 0.0059 + 0.0033 = 0.0092.\n",
    "\n",
    "First, consider that this new feature was not avaialable for every point - there are around 13,000 nulls for it left in the data, where there was no previous history of payments for the current loan applicant. Also recall that we needed to add in the Income data, as the historical data was somewhat sparse. Having better data to make our predictions off of would always help.\n",
    "\n",
    "Also, consider that the prediction of the original model was quite poor, with an accuracy of around 55% (in particular, it featured far too many false Negative predictions). Our dataset was too imbalanced to be effective with the Gaussian Naive Bayes model. In the future, we should find a more balanced historical dataset to make predictions on - though at the moment this possibility is not obvious to me. It would require some significant consultation with experts to determine what predictions we might want to make, that would be helpful and feasible."
   ],
   "metadata": {
    "collapsed": false,
    "pycharm": {
     "name": "#%% md\n"
    }
   }
  },
  {
   "cell_type": "code",
   "execution_count": 338,
   "outputs": [],
   "source": [],
   "metadata": {
    "collapsed": false,
    "pycharm": {
     "name": "#%%\n"
    }
   }
  }
 ],
 "metadata": {
  "kernelspec": {
   "display_name": "Python 3",
   "language": "python",
   "name": "python3"
  },
  "language_info": {
   "codemirror_mode": {
    "name": "ipython",
    "version": 2
   },
   "file_extension": ".py",
   "mimetype": "text/x-python",
   "name": "python",
   "nbconvert_exporter": "python",
   "pygments_lexer": "ipython2",
   "version": "2.7.6"
  }
 },
 "nbformat": 4,
 "nbformat_minor": 0
}