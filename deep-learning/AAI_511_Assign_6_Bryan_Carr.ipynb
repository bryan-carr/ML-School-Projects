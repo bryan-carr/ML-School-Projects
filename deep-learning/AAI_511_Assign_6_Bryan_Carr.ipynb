{
  "nbformat": 4,
  "nbformat_minor": 0,
  "metadata": {
    "colab": {
      "name": "AAI 511 - Assign 6 - Bryan Carr.ipynb",
      "provenance": [],
      "collapsed_sections": []
    },
    "kernelspec": {
      "name": "python3",
      "display_name": "Python 3"
    },
    "language_info": {
      "name": "python"
    },
    "gpuClass": "standard",
    "accelerator": "GPU"
  },
  "cells": [
    {
      "cell_type": "markdown",
      "source": [
        "# USD AAI 511 - Assignment #6 - Build an Autoencoder Neural Network\n",
        "\n",
        "by Bryan Carr\n",
        "\n",
        "8 August 2022\n",
        "\n",
        "In this assignment, we will build an autoencoder to break down and rebuild the 28x28 pixel handwritten digits of the MNIST dataset. The MNIST dataset will be sourced from Keras' built-in datasets libraries."
      ],
      "metadata": {
        "id": "XV8SG_gK87IM"
      }
    },
    {
      "cell_type": "markdown",
      "source": [
        "## 6.1: Setting up Libraries and Data\n",
        "\n",
        "First up, I will import the required libraries, set random seeds, and import the data set."
      ],
      "metadata": {
        "id": "7HgpamluGRzi"
      }
    },
    {
      "cell_type": "code",
      "source": [
        "# Import Key Libraries\n",
        "import numpy as np\n",
        "import pandas as pd\n",
        "import matplotlib.pyplot as plt\n",
        "\n",
        "import tensorflow as tf\n",
        "\n",
        "from keras.models import Sequential\n",
        "from keras.layers import Conv2D, Conv2DTranspose, MaxPool2D, Flatten, Dense, Reshape\n"
      ],
      "metadata": {
        "id": "NiUPs3Fk890S"
      },
      "execution_count": 31,
      "outputs": []
    },
    {
      "cell_type": "code",
      "source": [
        "# Set random seeds -- using 808 for the 8th of August (8th month)\n",
        "np.random.seed(808)\n",
        "tf.random.set_seed(808)"
      ],
      "metadata": {
        "id": "ng3cVJnv96Zh"
      },
      "execution_count": 2,
      "outputs": []
    },
    {
      "cell_type": "code",
      "source": [
        "# Import MNIST dataset\n",
        "from keras.datasets import mnist\n",
        "\n",
        "(x_train, y_train), (x_test, y_test) = mnist.load_data()"
      ],
      "metadata": {
        "id": "QSUtwuge-PmJ"
      },
      "execution_count": 3,
      "outputs": []
    },
    {
      "cell_type": "code",
      "source": [
        "x_train.shape"
      ],
      "metadata": {
        "colab": {
          "base_uri": "https://localhost:8080/",
          "height": 0
        },
        "id": "lOEIKk-hG6J1",
        "outputId": "5d1ea07d-8558-4f7d-cfb6-7af0275228ba"
      },
      "execution_count": 4,
      "outputs": [
        {
          "output_type": "execute_result",
          "data": {
            "text/plain": [
              "(60000, 28, 28)"
            ]
          },
          "metadata": {},
          "execution_count": 4
        }
      ]
    },
    {
      "cell_type": "code",
      "source": [
        "# Reshape data as Array and rescale as Greyscale\n",
        "\n",
        "x_train = x_train.reshape(x_train.shape[0], x_train.shape[1], x_train.shape[2], 1)\n",
        "x_train = x_train.astype('float32') / 255.0\n",
        "\n",
        "x_test = x_test.reshape(x_test.shape[0], x_test.shape[1], x_test.shape[2], 1)\n",
        "x_test = x_test.astype('float32') / 255.0"
      ],
      "metadata": {
        "id": "dQT91ZnTG8x3"
      },
      "execution_count": 5,
      "outputs": []
    },
    {
      "cell_type": "code",
      "source": [
        "x_train.shape"
      ],
      "metadata": {
        "colab": {
          "base_uri": "https://localhost:8080/",
          "height": 0
        },
        "id": "p5tKEDRGHh3C",
        "outputId": "463c77a6-5c84-4939-d16b-3205f2c3174e"
      },
      "execution_count": 6,
      "outputs": [
        {
          "output_type": "execute_result",
          "data": {
            "text/plain": [
              "(60000, 28, 28, 1)"
            ]
          },
          "metadata": {},
          "execution_count": 6
        }
      ]
    },
    {
      "cell_type": "markdown",
      "source": [
        "## 6.2: Build and Fit A Model\n",
        "\n",
        "I had success in Assignment 3 with a fairly simple CNN. I will aim to replicate it here as the first model, mirroring the encoding layers as the decoder.\n",
        "\n",
        "The architecture was:\n",
        "\n",
        "Inputs -> 3x3 Convolution w/ 32 Filters -> 2x2 Max Pooling -> 3x3 Convolution, 64 layers -> 2x2 Max Pooling -> Flatten -> Dense layer, 500 nodes -> Dense layer, 64 nodes -> Classification layer\n",
        "\n",
        "I will try using the 200 nodes as the Bottleneck layer, as 64 seems too small to capture the many variances, and 500 seems too large (and would have many many more parameters to train)"
      ],
      "metadata": {
        "id": "oSmlovs1IMC7"
      }
    },
    {
      "cell_type": "code",
      "source": [
        "model1 = Sequential(name='Autoencoder1')\n",
        "\n",
        "#First Convolution Layer\n",
        "model1.add(Conv2D(filters=32, kernel_size=(3,3), activation='relu', input_shape=(28,28,1), name='Conv1'))\n",
        "#model1.add(Dropout(rate=0.2))\n",
        "model1.add(MaxPool2D(pool_size=(2,2)))\n",
        "\n",
        "#Second Convolution Layer\n",
        "model1.add(Conv2D(filters=64, kernel_size=(3,3), activation='relu'))\n",
        "model1.add(MaxPool2D(pool_size=(2,2)))\n",
        "\n",
        "# Bottleneck: Flatten and Dense Layer\n",
        "model1.add(Flatten())\n",
        "model1.add(Dense(units=200, activation='relu'))\n"
      ],
      "metadata": {
        "id": "Xg-9JhZ5HjIY"
      },
      "execution_count": 7,
      "outputs": []
    },
    {
      "cell_type": "code",
      "source": [
        "# Continue adding the Decoder, which mirrors the above architecture\n",
        "\n",
        "# Reshape layer\n",
        "# this Dense layer expands it back to the size we had flattened from\n",
        "# I want a size of 7x7 for easy expansion. That requires: 7*7*64 = 3136 nodes\n",
        "model1.add(Dense(3136))  \n",
        "model1.add(Reshape(target_shape=(7,7,64)))\n",
        "\n",
        "#Add Conv2D Transpose layer\n",
        "# Our Transpose layers need to go 1 further in terms of Filters\n",
        "# FIrst layer reduces from 64 to 32 filters\n",
        "model1.add(Conv2DTranspose(filters=32, kernel_size=(3,3), strides=2, padding='same', activation='relu'))\n",
        "\n",
        "# Add 2nd Conv2D Transpose layer\n",
        "# This second layer reduces down to 1 filter, i.e. the Grayscale value\n",
        "# We also use Sigmoid activation to scale the results well in the 0-to-1 range\n",
        "model1.add(Conv2DTranspose(filters=1, kernel_size=(3,3), strides=2, padding='same', activation='sigmoid'))\n"
      ],
      "metadata": {
        "id": "HxApr_CKNWLd"
      },
      "execution_count": 9,
      "outputs": []
    },
    {
      "cell_type": "code",
      "source": [
        "print(model1.summary())"
      ],
      "metadata": {
        "colab": {
          "base_uri": "https://localhost:8080/",
          "height": 0
        },
        "id": "OpWzGcfbXzwj",
        "outputId": "cbb7fed2-f5fa-42fc-e35b-8d1c6dbf8513"
      },
      "execution_count": 10,
      "outputs": [
        {
          "output_type": "stream",
          "name": "stdout",
          "text": [
            "Model: \"Autoencoder1\"\n",
            "_________________________________________________________________\n",
            " Layer (type)                Output Shape              Param #   \n",
            "=================================================================\n",
            " Conv1 (Conv2D)              (None, 26, 26, 32)        320       \n",
            "                                                                 \n",
            " max_pooling2d (MaxPooling2D  (None, 13, 13, 32)       0         \n",
            " )                                                               \n",
            "                                                                 \n",
            " conv2d (Conv2D)             (None, 11, 11, 64)        18496     \n",
            "                                                                 \n",
            " max_pooling2d_1 (MaxPooling  (None, 5, 5, 64)         0         \n",
            " 2D)                                                             \n",
            "                                                                 \n",
            " flatten (Flatten)           (None, 1600)              0         \n",
            "                                                                 \n",
            " dense (Dense)               (None, 200)               320200    \n",
            "                                                                 \n",
            " dense_1 (Dense)             (None, 3136)              630336    \n",
            "                                                                 \n",
            " reshape (Reshape)           (None, 7, 7, 64)          0         \n",
            "                                                                 \n",
            " conv2d_transpose (Conv2DTra  (None, 14, 14, 32)       18464     \n",
            " nspose)                                                         \n",
            "                                                                 \n",
            " conv2d_transpose_1 (Conv2DT  (None, 28, 28, 1)        289       \n",
            " ranspose)                                                       \n",
            "                                                                 \n",
            "=================================================================\n",
            "Total params: 988,105\n",
            "Trainable params: 988,105\n",
            "Non-trainable params: 0\n",
            "_________________________________________________________________\n",
            "None\n"
          ]
        }
      ]
    },
    {
      "cell_type": "code",
      "source": [
        "## Now it is time to compile and train the model\n",
        "\n",
        "model1.compile(optimizer='adam', loss='binary_crossentropy')"
      ],
      "metadata": {
        "id": "lnuEuScWi3z7"
      },
      "execution_count": 11,
      "outputs": []
    },
    {
      "cell_type": "code",
      "source": [
        "# Fit the model and record its History, for plotting purposes\n",
        "\n",
        "history1 = model1.fit(x=x_train, y=x_train, batch_size=100, epochs=20, verbose=1, validation_split=0.2)"
      ],
      "metadata": {
        "colab": {
          "base_uri": "https://localhost:8080/",
          "height": 0
        },
        "id": "-5jfkQGspAFo",
        "outputId": "c0f974ed-c566-4c95-fa50-6301e5e03eeb"
      },
      "execution_count": 12,
      "outputs": [
        {
          "output_type": "stream",
          "name": "stdout",
          "text": [
            "Epoch 1/20\n",
            "480/480 [==============================] - 10s 9ms/step - loss: 0.1535 - val_loss: 0.0909\n",
            "Epoch 2/20\n",
            "480/480 [==============================] - 3s 5ms/step - loss: 0.0839 - val_loss: 0.0808\n",
            "Epoch 3/20\n",
            "480/480 [==============================] - 3s 6ms/step - loss: 0.0777 - val_loss: 0.0769\n",
            "Epoch 4/20\n",
            "480/480 [==============================] - 3s 5ms/step - loss: 0.0748 - val_loss: 0.0745\n",
            "Epoch 5/20\n",
            "480/480 [==============================] - 3s 6ms/step - loss: 0.0729 - val_loss: 0.0731\n",
            "Epoch 6/20\n",
            "480/480 [==============================] - 3s 5ms/step - loss: 0.0717 - val_loss: 0.0719\n",
            "Epoch 7/20\n",
            "480/480 [==============================] - 3s 5ms/step - loss: 0.0707 - val_loss: 0.0712\n",
            "Epoch 8/20\n",
            "480/480 [==============================] - 3s 6ms/step - loss: 0.0700 - val_loss: 0.0704\n",
            "Epoch 9/20\n",
            "480/480 [==============================] - 3s 6ms/step - loss: 0.0694 - val_loss: 0.0702\n",
            "Epoch 10/20\n",
            "480/480 [==============================] - 3s 6ms/step - loss: 0.0689 - val_loss: 0.0695\n",
            "Epoch 11/20\n",
            "480/480 [==============================] - 3s 6ms/step - loss: 0.0685 - val_loss: 0.0692\n",
            "Epoch 12/20\n",
            "480/480 [==============================] - 3s 6ms/step - loss: 0.0682 - val_loss: 0.0689\n",
            "Epoch 13/20\n",
            "480/480 [==============================] - 3s 6ms/step - loss: 0.0679 - val_loss: 0.0686\n",
            "Epoch 14/20\n",
            "480/480 [==============================] - 3s 6ms/step - loss: 0.0676 - val_loss: 0.0687\n",
            "Epoch 15/20\n",
            "480/480 [==============================] - 3s 5ms/step - loss: 0.0673 - val_loss: 0.0680\n",
            "Epoch 16/20\n",
            "480/480 [==============================] - 3s 5ms/step - loss: 0.0671 - val_loss: 0.0679\n",
            "Epoch 17/20\n",
            "480/480 [==============================] - 3s 6ms/step - loss: 0.0670 - val_loss: 0.0678\n",
            "Epoch 18/20\n",
            "480/480 [==============================] - 3s 6ms/step - loss: 0.0668 - val_loss: 0.0676\n",
            "Epoch 19/20\n",
            "480/480 [==============================] - 3s 6ms/step - loss: 0.0666 - val_loss: 0.0674\n",
            "Epoch 20/20\n",
            "480/480 [==============================] - 3s 5ms/step - loss: 0.0664 - val_loss: 0.0673\n"
          ]
        }
      ]
    },
    {
      "cell_type": "markdown",
      "source": [
        "## 6.3: Evaluate our Model\n",
        "\n",
        "Time to evaluate the model. I will plot the training progress curves, as well as some sample images.\n"
      ],
      "metadata": {
        "id": "f7K5ElVPqOE9"
      }
    },
    {
      "cell_type": "code",
      "source": [
        "# Plot training history by Epoch\n",
        "\n",
        "plt.plot(history1.history['loss'])\n",
        "plt.plot(history1.history['val_loss'])\n",
        "plt.title('Figure 6.3.1: Model Training Loss')\n",
        "plt.ylabel('Loss')\n",
        "plt.xlabel('Epoch')\n",
        "plt.legend(['Training', 'Validation'], loc='upper right')\n",
        "plt.show()"
      ],
      "metadata": {
        "colab": {
          "base_uri": "https://localhost:8080/",
          "height": 295
        },
        "id": "11j2EXBTqw8o",
        "outputId": "0c865dc1-7fce-4778-df41-6207114dbe88"
      },
      "execution_count": 21,
      "outputs": [
        {
          "output_type": "display_data",
          "data": {
            "text/plain": [
              "<Figure size 432x288 with 1 Axes>"
            ],
            "image/png": "[encoded data removed]"
          },
          "metadata": {
            "needs_background": "light"
          }
        }
      ]
    },
    {
      "cell_type": "code",
      "source": [
        "# Make predictions with our model\n",
        "\n",
        "x_pred = model1.predict(x_test)"
      ],
      "metadata": {
        "id": "WM2_6i0vqemy"
      },
      "execution_count": 14,
      "outputs": []
    },
    {
      "cell_type": "code",
      "source": [
        "# Visualize predictions\n",
        "\n",
        "n = 10\n",
        "plt.figure(figsize=(16,4))\n",
        "\n",
        "for i in range(n):\n",
        "  # Plot Original images\n",
        "  ax = plt.subplot(2, n, i+1)\n",
        "  ax.set_title(\"Original Image\")\n",
        "  plt.imshow(x_test[i].reshape(28,28))\n",
        "  plt.gray()\n",
        "  ax.get_xaxis().set_visible(False)\n",
        "  ax.get_yaxis().set_visible(False)\n",
        "\n",
        "  #Plot Predicted images\n",
        "  ax = plt.subplot(2, n, i+1+n)\n",
        "  ax.set_title(\"Predicted Image\")\n",
        "  plt.imshow(x_pred[i].reshape(28,28))\n",
        "  plt.gray()\n",
        "  ax.get_xaxis().set_visible(False)\n",
        "  ax.get_yaxis().set_visible(False)\n",
        "\n",
        "plt.suptitle('Figure 6.3.2: Sample of First 10 Predictions and Originals from Test Data')\n",
        "plt.show()"
      ],
      "metadata": {
        "colab": {
          "base_uri": "https://localhost:8080/",
          "height": 269
        },
        "id": "IOtj68SYqqsY",
        "outputId": "5c0b0bb2-09ff-4694-b352-e6d4c599a521"
      },
      "execution_count": 32,
      "outputs": [
        {
          "output_type": "display_data",
          "data": {
            "text/plain": [
              "<Figure size 1152x288 with 20 Axes>"
            ],
            "image/png": "[encoded data removed]"
          },
          "metadata": {
            "needs_background": "light"
          }
        }
      ]
    },
    {
      "cell_type": "code",
      "source": [
        "# Evaluate the Mean Squared Error across all samples\n",
        "\n",
        "mse = tf.keras.metrics.MeanSquaredError()\n",
        "mse.update_state(x_test, x_pred)\n",
        "mse.result().numpy()"
      ],
      "metadata": {
        "colab": {
          "base_uri": "https://localhost:8080/",
          "height": 0
        },
        "id": "EzR4jccQtvmi",
        "outputId": "e4e37a76-22c9-44f0-924a-4e66899981da"
      },
      "execution_count": 28,
      "outputs": [
        {
          "output_type": "execute_result",
          "data": {
            "text/plain": [
              "0.0020853113"
            ]
          },
          "metadata": {},
          "execution_count": 28
        }
      ]
    },
    {
      "cell_type": "code",
      "source": [
        "# Evaluate the Mean Absolute Error across all samples\n",
        "\n",
        "mae = tf.keras.metrics.MeanAbsoluteError()\n",
        "mae.update_state(x_test, x_pred)\n",
        "mae.result().numpy()"
      ],
      "metadata": {
        "colab": {
          "base_uri": "https://localhost:8080/",
          "height": 0
        },
        "id": "roqsEKK2z-YQ",
        "outputId": "2e3da53e-7c24-4614-ff6e-947345f31348"
      },
      "execution_count": 29,
      "outputs": [
        {
          "output_type": "execute_result",
          "data": {
            "text/plain": [
              "0.013470813"
            ]
          },
          "metadata": {},
          "execution_count": 29
        }
      ]
    },
    {
      "cell_type": "code",
      "source": [
        "# Evaluate the Binary Cross Entropy loss across all samples\n",
        "\n",
        "bce = tf.keras.metrics.BinaryCrossentropy()\n",
        "bce.update_state(x_test, x_pred)\n",
        "bce.result().numpy()"
      ],
      "metadata": {
        "colab": {
          "base_uri": "https://localhost:8080/",
          "height": 0
        },
        "id": "7vMLflhP3WWQ",
        "outputId": "9301eb2b-a38a-4d89-c126-3289a8b03487"
      },
      "execution_count": 30,
      "outputs": [
        {
          "output_type": "execute_result",
          "data": {
            "text/plain": [
              "0.06638464"
            ]
          },
          "metadata": {},
          "execution_count": 30
        }
      ]
    },
    {
      "cell_type": "markdown",
      "source": [
        "## 6.4: Conclusions\n",
        "\n",
        "During trianing, we saw the model quickly converge to less than 8% validation loss, demonstrating some good progress. Progress continued to be observed through all 20 epochs, albeit slowly.\n",
        "\n",
        "We can see from Fig 6.3.2 that the model is creating very visually accurate reproductions of the test images. The most notable error appears to be removing a small line in the final \"9\" image, which itself appears to be an error/smudge and not indicative of an actual number 9.\n",
        "\n",
        "Metric-wise, we see very good performance:\n",
        "\n",
        "MSE of 0.002,\n",
        "\n",
        "MAE of 0.013,\n",
        "\n",
        "and Binary Cross Entropy of 6.6%.\n",
        "\n",
        "Across 10,000 samples of 28x28 grayscale images (data ranging in 1/255 size steps from 0 to 1), these are very low errors to be observing. I am quite satisfied with the results."
      ],
      "metadata": {
        "id": "vyUn91lv1QNa"
      }
    },
    {
      "cell_type": "markdown",
      "source": [
        "## 6.5: References\n",
        "\n",
        "I was assisted by a coding tutorial on youtube, as well as an article by Dr. Brownlee to try and help understand the Conv2DTranspose layer.\n",
        "\n",
        "\n",
        "Brownlee, J. (2019, June 24). How to use the UpSampling2D and Conv2DTranspose Layers in Keras. MachineLearningMastery.Com. https://machinelearningmastery.com/upsampling-and-transpose-convolution-layers-for-generative-adversarial-networks/\n",
        "\n",
        "Tomar, N. [Idiot Developer]. (2021). Convolutional Autoencoder in TensorFlow 2.0 (Keras) - Deep Learning [Video]. YouTube. https://www.youtube.com/watch?v=1X7wPWnVkHg"
      ],
      "metadata": {
        "id": "KqX5CnYr9inn"
      }
    },
    {
      "cell_type": "code",
      "source": [
        ""
      ],
      "metadata": {
        "id": "CXboMK5r0SDp"
      },
      "execution_count": null,
      "outputs": []
    }
  ]
}