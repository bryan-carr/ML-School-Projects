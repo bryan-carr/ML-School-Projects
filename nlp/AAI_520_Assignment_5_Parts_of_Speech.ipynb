{
  "nbformat": 4,
  "nbformat_minor": 0,
  "metadata": {
    "colab": {
      "provenance": []
    },
    "kernelspec": {
      "name": "python3",
      "display_name": "Python 3"
    },
    "language_info": {
      "name": "python"
    }
  },
  "cells": [
    {
      "cell_type": "markdown",
      "source": [
        "# Assignment 5 - Parts of Speech\n",
        "\n",
        "by Bryan Carr\n",
        "\n",
        "10 October 2022\n",
        "\n",
        "for University of San Diego - AAI 520 Natural Language Processing\n",
        "\n",
        "Prof. Siamak Aram\n",
        "\n",
        "\n",
        "In this assignment, we'll be using the short story The Tale of Peter Rabbit by Beatrix Potter (1902). This story is in the public domain, and the text file was obtained from Project Gutenburg."
      ],
      "metadata": {
        "id": "ck4y7snVeERz"
      }
    },
    {
      "cell_type": "code",
      "source": [
        "# Import key libraries\n",
        "\n",
        "import spacy\n",
        "nlp = spacy.load('en_core_web_sm')\n",
        "from spacy import displacy\n",
        "\n",
        "import pandas as pd\n",
        "import numpy as np\n",
        "\n",
        "# Mount the Google Drive to use the data file\n",
        "from google.colab import drive\n",
        "drive.mount('/content/drive')"
      ],
      "metadata": {
        "colab": {
          "base_uri": "https://localhost:8080/"
        },
        "id": "nBYTWKH_eB51",
        "outputId": "27dba9fc-3579-40d3-ab9c-2b4b6da86399"
      },
      "execution_count": null,
      "outputs": [
        {
          "output_type": "stream",
          "name": "stdout",
          "text": [
            "Drive already mounted at /content/drive; to attempt to forcibly remount, call drive.mount(\"/content/drive\", force_remount=True).\n"
          ]
        }
      ]
    },
    {
      "cell_type": "markdown",
      "source": [
        "### **1. Create a Doc object from the text file peterrabbit.txt**"
      ],
      "metadata": {
        "id": "KZUUGGgliVC_"
      }
    },
    {
      "cell_type": "code",
      "source": [
        "# Read in the data\n",
        "text = open('/content/drive/My Drive/AAI 520 NLP/peterrabbit.txt').read()\n",
        "\n",
        "# Print out the data to check\n",
        "\n",
        "text"
      ],
      "metadata": {
        "colab": {
          "base_uri": "https://localhost:8080/",
          "height": 226
        },
        "id": "6BOH8-cUhTV9",
        "outputId": "56a12ed1-9c44-494e-ddd1-b10ff97a140b"
      },
      "execution_count": null,
      "outputs": [
        {
          "output_type": "execute_result",
          "data": {
            "text/plain": [
              "\"The Tale of Peter Rabbit, by Beatrix Potter (1902).\\n\\nOnce upon a time there were four little Rabbits, and their names\\nwere--\\n\\n          Flopsy,\\n       Mopsy,\\n   Cotton-tail,\\nand Peter.\\n\\nThey lived with their Mother in a sand-bank, underneath the root of a\\nvery big fir-tree.\\n\\n'Now my dears,' said old Mrs. Rabbit one morning, 'you may go into\\nthe fields or down the lane, but don't go into Mr. McGregor's garden:\\nyour Father had an accident there; he was put in a pie by Mrs.\\nMcGregor.'\\n\\n'Now run along, and don't get into mischief. I am going out.'\\n\\nThen old Mrs. Rabbit took a basket and her umbrella, and went through\\nthe wood to the baker's. She bought a loaf of brown bread and five\\ncurrant buns.\\n\\nFlopsy, Mopsy, and Cottontail, who were good little bunnies, went\\ndown the lane to gather blackberries:\\n\\nBut Peter, who was very naughty, ran straight away to Mr. McGregor's\\ngarden, and squeezed under the gate!\\n\\nFirst he ate some lettuces and some French beans; and then he ate\\nsome radishes;\\n\\nAnd then, feeling rather sick, he went to look for some parsley.\\n\\nBut round the end of a cucumber frame, whom should he meet but Mr.\\nMcGregor!\\n\\nMr. McGregor was on his hands and knees planting out young cabbages,\\nbut he jumped up and ran after Peter, waving a rake and calling out,\\n'Stop thief!'\\n\\nPeter was most dreadfully frightened; he rushed all over the garden,\\nfor he had forgotten the way back to the gate.\\n\\nHe lost one of his shoes among the cabbages, and the other shoe\\namongst the potatoes.\\n\\nAfter losing them, he ran on four legs and went faster, so that I\\nthink he might have got away altogether if he had not unfortunately\\nrun into a gooseberry net, and got caught by the large buttons on his\\njacket. It was a blue jacket with brass buttons, quite new.\\n\\nPeter gave himself up for lost, and shed big tears; but his sobs were\\noverheard by some friendly sparrows, who flew to him in great\\nexcitement, and implored him to exert himself.\\n\\nMr. McGregor came up with a sieve, which he intended to pop upon the\\ntop of Peter; but Peter wriggled out just in time, leaving his jacket\\nbehind him.\\n\\nAnd rushed into the tool-shed, and jumped into a can. It would have\\nbeen a beautiful thing to hide in, if it had not had so much water in it.\\n\\nMr. McGregor was quite sure that Peter was somewhere in the\\ntool-shed, perhaps hidden underneath a flower-pot. He began to turn\\nthem over carefully, looking under each.\\n\\nPresently Peter sneezed--'Kertyschoo!' Mr. McGregor was after him in\\nno time.\\n\\nAnd tried to put his foot upon Peter, who jumped out of a window,\\nupsetting three plants. The window was too small for Mr. McGregor, and\\nhe was tired of running after Peter. He went back to his work.\\n\\nPeter sat down to rest; he was out of breath and trembling with\\nfright, and he had not the least idea which way to go. Also he was\\nvery damp with sitting in that can.\\n\\nAfter a time he began to wander about, going lippity--lippity--not\\nvery fast, and looking all round.\\n\\nHe found a door in a wall; but it was locked, and there was no room\\nfor a fat little rabbit to squeeze underneath.\\n\\nAn old mouse was running in and out over the stone doorstep, carrying\\npeas and beans to her family in the wood. Peter asked her the way to\\nthe gate, but she had such a large pea in her mouth that she could not\\nanswer. She only shook her head at him. Peter began to cry.\\n\\nThen he tried to find his way straight across the garden, but he\\nbecame more and more puzzled. Presently, he came to a pond where Mr.\\nMcGregor filled his water-cans. A white cat was staring at some\\ngold-fish, she sat very, very still, but now and then the tip of her\\ntail twitched as if it were alive. Peter thought it best to go away\\nwithout speaking to her; he had heard about cats from his cousin,\\nlittle Benjamin Bunny.\\n\\nHe went back towards the tool-shed, but suddenly, quite close to him,\\nhe heard the noise of a hoe--scr-r-ritch, scratch, scratch, scritch.\\nPeter scuttered underneath the bushes. But presently, as nothing\\nhappened, he came out, and climbed upon a wheelbarrow and peeped over.\\nThe first thing he saw was Mr. McGregor hoeing onions. His back was\\nturned towards Peter, and beyond him was the gate!\\n\\nPeter got down very quietly off the wheelbarrow; and started running\\nas fast as he could go, along a straight walk behind some\\nblack-currant bushes.\\n\\nMr. McGregor caught sight of him at the corner, but Peter did not\\ncare. He slipped underneath the gate, and was safe at last in the wood\\noutside the garden.\\n\\nMr. McGregor hung up the little jacket and the shoes for a scare-crow\\nto frighten the blackbirds.\\n\\nPeter never stopped running or looked behind him till he got home to\\nthe big fir-tree.\\n\\nHe was so tired that he flopped down upon the nice soft sand on the\\nfloor of the rabbit-hole and shut his eyes. His mother was busy\\ncooking; she wondered what he had done with his clothes. It was the\\nsecond little jacket and pair of shoes that Peter had lost in a\\nfortnight!\\n\\nI am sorry to say that Peter was not very well during the evening.\\n\\nHis mother put him to bed, and made some camomile tea; and she gave a\\ndose of it to Peter!\\n\\n'One table-spoonful to be taken at bed-time.'\\n\\nBut Flopsy, Mopsy, and Cotton-tail had bread and milk and\\nblackberries for supper.\\n\\nTHE END\\n\""
            ],
            "application/vnd.google.colaboratory.intrinsic+json": {
              "type": "string"
            }
          },
          "metadata": {},
          "execution_count": 2
        }
      ]
    },
    {
      "cell_type": "code",
      "source": [
        "# Create the Doc object\n",
        "doc = nlp(text)\n",
        "\n",
        "#Check the first 60 tokens in Doc\n",
        "doc[:60]"
      ],
      "metadata": {
        "colab": {
          "base_uri": "https://localhost:8080/"
        },
        "id": "olDzdxGxhX9n",
        "outputId": "116bbc7c-4642-4aa4-daca-5c26c1a9650f"
      },
      "execution_count": null,
      "outputs": [
        {
          "output_type": "execute_result",
          "data": {
            "text/plain": [
              "The Tale of Peter Rabbit, by Beatrix Potter (1902).\n",
              "\n",
              "Once upon a time there were four little Rabbits, and their names\n",
              "were--\n",
              "\n",
              "          Flopsy,\n",
              "       Mopsy,\n",
              "   Cotton-tail,\n",
              "and Peter.\n",
              "\n",
              "They lived with their Mother in a sand-bank, underneath the root of"
            ]
          },
          "metadata": {},
          "execution_count": 3
        }
      ]
    },
    {
      "cell_type": "markdown",
      "source": [
        "### **2. For every token in the third sentence, print the Token, the POS Tag, the fine-grained TAG Tag, and the description of the fine-grained tag.**\n",
        "\n",
        "Sentence starts: \"They lived with their mother in a sand-bank...\""
      ],
      "metadata": {
        "id": "_2D1Z4-EimHv"
      }
    },
    {
      "cell_type": "code",
      "source": [
        "list_of_sentences = list(doc.sents)\n",
        "\n",
        "print(\"Number of Sentences: \" + str(len(list_of_sentences)))\n",
        "\n",
        "list_of_sentences[2]"
      ],
      "metadata": {
        "colab": {
          "base_uri": "https://localhost:8080/"
        },
        "id": "MD6outhDf8uP",
        "outputId": "3bb9e1b9-366d-4ee9-bffe-668677bda88a"
      },
      "execution_count": null,
      "outputs": [
        {
          "output_type": "stream",
          "name": "stdout",
          "text": [
            "Number of Sentences: 55\n"
          ]
        },
        {
          "output_type": "execute_result",
          "data": {
            "text/plain": [
              "They lived with their Mother in a sand-bank, underneath the root of a\n",
              "very big fir-tree.\n",
              "\n",
              "'"
            ]
          },
          "metadata": {},
          "execution_count": 4
        }
      ]
    },
    {
      "cell_type": "code",
      "source": [
        "doc_sentence3 = nlp(str(list_of_sentences[2]))\n",
        "\n",
        "doc_sentence3"
      ],
      "metadata": {
        "colab": {
          "base_uri": "https://localhost:8080/"
        },
        "id": "MDocojRAjGlK",
        "outputId": "2951f765-bc67-4a99-8aa7-bb02f37f2a32"
      },
      "execution_count": null,
      "outputs": [
        {
          "output_type": "execute_result",
          "data": {
            "text/plain": [
              "They lived with their Mother in a sand-bank, underneath the root of a\n",
              "very big fir-tree.\n",
              "\n",
              "'"
            ]
          },
          "metadata": {},
          "execution_count": 5
        }
      ]
    },
    {
      "cell_type": "code",
      "source": [
        "for token in doc_sentence3:\n",
        "  print(f'{token.text:{10}} {token.pos_:{8}} {token.tag_:{6}} {spacy.explain(token.tag_)}')"
      ],
      "metadata": {
        "colab": {
          "base_uri": "https://localhost:8080/"
        },
        "id": "1tfyt7u2kDDT",
        "outputId": "b5be5fd6-6f6d-42c3-80df-07eadbd52f29"
      },
      "execution_count": null,
      "outputs": [
        {
          "output_type": "stream",
          "name": "stdout",
          "text": [
            "They       PRON     PRP    pronoun, personal\n",
            "lived      VERB     VBD    verb, past tense\n",
            "with       ADP      IN     conjunction, subordinating or preposition\n",
            "their      PRON     PRP$   pronoun, possessive\n",
            "Mother     PROPN    NNP    noun, proper singular\n",
            "in         ADP      IN     conjunction, subordinating or preposition\n",
            "a          DET      DT     determiner\n",
            "sand       NOUN     NN     noun, singular or mass\n",
            "-          PUNCT    HYPH   punctuation mark, hyphen\n",
            "bank       NOUN     NN     noun, singular or mass\n",
            ",          PUNCT    ,      punctuation mark, comma\n",
            "underneath ADP      IN     conjunction, subordinating or preposition\n",
            "the        DET      DT     determiner\n",
            "root       NOUN     NN     noun, singular or mass\n",
            "of         ADP      IN     conjunction, subordinating or preposition\n",
            "a          DET      DT     determiner\n",
            "\n",
            "          SPACE    _SP    whitespace\n",
            "very       ADV      RB     adverb\n",
            "big        ADJ      JJ     adjective (English), other noun-modifier (Chinese)\n",
            "fir        NOUN     NN     noun, singular or mass\n",
            "-          PUNCT    HYPH   punctuation mark, hyphen\n",
            "tree       NOUN     NN     noun, singular or mass\n",
            ".          PUNCT    .      punctuation mark, sentence closer\n",
            "\n",
            "\n",
            "         SPACE    _SP    whitespace\n",
            "'          PUNCT    ''     closing quotation mark\n"
          ]
        }
      ]
    },
    {
      "cell_type": "markdown",
      "source": [
        "We can see the results more or less as expected. An extra period exists after the space at the end of the sentence.\n",
        "\n",
        "\n",
        "### **3. Provide a frequency list of POS tags from the entire document**"
      ],
      "metadata": {
        "id": "2HcncUG2wARu"
      }
    },
    {
      "cell_type": "code",
      "source": [
        "pos_counts = doc.count_by(spacy.attrs.POS)\n",
        "\n",
        "for k, v in sorted(pos_counts.items()):\n",
        "  print(f'{k}. {doc.vocab[k].text:{5}}: {v}')"
      ],
      "metadata": {
        "colab": {
          "base_uri": "https://localhost:8080/"
        },
        "id": "eQpt5fZ5v5uc",
        "outputId": "7d9acb47-1f2e-48ce-c568-62c910865ceb"
      },
      "execution_count": null,
      "outputs": [
        {
          "output_type": "stream",
          "name": "stdout",
          "text": [
            "84. ADJ  : 54\n",
            "85. ADP  : 122\n",
            "86. ADV  : 67\n",
            "87. AUX  : 49\n",
            "89. CCONJ: 61\n",
            "90. DET  : 90\n",
            "92. NOUN : 166\n",
            "93. NUM  : 8\n",
            "94. PART : 29\n",
            "95. PRON : 109\n",
            "96. PROPN: 76\n",
            "97. PUNCT: 173\n",
            "98. SCONJ: 20\n",
            "100. VERB : 135\n",
            "103. SPACE: 99\n"
          ]
        }
      ]
    },
    {
      "cell_type": "markdown",
      "source": [
        "### 4. **CHALLENGE: What percentage of tokens are nouns?**"
      ],
      "metadata": {
        "id": "poz6KBRRxKnO"
      }
    },
    {
      "cell_type": "code",
      "source": [
        "# First compute the total number of entries\n",
        "# I am using a loop because sum across the dictionary gives a strange result - nearly 1400\n",
        "\n",
        "total = 0\n",
        "for k, v in pos_counts.items():\n",
        "  total += v\n",
        "\n",
        "total"
      ],
      "metadata": {
        "colab": {
          "base_uri": "https://localhost:8080/"
        },
        "id": "5YKsZCL7xIlb",
        "outputId": "2ac80f3b-6f16-4299-b06c-1cdb47d400e2"
      },
      "execution_count": null,
      "outputs": [
        {
          "output_type": "execute_result",
          "data": {
            "text/plain": [
              "1258"
            ]
          },
          "metadata": {},
          "execution_count": 8
        }
      ]
    },
    {
      "cell_type": "code",
      "source": [
        "# Next calculate the percentage based on the count at entry 92, for Nouns\n",
        "\n",
        "noun_percentage = pos_counts[92] / total\n",
        "\n",
        "noun_percentage"
      ],
      "metadata": {
        "colab": {
          "base_uri": "https://localhost:8080/"
        },
        "id": "xum8AKtDxZBA",
        "outputId": "b0d74c75-2e50-440c-aa9a-0a9b44de58d3"
      },
      "execution_count": null,
      "outputs": [
        {
          "output_type": "execute_result",
          "data": {
            "text/plain": [
              "0.13195548489666137"
            ]
          },
          "metadata": {},
          "execution_count": 9
        }
      ]
    },
    {
      "cell_type": "markdown",
      "source": [
        "The result, 13.20%, is close to the 13.99% expected. Our text document and POS count results are slightly different than the expected ones in the assignment handout, with only 166 nouns vs 176 expected.\n",
        "\n",
        "### **5. Display the Dependency Parse for the third sentence**\n",
        "\n",
        "We can show the dependency parse using the Displacy package. Render will create a nice graphical representation, whereas Parse_Deps will give us a raw dictionary with the information - one keyed on Words (tokens with part of speech), and one keyed on Arcs (for the arrows showing relationship)."
      ],
      "metadata": {
        "id": "h85g2x1px-Mo"
      }
    },
    {
      "cell_type": "code",
      "source": [
        "# Using .render to show graphically\n",
        "\n",
        "displacy.render(doc_sentence3, style='dep', options={'distance':110}, jupyter=True)"
      ],
      "metadata": {
        "colab": {
          "base_uri": "https://localhost:8080/",
          "height": 453
        },
        "id": "ghX6uPT4x0sH",
        "outputId": "0fc2da6d-af7c-4632-a48f-da6ce39b3316"
      },
      "execution_count": null,
      "outputs": [
        {
          "output_type": "display_data",
          "data": {
            "text/plain": [
              "<IPython.core.display.HTML object>"
            ],
            "text/html": [
              "<span class=\"tex2jax_ignore\"><svg xmlns=\"http://www.w3.org/2000/svg\" xmlns:xlink=\"http://www.w3.org/1999/xlink\" xml:lang=\"en\" id=\"b8d9a2d0d9944141a5e39db88dfbfc2a-0\" class=\"displacy\" width=\"2250\" height=\"412.0\" direction=\"ltr\" style=\"max-width: none; height: 412.0px; color: #000000; background: #ffffff; font-family: Arial; direction: ltr\">\n",
              "<text class=\"displacy-token\" fill=\"currentColor\" text-anchor=\"middle\" y=\"322.0\">\n",
              "    <tspan class=\"displacy-word\" fill=\"currentColor\" x=\"50\">They</tspan>\n",
              "    <tspan class=\"displacy-tag\" dy=\"2em\" fill=\"currentColor\" x=\"50\">PRON</tspan>\n",
              "</text>\n",
              "\n",
              "<text class=\"displacy-token\" fill=\"currentColor\" text-anchor=\"middle\" y=\"322.0\">\n",
              "    <tspan class=\"displacy-word\" fill=\"currentColor\" x=\"160\">lived</tspan>\n",
              "    <tspan class=\"displacy-tag\" dy=\"2em\" fill=\"currentColor\" x=\"160\">VERB</tspan>\n",
              "</text>\n",
              "\n",
              "<text class=\"displacy-token\" fill=\"currentColor\" text-anchor=\"middle\" y=\"322.0\">\n",
              "    <tspan class=\"displacy-word\" fill=\"currentColor\" x=\"270\">with</tspan>\n",
              "    <tspan class=\"displacy-tag\" dy=\"2em\" fill=\"currentColor\" x=\"270\">ADP</tspan>\n",
              "</text>\n",
              "\n",
              "<text class=\"displacy-token\" fill=\"currentColor\" text-anchor=\"middle\" y=\"322.0\">\n",
              "    <tspan class=\"displacy-word\" fill=\"currentColor\" x=\"380\">their</tspan>\n",
              "    <tspan class=\"displacy-tag\" dy=\"2em\" fill=\"currentColor\" x=\"380\">PRON</tspan>\n",
              "</text>\n",
              "\n",
              "<text class=\"displacy-token\" fill=\"currentColor\" text-anchor=\"middle\" y=\"322.0\">\n",
              "    <tspan class=\"displacy-word\" fill=\"currentColor\" x=\"490\">Mother</tspan>\n",
              "    <tspan class=\"displacy-tag\" dy=\"2em\" fill=\"currentColor\" x=\"490\">PROPN</tspan>\n",
              "</text>\n",
              "\n",
              "<text class=\"displacy-token\" fill=\"currentColor\" text-anchor=\"middle\" y=\"322.0\">\n",
              "    <tspan class=\"displacy-word\" fill=\"currentColor\" x=\"600\">in</tspan>\n",
              "    <tspan class=\"displacy-tag\" dy=\"2em\" fill=\"currentColor\" x=\"600\">ADP</tspan>\n",
              "</text>\n",
              "\n",
              "<text class=\"displacy-token\" fill=\"currentColor\" text-anchor=\"middle\" y=\"322.0\">\n",
              "    <tspan class=\"displacy-word\" fill=\"currentColor\" x=\"710\">a</tspan>\n",
              "    <tspan class=\"displacy-tag\" dy=\"2em\" fill=\"currentColor\" x=\"710\">DET</tspan>\n",
              "</text>\n",
              "\n",
              "<text class=\"displacy-token\" fill=\"currentColor\" text-anchor=\"middle\" y=\"322.0\">\n",
              "    <tspan class=\"displacy-word\" fill=\"currentColor\" x=\"820\">sand-</tspan>\n",
              "    <tspan class=\"displacy-tag\" dy=\"2em\" fill=\"currentColor\" x=\"820\">NOUN</tspan>\n",
              "</text>\n",
              "\n",
              "<text class=\"displacy-token\" fill=\"currentColor\" text-anchor=\"middle\" y=\"322.0\">\n",
              "    <tspan class=\"displacy-word\" fill=\"currentColor\" x=\"930\">bank,</tspan>\n",
              "    <tspan class=\"displacy-tag\" dy=\"2em\" fill=\"currentColor\" x=\"930\">NOUN</tspan>\n",
              "</text>\n",
              "\n",
              "<text class=\"displacy-token\" fill=\"currentColor\" text-anchor=\"middle\" y=\"322.0\">\n",
              "    <tspan class=\"displacy-word\" fill=\"currentColor\" x=\"1040\">underneath</tspan>\n",
              "    <tspan class=\"displacy-tag\" dy=\"2em\" fill=\"currentColor\" x=\"1040\">ADP</tspan>\n",
              "</text>\n",
              "\n",
              "<text class=\"displacy-token\" fill=\"currentColor\" text-anchor=\"middle\" y=\"322.0\">\n",
              "    <tspan class=\"displacy-word\" fill=\"currentColor\" x=\"1150\">the</tspan>\n",
              "    <tspan class=\"displacy-tag\" dy=\"2em\" fill=\"currentColor\" x=\"1150\">DET</tspan>\n",
              "</text>\n",
              "\n",
              "<text class=\"displacy-token\" fill=\"currentColor\" text-anchor=\"middle\" y=\"322.0\">\n",
              "    <tspan class=\"displacy-word\" fill=\"currentColor\" x=\"1260\">root</tspan>\n",
              "    <tspan class=\"displacy-tag\" dy=\"2em\" fill=\"currentColor\" x=\"1260\">NOUN</tspan>\n",
              "</text>\n",
              "\n",
              "<text class=\"displacy-token\" fill=\"currentColor\" text-anchor=\"middle\" y=\"322.0\">\n",
              "    <tspan class=\"displacy-word\" fill=\"currentColor\" x=\"1370\">of</tspan>\n",
              "    <tspan class=\"displacy-tag\" dy=\"2em\" fill=\"currentColor\" x=\"1370\">ADP</tspan>\n",
              "</text>\n",
              "\n",
              "<text class=\"displacy-token\" fill=\"currentColor\" text-anchor=\"middle\" y=\"322.0\">\n",
              "    <tspan class=\"displacy-word\" fill=\"currentColor\" x=\"1480\">a</tspan>\n",
              "    <tspan class=\"displacy-tag\" dy=\"2em\" fill=\"currentColor\" x=\"1480\">DET</tspan>\n",
              "</text>\n",
              "\n",
              "<text class=\"displacy-token\" fill=\"currentColor\" text-anchor=\"middle\" y=\"322.0\">\n",
              "    <tspan class=\"displacy-word\" fill=\"currentColor\" x=\"1590\">\n",
              "</tspan>\n",
              "    <tspan class=\"displacy-tag\" dy=\"2em\" fill=\"currentColor\" x=\"1590\">SPACE</tspan>\n",
              "</text>\n",
              "\n",
              "<text class=\"displacy-token\" fill=\"currentColor\" text-anchor=\"middle\" y=\"322.0\">\n",
              "    <tspan class=\"displacy-word\" fill=\"currentColor\" x=\"1700\">very</tspan>\n",
              "    <tspan class=\"displacy-tag\" dy=\"2em\" fill=\"currentColor\" x=\"1700\">ADV</tspan>\n",
              "</text>\n",
              "\n",
              "<text class=\"displacy-token\" fill=\"currentColor\" text-anchor=\"middle\" y=\"322.0\">\n",
              "    <tspan class=\"displacy-word\" fill=\"currentColor\" x=\"1810\">big</tspan>\n",
              "    <tspan class=\"displacy-tag\" dy=\"2em\" fill=\"currentColor\" x=\"1810\">ADJ</tspan>\n",
              "</text>\n",
              "\n",
              "<text class=\"displacy-token\" fill=\"currentColor\" text-anchor=\"middle\" y=\"322.0\">\n",
              "    <tspan class=\"displacy-word\" fill=\"currentColor\" x=\"1920\">fir-</tspan>\n",
              "    <tspan class=\"displacy-tag\" dy=\"2em\" fill=\"currentColor\" x=\"1920\">NOUN</tspan>\n",
              "</text>\n",
              "\n",
              "<text class=\"displacy-token\" fill=\"currentColor\" text-anchor=\"middle\" y=\"322.0\">\n",
              "    <tspan class=\"displacy-word\" fill=\"currentColor\" x=\"2030\">tree.</tspan>\n",
              "    <tspan class=\"displacy-tag\" dy=\"2em\" fill=\"currentColor\" x=\"2030\">PUNCT</tspan>\n",
              "</text>\n",
              "\n",
              "<text class=\"displacy-token\" fill=\"currentColor\" text-anchor=\"middle\" y=\"322.0\">\n",
              "    <tspan class=\"displacy-word\" fill=\"currentColor\" x=\"2140\">\n",
              "\n",
              "'</tspan>\n",
              "    <tspan class=\"displacy-tag\" dy=\"2em\" fill=\"currentColor\" x=\"2140\">SPACE</tspan>\n",
              "</text>\n",
              "\n",
              "<g class=\"displacy-arrow\">\n",
              "    <path class=\"displacy-arc\" id=\"arrow-b8d9a2d0d9944141a5e39db88dfbfc2a-0-0\" stroke-width=\"2px\" d=\"M70,277.0 C70,222.0 140.0,222.0 140.0,277.0\" fill=\"none\" stroke=\"currentColor\"/>\n",
              "    <text dy=\"1.25em\" style=\"font-size: 0.8em; letter-spacing: 1px\">\n",
              "        <textPath xlink:href=\"#arrow-b8d9a2d0d9944141a5e39db88dfbfc2a-0-0\" class=\"displacy-label\" startOffset=\"50%\" side=\"left\" fill=\"currentColor\" text-anchor=\"middle\">nsubj</textPath>\n",
              "    </text>\n",
              "    <path class=\"displacy-arrowhead\" d=\"M70,279.0 L62,267.0 78,267.0\" fill=\"currentColor\"/>\n",
              "</g>\n",
              "\n",
              "<g class=\"displacy-arrow\">\n",
              "    <path class=\"displacy-arc\" id=\"arrow-b8d9a2d0d9944141a5e39db88dfbfc2a-0-1\" stroke-width=\"2px\" d=\"M180,277.0 C180,222.0 250.0,222.0 250.0,277.0\" fill=\"none\" stroke=\"currentColor\"/>\n",
              "    <text dy=\"1.25em\" style=\"font-size: 0.8em; letter-spacing: 1px\">\n",
              "        <textPath xlink:href=\"#arrow-b8d9a2d0d9944141a5e39db88dfbfc2a-0-1\" class=\"displacy-label\" startOffset=\"50%\" side=\"left\" fill=\"currentColor\" text-anchor=\"middle\">prep</textPath>\n",
              "    </text>\n",
              "    <path class=\"displacy-arrowhead\" d=\"M250.0,279.0 L258.0,267.0 242.0,267.0\" fill=\"currentColor\"/>\n",
              "</g>\n",
              "\n",
              "<g class=\"displacy-arrow\">\n",
              "    <path class=\"displacy-arc\" id=\"arrow-b8d9a2d0d9944141a5e39db88dfbfc2a-0-2\" stroke-width=\"2px\" d=\"M400,277.0 C400,222.0 470.0,222.0 470.0,277.0\" fill=\"none\" stroke=\"currentColor\"/>\n",
              "    <text dy=\"1.25em\" style=\"font-size: 0.8em; letter-spacing: 1px\">\n",
              "        <textPath xlink:href=\"#arrow-b8d9a2d0d9944141a5e39db88dfbfc2a-0-2\" class=\"displacy-label\" startOffset=\"50%\" side=\"left\" fill=\"currentColor\" text-anchor=\"middle\">poss</textPath>\n",
              "    </text>\n",
              "    <path class=\"displacy-arrowhead\" d=\"M400,279.0 L392,267.0 408,267.0\" fill=\"currentColor\"/>\n",
              "</g>\n",
              "\n",
              "<g class=\"displacy-arrow\">\n",
              "    <path class=\"displacy-arc\" id=\"arrow-b8d9a2d0d9944141a5e39db88dfbfc2a-0-3\" stroke-width=\"2px\" d=\"M290,277.0 C290,167.0 475.0,167.0 475.0,277.0\" fill=\"none\" stroke=\"currentColor\"/>\n",
              "    <text dy=\"1.25em\" style=\"font-size: 0.8em; letter-spacing: 1px\">\n",
              "        <textPath xlink:href=\"#arrow-b8d9a2d0d9944141a5e39db88dfbfc2a-0-3\" class=\"displacy-label\" startOffset=\"50%\" side=\"left\" fill=\"currentColor\" text-anchor=\"middle\">pobj</textPath>\n",
              "    </text>\n",
              "    <path class=\"displacy-arrowhead\" d=\"M475.0,279.0 L483.0,267.0 467.0,267.0\" fill=\"currentColor\"/>\n",
              "</g>\n",
              "\n",
              "<g class=\"displacy-arrow\">\n",
              "    <path class=\"displacy-arc\" id=\"arrow-b8d9a2d0d9944141a5e39db88dfbfc2a-0-4\" stroke-width=\"2px\" d=\"M180,277.0 C180,112.0 590.0,112.0 590.0,277.0\" fill=\"none\" stroke=\"currentColor\"/>\n",
              "    <text dy=\"1.25em\" style=\"font-size: 0.8em; letter-spacing: 1px\">\n",
              "        <textPath xlink:href=\"#arrow-b8d9a2d0d9944141a5e39db88dfbfc2a-0-4\" class=\"displacy-label\" startOffset=\"50%\" side=\"left\" fill=\"currentColor\" text-anchor=\"middle\">prep</textPath>\n",
              "    </text>\n",
              "    <path class=\"displacy-arrowhead\" d=\"M590.0,279.0 L598.0,267.0 582.0,267.0\" fill=\"currentColor\"/>\n",
              "</g>\n",
              "\n",
              "<g class=\"displacy-arrow\">\n",
              "    <path class=\"displacy-arc\" id=\"arrow-b8d9a2d0d9944141a5e39db88dfbfc2a-0-5\" stroke-width=\"2px\" d=\"M730,277.0 C730,167.0 915.0,167.0 915.0,277.0\" fill=\"none\" stroke=\"currentColor\"/>\n",
              "    <text dy=\"1.25em\" style=\"font-size: 0.8em; letter-spacing: 1px\">\n",
              "        <textPath xlink:href=\"#arrow-b8d9a2d0d9944141a5e39db88dfbfc2a-0-5\" class=\"displacy-label\" startOffset=\"50%\" side=\"left\" fill=\"currentColor\" text-anchor=\"middle\">det</textPath>\n",
              "    </text>\n",
              "    <path class=\"displacy-arrowhead\" d=\"M730,279.0 L722,267.0 738,267.0\" fill=\"currentColor\"/>\n",
              "</g>\n",
              "\n",
              "<g class=\"displacy-arrow\">\n",
              "    <path class=\"displacy-arc\" id=\"arrow-b8d9a2d0d9944141a5e39db88dfbfc2a-0-6\" stroke-width=\"2px\" d=\"M840,277.0 C840,222.0 910.0,222.0 910.0,277.0\" fill=\"none\" stroke=\"currentColor\"/>\n",
              "    <text dy=\"1.25em\" style=\"font-size: 0.8em; letter-spacing: 1px\">\n",
              "        <textPath xlink:href=\"#arrow-b8d9a2d0d9944141a5e39db88dfbfc2a-0-6\" class=\"displacy-label\" startOffset=\"50%\" side=\"left\" fill=\"currentColor\" text-anchor=\"middle\">compound</textPath>\n",
              "    </text>\n",
              "    <path class=\"displacy-arrowhead\" d=\"M840,279.0 L832,267.0 848,267.0\" fill=\"currentColor\"/>\n",
              "</g>\n",
              "\n",
              "<g class=\"displacy-arrow\">\n",
              "    <path class=\"displacy-arc\" id=\"arrow-b8d9a2d0d9944141a5e39db88dfbfc2a-0-7\" stroke-width=\"2px\" d=\"M620,277.0 C620,112.0 920.0,112.0 920.0,277.0\" fill=\"none\" stroke=\"currentColor\"/>\n",
              "    <text dy=\"1.25em\" style=\"font-size: 0.8em; letter-spacing: 1px\">\n",
              "        <textPath xlink:href=\"#arrow-b8d9a2d0d9944141a5e39db88dfbfc2a-0-7\" class=\"displacy-label\" startOffset=\"50%\" side=\"left\" fill=\"currentColor\" text-anchor=\"middle\">pobj</textPath>\n",
              "    </text>\n",
              "    <path class=\"displacy-arrowhead\" d=\"M920.0,279.0 L928.0,267.0 912.0,267.0\" fill=\"currentColor\"/>\n",
              "</g>\n",
              "\n",
              "<g class=\"displacy-arrow\">\n",
              "    <path class=\"displacy-arc\" id=\"arrow-b8d9a2d0d9944141a5e39db88dfbfc2a-0-8\" stroke-width=\"2px\" d=\"M180,277.0 C180,57.0 1035.0,57.0 1035.0,277.0\" fill=\"none\" stroke=\"currentColor\"/>\n",
              "    <text dy=\"1.25em\" style=\"font-size: 0.8em; letter-spacing: 1px\">\n",
              "        <textPath xlink:href=\"#arrow-b8d9a2d0d9944141a5e39db88dfbfc2a-0-8\" class=\"displacy-label\" startOffset=\"50%\" side=\"left\" fill=\"currentColor\" text-anchor=\"middle\">prep</textPath>\n",
              "    </text>\n",
              "    <path class=\"displacy-arrowhead\" d=\"M1035.0,279.0 L1043.0,267.0 1027.0,267.0\" fill=\"currentColor\"/>\n",
              "</g>\n",
              "\n",
              "<g class=\"displacy-arrow\">\n",
              "    <path class=\"displacy-arc\" id=\"arrow-b8d9a2d0d9944141a5e39db88dfbfc2a-0-9\" stroke-width=\"2px\" d=\"M1170,277.0 C1170,222.0 1240.0,222.0 1240.0,277.0\" fill=\"none\" stroke=\"currentColor\"/>\n",
              "    <text dy=\"1.25em\" style=\"font-size: 0.8em; letter-spacing: 1px\">\n",
              "        <textPath xlink:href=\"#arrow-b8d9a2d0d9944141a5e39db88dfbfc2a-0-9\" class=\"displacy-label\" startOffset=\"50%\" side=\"left\" fill=\"currentColor\" text-anchor=\"middle\">det</textPath>\n",
              "    </text>\n",
              "    <path class=\"displacy-arrowhead\" d=\"M1170,279.0 L1162,267.0 1178,267.0\" fill=\"currentColor\"/>\n",
              "</g>\n",
              "\n",
              "<g class=\"displacy-arrow\">\n",
              "    <path class=\"displacy-arc\" id=\"arrow-b8d9a2d0d9944141a5e39db88dfbfc2a-0-10\" stroke-width=\"2px\" d=\"M1060,277.0 C1060,167.0 1245.0,167.0 1245.0,277.0\" fill=\"none\" stroke=\"currentColor\"/>\n",
              "    <text dy=\"1.25em\" style=\"font-size: 0.8em; letter-spacing: 1px\">\n",
              "        <textPath xlink:href=\"#arrow-b8d9a2d0d9944141a5e39db88dfbfc2a-0-10\" class=\"displacy-label\" startOffset=\"50%\" side=\"left\" fill=\"currentColor\" text-anchor=\"middle\">pobj</textPath>\n",
              "    </text>\n",
              "    <path class=\"displacy-arrowhead\" d=\"M1245.0,279.0 L1253.0,267.0 1237.0,267.0\" fill=\"currentColor\"/>\n",
              "</g>\n",
              "\n",
              "<g class=\"displacy-arrow\">\n",
              "    <path class=\"displacy-arc\" id=\"arrow-b8d9a2d0d9944141a5e39db88dfbfc2a-0-11\" stroke-width=\"2px\" d=\"M1280,277.0 C1280,222.0 1350.0,222.0 1350.0,277.0\" fill=\"none\" stroke=\"currentColor\"/>\n",
              "    <text dy=\"1.25em\" style=\"font-size: 0.8em; letter-spacing: 1px\">\n",
              "        <textPath xlink:href=\"#arrow-b8d9a2d0d9944141a5e39db88dfbfc2a-0-11\" class=\"displacy-label\" startOffset=\"50%\" side=\"left\" fill=\"currentColor\" text-anchor=\"middle\">prep</textPath>\n",
              "    </text>\n",
              "    <path class=\"displacy-arrowhead\" d=\"M1350.0,279.0 L1358.0,267.0 1342.0,267.0\" fill=\"currentColor\"/>\n",
              "</g>\n",
              "\n",
              "<g class=\"displacy-arrow\">\n",
              "    <path class=\"displacy-arc\" id=\"arrow-b8d9a2d0d9944141a5e39db88dfbfc2a-0-12\" stroke-width=\"2px\" d=\"M1500,277.0 C1500,112.0 2020.0,112.0 2020.0,277.0\" fill=\"none\" stroke=\"currentColor\"/>\n",
              "    <text dy=\"1.25em\" style=\"font-size: 0.8em; letter-spacing: 1px\">\n",
              "        <textPath xlink:href=\"#arrow-b8d9a2d0d9944141a5e39db88dfbfc2a-0-12\" class=\"displacy-label\" startOffset=\"50%\" side=\"left\" fill=\"currentColor\" text-anchor=\"middle\">det</textPath>\n",
              "    </text>\n",
              "    <path class=\"displacy-arrowhead\" d=\"M1500,279.0 L1492,267.0 1508,267.0\" fill=\"currentColor\"/>\n",
              "</g>\n",
              "\n",
              "<g class=\"displacy-arrow\">\n",
              "    <path class=\"displacy-arc\" id=\"arrow-b8d9a2d0d9944141a5e39db88dfbfc2a-0-13\" stroke-width=\"2px\" d=\"M1500,277.0 C1500,222.0 1570.0,222.0 1570.0,277.0\" fill=\"none\" stroke=\"currentColor\"/>\n",
              "    <text dy=\"1.25em\" style=\"font-size: 0.8em; letter-spacing: 1px\">\n",
              "        <textPath xlink:href=\"#arrow-b8d9a2d0d9944141a5e39db88dfbfc2a-0-13\" class=\"displacy-label\" startOffset=\"50%\" side=\"left\" fill=\"currentColor\" text-anchor=\"middle\">dep</textPath>\n",
              "    </text>\n",
              "    <path class=\"displacy-arrowhead\" d=\"M1570.0,279.0 L1578.0,267.0 1562.0,267.0\" fill=\"currentColor\"/>\n",
              "</g>\n",
              "\n",
              "<g class=\"displacy-arrow\">\n",
              "    <path class=\"displacy-arc\" id=\"arrow-b8d9a2d0d9944141a5e39db88dfbfc2a-0-14\" stroke-width=\"2px\" d=\"M1720,277.0 C1720,222.0 1790.0,222.0 1790.0,277.0\" fill=\"none\" stroke=\"currentColor\"/>\n",
              "    <text dy=\"1.25em\" style=\"font-size: 0.8em; letter-spacing: 1px\">\n",
              "        <textPath xlink:href=\"#arrow-b8d9a2d0d9944141a5e39db88dfbfc2a-0-14\" class=\"displacy-label\" startOffset=\"50%\" side=\"left\" fill=\"currentColor\" text-anchor=\"middle\">advmod</textPath>\n",
              "    </text>\n",
              "    <path class=\"displacy-arrowhead\" d=\"M1720,279.0 L1712,267.0 1728,267.0\" fill=\"currentColor\"/>\n",
              "</g>\n",
              "\n",
              "<g class=\"displacy-arrow\">\n",
              "    <path class=\"displacy-arc\" id=\"arrow-b8d9a2d0d9944141a5e39db88dfbfc2a-0-15\" stroke-width=\"2px\" d=\"M1830,277.0 C1830,167.0 2015.0,167.0 2015.0,277.0\" fill=\"none\" stroke=\"currentColor\"/>\n",
              "    <text dy=\"1.25em\" style=\"font-size: 0.8em; letter-spacing: 1px\">\n",
              "        <textPath xlink:href=\"#arrow-b8d9a2d0d9944141a5e39db88dfbfc2a-0-15\" class=\"displacy-label\" startOffset=\"50%\" side=\"left\" fill=\"currentColor\" text-anchor=\"middle\">amod</textPath>\n",
              "    </text>\n",
              "    <path class=\"displacy-arrowhead\" d=\"M1830,279.0 L1822,267.0 1838,267.0\" fill=\"currentColor\"/>\n",
              "</g>\n",
              "\n",
              "<g class=\"displacy-arrow\">\n",
              "    <path class=\"displacy-arc\" id=\"arrow-b8d9a2d0d9944141a5e39db88dfbfc2a-0-16\" stroke-width=\"2px\" d=\"M1940,277.0 C1940,222.0 2010.0,222.0 2010.0,277.0\" fill=\"none\" stroke=\"currentColor\"/>\n",
              "    <text dy=\"1.25em\" style=\"font-size: 0.8em; letter-spacing: 1px\">\n",
              "        <textPath xlink:href=\"#arrow-b8d9a2d0d9944141a5e39db88dfbfc2a-0-16\" class=\"displacy-label\" startOffset=\"50%\" side=\"left\" fill=\"currentColor\" text-anchor=\"middle\">compound</textPath>\n",
              "    </text>\n",
              "    <path class=\"displacy-arrowhead\" d=\"M1940,279.0 L1932,267.0 1948,267.0\" fill=\"currentColor\"/>\n",
              "</g>\n",
              "\n",
              "<g class=\"displacy-arrow\">\n",
              "    <path class=\"displacy-arc\" id=\"arrow-b8d9a2d0d9944141a5e39db88dfbfc2a-0-17\" stroke-width=\"2px\" d=\"M180,277.0 C180,2.0 2030.0,2.0 2030.0,277.0\" fill=\"none\" stroke=\"currentColor\"/>\n",
              "    <text dy=\"1.25em\" style=\"font-size: 0.8em; letter-spacing: 1px\">\n",
              "        <textPath xlink:href=\"#arrow-b8d9a2d0d9944141a5e39db88dfbfc2a-0-17\" class=\"displacy-label\" startOffset=\"50%\" side=\"left\" fill=\"currentColor\" text-anchor=\"middle\">punct</textPath>\n",
              "    </text>\n",
              "    <path class=\"displacy-arrowhead\" d=\"M2030.0,279.0 L2038.0,267.0 2022.0,267.0\" fill=\"currentColor\"/>\n",
              "</g>\n",
              "\n",
              "<g class=\"displacy-arrow\">\n",
              "    <path class=\"displacy-arc\" id=\"arrow-b8d9a2d0d9944141a5e39db88dfbfc2a-0-18\" stroke-width=\"2px\" d=\"M2050,277.0 C2050,222.0 2120.0,222.0 2120.0,277.0\" fill=\"none\" stroke=\"currentColor\"/>\n",
              "    <text dy=\"1.25em\" style=\"font-size: 0.8em; letter-spacing: 1px\">\n",
              "        <textPath xlink:href=\"#arrow-b8d9a2d0d9944141a5e39db88dfbfc2a-0-18\" class=\"displacy-label\" startOffset=\"50%\" side=\"left\" fill=\"currentColor\" text-anchor=\"middle\">dep</textPath>\n",
              "    </text>\n",
              "    <path class=\"displacy-arrowhead\" d=\"M2120.0,279.0 L2128.0,267.0 2112.0,267.0\" fill=\"currentColor\"/>\n",
              "</g>\n",
              "</svg></span>"
            ]
          },
          "metadata": {}
        }
      ]
    },
    {
      "cell_type": "code",
      "source": [
        "# Using .parse_deps to show all the info used to build the visualization -- the Tokens and their relating Arrows\n",
        "\n",
        "displacy.parse_deps(doc_sentence3)"
      ],
      "metadata": {
        "colab": {
          "base_uri": "https://localhost:8080/"
        },
        "id": "YJyoRrLaypVE",
        "outputId": "5f66679c-0381-4c7d-959f-cd6201c3e591"
      },
      "execution_count": null,
      "outputs": [
        {
          "output_type": "execute_result",
          "data": {
            "text/plain": [
              "{'words': [{'text': 'They', 'tag': 'PRON', 'lemma': None},\n",
              "  {'text': 'lived', 'tag': 'VERB', 'lemma': None},\n",
              "  {'text': 'with', 'tag': 'ADP', 'lemma': None},\n",
              "  {'text': 'their', 'tag': 'PRON', 'lemma': None},\n",
              "  {'text': 'Mother', 'tag': 'PROPN', 'lemma': None},\n",
              "  {'text': 'in', 'tag': 'ADP', 'lemma': None},\n",
              "  {'text': 'a', 'tag': 'DET', 'lemma': None},\n",
              "  {'text': 'sand-', 'tag': 'NOUN', 'lemma': None},\n",
              "  {'text': 'bank,', 'tag': 'NOUN', 'lemma': None},\n",
              "  {'text': 'underneath', 'tag': 'ADP', 'lemma': None},\n",
              "  {'text': 'the', 'tag': 'DET', 'lemma': None},\n",
              "  {'text': 'root', 'tag': 'NOUN', 'lemma': None},\n",
              "  {'text': 'of', 'tag': 'ADP', 'lemma': None},\n",
              "  {'text': 'a', 'tag': 'DET', 'lemma': None},\n",
              "  {'text': '\\n', 'tag': 'SPACE', 'lemma': None},\n",
              "  {'text': 'very', 'tag': 'ADV', 'lemma': None},\n",
              "  {'text': 'big', 'tag': 'ADJ', 'lemma': None},\n",
              "  {'text': 'fir-', 'tag': 'NOUN', 'lemma': None},\n",
              "  {'text': 'tree.', 'tag': 'PUNCT', 'lemma': None},\n",
              "  {'text': \"\\n\\n'\", 'tag': 'SPACE', 'lemma': None}],\n",
              " 'arcs': [{'start': 0, 'end': 1, 'label': 'nsubj', 'dir': 'left'},\n",
              "  {'start': 1, 'end': 2, 'label': 'prep', 'dir': 'right'},\n",
              "  {'start': 3, 'end': 4, 'label': 'poss', 'dir': 'left'},\n",
              "  {'start': 2, 'end': 4, 'label': 'pobj', 'dir': 'right'},\n",
              "  {'start': 1, 'end': 5, 'label': 'prep', 'dir': 'right'},\n",
              "  {'start': 6, 'end': 8, 'label': 'det', 'dir': 'left'},\n",
              "  {'start': 7, 'end': 8, 'label': 'compound', 'dir': 'left'},\n",
              "  {'start': 5, 'end': 8, 'label': 'pobj', 'dir': 'right'},\n",
              "  {'start': 1, 'end': 9, 'label': 'prep', 'dir': 'right'},\n",
              "  {'start': 10, 'end': 11, 'label': 'det', 'dir': 'left'},\n",
              "  {'start': 9, 'end': 11, 'label': 'pobj', 'dir': 'right'},\n",
              "  {'start': 11, 'end': 12, 'label': 'prep', 'dir': 'right'},\n",
              "  {'start': 13, 'end': 18, 'label': 'det', 'dir': 'left'},\n",
              "  {'start': 13, 'end': 14, 'label': 'dep', 'dir': 'right'},\n",
              "  {'start': 15, 'end': 16, 'label': 'advmod', 'dir': 'left'},\n",
              "  {'start': 16, 'end': 18, 'label': 'amod', 'dir': 'left'},\n",
              "  {'start': 17, 'end': 18, 'label': 'compound', 'dir': 'left'},\n",
              "  {'start': 1, 'end': 18, 'label': 'punct', 'dir': 'right'},\n",
              "  {'start': 18, 'end': 19, 'label': 'dep', 'dir': 'right'}],\n",
              " 'settings': {'lang': 'en', 'direction': 'ltr'}}"
            ]
          },
          "metadata": {},
          "execution_count": 11
        }
      ]
    },
    {
      "cell_type": "markdown",
      "source": [
        "### **6. Show the first two named entities from Beatrix Potter's \"The Tale of Peter Rabbit\"**\n",
        "\n",
        "We can use Spacy's doc.ents function to look at the Entities\n"
      ],
      "metadata": {
        "id": "2-E-glLF-JdP"
      }
    },
    {
      "cell_type": "code",
      "source": [
        "# Define a function to print out the NER, plus label, plus explanation\n",
        "def print_ents(ner):\n",
        "  print(ner.text + \" -- \" + ner.label_ + \" -- \" + str(spacy.explain(ner.label_)))\n",
        "\n",
        "# Print first named entity\n",
        "print_ents(doc.ents[0])\n",
        "\n",
        "# print Second named entity\n",
        "print_ents(doc.ents[1])"
      ],
      "metadata": {
        "colab": {
          "base_uri": "https://localhost:8080/"
        },
        "id": "gIfYKQ2Ry_E0",
        "outputId": "ef5549f1-b60d-4af6-8ce4-eaef67700df9"
      },
      "execution_count": null,
      "outputs": [
        {
          "output_type": "stream",
          "name": "stdout",
          "text": [
            "The Tale of Peter Rabbit -- WORK_OF_ART -- Titles of books, songs, etc.\n",
            "Beatrix Potter -- PERSON -- People, including fictional\n"
          ]
        }
      ]
    },
    {
      "cell_type": "markdown",
      "source": [
        "### **7. How many sentences are contained in *The Tale of Peter Rabbit*?**\n",
        "\n",
        "As above, we already created a list of sentences, and can print its length."
      ],
      "metadata": {
        "id": "m5BfSkJHA3Gg"
      }
    },
    {
      "cell_type": "code",
      "source": [
        "print(\"Number of Sentences: \" + str(len(list_of_sentences)))"
      ],
      "metadata": {
        "colab": {
          "base_uri": "https://localhost:8080/"
        },
        "id": "fG-apYM5-gg2",
        "outputId": "2b7113ea-0018-43a2-f9dd-1db5face31d9"
      },
      "execution_count": null,
      "outputs": [
        {
          "output_type": "stream",
          "name": "stdout",
          "text": [
            "Number of Sentences: 55\n"
          ]
        }
      ]
    },
    {
      "cell_type": "markdown",
      "source": [
        "### **8. CHALLENGE: How many sentences contain named entities?**\n",
        "\n",
        "We can build a loop to go through all sentences in the list;\n",
        "\n",
        "convert them to docs;\n",
        "\n",
        "search for Entities;\n",
        "\n",
        "Increase a counter if an Entities is found."
      ],
      "metadata": {
        "id": "Xa46Q46xBQfg"
      }
    },
    {
      "cell_type": "code",
      "source": [
        "#\n",
        "\n",
        "sent_ner_count = 0\n",
        "\n",
        "for sentence in list_of_sentences:\n",
        "  entities = nlp(str(sentence)).ents\n",
        "  if len(entities) > 0:\n",
        "    sent_ner_count += 1\n",
        "\n",
        "print(\"Number of sentences with entities: \" + str(sent_ner_count))"
      ],
      "metadata": {
        "colab": {
          "base_uri": "https://localhost:8080/"
        },
        "id": "5NvE8Xxq-kLF",
        "outputId": "59a3eb98-718e-431c-ffc7-2b006cca129c"
      },
      "execution_count": null,
      "outputs": [
        {
          "output_type": "stream",
          "name": "stdout",
          "text": [
            "Number of sentences with entities: 25\n"
          ]
        }
      ]
    },
    {
      "cell_type": "markdown",
      "source": [
        "This is quite a bit lower than the expected result of 49. It seems this text file is not generating as many named entities.\n",
        "\n",
        "\n",
        "### **9. CHALLENGE: Display the named entity visualization for list_of_sents[0] from the previous problem.**\n",
        "\n",
        "We can do this easily with the help of Displacy, changing the style to 'ent' and removing the spacing between tokens."
      ],
      "metadata": {
        "id": "g5IY5XQ_Du35"
      }
    },
    {
      "cell_type": "code",
      "source": [
        "displacy.render(nlp(str(list_of_sentences[0])), style='ent', jupyter=True)"
      ],
      "metadata": {
        "colab": {
          "base_uri": "https://localhost:8080/",
          "height": 87
        },
        "id": "J8EN6y1Y-3KU",
        "outputId": "67cdcc9c-a9ca-473c-9bcc-e73278bf72c3"
      },
      "execution_count": null,
      "outputs": [
        {
          "output_type": "display_data",
          "data": {
            "text/plain": [
              "<IPython.core.display.HTML object>"
            ],
            "text/html": [
              "<span class=\"tex2jax_ignore\"><div class=\"entities\" style=\"line-height: 2.5; direction: ltr\">\n",
              "<mark class=\"entity\" style=\"background: #f0d0ff; padding: 0.45em 0.6em; margin: 0 0.25em; line-height: 1; border-radius: 0.35em;\">\n",
              "    The Tale of Peter Rabbit\n",
              "    <span style=\"font-size: 0.8em; font-weight: bold; line-height: 1; border-radius: 0.35em; vertical-align: middle; margin-left: 0.5rem\">WORK_OF_ART</span>\n",
              "</mark>\n",
              ", by \n",
              "<mark class=\"entity\" style=\"background: #aa9cfc; padding: 0.45em 0.6em; margin: 0 0.25em; line-height: 1; border-radius: 0.35em;\">\n",
              "    Beatrix Potter\n",
              "    <span style=\"font-size: 0.8em; font-weight: bold; line-height: 1; border-radius: 0.35em; vertical-align: middle; margin-left: 0.5rem\">PERSON</span>\n",
              "</mark>\n",
              " (\n",
              "<mark class=\"entity\" style=\"background: #bfe1d9; padding: 0.45em 0.6em; margin: 0 0.25em; line-height: 1; border-radius: 0.35em;\">\n",
              "    1902\n",
              "    <span style=\"font-size: 0.8em; font-weight: bold; line-height: 1; border-radius: 0.35em; vertical-align: middle; margin-left: 0.5rem\">DATE</span>\n",
              "</mark>\n",
              ").</br></br></div></span>"
            ]
          },
          "metadata": {}
        }
      ]
    }
  ]
}